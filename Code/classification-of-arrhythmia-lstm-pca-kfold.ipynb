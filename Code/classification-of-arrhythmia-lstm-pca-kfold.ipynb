{
 "cells": [
  {
   "cell_type": "code",
   "execution_count": 1,
   "id": "76fef59a",
   "metadata": {
    "_cell_guid": "b1076dfc-b9ad-4769-8c92-a6c4dae69d19",
    "_uuid": "8f2839f25d086af736a60e9eeb907d3b93b6e0e5",
    "execution": {
     "iopub.execute_input": "2022-06-21T10:47:08.747270Z",
     "iopub.status.busy": "2022-06-21T10:47:08.745497Z",
     "iopub.status.idle": "2022-06-21T10:47:08.825833Z",
     "shell.execute_reply": "2022-06-21T10:47:08.826326Z",
     "shell.execute_reply.started": "2022-02-03T14:36:52.656412Z"
    },
    "papermill": {
     "duration": 0.127758,
     "end_time": "2022-06-21T10:47:08.826647",
     "exception": false,
     "start_time": "2022-06-21T10:47:08.698889",
     "status": "completed"
    },
    "tags": []
   },
   "outputs": [
    {
     "name": "stdout",
     "output_type": "stream",
     "text": [
      "/kaggle/input/mitbit-arrhythmia-database/mitbih_database/112annotations.txt\n",
      "/kaggle/input/mitbit-arrhythmia-database/mitbih_database/233.csv\n",
      "/kaggle/input/mitbit-arrhythmia-database/mitbih_database/108.csv\n",
      "/kaggle/input/mitbit-arrhythmia-database/mitbih_database/118annotations.txt\n",
      "/kaggle/input/mitbit-arrhythmia-database/mitbih_database/231.csv\n",
      "/kaggle/input/mitbit-arrhythmia-database/mitbih_database/207.csv\n",
      "/kaggle/input/mitbit-arrhythmia-database/mitbih_database/115annotations.txt\n",
      "/kaggle/input/mitbit-arrhythmia-database/mitbih_database/108annotations.txt\n",
      "/kaggle/input/mitbit-arrhythmia-database/mitbih_database/123annotations.txt\n",
      "/kaggle/input/mitbit-arrhythmia-database/mitbih_database/102annotations.txt\n",
      "/kaggle/input/mitbit-arrhythmia-database/mitbih_database/209.csv\n",
      "/kaggle/input/mitbit-arrhythmia-database/mitbih_database/203annotations.txt\n",
      "/kaggle/input/mitbit-arrhythmia-database/mitbih_database/202annotations.txt\n",
      "/kaggle/input/mitbit-arrhythmia-database/mitbih_database/215annotations.txt\n",
      "/kaggle/input/mitbit-arrhythmia-database/mitbih_database/232.csv\n",
      "/kaggle/input/mitbit-arrhythmia-database/mitbih_database/223.csv\n",
      "/kaggle/input/mitbit-arrhythmia-database/mitbih_database/114annotations.txt\n",
      "/kaggle/input/mitbit-arrhythmia-database/mitbih_database/109annotations.txt\n",
      "/kaggle/input/mitbit-arrhythmia-database/mitbih_database/217annotations.txt\n",
      "/kaggle/input/mitbit-arrhythmia-database/mitbih_database/222annotations.txt\n",
      "/kaggle/input/mitbit-arrhythmia-database/mitbih_database/119.csv\n",
      "/kaggle/input/mitbit-arrhythmia-database/mitbih_database/234annotations.txt\n",
      "/kaggle/input/mitbit-arrhythmia-database/mitbih_database/114.csv\n",
      "/kaggle/input/mitbit-arrhythmia-database/mitbih_database/202.csv\n",
      "/kaggle/input/mitbit-arrhythmia-database/mitbih_database/105annotations.txt\n",
      "/kaggle/input/mitbit-arrhythmia-database/mitbih_database/221annotations.txt\n",
      "/kaggle/input/mitbit-arrhythmia-database/mitbih_database/230annotations.txt\n",
      "/kaggle/input/mitbit-arrhythmia-database/mitbih_database/115.csv\n",
      "/kaggle/input/mitbit-arrhythmia-database/mitbih_database/112.csv\n",
      "/kaggle/input/mitbit-arrhythmia-database/mitbih_database/100annotations.txt\n",
      "/kaggle/input/mitbit-arrhythmia-database/mitbih_database/208annotations.txt\n",
      "/kaggle/input/mitbit-arrhythmia-database/mitbih_database/212.csv\n",
      "/kaggle/input/mitbit-arrhythmia-database/mitbih_database/212annotations.txt\n",
      "/kaggle/input/mitbit-arrhythmia-database/mitbih_database/213annotations.txt\n",
      "/kaggle/input/mitbit-arrhythmia-database/mitbih_database/109.csv\n",
      "/kaggle/input/mitbit-arrhythmia-database/mitbih_database/228.csv\n",
      "/kaggle/input/mitbit-arrhythmia-database/mitbih_database/104annotations.txt\n",
      "/kaggle/input/mitbit-arrhythmia-database/mitbih_database/232annotations.txt\n",
      "/kaggle/input/mitbit-arrhythmia-database/mitbih_database/101annotations.txt\n",
      "/kaggle/input/mitbit-arrhythmia-database/mitbih_database/121annotations.txt\n",
      "/kaggle/input/mitbit-arrhythmia-database/mitbih_database/111annotations.txt\n",
      "/kaggle/input/mitbit-arrhythmia-database/mitbih_database/219.csv\n",
      "/kaggle/input/mitbit-arrhythmia-database/mitbih_database/106annotations.txt\n",
      "/kaggle/input/mitbit-arrhythmia-database/mitbih_database/207annotations.txt\n",
      "/kaggle/input/mitbit-arrhythmia-database/mitbih_database/209annotations.txt\n",
      "/kaggle/input/mitbit-arrhythmia-database/mitbih_database/116annotations.txt\n",
      "/kaggle/input/mitbit-arrhythmia-database/mitbih_database/118.csv\n",
      "/kaggle/input/mitbit-arrhythmia-database/mitbih_database/230.csv\n",
      "/kaggle/input/mitbit-arrhythmia-database/mitbih_database/213.csv\n",
      "/kaggle/input/mitbit-arrhythmia-database/mitbih_database/217.csv\n",
      "/kaggle/input/mitbit-arrhythmia-database/mitbih_database/215.csv\n",
      "/kaggle/input/mitbit-arrhythmia-database/mitbih_database/119annotations.txt\n",
      "/kaggle/input/mitbit-arrhythmia-database/mitbih_database/234.csv\n",
      "/kaggle/input/mitbit-arrhythmia-database/mitbih_database/100.csv\n",
      "/kaggle/input/mitbit-arrhythmia-database/mitbih_database/233annotations.txt\n",
      "/kaggle/input/mitbit-arrhythmia-database/mitbih_database/205annotations.txt\n",
      "/kaggle/input/mitbit-arrhythmia-database/mitbih_database/122.csv\n",
      "/kaggle/input/mitbit-arrhythmia-database/mitbih_database/201.csv\n",
      "/kaggle/input/mitbit-arrhythmia-database/mitbih_database/113annotations.txt\n",
      "/kaggle/input/mitbit-arrhythmia-database/mitbih_database/107.csv\n",
      "/kaggle/input/mitbit-arrhythmia-database/mitbih_database/221.csv\n",
      "/kaggle/input/mitbit-arrhythmia-database/mitbih_database/214.csv\n",
      "/kaggle/input/mitbit-arrhythmia-database/mitbih_database/219annotations.txt\n",
      "/kaggle/input/mitbit-arrhythmia-database/mitbih_database/200annotations.txt\n",
      "/kaggle/input/mitbit-arrhythmia-database/mitbih_database/105.csv\n",
      "/kaggle/input/mitbit-arrhythmia-database/mitbih_database/113.csv\n",
      "/kaggle/input/mitbit-arrhythmia-database/mitbih_database/106.csv\n",
      "/kaggle/input/mitbit-arrhythmia-database/mitbih_database/102.csv\n",
      "/kaggle/input/mitbit-arrhythmia-database/mitbih_database/220.csv\n",
      "/kaggle/input/mitbit-arrhythmia-database/mitbih_database/101.csv\n",
      "/kaggle/input/mitbit-arrhythmia-database/mitbih_database/122annotations.txt\n",
      "/kaggle/input/mitbit-arrhythmia-database/mitbih_database/111.csv\n",
      "/kaggle/input/mitbit-arrhythmia-database/mitbih_database/104.csv\n",
      "/kaggle/input/mitbit-arrhythmia-database/mitbih_database/103annotations.txt\n",
      "/kaggle/input/mitbit-arrhythmia-database/mitbih_database/117.csv\n",
      "/kaggle/input/mitbit-arrhythmia-database/mitbih_database/124.csv\n",
      "/kaggle/input/mitbit-arrhythmia-database/mitbih_database/228annotations.txt\n",
      "/kaggle/input/mitbit-arrhythmia-database/mitbih_database/210annotations.txt\n",
      "/kaggle/input/mitbit-arrhythmia-database/mitbih_database/214annotations.txt\n",
      "/kaggle/input/mitbit-arrhythmia-database/mitbih_database/220annotations.txt\n",
      "/kaggle/input/mitbit-arrhythmia-database/mitbih_database/222.csv\n",
      "/kaggle/input/mitbit-arrhythmia-database/mitbih_database/210.csv\n",
      "/kaggle/input/mitbit-arrhythmia-database/mitbih_database/231annotations.txt\n",
      "/kaggle/input/mitbit-arrhythmia-database/mitbih_database/205.csv\n",
      "/kaggle/input/mitbit-arrhythmia-database/mitbih_database/107annotations.txt\n",
      "/kaggle/input/mitbit-arrhythmia-database/mitbih_database/208.csv\n",
      "/kaggle/input/mitbit-arrhythmia-database/mitbih_database/121.csv\n",
      "/kaggle/input/mitbit-arrhythmia-database/mitbih_database/203.csv\n",
      "/kaggle/input/mitbit-arrhythmia-database/mitbih_database/117annotations.txt\n",
      "/kaggle/input/mitbit-arrhythmia-database/mitbih_database/223annotations.txt\n",
      "/kaggle/input/mitbit-arrhythmia-database/mitbih_database/200.csv\n",
      "/kaggle/input/mitbit-arrhythmia-database/mitbih_database/103.csv\n",
      "/kaggle/input/mitbit-arrhythmia-database/mitbih_database/116.csv\n",
      "/kaggle/input/mitbit-arrhythmia-database/mitbih_database/201annotations.txt\n",
      "/kaggle/input/mitbit-arrhythmia-database/mitbih_database/123.csv\n",
      "/kaggle/input/mitbit-arrhythmia-database/mitbih_database/124annotations.txt\n",
      "/kaggle/input/mitbit-arrhythmia-database/mitbih_database/mitbih_database/112annotations.txt\n",
      "/kaggle/input/mitbit-arrhythmia-database/mitbih_database/mitbih_database/233.csv\n",
      "/kaggle/input/mitbit-arrhythmia-database/mitbih_database/mitbih_database/108.csv\n",
      "/kaggle/input/mitbit-arrhythmia-database/mitbih_database/mitbih_database/118annotations.txt\n",
      "/kaggle/input/mitbit-arrhythmia-database/mitbih_database/mitbih_database/231.csv\n",
      "/kaggle/input/mitbit-arrhythmia-database/mitbih_database/mitbih_database/207.csv\n",
      "/kaggle/input/mitbit-arrhythmia-database/mitbih_database/mitbih_database/115annotations.txt\n",
      "/kaggle/input/mitbit-arrhythmia-database/mitbih_database/mitbih_database/108annotations.txt\n",
      "/kaggle/input/mitbit-arrhythmia-database/mitbih_database/mitbih_database/123annotations.txt\n",
      "/kaggle/input/mitbit-arrhythmia-database/mitbih_database/mitbih_database/102annotations.txt\n",
      "/kaggle/input/mitbit-arrhythmia-database/mitbih_database/mitbih_database/209.csv\n",
      "/kaggle/input/mitbit-arrhythmia-database/mitbih_database/mitbih_database/203annotations.txt\n",
      "/kaggle/input/mitbit-arrhythmia-database/mitbih_database/mitbih_database/202annotations.txt\n",
      "/kaggle/input/mitbit-arrhythmia-database/mitbih_database/mitbih_database/215annotations.txt\n",
      "/kaggle/input/mitbit-arrhythmia-database/mitbih_database/mitbih_database/232.csv\n",
      "/kaggle/input/mitbit-arrhythmia-database/mitbih_database/mitbih_database/223.csv\n",
      "/kaggle/input/mitbit-arrhythmia-database/mitbih_database/mitbih_database/114annotations.txt\n",
      "/kaggle/input/mitbit-arrhythmia-database/mitbih_database/mitbih_database/109annotations.txt\n",
      "/kaggle/input/mitbit-arrhythmia-database/mitbih_database/mitbih_database/217annotations.txt\n",
      "/kaggle/input/mitbit-arrhythmia-database/mitbih_database/mitbih_database/222annotations.txt\n",
      "/kaggle/input/mitbit-arrhythmia-database/mitbih_database/mitbih_database/119.csv\n",
      "/kaggle/input/mitbit-arrhythmia-database/mitbih_database/mitbih_database/234annotations.txt\n",
      "/kaggle/input/mitbit-arrhythmia-database/mitbih_database/mitbih_database/114.csv\n",
      "/kaggle/input/mitbit-arrhythmia-database/mitbih_database/mitbih_database/202.csv\n",
      "/kaggle/input/mitbit-arrhythmia-database/mitbih_database/mitbih_database/105annotations.txt\n",
      "/kaggle/input/mitbit-arrhythmia-database/mitbih_database/mitbih_database/221annotations.txt\n",
      "/kaggle/input/mitbit-arrhythmia-database/mitbih_database/mitbih_database/230annotations.txt\n",
      "/kaggle/input/mitbit-arrhythmia-database/mitbih_database/mitbih_database/115.csv\n",
      "/kaggle/input/mitbit-arrhythmia-database/mitbih_database/mitbih_database/112.csv\n",
      "/kaggle/input/mitbit-arrhythmia-database/mitbih_database/mitbih_database/100annotations.txt\n",
      "/kaggle/input/mitbit-arrhythmia-database/mitbih_database/mitbih_database/208annotations.txt\n",
      "/kaggle/input/mitbit-arrhythmia-database/mitbih_database/mitbih_database/212.csv\n",
      "/kaggle/input/mitbit-arrhythmia-database/mitbih_database/mitbih_database/212annotations.txt\n",
      "/kaggle/input/mitbit-arrhythmia-database/mitbih_database/mitbih_database/213annotations.txt\n",
      "/kaggle/input/mitbit-arrhythmia-database/mitbih_database/mitbih_database/109.csv\n",
      "/kaggle/input/mitbit-arrhythmia-database/mitbih_database/mitbih_database/228.csv\n",
      "/kaggle/input/mitbit-arrhythmia-database/mitbih_database/mitbih_database/104annotations.txt\n",
      "/kaggle/input/mitbit-arrhythmia-database/mitbih_database/mitbih_database/232annotations.txt\n",
      "/kaggle/input/mitbit-arrhythmia-database/mitbih_database/mitbih_database/101annotations.txt\n",
      "/kaggle/input/mitbit-arrhythmia-database/mitbih_database/mitbih_database/121annotations.txt\n",
      "/kaggle/input/mitbit-arrhythmia-database/mitbih_database/mitbih_database/111annotations.txt\n",
      "/kaggle/input/mitbit-arrhythmia-database/mitbih_database/mitbih_database/219.csv\n",
      "/kaggle/input/mitbit-arrhythmia-database/mitbih_database/mitbih_database/106annotations.txt\n",
      "/kaggle/input/mitbit-arrhythmia-database/mitbih_database/mitbih_database/207annotations.txt\n",
      "/kaggle/input/mitbit-arrhythmia-database/mitbih_database/mitbih_database/209annotations.txt\n",
      "/kaggle/input/mitbit-arrhythmia-database/mitbih_database/mitbih_database/116annotations.txt\n",
      "/kaggle/input/mitbit-arrhythmia-database/mitbih_database/mitbih_database/118.csv\n",
      "/kaggle/input/mitbit-arrhythmia-database/mitbih_database/mitbih_database/230.csv\n",
      "/kaggle/input/mitbit-arrhythmia-database/mitbih_database/mitbih_database/213.csv\n",
      "/kaggle/input/mitbit-arrhythmia-database/mitbih_database/mitbih_database/217.csv\n",
      "/kaggle/input/mitbit-arrhythmia-database/mitbih_database/mitbih_database/215.csv\n",
      "/kaggle/input/mitbit-arrhythmia-database/mitbih_database/mitbih_database/119annotations.txt\n",
      "/kaggle/input/mitbit-arrhythmia-database/mitbih_database/mitbih_database/234.csv\n",
      "/kaggle/input/mitbit-arrhythmia-database/mitbih_database/mitbih_database/100.csv\n",
      "/kaggle/input/mitbit-arrhythmia-database/mitbih_database/mitbih_database/233annotations.txt\n",
      "/kaggle/input/mitbit-arrhythmia-database/mitbih_database/mitbih_database/205annotations.txt\n",
      "/kaggle/input/mitbit-arrhythmia-database/mitbih_database/mitbih_database/122.csv\n",
      "/kaggle/input/mitbit-arrhythmia-database/mitbih_database/mitbih_database/201.csv\n",
      "/kaggle/input/mitbit-arrhythmia-database/mitbih_database/mitbih_database/113annotations.txt\n",
      "/kaggle/input/mitbit-arrhythmia-database/mitbih_database/mitbih_database/107.csv\n",
      "/kaggle/input/mitbit-arrhythmia-database/mitbih_database/mitbih_database/221.csv\n",
      "/kaggle/input/mitbit-arrhythmia-database/mitbih_database/mitbih_database/214.csv\n",
      "/kaggle/input/mitbit-arrhythmia-database/mitbih_database/mitbih_database/219annotations.txt\n",
      "/kaggle/input/mitbit-arrhythmia-database/mitbih_database/mitbih_database/200annotations.txt\n",
      "/kaggle/input/mitbit-arrhythmia-database/mitbih_database/mitbih_database/105.csv\n",
      "/kaggle/input/mitbit-arrhythmia-database/mitbih_database/mitbih_database/113.csv\n",
      "/kaggle/input/mitbit-arrhythmia-database/mitbih_database/mitbih_database/106.csv\n",
      "/kaggle/input/mitbit-arrhythmia-database/mitbih_database/mitbih_database/102.csv\n",
      "/kaggle/input/mitbit-arrhythmia-database/mitbih_database/mitbih_database/220.csv\n",
      "/kaggle/input/mitbit-arrhythmia-database/mitbih_database/mitbih_database/101.csv\n",
      "/kaggle/input/mitbit-arrhythmia-database/mitbih_database/mitbih_database/122annotations.txt\n",
      "/kaggle/input/mitbit-arrhythmia-database/mitbih_database/mitbih_database/111.csv\n",
      "/kaggle/input/mitbit-arrhythmia-database/mitbih_database/mitbih_database/104.csv\n",
      "/kaggle/input/mitbit-arrhythmia-database/mitbih_database/mitbih_database/103annotations.txt\n",
      "/kaggle/input/mitbit-arrhythmia-database/mitbih_database/mitbih_database/117.csv\n",
      "/kaggle/input/mitbit-arrhythmia-database/mitbih_database/mitbih_database/124.csv\n",
      "/kaggle/input/mitbit-arrhythmia-database/mitbih_database/mitbih_database/228annotations.txt\n",
      "/kaggle/input/mitbit-arrhythmia-database/mitbih_database/mitbih_database/210annotations.txt\n",
      "/kaggle/input/mitbit-arrhythmia-database/mitbih_database/mitbih_database/214annotations.txt\n",
      "/kaggle/input/mitbit-arrhythmia-database/mitbih_database/mitbih_database/220annotations.txt\n",
      "/kaggle/input/mitbit-arrhythmia-database/mitbih_database/mitbih_database/222.csv\n",
      "/kaggle/input/mitbit-arrhythmia-database/mitbih_database/mitbih_database/210.csv\n",
      "/kaggle/input/mitbit-arrhythmia-database/mitbih_database/mitbih_database/231annotations.txt\n",
      "/kaggle/input/mitbit-arrhythmia-database/mitbih_database/mitbih_database/205.csv\n",
      "/kaggle/input/mitbit-arrhythmia-database/mitbih_database/mitbih_database/107annotations.txt\n",
      "/kaggle/input/mitbit-arrhythmia-database/mitbih_database/mitbih_database/208.csv\n",
      "/kaggle/input/mitbit-arrhythmia-database/mitbih_database/mitbih_database/121.csv\n",
      "/kaggle/input/mitbit-arrhythmia-database/mitbih_database/mitbih_database/203.csv\n",
      "/kaggle/input/mitbit-arrhythmia-database/mitbih_database/mitbih_database/117annotations.txt\n",
      "/kaggle/input/mitbit-arrhythmia-database/mitbih_database/mitbih_database/223annotations.txt\n",
      "/kaggle/input/mitbit-arrhythmia-database/mitbih_database/mitbih_database/200.csv\n",
      "/kaggle/input/mitbit-arrhythmia-database/mitbih_database/mitbih_database/103.csv\n",
      "/kaggle/input/mitbit-arrhythmia-database/mitbih_database/mitbih_database/116.csv\n",
      "/kaggle/input/mitbit-arrhythmia-database/mitbih_database/mitbih_database/201annotations.txt\n",
      "/kaggle/input/mitbit-arrhythmia-database/mitbih_database/mitbih_database/123.csv\n",
      "/kaggle/input/mitbit-arrhythmia-database/mitbih_database/mitbih_database/124annotations.txt\n"
     ]
    }
   ],
   "source": [
    "# This Python 3 environment comes with many helpful analytics libraries installed\n",
    "# It is defined by the kaggle/python Docker image: https://github.com/kaggle/docker-python\n",
    "# For example, here's several helpful packages to load\n",
    "\n",
    "import numpy as np # linear algebra\n",
    "import pandas as pd # data processing, CSV file I/O (e.g. pd.read_csv)\n",
    "\n",
    "# Input data files are available in the read-only \"../input/\" directory\n",
    "# For example, running this (by clicking run or pressing Shift+Enter) will list all files under the input directory\n",
    "\n",
    "import os\n",
    "for dirname, _, filenames in os.walk('/kaggle/input'):\n",
    "    for filename in filenames:\n",
    "        print(os.path.join(dirname, filename))\n",
    "\n",
    "# You can write up to 20GB to the current directory (/kaggle/working/) that gets preserved as output when you create a version using \"Save & Run All\" \n",
    "# You can also write temporary files to /kaggle/temp/, but they won't be saved outside of the current session"
   ]
  },
  {
   "cell_type": "code",
   "execution_count": 2,
   "id": "14d8793b",
   "metadata": {
    "execution": {
     "iopub.execute_input": "2022-06-21T10:47:08.915705Z",
     "iopub.status.busy": "2022-06-21T10:47:08.915039Z",
     "iopub.status.idle": "2022-06-21T10:47:14.809333Z",
     "shell.execute_reply": "2022-06-21T10:47:14.808439Z",
     "shell.execute_reply.started": "2022-02-03T14:36:52.824324Z"
    },
    "papermill": {
     "duration": 5.939719,
     "end_time": "2022-06-21T10:47:14.809492",
     "exception": false,
     "start_time": "2022-06-21T10:47:08.869773",
     "status": "completed"
    },
    "tags": []
   },
   "outputs": [],
   "source": [
    "import pandas as pd \n",
    "import os\n",
    "\n",
    "import matplotlib.pyplot as plt\n",
    "import csv\n",
    "import itertools\n",
    "import collections\n",
    "\n",
    "import pywt\n",
    "from scipy import stats\n",
    "\n",
    "from sklearn.utils import resample\n",
    "from sklearn.model_selection import train_test_split\n",
    "\n",
    "import keras\n",
    "from sklearn.preprocessing import MinMaxScaler\n",
    "from keras.models import Sequential , Model\n",
    "from keras.layers import Dense, LSTM, Dropout, Softmax, Flatten\n",
    "import math\n",
    "from sklearn.metrics import mean_squared_error"
   ]
  },
  {
   "cell_type": "code",
   "execution_count": 3,
   "id": "e2f348ec",
   "metadata": {
    "execution": {
     "iopub.execute_input": "2022-06-21T10:47:14.905061Z",
     "iopub.status.busy": "2022-06-21T10:47:14.904078Z",
     "iopub.status.idle": "2022-06-21T10:47:15.249915Z",
     "shell.execute_reply": "2022-06-21T10:47:15.249298Z",
     "shell.execute_reply.started": "2022-02-03T14:36:59.349804Z"
    },
    "papermill": {
     "duration": 0.394574,
     "end_time": "2022-06-21T10:47:15.250071",
     "exception": false,
     "start_time": "2022-06-21T10:47:14.855497",
     "status": "completed"
    },
    "tags": []
   },
   "outputs": [],
   "source": [
    "from tensorflow.keras.optimizers import Adam \n",
    "from keras.utils.np_utils import to_categorical\n",
    "from keras.utils.vis_utils import plot_model\n",
    "from keras import regularizers"
   ]
  },
  {
   "cell_type": "code",
   "execution_count": 4,
   "id": "6858a12f",
   "metadata": {
    "execution": {
     "iopub.execute_input": "2022-06-21T10:47:15.337400Z",
     "iopub.status.busy": "2022-06-21T10:47:15.336866Z",
     "iopub.status.idle": "2022-06-21T10:47:15.340665Z",
     "shell.execute_reply": "2022-06-21T10:47:15.340225Z",
     "shell.execute_reply.started": "2022-02-03T14:36:59.745172Z"
    },
    "papermill": {
     "duration": 0.049827,
     "end_time": "2022-06-21T10:47:15.340785",
     "exception": false,
     "start_time": "2022-06-21T10:47:15.290958",
     "status": "completed"
    },
    "tags": []
   },
   "outputs": [],
   "source": [
    "def denoise(data): \n",
    "    w = pywt.Wavelet('sym4')\n",
    "    maxlev = pywt.dwt_max_level(len(data), w.dec_len)\n",
    "    threshold = 0.04 # Threshold for filtering\n",
    "\n",
    "    coeffs = pywt.wavedec(data, 'sym4', level=maxlev)\n",
    "    for i in range(1, len(coeffs)):\n",
    "        coeffs[i] = pywt.threshold(coeffs[i], threshold*max(coeffs[i]))\n",
    "        \n",
    "    datarec = pywt.waverec(coeffs, 'sym4')\n",
    "    \n",
    "    return datarec"
   ]
  },
  {
   "cell_type": "code",
   "execution_count": 5,
   "id": "feb6c3a7",
   "metadata": {
    "execution": {
     "iopub.execute_input": "2022-06-21T10:47:15.427364Z",
     "iopub.status.busy": "2022-06-21T10:47:15.426567Z",
     "iopub.status.idle": "2022-06-21T10:47:15.429149Z",
     "shell.execute_reply": "2022-06-21T10:47:15.428657Z",
     "shell.execute_reply.started": "2022-02-03T14:36:59.759602Z"
    },
    "papermill": {
     "duration": 0.04741,
     "end_time": "2022-06-21T10:47:15.429253",
     "exception": false,
     "start_time": "2022-06-21T10:47:15.381843",
     "status": "completed"
    },
    "tags": []
   },
   "outputs": [],
   "source": [
    "path = '/kaggle/input/mitbit-arrhythmia-database/mitbih_database/'\n",
    "window_size = 180\n",
    "maximum_counting = 10000\n",
    "\n",
    "classes = ['N', 'A', 'V', 'F', 'f']\n",
    "n_classes = len(classes)\n",
    "count_classes = [0]*n_classes\n",
    "\n",
    "X = list()\n",
    "y = list()"
   ]
  },
  {
   "cell_type": "code",
   "execution_count": 6,
   "id": "9cb0a7e2",
   "metadata": {
    "execution": {
     "iopub.execute_input": "2022-06-21T10:47:15.513785Z",
     "iopub.status.busy": "2022-06-21T10:47:15.513230Z",
     "iopub.status.idle": "2022-06-21T10:47:15.517929Z",
     "shell.execute_reply": "2022-06-21T10:47:15.517464Z",
     "shell.execute_reply.started": "2022-02-03T14:36:59.777034Z"
    },
    "papermill": {
     "duration": 0.04859,
     "end_time": "2022-06-21T10:47:15.518033",
     "exception": false,
     "start_time": "2022-06-21T10:47:15.469443",
     "status": "completed"
    },
    "tags": []
   },
   "outputs": [],
   "source": [
    "filenames = next(os.walk(path))[2]\n",
    "records = list()\n",
    "annotations = list()\n",
    "filenames.sort()"
   ]
  },
  {
   "cell_type": "code",
   "execution_count": 7,
   "id": "41b1fe3a",
   "metadata": {
    "execution": {
     "iopub.execute_input": "2022-06-21T10:47:15.603272Z",
     "iopub.status.busy": "2022-06-21T10:47:15.602497Z",
     "iopub.status.idle": "2022-06-21T10:47:15.605301Z",
     "shell.execute_reply": "2022-06-21T10:47:15.604861Z",
     "shell.execute_reply.started": "2022-02-03T14:36:59.794898Z"
    },
    "papermill": {
     "duration": 0.047816,
     "end_time": "2022-06-21T10:47:15.605439",
     "exception": false,
     "start_time": "2022-06-21T10:47:15.557623",
     "status": "completed"
    },
    "tags": []
   },
   "outputs": [],
   "source": [
    "for f in filenames:\n",
    "    filename, file_extension = os.path.splitext(f)\n",
    "    if(file_extension == '.csv'):\n",
    "        records.append(path + filename + file_extension)\n",
    "    else:\n",
    "        annotations.append(path + filename + file_extension)"
   ]
  },
  {
   "cell_type": "code",
   "execution_count": 8,
   "id": "f595c8af",
   "metadata": {
    "execution": {
     "iopub.execute_input": "2022-06-21T10:47:15.698130Z",
     "iopub.status.busy": "2022-06-21T10:47:15.697585Z",
     "iopub.status.idle": "2022-06-21T10:48:15.024390Z",
     "shell.execute_reply": "2022-06-21T10:48:15.025023Z",
     "shell.execute_reply.started": "2022-02-03T14:36:59.80499Z"
    },
    "papermill": {
     "duration": 59.37947,
     "end_time": "2022-06-21T10:48:15.025217",
     "exception": false,
     "start_time": "2022-06-21T10:47:15.645747",
     "status": "completed"
    },
    "tags": []
   },
   "outputs": [
    {
     "data": {
      "image/png": "[encoded data removed]",
      "text/plain": [
       "<Figure size 432x288 with 1 Axes>"
      ]
     },
     "metadata": {
      "needs_background": "light"
     },
     "output_type": "display_data"
    },
    {
     "data": {
      "image/png": "[encoded data removed]",
      "text/plain": [
       "<Figure size 432x288 with 1 Axes>"
      ]
     },
     "metadata": {
      "needs_background": "light"
     },
     "output_type": "display_data"
    },
    {
     "data": {
      "image/png": "[encoded data removed]",
      "text/plain": [
       "<Figure size 432x288 with 1 Axes>"
      ]
     },
     "metadata": {
      "needs_background": "light"
     },
     "output_type": "display_data"
    },
    {
     "name": "stdout",
     "output_type": "stream",
     "text": [
      "(86470, 360) (86470,)\n"
     ]
    }
   ],
   "source": [
    "for r in range(0,len(records)):\n",
    "    signals = []\n",
    "\n",
    "    with open(records[r], 'rt') as csvfile:\n",
    "        spamreader = csv.reader(csvfile, delimiter=',', quotechar='|') # read CSV file\\\n",
    "        row_index = -1\n",
    "        for row in spamreader:\n",
    "            if(row_index >= 0):\n",
    "                signals.insert(row_index, int(row[1]))\n",
    "            row_index += 1\n",
    "            \n",
    "    if r is 1:\n",
    "        plt.title(\" Wave\")\n",
    "        plt.plot(signals[0:700])\n",
    "        plt.show()\n",
    "    signals = denoise(signals)\n",
    "    if r is 1:\n",
    "        plt.title(\" wave after denoised\")\n",
    "        plt.plot(signals[0:700])\n",
    "        plt.show()\n",
    "        \n",
    "    example_beat_printed = False\n",
    "    with open(annotations[r], 'r') as fileID:\n",
    "        data = fileID.readlines() \n",
    "        beat = list()\n",
    "        for d in range(1, len(data)): \n",
    "            splitted = data[d].split(' ')\n",
    "            splitted = filter(None, splitted)\n",
    "            next(splitted) \n",
    "            pos = int(next(splitted))\n",
    "            arrhythmia_type = next(splitted)\n",
    "            if(arrhythmia_type in classes):\n",
    "                arrhythmia_index = classes.index(arrhythmia_type)\n",
    "                count_classes[arrhythmia_index] += 1\n",
    "                if(window_size <= pos and pos < (len(signals) - window_size)):\n",
    "                    beat = signals[pos-window_size:pos+window_size]     \n",
    "                    if r is 1 and not example_beat_printed: \n",
    "                        plt.title(\"A Beat from Wave\")\n",
    "                        plt.plot(beat)\n",
    "                        plt.show()\n",
    "                        example_beat_printed = True\n",
    "                    X.append(beat)\n",
    "                    y.append(arrhythmia_index)\n",
    "\n",
    "print(np.shape(X), np.shape(y))"
   ]
  },
  {
   "cell_type": "code",
   "execution_count": 9,
   "id": "f1109211",
   "metadata": {
    "execution": {
     "iopub.execute_input": "2022-06-21T10:48:15.116089Z",
     "iopub.status.busy": "2022-06-21T10:48:15.115284Z",
     "iopub.status.idle": "2022-06-21T10:48:16.125050Z",
     "shell.execute_reply": "2022-06-21T10:48:16.124473Z",
     "shell.execute_reply.started": "2022-02-03T14:37:24.772853Z"
    },
    "papermill": {
     "duration": 1.056657,
     "end_time": "2022-06-21T10:48:16.125186",
     "exception": false,
     "start_time": "2022-06-21T10:48:15.068529",
     "status": "completed"
    },
    "tags": []
   },
   "outputs": [
    {
     "name": "stdout",
     "output_type": "stream",
     "text": [
      "(86470, 361)\n"
     ]
    }
   ],
   "source": [
    "for i in range(0,len(X)):\n",
    "        X[i] = np.append(X[i], y[i])\n",
    "print(np.shape(X))"
   ]
  },
  {
   "cell_type": "code",
   "execution_count": 10,
   "id": "d77a0d21",
   "metadata": {
    "execution": {
     "iopub.execute_input": "2022-06-21T10:48:16.267242Z",
     "iopub.status.busy": "2022-06-21T10:48:16.229121Z",
     "iopub.status.idle": "2022-06-21T10:48:32.180806Z",
     "shell.execute_reply": "2022-06-21T10:48:32.180265Z",
     "shell.execute_reply.started": "2022-02-03T14:37:24.775569Z"
    },
    "papermill": {
     "duration": 16.012076,
     "end_time": "2022-06-21T10:48:32.180950",
     "exception": false,
     "start_time": "2022-06-21T10:48:16.168874",
     "status": "completed"
    },
    "tags": []
   },
   "outputs": [
    {
     "data": {
      "text/html": [
       "<div>\n",
       "<style scoped>\n",
       "    .dataframe tbody tr th:only-of-type {\n",
       "        vertical-align: middle;\n",
       "    }\n",
       "\n",
       "    .dataframe tbody tr th {\n",
       "        vertical-align: top;\n",
       "    }\n",
       "\n",
       "    .dataframe thead th {\n",
       "        text-align: right;\n",
       "    }\n",
       "</style>\n",
       "<table border=\"1\" class=\"dataframe\">\n",
       "  <thead>\n",
       "    <tr style=\"text-align: right;\">\n",
       "      <th></th>\n",
       "      <th>0</th>\n",
       "      <th>1</th>\n",
       "      <th>2</th>\n",
       "      <th>3</th>\n",
       "      <th>4</th>\n",
       "      <th>5</th>\n",
       "      <th>6</th>\n",
       "      <th>7</th>\n",
       "      <th>8</th>\n",
       "      <th>9</th>\n",
       "      <th>...</th>\n",
       "      <th>351</th>\n",
       "      <th>352</th>\n",
       "      <th>353</th>\n",
       "      <th>354</th>\n",
       "      <th>355</th>\n",
       "      <th>356</th>\n",
       "      <th>357</th>\n",
       "      <th>358</th>\n",
       "      <th>359</th>\n",
       "      <th>360</th>\n",
       "    </tr>\n",
       "  </thead>\n",
       "  <tbody>\n",
       "    <tr>\n",
       "      <th>0</th>\n",
       "      <td>963.374455</td>\n",
       "      <td>963.536949</td>\n",
       "      <td>964.756621</td>\n",
       "      <td>965.399062</td>\n",
       "      <td>966.017086</td>\n",
       "      <td>966.375099</td>\n",
       "      <td>966.610054</td>\n",
       "      <td>966.770207</td>\n",
       "      <td>966.863751</td>\n",
       "      <td>966.951485</td>\n",
       "      <td>...</td>\n",
       "      <td>962.278640</td>\n",
       "      <td>962.282842</td>\n",
       "      <td>962.301737</td>\n",
       "      <td>962.395261</td>\n",
       "      <td>962.294270</td>\n",
       "      <td>961.799296</td>\n",
       "      <td>963.125729</td>\n",
       "      <td>961.823215</td>\n",
       "      <td>962.056695</td>\n",
       "      <td>0.0</td>\n",
       "    </tr>\n",
       "    <tr>\n",
       "      <th>1</th>\n",
       "      <td>950.134075</td>\n",
       "      <td>950.900959</td>\n",
       "      <td>951.742885</td>\n",
       "      <td>951.389255</td>\n",
       "      <td>952.444730</td>\n",
       "      <td>952.698845</td>\n",
       "      <td>952.985557</td>\n",
       "      <td>953.265506</td>\n",
       "      <td>953.554840</td>\n",
       "      <td>953.878155</td>\n",
       "      <td>...</td>\n",
       "      <td>957.912677</td>\n",
       "      <td>957.910661</td>\n",
       "      <td>957.908414</td>\n",
       "      <td>957.887200</td>\n",
       "      <td>957.930868</td>\n",
       "      <td>958.046497</td>\n",
       "      <td>957.767864</td>\n",
       "      <td>957.935546</td>\n",
       "      <td>957.848457</td>\n",
       "      <td>0.0</td>\n",
       "    </tr>\n",
       "    <tr>\n",
       "      <th>2</th>\n",
       "      <td>956.855367</td>\n",
       "      <td>957.921859</td>\n",
       "      <td>958.970263</td>\n",
       "      <td>960.062874</td>\n",
       "      <td>961.063537</td>\n",
       "      <td>961.544535</td>\n",
       "      <td>961.778225</td>\n",
       "      <td>961.903495</td>\n",
       "      <td>961.914781</td>\n",
       "      <td>961.927284</td>\n",
       "      <td>...</td>\n",
       "      <td>962.793234</td>\n",
       "      <td>963.018453</td>\n",
       "      <td>963.291927</td>\n",
       "      <td>963.610334</td>\n",
       "      <td>963.801834</td>\n",
       "      <td>963.664744</td>\n",
       "      <td>964.690013</td>\n",
       "      <td>963.714316</td>\n",
       "      <td>963.719371</td>\n",
       "      <td>0.0</td>\n",
       "    </tr>\n",
       "    <tr>\n",
       "      <th>3</th>\n",
       "      <td>956.333844</td>\n",
       "      <td>956.469719</td>\n",
       "      <td>956.650190</td>\n",
       "      <td>956.840204</td>\n",
       "      <td>957.063040</td>\n",
       "      <td>957.289795</td>\n",
       "      <td>957.532154</td>\n",
       "      <td>957.763758</td>\n",
       "      <td>957.903596</td>\n",
       "      <td>958.002126</td>\n",
       "      <td>...</td>\n",
       "      <td>963.483037</td>\n",
       "      <td>963.849264</td>\n",
       "      <td>964.232722</td>\n",
       "      <td>964.751295</td>\n",
       "      <td>965.325454</td>\n",
       "      <td>965.385283</td>\n",
       "      <td>965.277388</td>\n",
       "      <td>965.949119</td>\n",
       "      <td>966.749783</td>\n",
       "      <td>0.0</td>\n",
       "    </tr>\n",
       "    <tr>\n",
       "      <th>4</th>\n",
       "      <td>950.051087</td>\n",
       "      <td>950.080657</td>\n",
       "      <td>950.899845</td>\n",
       "      <td>951.943309</td>\n",
       "      <td>952.584266</td>\n",
       "      <td>953.144752</td>\n",
       "      <td>953.758744</td>\n",
       "      <td>954.385010</td>\n",
       "      <td>955.116512</td>\n",
       "      <td>955.847917</td>\n",
       "      <td>...</td>\n",
       "      <td>962.082603</td>\n",
       "      <td>962.257165</td>\n",
       "      <td>962.430031</td>\n",
       "      <td>962.608560</td>\n",
       "      <td>962.787336</td>\n",
       "      <td>962.969444</td>\n",
       "      <td>963.152923</td>\n",
       "      <td>963.315874</td>\n",
       "      <td>963.472298</td>\n",
       "      <td>0.0</td>\n",
       "    </tr>\n",
       "    <tr>\n",
       "      <th>...</th>\n",
       "      <td>...</td>\n",
       "      <td>...</td>\n",
       "      <td>...</td>\n",
       "      <td>...</td>\n",
       "      <td>...</td>\n",
       "      <td>...</td>\n",
       "      <td>...</td>\n",
       "      <td>...</td>\n",
       "      <td>...</td>\n",
       "      <td>...</td>\n",
       "      <td>...</td>\n",
       "      <td>...</td>\n",
       "      <td>...</td>\n",
       "      <td>...</td>\n",
       "      <td>...</td>\n",
       "      <td>...</td>\n",
       "      <td>...</td>\n",
       "      <td>...</td>\n",
       "      <td>...</td>\n",
       "      <td>...</td>\n",
       "      <td>...</td>\n",
       "    </tr>\n",
       "    <tr>\n",
       "      <th>86465</th>\n",
       "      <td>960.091597</td>\n",
       "      <td>958.332371</td>\n",
       "      <td>959.228982</td>\n",
       "      <td>959.937280</td>\n",
       "      <td>960.462593</td>\n",
       "      <td>960.875403</td>\n",
       "      <td>961.311190</td>\n",
       "      <td>961.743369</td>\n",
       "      <td>962.152282</td>\n",
       "      <td>962.574638</td>\n",
       "      <td>...</td>\n",
       "      <td>964.516509</td>\n",
       "      <td>965.081464</td>\n",
       "      <td>965.657630</td>\n",
       "      <td>965.508808</td>\n",
       "      <td>965.080290</td>\n",
       "      <td>964.863438</td>\n",
       "      <td>964.607543</td>\n",
       "      <td>964.151499</td>\n",
       "      <td>963.933098</td>\n",
       "      <td>0.0</td>\n",
       "    </tr>\n",
       "    <tr>\n",
       "      <th>86466</th>\n",
       "      <td>960.158109</td>\n",
       "      <td>960.774672</td>\n",
       "      <td>961.122588</td>\n",
       "      <td>962.403698</td>\n",
       "      <td>963.542825</td>\n",
       "      <td>966.482368</td>\n",
       "      <td>966.960323</td>\n",
       "      <td>967.707577</td>\n",
       "      <td>968.022530</td>\n",
       "      <td>968.521270</td>\n",
       "      <td>...</td>\n",
       "      <td>963.553957</td>\n",
       "      <td>962.929216</td>\n",
       "      <td>962.408595</td>\n",
       "      <td>961.909285</td>\n",
       "      <td>961.207912</td>\n",
       "      <td>960.546289</td>\n",
       "      <td>959.842670</td>\n",
       "      <td>959.283797</td>\n",
       "      <td>959.529191</td>\n",
       "      <td>0.0</td>\n",
       "    </tr>\n",
       "    <tr>\n",
       "      <th>86467</th>\n",
       "      <td>959.520187</td>\n",
       "      <td>958.437111</td>\n",
       "      <td>959.105015</td>\n",
       "      <td>959.603769</td>\n",
       "      <td>960.050059</td>\n",
       "      <td>961.738668</td>\n",
       "      <td>962.600041</td>\n",
       "      <td>960.552121</td>\n",
       "      <td>957.583658</td>\n",
       "      <td>959.426743</td>\n",
       "      <td>...</td>\n",
       "      <td>968.586538</td>\n",
       "      <td>969.176431</td>\n",
       "      <td>969.713374</td>\n",
       "      <td>970.199836</td>\n",
       "      <td>970.198314</td>\n",
       "      <td>970.071392</td>\n",
       "      <td>969.631823</td>\n",
       "      <td>969.133521</td>\n",
       "      <td>969.677513</td>\n",
       "      <td>0.0</td>\n",
       "    </tr>\n",
       "    <tr>\n",
       "      <th>86468</th>\n",
       "      <td>957.960255</td>\n",
       "      <td>957.948389</td>\n",
       "      <td>959.213426</td>\n",
       "      <td>959.568639</td>\n",
       "      <td>959.893190</td>\n",
       "      <td>960.498387</td>\n",
       "      <td>961.169668</td>\n",
       "      <td>961.611360</td>\n",
       "      <td>961.984491</td>\n",
       "      <td>962.369367</td>\n",
       "      <td>...</td>\n",
       "      <td>974.808446</td>\n",
       "      <td>973.751860</td>\n",
       "      <td>972.810871</td>\n",
       "      <td>971.849649</td>\n",
       "      <td>970.724459</td>\n",
       "      <td>969.718156</td>\n",
       "      <td>968.525272</td>\n",
       "      <td>967.561324</td>\n",
       "      <td>968.065026</td>\n",
       "      <td>0.0</td>\n",
       "    </tr>\n",
       "    <tr>\n",
       "      <th>86469</th>\n",
       "      <td>956.404404</td>\n",
       "      <td>957.531612</td>\n",
       "      <td>958.738170</td>\n",
       "      <td>960.137072</td>\n",
       "      <td>961.633615</td>\n",
       "      <td>963.163953</td>\n",
       "      <td>964.694432</td>\n",
       "      <td>966.285352</td>\n",
       "      <td>967.899972</td>\n",
       "      <td>969.059446</td>\n",
       "      <td>...</td>\n",
       "      <td>962.505485</td>\n",
       "      <td>962.803601</td>\n",
       "      <td>963.433398</td>\n",
       "      <td>964.152886</td>\n",
       "      <td>962.467724</td>\n",
       "      <td>960.094117</td>\n",
       "      <td>960.598133</td>\n",
       "      <td>961.799478</td>\n",
       "      <td>961.153864</td>\n",
       "      <td>0.0</td>\n",
       "    </tr>\n",
       "  </tbody>\n",
       "</table>\n",
       "<p>86470 rows × 361 columns</p>\n",
       "</div>"
      ],
      "text/plain": [
       "              0           1           2           3           4           5    \\\n",
       "0      963.374455  963.536949  964.756621  965.399062  966.017086  966.375099   \n",
       "1      950.134075  950.900959  951.742885  951.389255  952.444730  952.698845   \n",
       "2      956.855367  957.921859  958.970263  960.062874  961.063537  961.544535   \n",
       "3      956.333844  956.469719  956.650190  956.840204  957.063040  957.289795   \n",
       "4      950.051087  950.080657  950.899845  951.943309  952.584266  953.144752   \n",
       "...           ...         ...         ...         ...         ...         ...   \n",
       "86465  960.091597  958.332371  959.228982  959.937280  960.462593  960.875403   \n",
       "86466  960.158109  960.774672  961.122588  962.403698  963.542825  966.482368   \n",
       "86467  959.520187  958.437111  959.105015  959.603769  960.050059  961.738668   \n",
       "86468  957.960255  957.948389  959.213426  959.568639  959.893190  960.498387   \n",
       "86469  956.404404  957.531612  958.738170  960.137072  961.633615  963.163953   \n",
       "\n",
       "              6           7           8           9    ...         351  \\\n",
       "0      966.610054  966.770207  966.863751  966.951485  ...  962.278640   \n",
       "1      952.985557  953.265506  953.554840  953.878155  ...  957.912677   \n",
       "2      961.778225  961.903495  961.914781  961.927284  ...  962.793234   \n",
       "3      957.532154  957.763758  957.903596  958.002126  ...  963.483037   \n",
       "4      953.758744  954.385010  955.116512  955.847917  ...  962.082603   \n",
       "...           ...         ...         ...         ...  ...         ...   \n",
       "86465  961.311190  961.743369  962.152282  962.574638  ...  964.516509   \n",
       "86466  966.960323  967.707577  968.022530  968.521270  ...  963.553957   \n",
       "86467  962.600041  960.552121  957.583658  959.426743  ...  968.586538   \n",
       "86468  961.169668  961.611360  961.984491  962.369367  ...  974.808446   \n",
       "86469  964.694432  966.285352  967.899972  969.059446  ...  962.505485   \n",
       "\n",
       "              352         353         354         355         356         357  \\\n",
       "0      962.282842  962.301737  962.395261  962.294270  961.799296  963.125729   \n",
       "1      957.910661  957.908414  957.887200  957.930868  958.046497  957.767864   \n",
       "2      963.018453  963.291927  963.610334  963.801834  963.664744  964.690013   \n",
       "3      963.849264  964.232722  964.751295  965.325454  965.385283  965.277388   \n",
       "4      962.257165  962.430031  962.608560  962.787336  962.969444  963.152923   \n",
       "...           ...         ...         ...         ...         ...         ...   \n",
       "86465  965.081464  965.657630  965.508808  965.080290  964.863438  964.607543   \n",
       "86466  962.929216  962.408595  961.909285  961.207912  960.546289  959.842670   \n",
       "86467  969.176431  969.713374  970.199836  970.198314  970.071392  969.631823   \n",
       "86468  973.751860  972.810871  971.849649  970.724459  969.718156  968.525272   \n",
       "86469  962.803601  963.433398  964.152886  962.467724  960.094117  960.598133   \n",
       "\n",
       "              358         359  360  \n",
       "0      961.823215  962.056695  0.0  \n",
       "1      957.935546  957.848457  0.0  \n",
       "2      963.714316  963.719371  0.0  \n",
       "3      965.949119  966.749783  0.0  \n",
       "4      963.315874  963.472298  0.0  \n",
       "...           ...         ...  ...  \n",
       "86465  964.151499  963.933098  0.0  \n",
       "86466  959.283797  959.529191  0.0  \n",
       "86467  969.133521  969.677513  0.0  \n",
       "86468  967.561324  968.065026  0.0  \n",
       "86469  961.799478  961.153864  0.0  \n",
       "\n",
       "[86470 rows x 361 columns]"
      ]
     },
     "execution_count": 10,
     "metadata": {},
     "output_type": "execute_result"
    }
   ],
   "source": [
    "X_train_df = pd.DataFrame(X)\n",
    "X_train_df"
   ]
  },
  {
   "cell_type": "code",
   "execution_count": 11,
   "id": "87095135",
   "metadata": {
    "execution": {
     "iopub.execute_input": "2022-06-21T10:48:32.285605Z",
     "iopub.status.busy": "2022-06-21T10:48:32.284884Z",
     "iopub.status.idle": "2022-06-21T10:48:32.288026Z",
     "shell.execute_reply": "2022-06-21T10:48:32.288718Z",
     "shell.execute_reply.started": "2022-02-03T14:37:24.778629Z"
    },
    "papermill": {
     "duration": 0.059306,
     "end_time": "2022-06-21T10:48:32.288914",
     "exception": false,
     "start_time": "2022-06-21T10:48:32.229608",
     "status": "completed"
    },
    "tags": []
   },
   "outputs": [
    {
     "name": "stdout",
     "output_type": "stream",
     "text": [
      "0.0    75011\n",
      "2.0     7129\n",
      "1.0     2546\n",
      "4.0      982\n",
      "3.0      802\n",
      "Name: 360, dtype: int64\n"
     ]
    }
   ],
   "source": [
    "per_class = X_train_df[X_train_df.shape[1]-1].value_counts()\n",
    "print(per_class)"
   ]
  },
  {
   "cell_type": "code",
   "execution_count": 12,
   "id": "dda32a7b",
   "metadata": {
    "execution": {
     "iopub.execute_input": "2022-06-21T10:48:32.389339Z",
     "iopub.status.busy": "2022-06-21T10:48:32.388677Z",
     "iopub.status.idle": "2022-06-21T10:48:32.547979Z",
     "shell.execute_reply": "2022-06-21T10:48:32.547310Z",
     "shell.execute_reply.started": "2022-02-03T14:37:24.782454Z"
    },
    "papermill": {
     "duration": 0.212871,
     "end_time": "2022-06-21T10:48:32.548126",
     "exception": false,
     "start_time": "2022-06-21T10:48:32.335255",
     "status": "completed"
    },
    "tags": []
   },
   "outputs": [],
   "source": [
    "df_1=X_train_df[X_train_df[X_train_df.shape[1]-1]==1]\n",
    "df_2=X_train_df[X_train_df[X_train_df.shape[1]-1]==2]\n",
    "df_3=X_train_df[X_train_df[X_train_df.shape[1]-1]==3]\n",
    "df_4=X_train_df[X_train_df[X_train_df.shape[1]-1]==4]\n",
    "df_0=(X_train_df[X_train_df[X_train_df.shape[1]-1]==0]).sample(n=5000,random_state=42)\n",
    "\n",
    "df_1_upsample=resample(df_1,replace=True,n_samples=5000,random_state=42)\n",
    "df_2_upsample=resample(df_2,replace=True,n_samples=5000,random_state=42)\n",
    "df_3_upsample=resample(df_3,replace=True,n_samples=5000,random_state=42)\n",
    "df_4_upsample=resample(df_4,replace=True,n_samples=5000,random_state=42)\n",
    "X_train_df=pd.concat([df_0,df_1_upsample,df_2_upsample,df_3_upsample,df_4_upsample])"
   ]
  },
  {
   "cell_type": "code",
   "execution_count": 13,
   "id": "4fc30e5f",
   "metadata": {
    "execution": {
     "iopub.execute_input": "2022-06-21T10:48:32.640855Z",
     "iopub.status.busy": "2022-06-21T10:48:32.640060Z",
     "iopub.status.idle": "2022-06-21T10:48:32.647598Z",
     "shell.execute_reply": "2022-06-21T10:48:32.647152Z",
     "shell.execute_reply.started": "2022-02-03T14:37:24.784873Z"
    },
    "papermill": {
     "duration": 0.054474,
     "end_time": "2022-06-21T10:48:32.647708",
     "exception": false,
     "start_time": "2022-06-21T10:48:32.593234",
     "status": "completed"
    },
    "tags": []
   },
   "outputs": [
    {
     "name": "stdout",
     "output_type": "stream",
     "text": [
      "0.0    5000\n",
      "1.0    5000\n",
      "2.0    5000\n",
      "3.0    5000\n",
      "4.0    5000\n",
      "Name: 360, dtype: int64\n"
     ]
    }
   ],
   "source": [
    "per_class = X_train_df[X_train_df.shape[1]-1].value_counts()\n",
    "print(per_class)"
   ]
  },
  {
   "cell_type": "code",
   "execution_count": 14,
   "id": "c1120084",
   "metadata": {
    "execution": {
     "iopub.execute_input": "2022-06-21T10:48:32.744112Z",
     "iopub.status.busy": "2022-06-21T10:48:32.743377Z",
     "iopub.status.idle": "2022-06-21T10:48:32.790307Z",
     "shell.execute_reply": "2022-06-21T10:48:32.790712Z",
     "shell.execute_reply.started": "2022-02-03T14:37:24.79563Z"
    },
    "papermill": {
     "duration": 0.097385,
     "end_time": "2022-06-21T10:48:32.790845",
     "exception": false,
     "start_time": "2022-06-21T10:48:32.693460",
     "status": "completed"
    },
    "tags": []
   },
   "outputs": [
    {
     "name": "stdout",
     "output_type": "stream",
     "text": [
      "X_train :  (20000, 361)\n",
      "X_test  :  (5000, 361)\n"
     ]
    }
   ],
   "source": [
    "train, test = train_test_split(X_train_df, test_size=0.20)\n",
    "print(\"X_train : \", np.shape(train))\n",
    "print(\"X_test  : \", np.shape(test))"
   ]
  },
  {
   "cell_type": "code",
   "execution_count": 15,
   "id": "cdd3c08f",
   "metadata": {
    "execution": {
     "iopub.execute_input": "2022-06-21T10:48:32.886540Z",
     "iopub.status.busy": "2022-06-21T10:48:32.885598Z",
     "iopub.status.idle": "2022-06-21T10:48:32.890586Z",
     "shell.execute_reply": "2022-06-21T10:48:32.891170Z",
     "shell.execute_reply.started": "2022-02-03T14:37:24.797283Z"
    },
    "papermill": {
     "duration": 0.055467,
     "end_time": "2022-06-21T10:48:32.891325",
     "exception": false,
     "start_time": "2022-06-21T10:48:32.835858",
     "status": "completed"
    },
    "tags": []
   },
   "outputs": [
    {
     "name": "stdout",
     "output_type": "stream",
     "text": [
      "(20000, 5) (5000, 5)\n"
     ]
    }
   ],
   "source": [
    "target_train=train[train.shape[1]-1]\n",
    "target_test=test[test.shape[1]-1]\n",
    "train_y=to_categorical(target_train)\n",
    "test_y=to_categorical(target_test)\n",
    "print(np.shape(train_y), np.shape(test_y))"
   ]
  },
  {
   "cell_type": "code",
   "execution_count": 16,
   "id": "1ae95033",
   "metadata": {
    "execution": {
     "iopub.execute_input": "2022-06-21T10:48:32.989304Z",
     "iopub.status.busy": "2022-06-21T10:48:32.988547Z",
     "iopub.status.idle": "2022-06-21T10:48:32.991792Z",
     "shell.execute_reply": "2022-06-21T10:48:32.992412Z",
     "shell.execute_reply.started": "2022-02-03T14:37:24.799731Z"
    },
    "papermill": {
     "duration": 0.055387,
     "end_time": "2022-06-21T10:48:32.992588",
     "exception": false,
     "start_time": "2022-06-21T10:48:32.937201",
     "status": "completed"
    },
    "tags": []
   },
   "outputs": [
    {
     "name": "stdout",
     "output_type": "stream",
     "text": [
      "(20000, 360, 1) (5000, 360, 1)\n"
     ]
    }
   ],
   "source": [
    "train_x = train.iloc[:,:train.shape[1]-1].values\n",
    "test_x = test.iloc[:,:test.shape[1]-1].values\n",
    "train_x = train_x.reshape(len(train_x), train_x.shape[1],1)\n",
    "test_x = test_x.reshape(len(test_x), test_x.shape[1],1)\n",
    "print(np.shape(train_x), np.shape(test_x))"
   ]
  },
  {
   "cell_type": "code",
   "execution_count": 17,
   "id": "ccec5840",
   "metadata": {
    "execution": {
     "iopub.execute_input": "2022-06-21T10:48:33.090129Z",
     "iopub.status.busy": "2022-06-21T10:48:33.089623Z",
     "iopub.status.idle": "2022-06-21T10:48:33.094801Z",
     "shell.execute_reply": "2022-06-21T10:48:33.094261Z",
     "shell.execute_reply.started": "2022-02-03T14:37:24.80137Z"
    },
    "papermill": {
     "duration": 0.055237,
     "end_time": "2022-06-21T10:48:33.094915",
     "exception": false,
     "start_time": "2022-06-21T10:48:33.039678",
     "status": "completed"
    },
    "tags": []
   },
   "outputs": [
    {
     "name": "stdout",
     "output_type": "stream",
     "text": [
      "[[[ 969.229754  ]\n",
      "  [ 968.83977425]\n",
      "  [ 969.19699596]\n",
      "  ...\n",
      "  [1181.09410694]\n",
      "  [1146.6050939 ]\n",
      "  [1105.78430358]]\n",
      "\n",
      " [[ 898.50379129]\n",
      "  [ 898.26061388]\n",
      "  [ 898.07480387]\n",
      "  ...\n",
      "  [ 999.16116583]\n",
      "  [ 994.96853369]\n",
      "  [ 991.06116718]]\n",
      "\n",
      " [[ 939.51612205]\n",
      "  [ 942.41768355]\n",
      "  [ 944.88178569]\n",
      "  ...\n",
      "  [ 996.65854019]\n",
      "  [ 995.7556791 ]\n",
      "  [ 994.94867995]]\n",
      "\n",
      " ...\n",
      "\n",
      " [[ 860.17907069]\n",
      "  [ 849.24510931]\n",
      "  [ 835.90883159]\n",
      "  ...\n",
      "  [ 952.95635626]\n",
      "  [ 944.73070748]\n",
      "  [ 931.65232075]]\n",
      "\n",
      " [[ 986.14089604]\n",
      "  [ 986.57699433]\n",
      "  [ 986.50232843]\n",
      "  ...\n",
      "  [ 973.4186231 ]\n",
      "  [ 973.98706213]\n",
      "  [ 974.48850181]]\n",
      "\n",
      " [[ 973.24883363]\n",
      "  [ 973.27066423]\n",
      "  [ 973.32784046]\n",
      "  ...\n",
      "  [1210.16365224]\n",
      "  [1208.75434527]\n",
      "  [1201.29479659]]]\n"
     ]
    }
   ],
   "source": [
    "print(train_x)"
   ]
  },
  {
   "cell_type": "code",
   "execution_count": 18,
   "id": "fb099928",
   "metadata": {
    "execution": {
     "iopub.execute_input": "2022-06-21T10:48:33.193153Z",
     "iopub.status.busy": "2022-06-21T10:48:33.192615Z",
     "iopub.status.idle": "2022-06-21T10:48:36.374370Z",
     "shell.execute_reply": "2022-06-21T10:48:36.373304Z",
     "shell.execute_reply.started": "2022-02-03T14:37:24.806264Z"
    },
    "papermill": {
     "duration": 3.232944,
     "end_time": "2022-06-21T10:48:36.374535",
     "exception": false,
     "start_time": "2022-06-21T10:48:33.141591",
     "status": "completed"
    },
    "tags": []
   },
   "outputs": [
    {
     "name": "stderr",
     "output_type": "stream",
     "text": [
      "2022-06-21 10:48:33.278258: I tensorflow/stream_executor/cuda/cuda_gpu_executor.cc:937] successful NUMA node read from SysFS had negative value (-1), but there must be at least one NUMA node, so returning NUMA node zero\n",
      "2022-06-21 10:48:33.440493: I tensorflow/stream_executor/cuda/cuda_gpu_executor.cc:937] successful NUMA node read from SysFS had negative value (-1), but there must be at least one NUMA node, so returning NUMA node zero\n",
      "2022-06-21 10:48:33.441334: I tensorflow/stream_executor/cuda/cuda_gpu_executor.cc:937] successful NUMA node read from SysFS had negative value (-1), but there must be at least one NUMA node, so returning NUMA node zero\n",
      "2022-06-21 10:48:33.443138: I tensorflow/core/platform/cpu_feature_guard.cc:142] This TensorFlow binary is optimized with oneAPI Deep Neural Network Library (oneDNN) to use the following CPU instructions in performance-critical operations:  AVX2 AVX512F FMA\n",
      "To enable them in other operations, rebuild TensorFlow with the appropriate compiler flags.\n",
      "2022-06-21 10:48:33.446781: I tensorflow/stream_executor/cuda/cuda_gpu_executor.cc:937] successful NUMA node read from SysFS had negative value (-1), but there must be at least one NUMA node, so returning NUMA node zero\n",
      "2022-06-21 10:48:33.447503: I tensorflow/stream_executor/cuda/cuda_gpu_executor.cc:937] successful NUMA node read from SysFS had negative value (-1), but there must be at least one NUMA node, so returning NUMA node zero\n",
      "2022-06-21 10:48:33.448271: I tensorflow/stream_executor/cuda/cuda_gpu_executor.cc:937] successful NUMA node read from SysFS had negative value (-1), but there must be at least one NUMA node, so returning NUMA node zero\n",
      "2022-06-21 10:48:35.589889: I tensorflow/stream_executor/cuda/cuda_gpu_executor.cc:937] successful NUMA node read from SysFS had negative value (-1), but there must be at least one NUMA node, so returning NUMA node zero\n",
      "2022-06-21 10:48:35.590763: I tensorflow/stream_executor/cuda/cuda_gpu_executor.cc:937] successful NUMA node read from SysFS had negative value (-1), but there must be at least one NUMA node, so returning NUMA node zero\n",
      "2022-06-21 10:48:35.591460: I tensorflow/stream_executor/cuda/cuda_gpu_executor.cc:937] successful NUMA node read from SysFS had negative value (-1), but there must be at least one NUMA node, so returning NUMA node zero\n",
      "2022-06-21 10:48:35.592101: I tensorflow/core/common_runtime/gpu/gpu_device.cc:1510] Created device /job:localhost/replica:0/task:0/device:GPU:0 with 15403 MB memory:  -> device: 0, name: Tesla P100-PCIE-16GB, pci bus id: 0000:00:04.0, compute capability: 6.0\n"
     ]
    }
   ],
   "source": [
    "model1 = Sequential()\n",
    "model1.add(LSTM(units=50, return_sequences=True, activation='tanh', input_shape=(360,1)))\n",
    "model1.add(LSTM(units=10, return_sequences=True, activation='tanh'))\n",
    "model1.add(Flatten())\n",
    "model1.add(Dropout(0.5))\n",
    "model1.add(Dense(35))\n",
    "model1.add(Dense(5))\n",
    "model1.add(Softmax())"
   ]
  },
  {
   "cell_type": "code",
   "execution_count": 19,
   "id": "6ec4ff38",
   "metadata": {
    "execution": {
     "iopub.execute_input": "2022-06-21T10:48:36.476376Z",
     "iopub.status.busy": "2022-06-21T10:48:36.475545Z",
     "iopub.status.idle": "2022-06-21T10:48:36.482005Z",
     "shell.execute_reply": "2022-06-21T10:48:36.481578Z",
     "shell.execute_reply.started": "2022-02-03T14:37:24.808626Z"
    },
    "papermill": {
     "duration": 0.060836,
     "end_time": "2022-06-21T10:48:36.482119",
     "exception": false,
     "start_time": "2022-06-21T10:48:36.421283",
     "status": "completed"
    },
    "tags": []
   },
   "outputs": [],
   "source": [
    "model1.compile(loss='categorical_crossentropy', optimizer=Adam(), metrics=['accuracy'])"
   ]
  },
  {
   "cell_type": "code",
   "execution_count": 20,
   "id": "74aa135d",
   "metadata": {
    "execution": {
     "iopub.execute_input": "2022-06-21T10:48:36.588624Z",
     "iopub.status.busy": "2022-06-21T10:48:36.586864Z",
     "iopub.status.idle": "2022-06-21T10:54:35.613726Z",
     "shell.execute_reply": "2022-06-21T10:54:35.613238Z",
     "shell.execute_reply.started": "2022-02-03T14:37:24.81111Z"
    },
    "papermill": {
     "duration": 359.077975,
     "end_time": "2022-06-21T10:54:35.613861",
     "exception": false,
     "start_time": "2022-06-21T10:48:36.535886",
     "status": "completed"
    },
    "tags": []
   },
   "outputs": [
    {
     "name": "stderr",
     "output_type": "stream",
     "text": [
      "2022-06-21 10:48:36.698678: I tensorflow/compiler/mlir/mlir_graph_optimization_pass.cc:185] None of the MLIR Optimization Passes are enabled (registered 2)\n"
     ]
    },
    {
     "name": "stdout",
     "output_type": "stream",
     "text": [
      "Epoch 1/60\n"
     ]
    },
    {
     "name": "stderr",
     "output_type": "stream",
     "text": [
      "2022-06-21 10:48:40.385493: I tensorflow/stream_executor/cuda/cuda_dnn.cc:369] Loaded cuDNN version 8005\n"
     ]
    },
    {
     "name": "stdout",
     "output_type": "stream",
     "text": [
      "157/157 [==============================] - 12s 42ms/step - loss: 1.6814 - accuracy: 0.2010 - val_loss: 1.6079 - val_accuracy: 0.2154\n",
      "Epoch 2/60\n",
      "157/157 [==============================] - 6s 37ms/step - loss: 1.5991 - accuracy: 0.2277 - val_loss: 1.5805 - val_accuracy: 0.2642\n",
      "Epoch 3/60\n",
      "157/157 [==============================] - 6s 37ms/step - loss: 1.6043 - accuracy: 0.2499 - val_loss: 1.6121 - val_accuracy: 0.2186\n",
      "Epoch 4/60\n",
      "157/157 [==============================] - 6s 37ms/step - loss: 1.5722 - accuracy: 0.2628 - val_loss: 1.5396 - val_accuracy: 0.3298\n",
      "Epoch 5/60\n",
      "157/157 [==============================] - 6s 37ms/step - loss: 1.5471 - accuracy: 0.2885 - val_loss: 1.5131 - val_accuracy: 0.3634\n",
      "Epoch 6/60\n",
      "157/157 [==============================] - 6s 37ms/step - loss: 1.4966 - accuracy: 0.3498 - val_loss: 1.3784 - val_accuracy: 0.4298\n",
      "Epoch 7/60\n",
      "157/157 [==============================] - 6s 37ms/step - loss: 1.3527 - accuracy: 0.4500 - val_loss: 1.3086 - val_accuracy: 0.4690\n",
      "Epoch 8/60\n",
      "157/157 [==============================] - 6s 37ms/step - loss: 1.2641 - accuracy: 0.4985 - val_loss: 1.1296 - val_accuracy: 0.6066\n",
      "Epoch 9/60\n",
      "157/157 [==============================] - 6s 38ms/step - loss: 1.2099 - accuracy: 0.5296 - val_loss: 1.1054 - val_accuracy: 0.5994\n",
      "Epoch 10/60\n",
      "157/157 [==============================] - 6s 37ms/step - loss: 1.2124 - accuracy: 0.5375 - val_loss: 1.1109 - val_accuracy: 0.5472\n",
      "Epoch 11/60\n",
      "157/157 [==============================] - 6s 37ms/step - loss: 1.1630 - accuracy: 0.5569 - val_loss: 1.0509 - val_accuracy: 0.6228\n",
      "Epoch 12/60\n",
      "157/157 [==============================] - 6s 37ms/step - loss: 1.1447 - accuracy: 0.5632 - val_loss: 0.9951 - val_accuracy: 0.6342\n",
      "Epoch 13/60\n",
      "157/157 [==============================] - 6s 37ms/step - loss: 1.1313 - accuracy: 0.5727 - val_loss: 1.0107 - val_accuracy: 0.6236\n",
      "Epoch 14/60\n",
      "157/157 [==============================] - 6s 38ms/step - loss: 1.0891 - accuracy: 0.5975 - val_loss: 0.9992 - val_accuracy: 0.6556\n",
      "Epoch 15/60\n",
      "157/157 [==============================] - 6s 37ms/step - loss: 1.0790 - accuracy: 0.5962 - val_loss: 0.9840 - val_accuracy: 0.6262\n",
      "Epoch 16/60\n",
      "157/157 [==============================] - 6s 38ms/step - loss: 1.0651 - accuracy: 0.6017 - val_loss: 0.9833 - val_accuracy: 0.6166\n",
      "Epoch 17/60\n",
      "157/157 [==============================] - 6s 37ms/step - loss: 1.0383 - accuracy: 0.6145 - val_loss: 0.9284 - val_accuracy: 0.6640\n",
      "Epoch 18/60\n",
      "157/157 [==============================] - 6s 38ms/step - loss: 1.0090 - accuracy: 0.6280 - val_loss: 0.8982 - val_accuracy: 0.6666\n",
      "Epoch 19/60\n",
      "157/157 [==============================] - 6s 38ms/step - loss: 1.0027 - accuracy: 0.6338 - val_loss: 0.8895 - val_accuracy: 0.7082\n",
      "Epoch 20/60\n",
      "157/157 [==============================] - 6s 38ms/step - loss: 0.9577 - accuracy: 0.6480 - val_loss: 0.8457 - val_accuracy: 0.7200\n",
      "Epoch 21/60\n",
      "157/157 [==============================] - 6s 38ms/step - loss: 0.9333 - accuracy: 0.6631 - val_loss: 0.8602 - val_accuracy: 0.6968\n",
      "Epoch 22/60\n",
      "157/157 [==============================] - 6s 38ms/step - loss: 0.8993 - accuracy: 0.6812 - val_loss: 0.7994 - val_accuracy: 0.7294\n",
      "Epoch 23/60\n",
      "157/157 [==============================] - 6s 38ms/step - loss: 0.8889 - accuracy: 0.6867 - val_loss: 0.7802 - val_accuracy: 0.7404\n",
      "Epoch 24/60\n",
      "157/157 [==============================] - 6s 37ms/step - loss: 0.8519 - accuracy: 0.7025 - val_loss: 0.7767 - val_accuracy: 0.7238\n",
      "Epoch 25/60\n",
      "157/157 [==============================] - 6s 38ms/step - loss: 0.8359 - accuracy: 0.7074 - val_loss: 0.8048 - val_accuracy: 0.7092\n",
      "Epoch 26/60\n",
      "157/157 [==============================] - 6s 37ms/step - loss: 0.8582 - accuracy: 0.7022 - val_loss: 0.7503 - val_accuracy: 0.7432\n",
      "Epoch 27/60\n",
      "157/157 [==============================] - 6s 38ms/step - loss: 0.8014 - accuracy: 0.7236 - val_loss: 0.7722 - val_accuracy: 0.7476\n",
      "Epoch 28/60\n",
      "157/157 [==============================] - 6s 38ms/step - loss: 0.8026 - accuracy: 0.7179 - val_loss: 0.7477 - val_accuracy: 0.7472\n",
      "Epoch 29/60\n",
      "157/157 [==============================] - 6s 38ms/step - loss: 0.7936 - accuracy: 0.7196 - val_loss: 0.7674 - val_accuracy: 0.7322\n",
      "Epoch 30/60\n",
      "157/157 [==============================] - 6s 38ms/step - loss: 0.7766 - accuracy: 0.7283 - val_loss: 0.7510 - val_accuracy: 0.7434\n",
      "Epoch 31/60\n",
      "157/157 [==============================] - 6s 37ms/step - loss: 0.7712 - accuracy: 0.7322 - val_loss: 0.7132 - val_accuracy: 0.7604\n",
      "Epoch 32/60\n",
      "157/157 [==============================] - 6s 38ms/step - loss: 0.7543 - accuracy: 0.7390 - val_loss: 0.7215 - val_accuracy: 0.7558\n",
      "Epoch 33/60\n",
      "157/157 [==============================] - 6s 38ms/step - loss: 0.7545 - accuracy: 0.7380 - val_loss: 0.6839 - val_accuracy: 0.7666\n",
      "Epoch 34/60\n",
      "157/157 [==============================] - 6s 38ms/step - loss: 0.7458 - accuracy: 0.7413 - val_loss: 0.7117 - val_accuracy: 0.7588\n",
      "Epoch 35/60\n",
      "157/157 [==============================] - 6s 37ms/step - loss: 0.7600 - accuracy: 0.7382 - val_loss: 0.6806 - val_accuracy: 0.7618\n",
      "Epoch 36/60\n",
      "157/157 [==============================] - 6s 37ms/step - loss: 0.7251 - accuracy: 0.7513 - val_loss: 0.6735 - val_accuracy: 0.7736\n",
      "Epoch 37/60\n",
      "157/157 [==============================] - 6s 38ms/step - loss: 0.7168 - accuracy: 0.7540 - val_loss: 0.7298 - val_accuracy: 0.7416\n",
      "Epoch 38/60\n",
      "157/157 [==============================] - 6s 38ms/step - loss: 0.7129 - accuracy: 0.7545 - val_loss: 0.6782 - val_accuracy: 0.7796\n",
      "Epoch 39/60\n",
      "157/157 [==============================] - 6s 38ms/step - loss: 0.7128 - accuracy: 0.7505 - val_loss: 0.7190 - val_accuracy: 0.7564\n",
      "Epoch 40/60\n",
      "157/157 [==============================] - 6s 37ms/step - loss: 0.7045 - accuracy: 0.7520 - val_loss: 0.6796 - val_accuracy: 0.7684\n",
      "Epoch 41/60\n",
      "157/157 [==============================] - 6s 37ms/step - loss: 0.6865 - accuracy: 0.7609 - val_loss: 0.6583 - val_accuracy: 0.7700\n",
      "Epoch 42/60\n",
      "157/157 [==============================] - 6s 37ms/step - loss: 0.6811 - accuracy: 0.7681 - val_loss: 0.7554 - val_accuracy: 0.7174\n",
      "Epoch 43/60\n",
      "157/157 [==============================] - 6s 38ms/step - loss: 0.6835 - accuracy: 0.7625 - val_loss: 0.6310 - val_accuracy: 0.7740\n",
      "Epoch 44/60\n",
      "157/157 [==============================] - 6s 38ms/step - loss: 0.6590 - accuracy: 0.7724 - val_loss: 0.6586 - val_accuracy: 0.7652\n",
      "Epoch 45/60\n",
      "157/157 [==============================] - 6s 38ms/step - loss: 0.6631 - accuracy: 0.7677 - val_loss: 0.6798 - val_accuracy: 0.7504\n",
      "Epoch 46/60\n",
      "157/157 [==============================] - 6s 37ms/step - loss: 0.6656 - accuracy: 0.7638 - val_loss: 0.6796 - val_accuracy: 0.7532\n",
      "Epoch 47/60\n",
      "157/157 [==============================] - 6s 36ms/step - loss: 0.6522 - accuracy: 0.7717 - val_loss: 0.6429 - val_accuracy: 0.7644\n",
      "Epoch 48/60\n",
      "157/157 [==============================] - 6s 38ms/step - loss: 0.6236 - accuracy: 0.7821 - val_loss: 0.5648 - val_accuracy: 0.8058\n",
      "Epoch 49/60\n",
      "157/157 [==============================] - 6s 38ms/step - loss: 0.6363 - accuracy: 0.7741 - val_loss: 0.5903 - val_accuracy: 0.7860\n",
      "Epoch 50/60\n",
      "157/157 [==============================] - 6s 38ms/step - loss: 0.6177 - accuracy: 0.7854 - val_loss: 0.5894 - val_accuracy: 0.7904\n",
      "Epoch 51/60\n",
      "157/157 [==============================] - 6s 38ms/step - loss: 0.6177 - accuracy: 0.7818 - val_loss: 0.6135 - val_accuracy: 0.7700\n",
      "Epoch 52/60\n",
      "157/157 [==============================] - 6s 36ms/step - loss: 0.6119 - accuracy: 0.7883 - val_loss: 0.5478 - val_accuracy: 0.8072\n",
      "Epoch 53/60\n",
      "157/157 [==============================] - 6s 38ms/step - loss: 0.6123 - accuracy: 0.7857 - val_loss: 0.5795 - val_accuracy: 0.7982\n",
      "Epoch 54/60\n",
      "157/157 [==============================] - 6s 38ms/step - loss: 0.5887 - accuracy: 0.7924 - val_loss: 0.5730 - val_accuracy: 0.7988\n",
      "Epoch 55/60\n",
      "157/157 [==============================] - 6s 38ms/step - loss: 0.5995 - accuracy: 0.7883 - val_loss: 0.5677 - val_accuracy: 0.7854\n",
      "Epoch 56/60\n",
      "157/157 [==============================] - 6s 38ms/step - loss: 0.5923 - accuracy: 0.7932 - val_loss: 0.6598 - val_accuracy: 0.7644\n",
      "Epoch 57/60\n",
      "157/157 [==============================] - 6s 37ms/step - loss: 0.5787 - accuracy: 0.7990 - val_loss: 0.5750 - val_accuracy: 0.7946\n",
      "Epoch 58/60\n",
      "157/157 [==============================] - 6s 38ms/step - loss: 0.5610 - accuracy: 0.8054 - val_loss: 0.5316 - val_accuracy: 0.7970\n",
      "Epoch 59/60\n",
      "157/157 [==============================] - 6s 38ms/step - loss: 0.5785 - accuracy: 0.7978 - val_loss: 0.5360 - val_accuracy: 0.8098\n",
      "Epoch 60/60\n",
      "157/157 [==============================] - 6s 38ms/step - loss: 0.5501 - accuracy: 0.8045 - val_loss: 0.5116 - val_accuracy: 0.8098\n"
     ]
    }
   ],
   "source": [
    "history  = model1.fit(train_x, train_y, batch_size=128, epochs=60, verbose=1, validation_data=(test_x, test_y))"
   ]
  },
  {
   "cell_type": "code",
   "execution_count": 21,
   "id": "66679015",
   "metadata": {
    "execution": {
     "iopub.execute_input": "2022-06-21T10:54:38.286630Z",
     "iopub.status.busy": "2022-06-21T10:54:38.285632Z",
     "iopub.status.idle": "2022-06-21T10:54:40.612367Z",
     "shell.execute_reply": "2022-06-21T10:54:40.611563Z",
     "shell.execute_reply.started": "2022-02-03T14:37:24.813576Z"
    },
    "papermill": {
     "duration": 3.672692,
     "end_time": "2022-06-21T10:54:40.612609",
     "exception": false,
     "start_time": "2022-06-21T10:54:36.939917",
     "status": "completed"
    },
    "tags": []
   },
   "outputs": [
    {
     "name": "stdout",
     "output_type": "stream",
     "text": [
      "157/157 [==============================] - 2s 14ms/step - loss: 0.5116 - accuracy: 0.8098\n",
      "0.8098000288009644\n"
     ]
    }
   ],
   "source": [
    "score1 = model1.evaluate(test_x, test_y)\n",
    "print(score1[1])"
   ]
  },
  {
   "cell_type": "code",
   "execution_count": 22,
   "id": "d43b21b0",
   "metadata": {
    "execution": {
     "iopub.execute_input": "2022-06-21T10:54:43.530454Z",
     "iopub.status.busy": "2022-06-21T10:54:43.529610Z",
     "iopub.status.idle": "2022-06-21T10:54:43.545289Z",
     "shell.execute_reply": "2022-06-21T10:54:43.544861Z",
     "shell.execute_reply.started": "2022-02-03T14:37:24.81617Z"
    },
    "papermill": {
     "duration": 1.396141,
     "end_time": "2022-06-21T10:54:43.545423",
     "exception": false,
     "start_time": "2022-06-21T10:54:42.149282",
     "status": "completed"
    },
    "tags": []
   },
   "outputs": [],
   "source": [
    "def speci(kcm):\n",
    "    total=sum(sum(kcm))\n",
    "    sensitivity1 = kcm[0,0]/(kcm[0,0]+kcm[0,1]+kcm[0,2]+kcm[0,3]+kcm[0,4])\n",
    "    print('Sensitivity of  Non-ecotic beats (normal beat) ', sensitivity1 )\n",
    "    specificity1 = (kcm[1,1]+kcm[2,2]+kcm[3,3]+kcm[4,4])/(total-(kcm[0,0]+kcm[0,1]+kcm[0,2]+kcm[0,3]+kcm[0,4]))\n",
    "    print('Specificity of  Non-ecotic beats (normal beat) ', specificity1)\n",
    "    sensitivity1 = kcm[1,1]/(kcm[1,0]+kcm[1,1]+kcm[1,2]+kcm[1,3]+kcm[1,4])\n",
    "    print('Sensitivity of  Supraventricular ectopic beats ', sensitivity1 )\n",
    "    specificity1 = (kcm[0,0]+kcm[2,2]+kcm[3,3]+kcm[4,4])/(total-(kcm[1,0]+kcm[1,1]+kcm[1,2]+kcm[1,3]+kcm[1,4]))\n",
    "    print('Specificity of  Supraventricular ectopic beats ', specificity1)\n",
    "    sensitivity1 = kcm[2,2]/(kcm[2,0]+kcm[2,1]+kcm[2,2]+kcm[2,3]+kcm[2,4])\n",
    "    print('Sensitivity of  Ventricular ectopic beats  ', sensitivity1 )\n",
    "    specificity1 = (kcm[1,1]+kcm[0,0]+kcm[3,3]+kcm[4,4])/(total-(kcm[2,0]+kcm[2,1]+kcm[2,2]+kcm[2,3]+kcm[2,4]))\n",
    "    print('Specificity of  Ventricular ectopic beats ', specificity1)\n",
    "    sensitivity1 = kcm[3,3]/(kcm[3,0]+kcm[3,1]+kcm[3,2]+kcm[3,3]+kcm[3,4])\n",
    "    print('Sensitivity of  Fusion Beats ', sensitivity1 )\n",
    "    specificity1 = (kcm[1,1]+kcm[2,2]+kcm[0,0]+kcm[4,4])/(total-(kcm[3,0]+kcm[3,1]+kcm[3,2]+kcm[3,3]+kcm[3,4]))\n",
    "    print('Specificity of  Fusion Beats ', specificity1)\n",
    "    sensitivity1 = kcm[4,4]/(kcm[4,0]+kcm[4,1]+kcm[4,2]+kcm[4,3]+kcm[4,4])\n",
    "    print('Sensitivity of  Unknown Beats ', sensitivity1 )\n",
    "    specificity1 = (kcm[1,1]+kcm[2,2]+kcm[3,3]+kcm[0,0])/(total-(kcm[4,0]+kcm[4,1]+kcm[4,2]+kcm[4,3]+kcm[4,4]))\n",
    "    print('Specificity of  Unknown Beats ', specificity1)\n",
    "    "
   ]
  },
  {
   "cell_type": "code",
   "execution_count": 23,
   "id": "c7a74d51",
   "metadata": {
    "execution": {
     "iopub.execute_input": "2022-06-21T10:54:46.223745Z",
     "iopub.status.busy": "2022-06-21T10:54:46.222718Z",
     "iopub.status.idle": "2022-06-21T10:54:48.743938Z",
     "shell.execute_reply": "2022-06-21T10:54:48.744949Z",
     "shell.execute_reply.started": "2022-02-03T14:37:24.818707Z"
    },
    "papermill": {
     "duration": 3.864211,
     "end_time": "2022-06-21T10:54:48.745156",
     "exception": false,
     "start_time": "2022-06-21T10:54:44.880945",
     "status": "completed"
    },
    "tags": []
   },
   "outputs": [
    {
     "name": "stdout",
     "output_type": "stream",
     "text": [
      "[[748 134   6  55  73]\n",
      " [230 766  13   4  33]\n",
      " [ 47  67 749  64  36]\n",
      " [ 76  10  40 831  19]\n",
      " [ 29   6   6   3 955]]\n",
      "              precision    recall  f1-score   support\n",
      "\n",
      "           0       0.66      0.74      0.70      1016\n",
      "           1       0.78      0.73      0.76      1046\n",
      "           2       0.92      0.78      0.84       963\n",
      "           3       0.87      0.85      0.86       976\n",
      "           4       0.86      0.96      0.90       999\n",
      "\n",
      "    accuracy                           0.81      5000\n",
      "   macro avg       0.82      0.81      0.81      5000\n",
      "weighted avg       0.82      0.81      0.81      5000\n",
      "\n",
      "Sensitivity of  Non-ecotic beats (normal beat)  0.7362204724409449\n",
      "Specificity of  Non-ecotic beats (normal beat)  0.8285642570281124\n",
      "Sensitivity of  Supraventricular ectopic beats  0.7323135755258127\n",
      "Specificity of  Supraventricular ectopic beats  0.8302984319676278\n",
      "Sensitivity of  Ventricular ectopic beats   0.7777777777777778\n",
      "Specificity of  Ventricular ectopic beats  0.8174386920980926\n",
      "Sensitivity of  Fusion Beats  0.8514344262295082\n",
      "Specificity of  Fusion Beats  0.7997017892644135\n",
      "Sensitivity of  Unknown Beats  0.955955955955956\n",
      "Specificity of  Unknown Beats  0.7733066733316671\n"
     ]
    }
   ],
   "source": [
    "from sklearn.metrics import confusion_matrix, classification_report\n",
    "Y_pred = model1.predict(test_x)\n",
    "Y_pred_classes = np.argmax(Y_pred,axis = 1) \n",
    "Y_true = np.argmax(test_y,axis = 1) \n",
    "confusion_mtx = confusion_matrix(Y_true, Y_pred_classes) \n",
    "print(confusion_mtx)\n",
    "print(classification_report(Y_true, Y_pred_classes))\n",
    "speci(confusion_mtx)"
   ]
  },
  {
   "cell_type": "code",
   "execution_count": 24,
   "id": "0efc46f3",
   "metadata": {
    "execution": {
     "iopub.execute_input": "2022-06-21T10:54:51.508791Z",
     "iopub.status.busy": "2022-06-21T10:54:51.506367Z",
     "iopub.status.idle": "2022-06-21T10:54:51.902361Z",
     "shell.execute_reply": "2022-06-21T10:54:51.903035Z"
    },
    "papermill": {
     "duration": 1.784141,
     "end_time": "2022-06-21T10:54:51.903205",
     "exception": false,
     "start_time": "2022-06-21T10:54:50.119064",
     "status": "completed"
    },
    "tags": []
   },
   "outputs": [
    {
     "data": {
      "image/png": "[encoded data removed]",
      "text/plain": [
       "<Figure size 432x432 with 1 Axes>"
      ]
     },
     "metadata": {
      "needs_background": "light"
     },
     "output_type": "display_data"
    }
   ],
   "source": [
    "from mlxtend.plotting import plot_confusion_matrix\n",
    "fig, ax = plot_confusion_matrix(conf_mat=confusion_mtx, figsize=(6, 6), cmap=plt.cm.Blues)\n",
    "plt.xlabel('Predictions', fontsize=18)\n",
    "plt.ylabel('Actuals', fontsize=18)\n",
    "plt.title('Confusion Matrix', fontsize=18)\n",
    "plt.show()"
   ]
  },
  {
   "cell_type": "code",
   "execution_count": 25,
   "id": "907364cc",
   "metadata": {
    "execution": {
     "iopub.execute_input": "2022-06-21T10:54:54.669998Z",
     "iopub.status.busy": "2022-06-21T10:54:54.669135Z",
     "iopub.status.idle": "2022-06-21T10:55:06.350418Z",
     "shell.execute_reply": "2022-06-21T10:55:06.351276Z",
     "shell.execute_reply.started": "2022-02-03T14:37:24.821089Z"
    },
    "papermill": {
     "duration": 13.031786,
     "end_time": "2022-06-21T10:55:06.351500",
     "exception": false,
     "start_time": "2022-06-21T10:54:53.319714",
     "status": "completed"
    },
    "tags": []
   },
   "outputs": [
    {
     "name": "stdout",
     "output_type": "stream",
     "text": [
      "(20000, 3600)\n",
      "(5000, 3600)\n"
     ]
    }
   ],
   "source": [
    "model_feat = Model(inputs=model1.input,outputs=model1.get_layer('flatten').output)\n",
    "feat_train = model_feat.predict(train_x)\n",
    "print(feat_train.shape)\n",
    "feat_test = model_feat.predict(test_x)\n",
    "print(feat_test.shape)"
   ]
  },
  {
   "cell_type": "code",
   "execution_count": 26,
   "id": "2eb0f9c0",
   "metadata": {
    "execution": {
     "iopub.execute_input": "2022-06-21T10:55:09.045306Z",
     "iopub.status.busy": "2022-06-21T10:55:09.044584Z",
     "iopub.status.idle": "2022-06-21T10:55:15.251742Z",
     "shell.execute_reply": "2022-06-21T10:55:15.252407Z",
     "shell.execute_reply.started": "2022-02-03T14:37:24.823567Z"
    },
    "papermill": {
     "duration": 7.558531,
     "end_time": "2022-06-21T10:55:15.252667",
     "exception": false,
     "start_time": "2022-06-21T10:55:07.694136",
     "status": "completed"
    },
    "tags": []
   },
   "outputs": [
    {
     "name": "stdout",
     "output_type": "stream",
     "text": [
      "Time: 6.1756911277771s\n"
     ]
    }
   ],
   "source": [
    "from sklearn.preprocessing import StandardScaler\n",
    "from sklearn.decomposition import PCA\n",
    "import time\n",
    "start0 = time.time()\n",
    "sc = StandardScaler()\n",
    "X_train = sc.fit_transform(feat_train)\n",
    "X_test = sc.transform(feat_test)\n",
    "pca = PCA(n_components = 150)\n",
    "pca_X_train = pca.fit_transform(X_train)\n",
    "pca_X_test = pca.transform(X_test)\n",
    "stop0 = time.time()\n",
    "print(f\"Time: {stop0 - start0}s\")"
   ]
  },
  {
   "cell_type": "code",
   "execution_count": 27,
   "id": "f8975569",
   "metadata": {
    "execution": {
     "iopub.execute_input": "2022-06-21T10:55:18.127262Z",
     "iopub.status.busy": "2022-06-21T10:55:18.126385Z",
     "iopub.status.idle": "2022-06-21T10:55:18.130688Z",
     "shell.execute_reply": "2022-06-21T10:55:18.130060Z",
     "shell.execute_reply.started": "2022-02-03T14:37:24.825935Z"
    },
    "papermill": {
     "duration": 1.424715,
     "end_time": "2022-06-21T10:55:18.130806",
     "exception": false,
     "start_time": "2022-06-21T10:55:16.706091",
     "status": "completed"
    },
    "tags": []
   },
   "outputs": [
    {
     "name": "stdout",
     "output_type": "stream",
     "text": [
      "(20000, 150)\n",
      "(5000, 150)\n"
     ]
    }
   ],
   "source": [
    "print(pca_X_train.shape)\n",
    "print(pca_X_test.shape)"
   ]
  },
  {
   "cell_type": "code",
   "execution_count": 28,
   "id": "07249aca",
   "metadata": {
    "execution": {
     "iopub.execute_input": "2022-06-21T10:55:21.363605Z",
     "iopub.status.busy": "2022-06-21T10:55:21.362706Z",
     "iopub.status.idle": "2022-06-21T10:55:21.364953Z",
     "shell.execute_reply": "2022-06-21T10:55:21.364298Z",
     "shell.execute_reply.started": "2022-02-03T14:37:24.828451Z"
    },
    "papermill": {
     "duration": 1.752214,
     "end_time": "2022-06-21T10:55:21.365105",
     "exception": false,
     "start_time": "2022-06-21T10:55:19.612891",
     "status": "completed"
    },
    "tags": []
   },
   "outputs": [],
   "source": [
    "import time"
   ]
  },
  {
   "cell_type": "code",
   "execution_count": 29,
   "id": "3bc5849c",
   "metadata": {
    "execution": {
     "iopub.execute_input": "2022-06-21T10:55:24.228035Z",
     "iopub.status.busy": "2022-06-21T10:55:24.226958Z",
     "iopub.status.idle": "2022-06-21T10:55:45.579590Z",
     "shell.execute_reply": "2022-06-21T10:55:45.580223Z",
     "shell.execute_reply.started": "2022-02-03T14:37:24.831074Z"
    },
    "papermill": {
     "duration": 22.746494,
     "end_time": "2022-06-21T10:55:45.580430",
     "exception": false,
     "start_time": "2022-06-21T10:55:22.833936",
     "status": "completed"
    },
    "tags": []
   },
   "outputs": [
    {
     "name": "stdout",
     "output_type": "stream",
     "text": [
      "Training time: 21.349542379379272s\n"
     ]
    }
   ],
   "source": [
    "from sklearn.svm import SVC\n",
    "svm = SVC(kernel='rbf')\n",
    "t0=time.time()\n",
    "svm.fit(pca_X_train,np.argmax(train_y,axis=1))\n",
    "t1=time.time()\n",
    "print(f\"Training time: {t1-t0}s\")"
   ]
  },
  {
   "cell_type": "code",
   "execution_count": 30,
   "id": "ecf89867",
   "metadata": {
    "execution": {
     "iopub.execute_input": "2022-06-21T10:55:48.526218Z",
     "iopub.status.busy": "2022-06-21T10:55:48.525297Z",
     "iopub.status.idle": "2022-06-21T10:55:55.402595Z",
     "shell.execute_reply": "2022-06-21T10:55:55.403189Z",
     "shell.execute_reply.started": "2022-02-03T14:37:24.833856Z"
    },
    "papermill": {
     "duration": 8.226189,
     "end_time": "2022-06-21T10:55:55.403386",
     "exception": false,
     "start_time": "2022-06-21T10:55:47.177197",
     "status": "completed"
    },
    "tags": []
   },
   "outputs": [
    {
     "name": "stdout",
     "output_type": "stream",
     "text": [
      "[1 0 0 ... 2 2 1]\n",
      "Testing time: 9.822591781616211s\n"
     ]
    }
   ],
   "source": [
    "t2=time.time()\n",
    "Pred_labels = svm.predict(pca_X_test)\n",
    "t3=time.time()\n",
    "print(Pred_labels )\n",
    "print(f\"Testing time: {t3-t1}s\")"
   ]
  },
  {
   "cell_type": "code",
   "execution_count": 31,
   "id": "91185574",
   "metadata": {
    "execution": {
     "iopub.execute_input": "2022-06-21T10:55:58.384850Z",
     "iopub.status.busy": "2022-06-21T10:55:58.384120Z",
     "iopub.status.idle": "2022-06-21T10:55:58.386895Z",
     "shell.execute_reply": "2022-06-21T10:55:58.387306Z",
     "shell.execute_reply.started": "2022-02-03T14:37:24.836267Z"
    },
    "papermill": {
     "duration": 1.627566,
     "end_time": "2022-06-21T10:55:58.387450",
     "exception": false,
     "start_time": "2022-06-21T10:55:56.759884",
     "status": "completed"
    },
    "tags": []
   },
   "outputs": [
    {
     "name": "stdout",
     "output_type": "stream",
     "text": [
      "Accuracy: 0.9282\n"
     ]
    }
   ],
   "source": [
    "from sklearn import metrics\n",
    "accuracy = metrics.accuracy_score(target_test ,Pred_labels)\n",
    "print(\"Accuracy:\",accuracy)"
   ]
  },
  {
   "cell_type": "code",
   "execution_count": 32,
   "id": "1301fd0f",
   "metadata": {
    "execution": {
     "iopub.execute_input": "2022-06-21T10:56:01.128590Z",
     "iopub.status.busy": "2022-06-21T10:56:01.126450Z",
     "iopub.status.idle": "2022-06-21T10:56:01.155255Z",
     "shell.execute_reply": "2022-06-21T10:56:01.155785Z",
     "shell.execute_reply.started": "2022-02-03T14:37:24.838673Z"
    },
    "papermill": {
     "duration": 1.41841,
     "end_time": "2022-06-21T10:56:01.155976",
     "exception": false,
     "start_time": "2022-06-21T10:55:59.737566",
     "status": "completed"
    },
    "tags": []
   },
   "outputs": [
    {
     "name": "stdout",
     "output_type": "stream",
     "text": [
      "[[916  42   6  33  19]\n",
      " [101 932   7   3   3]\n",
      " [ 19   8 910  23   3]\n",
      " [ 38   2  22 909   5]\n",
      " [ 14   8   3   0 974]]\n",
      "              precision    recall  f1-score   support\n",
      "\n",
      "         0.0       0.84      0.90      0.87      1016\n",
      "         1.0       0.94      0.89      0.91      1046\n",
      "         2.0       0.96      0.94      0.95       963\n",
      "         3.0       0.94      0.93      0.94       976\n",
      "         4.0       0.97      0.97      0.97       999\n",
      "\n",
      "    accuracy                           0.93      5000\n",
      "   macro avg       0.93      0.93      0.93      5000\n",
      "weighted avg       0.93      0.93      0.93      5000\n",
      "\n",
      "Sensitivity of  Non-ecotic beats (normal beat)  0.9015748031496063\n",
      "Specificity of  Non-ecotic beats (normal beat)  0.9349899598393574\n",
      "Sensitivity of  Supraventricular ectopic beats  0.8910133843212237\n",
      "Specificity of  Supraventricular ectopic beats  0.9380374304501771\n",
      "Sensitivity of  Ventricular ectopic beats   0.944963655244029\n",
      "Specificity of  Ventricular ectopic beats  0.924201139459995\n",
      "Sensitivity of  Fusion Beats  0.9313524590163934\n",
      "Specificity of  Fusion Beats  0.9274353876739563\n",
      "Sensitivity of  Unknown Beats  0.974974974974975\n",
      "Specificity of  Unknown Beats  0.9165208697825543\n"
     ]
    }
   ],
   "source": [
    "cm = confusion_matrix(target_test, Pred_labels) \n",
    "print(cm)\n",
    "print(classification_report(target_test, Pred_labels))\n",
    "speci(cm)"
   ]
  },
  {
   "cell_type": "code",
   "execution_count": 33,
   "id": "d80d1422",
   "metadata": {
    "execution": {
     "iopub.execute_input": "2022-06-21T10:56:03.843990Z",
     "iopub.status.busy": "2022-06-21T10:56:03.843154Z",
     "iopub.status.idle": "2022-06-21T10:56:03.993402Z",
     "shell.execute_reply": "2022-06-21T10:56:03.993931Z"
    },
    "papermill": {
     "duration": 1.502466,
     "end_time": "2022-06-21T10:56:03.994068",
     "exception": false,
     "start_time": "2022-06-21T10:56:02.491602",
     "status": "completed"
    },
    "tags": []
   },
   "outputs": [
    {
     "data": {
      "image/png": "[encoded data removed]",
      "text/plain": [
       "<Figure size 432x432 with 1 Axes>"
      ]
     },
     "metadata": {
      "needs_background": "light"
     },
     "output_type": "display_data"
    }
   ],
   "source": [
    "from mlxtend.plotting import plot_confusion_matrix\n",
    "fig, ax = plot_confusion_matrix(conf_mat=cm, figsize=(6, 6), cmap=plt.cm.Blues)\n",
    "plt.xlabel('Predictions', fontsize=18)\n",
    "plt.ylabel('Actuals', fontsize=18)\n",
    "plt.title('Confusion Matrix', fontsize=18)\n",
    "plt.show()"
   ]
  },
  {
   "cell_type": "code",
   "execution_count": 34,
   "id": "5210e794",
   "metadata": {
    "execution": {
     "iopub.execute_input": "2022-06-21T10:56:06.736684Z",
     "iopub.status.busy": "2022-06-21T10:56:06.735884Z",
     "iopub.status.idle": "2022-06-21T10:56:07.904878Z",
     "shell.execute_reply": "2022-06-21T10:56:07.905508Z",
     "shell.execute_reply.started": "2022-02-03T14:37:24.841165Z"
    },
    "papermill": {
     "duration": 2.572026,
     "end_time": "2022-06-21T10:56:07.905716",
     "exception": false,
     "start_time": "2022-06-21T10:56:05.333690",
     "status": "completed"
    },
    "tags": []
   },
   "outputs": [
    {
     "name": "stdout",
     "output_type": "stream",
     "text": [
      "Training time: 1.1337459087371826s\n"
     ]
    }
   ],
   "source": [
    "from sklearn import metrics\n",
    "from sklearn.neighbors import KNeighborsClassifier\n",
    "knn = KNeighborsClassifier(n_neighbors=5)\n",
    "t4=time.time()\n",
    "knn.fit(pca_X_train,np.argmax(train_y,axis=1))\n",
    "t5=time.time()\n",
    "print(f\"Training time: {t5-t4}s\")"
   ]
  },
  {
   "cell_type": "code",
   "execution_count": 35,
   "id": "961f7461",
   "metadata": {
    "execution": {
     "iopub.execute_input": "2022-06-21T10:56:10.884372Z",
     "iopub.status.busy": "2022-06-21T10:56:10.883506Z",
     "iopub.status.idle": "2022-06-21T10:56:16.434536Z",
     "shell.execute_reply": "2022-06-21T10:56:16.435033Z",
     "shell.execute_reply.started": "2022-02-03T14:37:24.84361Z"
    },
    "papermill": {
     "duration": 6.893192,
     "end_time": "2022-06-21T10:56:16.435190",
     "exception": false,
     "start_time": "2022-06-21T10:56:09.541998",
     "status": "completed"
    },
    "tags": []
   },
   "outputs": [
    {
     "name": "stdout",
     "output_type": "stream",
     "text": [
      "[1 0 1 ... 2 2 1]\n",
      "Testing time: 5.548200845718384s\n"
     ]
    }
   ],
   "source": [
    "t6=time.time()\n",
    "knn_labels = knn.predict(pca_X_test)\n",
    "t7=time.time()\n",
    "print(knn_labels )\n",
    "print(f\"Testing time: {t7-t6}s\")"
   ]
  },
  {
   "cell_type": "code",
   "execution_count": 36,
   "id": "f2fbe3c7",
   "metadata": {
    "execution": {
     "iopub.execute_input": "2022-06-21T10:56:19.141927Z",
     "iopub.status.busy": "2022-06-21T10:56:19.141003Z",
     "iopub.status.idle": "2022-06-21T10:56:19.168271Z",
     "shell.execute_reply": "2022-06-21T10:56:19.167823Z",
     "shell.execute_reply.started": "2022-02-03T14:37:24.846125Z"
    },
    "papermill": {
     "duration": 1.385614,
     "end_time": "2022-06-21T10:56:19.168388",
     "exception": false,
     "start_time": "2022-06-21T10:56:17.782774",
     "status": "completed"
    },
    "tags": []
   },
   "outputs": [
    {
     "name": "stdout",
     "output_type": "stream",
     "text": [
      "Accuracy: 0.9422\n",
      "[[893  50   3  39  31]\n",
      " [ 41 991   8   2   4]\n",
      " [ 29  18 875  34   7]\n",
      " [  6   0   5 965   0]\n",
      " [  6   4   1   1 987]]\n",
      "              precision    recall  f1-score   support\n",
      "\n",
      "         0.0       0.92      0.88      0.90      1016\n",
      "         1.0       0.93      0.95      0.94      1046\n",
      "         2.0       0.98      0.91      0.94       963\n",
      "         3.0       0.93      0.99      0.96       976\n",
      "         4.0       0.96      0.99      0.97       999\n",
      "\n",
      "    accuracy                           0.94      5000\n",
      "   macro avg       0.94      0.94      0.94      5000\n",
      "weighted avg       0.94      0.94      0.94      5000\n",
      "\n",
      "Sensitivity of  Non-ecotic beats (normal beat)  0.8789370078740157\n",
      "Specificity of  Non-ecotic beats (normal beat)  0.9583333333333334\n",
      "Sensitivity of  Supraventricular ectopic beats  0.9474187380497132\n",
      "Specificity of  Supraventricular ectopic beats  0.9408194233687405\n",
      "Sensitivity of  Ventricular ectopic beats   0.9086188992731049\n",
      "Specificity of  Ventricular ectopic beats  0.9502105523903889\n",
      "Sensitivity of  Fusion Beats  0.9887295081967213\n",
      "Specificity of  Fusion Beats  0.9309145129224652\n",
      "Sensitivity of  Unknown Beats  0.987987987987988\n",
      "Specificity of  Unknown Beats  0.9307673081729567\n"
     ]
    }
   ],
   "source": [
    "from sklearn import metrics\n",
    "accuracy = metrics.accuracy_score(target_test ,knn_labels)\n",
    "print(\"Accuracy:\",accuracy)\n",
    "cm = confusion_matrix(target_test, knn_labels) \n",
    "print(cm)\n",
    "print(classification_report(target_test, knn_labels))\n",
    "speci(cm)"
   ]
  },
  {
   "cell_type": "code",
   "execution_count": 37,
   "id": "757ea618",
   "metadata": {
    "execution": {
     "iopub.execute_input": "2022-06-21T10:56:22.206216Z",
     "iopub.status.busy": "2022-06-21T10:56:22.188531Z",
     "iopub.status.idle": "2022-06-21T10:56:22.329986Z",
     "shell.execute_reply": "2022-06-21T10:56:22.330792Z"
    },
    "papermill": {
     "duration": 1.522282,
     "end_time": "2022-06-21T10:56:22.330978",
     "exception": false,
     "start_time": "2022-06-21T10:56:20.808696",
     "status": "completed"
    },
    "tags": []
   },
   "outputs": [
    {
     "data": {
      "image/png": "[encoded data removed]",
      "text/plain": [
       "<Figure size 432x432 with 1 Axes>"
      ]
     },
     "metadata": {
      "needs_background": "light"
     },
     "output_type": "display_data"
    }
   ],
   "source": [
    "from mlxtend.plotting import plot_confusion_matrix\n",
    "fig, ax = plot_confusion_matrix(conf_mat=cm, figsize=(6, 6), cmap=plt.cm.Blues)\n",
    "plt.xlabel('Predictions', fontsize=18)\n",
    "plt.ylabel('Actuals', fontsize=18)\n",
    "plt.title('Confusion Matrix', fontsize=18)\n",
    "plt.show()"
   ]
  },
  {
   "cell_type": "code",
   "execution_count": 38,
   "id": "88005b32",
   "metadata": {
    "execution": {
     "iopub.execute_input": "2022-06-21T10:56:25.030933Z",
     "iopub.status.busy": "2022-06-21T10:56:25.029852Z",
     "iopub.status.idle": "2022-06-21T10:57:04.545722Z",
     "shell.execute_reply": "2022-06-21T10:57:04.546382Z",
     "shell.execute_reply.started": "2022-02-03T14:37:24.84864Z"
    },
    "papermill": {
     "duration": 40.865521,
     "end_time": "2022-06-21T10:57:04.546622",
     "exception": false,
     "start_time": "2022-06-21T10:56:23.681101",
     "status": "completed"
    },
    "tags": []
   },
   "outputs": [
    {
     "name": "stdout",
     "output_type": "stream",
     "text": [
      "Training time: 37.79209756851196s\n"
     ]
    }
   ],
   "source": [
    "from sklearn.svm import SVC\n",
    "svclassifier = SVC(kernel='sigmoid')\n",
    "t8=time.time()\n",
    "svclassifier.fit(pca_X_train,np.argmax(train_y,axis=1))\n",
    "t9=time.time()\n",
    "print(f\"Training time: {t9-t8}s\")"
   ]
  },
  {
   "cell_type": "code",
   "execution_count": 39,
   "id": "a42e894d",
   "metadata": {
    "execution": {
     "iopub.execute_input": "2022-06-21T10:57:07.352640Z",
     "iopub.status.busy": "2022-06-21T10:57:07.351782Z",
     "iopub.status.idle": "2022-06-21T10:57:18.160996Z",
     "shell.execute_reply": "2022-06-21T10:57:18.161613Z",
     "shell.execute_reply.started": "2022-02-03T14:37:24.851262Z"
    },
    "papermill": {
     "duration": 12.153014,
     "end_time": "2022-06-21T10:57:18.161806",
     "exception": false,
     "start_time": "2022-06-21T10:57:06.008792",
     "status": "completed"
    },
    "tags": []
   },
   "outputs": [
    {
     "name": "stdout",
     "output_type": "stream",
     "text": [
      "[1 0 0 ... 2 1 1]\n",
      "Testing time: 10.8064706325531s\n"
     ]
    }
   ],
   "source": [
    "t10=time.time()\n",
    "svm_labels = svclassifier.predict(pca_X_test)\n",
    "t11=time.time()\n",
    "print(svm_labels )\n",
    "print(f\"Testing time: {t11-t10}s\")"
   ]
  },
  {
   "cell_type": "code",
   "execution_count": 40,
   "id": "21d38a56",
   "metadata": {
    "execution": {
     "iopub.execute_input": "2022-06-21T10:57:20.855925Z",
     "iopub.status.busy": "2022-06-21T10:57:20.855279Z",
     "iopub.status.idle": "2022-06-21T10:57:20.884300Z",
     "shell.execute_reply": "2022-06-21T10:57:20.883591Z",
     "shell.execute_reply.started": "2022-02-03T14:37:24.854028Z"
    },
    "papermill": {
     "duration": 1.375837,
     "end_time": "2022-06-21T10:57:20.884427",
     "exception": false,
     "start_time": "2022-06-21T10:57:19.508590",
     "status": "completed"
    },
    "tags": []
   },
   "outputs": [
    {
     "name": "stdout",
     "output_type": "stream",
     "text": [
      "Accuracy: 0.596\n",
      "[[500 372  62  17  65]\n",
      " [334 654  46   1  11]\n",
      " [141 146 609  33  34]\n",
      " [228  51  77 572  48]\n",
      " [227 112  15   0 645]]\n",
      "              precision    recall  f1-score   support\n",
      "\n",
      "         0.0       0.35      0.49      0.41      1016\n",
      "         1.0       0.49      0.63      0.55      1046\n",
      "         2.0       0.75      0.63      0.69       963\n",
      "         3.0       0.92      0.59      0.72       976\n",
      "         4.0       0.80      0.65      0.72       999\n",
      "\n",
      "    accuracy                           0.60      5000\n",
      "   macro avg       0.66      0.60      0.62      5000\n",
      "weighted avg       0.66      0.60      0.61      5000\n",
      "\n",
      "Sensitivity of  Non-ecotic beats (normal beat)  0.4921259842519685\n",
      "Specificity of  Non-ecotic beats (normal beat)  0.6224899598393574\n",
      "Sensitivity of  Supraventricular ectopic beats  0.6252390057361377\n",
      "Specificity of  Supraventricular ectopic beats  0.5882650480526049\n",
      "Sensitivity of  Ventricular ectopic beats   0.632398753894081\n",
      "Specificity of  Ventricular ectopic beats  0.5873173148377508\n",
      "Sensitivity of  Fusion Beats  0.5860655737704918\n",
      "Specificity of  Fusion Beats  0.5984095427435387\n",
      "Sensitivity of  Unknown Beats  0.6456456456456456\n",
      "Specificity of  Unknown Beats  0.5836040989752562\n"
     ]
    }
   ],
   "source": [
    "from sklearn import metrics\n",
    "accuracy = metrics.accuracy_score(target_test ,svm_labels)\n",
    "print(\"Accuracy:\",accuracy)\n",
    "cm = confusion_matrix(target_test, svm_labels) \n",
    "print(cm)\n",
    "print(classification_report(target_test, svm_labels))\n",
    "speci(cm)"
   ]
  },
  {
   "cell_type": "code",
   "execution_count": 41,
   "id": "fae02269",
   "metadata": {
    "execution": {
     "iopub.execute_input": "2022-06-21T10:57:23.638423Z",
     "iopub.status.busy": "2022-06-21T10:57:23.637346Z",
     "iopub.status.idle": "2022-06-21T10:57:23.752957Z",
     "shell.execute_reply": "2022-06-21T10:57:23.753330Z"
    },
    "papermill": {
     "duration": 1.519248,
     "end_time": "2022-06-21T10:57:23.753487",
     "exception": false,
     "start_time": "2022-06-21T10:57:22.234239",
     "status": "completed"
    },
    "tags": []
   },
   "outputs": [
    {
     "data": {
      "image/png": "[encoded data removed]",
      "text/plain": [
       "<Figure size 432x432 with 1 Axes>"
      ]
     },
     "metadata": {
      "needs_background": "light"
     },
     "output_type": "display_data"
    }
   ],
   "source": [
    "from mlxtend.plotting import plot_confusion_matrix\n",
    "fig, ax = plot_confusion_matrix(conf_mat=cm, figsize=(6, 6), cmap=plt.cm.Blues)\n",
    "plt.xlabel('Predictions', fontsize=18)\n",
    "plt.ylabel('Actuals', fontsize=18)\n",
    "plt.title('Confusion Matrix', fontsize=18)\n",
    "plt.show()"
   ]
  },
  {
   "cell_type": "code",
   "execution_count": 42,
   "id": "2190bbba",
   "metadata": {
    "execution": {
     "iopub.execute_input": "2022-06-21T10:57:26.763760Z",
     "iopub.status.busy": "2022-06-21T10:57:26.762622Z",
     "iopub.status.idle": "2022-06-21T10:58:50.227230Z",
     "shell.execute_reply": "2022-06-21T10:58:50.227689Z",
     "shell.execute_reply.started": "2022-02-03T14:37:24.856637Z"
    },
    "papermill": {
     "duration": 85.085946,
     "end_time": "2022-06-21T10:58:50.227838",
     "exception": false,
     "start_time": "2022-06-21T10:57:25.141892",
     "status": "completed"
    },
    "tags": []
   },
   "outputs": [
    {
     "name": "stdout",
     "output_type": "stream",
     "text": [
      "Training time: 82.12112617492676s\n"
     ]
    }
   ],
   "source": [
    "from sklearn.svm import SVC\n",
    "svclassifier = SVC(kernel='poly', degree=8)\n",
    "t12=time.time()\n",
    "svclassifier.fit(pca_X_train,np.argmax(train_y,axis=1))\n",
    "t13=time.time()\n",
    "print(f\"Training time: {t13-t12}s\")"
   ]
  },
  {
   "cell_type": "code",
   "execution_count": 43,
   "id": "cd99fc5b",
   "metadata": {
    "execution": {
     "iopub.execute_input": "2022-06-21T10:58:52.933668Z",
     "iopub.status.busy": "2022-06-21T10:58:52.932713Z",
     "iopub.status.idle": "2022-06-21T10:59:05.499053Z",
     "shell.execute_reply": "2022-06-21T10:59:05.499664Z",
     "shell.execute_reply.started": "2022-02-03T14:37:24.858999Z"
    },
    "papermill": {
     "duration": 13.925726,
     "end_time": "2022-06-21T10:59:05.499866",
     "exception": false,
     "start_time": "2022-06-21T10:58:51.574140",
     "status": "completed"
    },
    "tags": []
   },
   "outputs": [
    {
     "name": "stdout",
     "output_type": "stream",
     "text": [
      "[4 4 4 ... 2 4 4]\n",
      "Testing time: 12.563600778579712s\n"
     ]
    }
   ],
   "source": [
    "t14=time.time()\n",
    "svm_labels = svclassifier.predict(pca_X_test)\n",
    "t15=time.time()\n",
    "print(svm_labels )\n",
    "print(f\"Testing time: {t15-t14}s\")"
   ]
  },
  {
   "cell_type": "code",
   "execution_count": 44,
   "id": "0850d862",
   "metadata": {
    "execution": {
     "iopub.execute_input": "2022-06-21T10:59:08.271918Z",
     "iopub.status.busy": "2022-06-21T10:59:08.271320Z",
     "iopub.status.idle": "2022-06-21T10:59:08.298427Z",
     "shell.execute_reply": "2022-06-21T10:59:08.297987Z",
     "shell.execute_reply.started": "2022-02-03T14:37:24.861498Z"
    },
    "papermill": {
     "duration": 1.400389,
     "end_time": "2022-06-21T10:59:08.298557",
     "exception": false,
     "start_time": "2022-06-21T10:59:06.898168",
     "status": "completed"
    },
    "tags": []
   },
   "outputs": [
    {
     "name": "stdout",
     "output_type": "stream",
     "text": [
      "Accuracy: 0.6146\n",
      "[[332  23   4  13 644]\n",
      " [ 11 382   2   0 651]\n",
      " [  7   6 755   5 190]\n",
      " [  4   1   0 610 361]\n",
      " [  3   2   0   0 994]]\n",
      "              precision    recall  f1-score   support\n",
      "\n",
      "         0.0       0.93      0.33      0.48      1016\n",
      "         1.0       0.92      0.37      0.52      1046\n",
      "         2.0       0.99      0.78      0.88       963\n",
      "         3.0       0.97      0.62      0.76       976\n",
      "         4.0       0.35      0.99      0.52       999\n",
      "\n",
      "    accuracy                           0.61      5000\n",
      "   macro avg       0.83      0.62      0.63      5000\n",
      "weighted avg       0.83      0.61      0.63      5000\n",
      "\n",
      "Sensitivity of  Non-ecotic beats (normal beat)  0.32677165354330706\n",
      "Specificity of  Non-ecotic beats (normal beat)  0.6880020080321285\n",
      "Sensitivity of  Supraventricular ectopic beats  0.3652007648183556\n",
      "Specificity of  Supraventricular ectopic beats  0.6805766312594841\n",
      "Sensitivity of  Ventricular ectopic beats   0.7840083073727934\n",
      "Specificity of  Ventricular ectopic beats  0.5741887540252663\n",
      "Sensitivity of  Fusion Beats  0.625\n",
      "Specificity of  Fusion Beats  0.6120775347912525\n",
      "Sensitivity of  Unknown Beats  0.994994994994995\n",
      "Specificity of  Unknown Beats  0.5196200949762559\n"
     ]
    }
   ],
   "source": [
    "from sklearn import metrics\n",
    "accuracy = metrics.accuracy_score(target_test ,svm_labels)\n",
    "print(\"Accuracy:\",accuracy)\n",
    "cm = confusion_matrix(target_test, svm_labels) \n",
    "print(cm)\n",
    "print(classification_report(target_test, svm_labels))\n",
    "speci(cm)"
   ]
  },
  {
   "cell_type": "code",
   "execution_count": 45,
   "id": "1e17f3bf",
   "metadata": {
    "execution": {
     "iopub.execute_input": "2022-06-21T10:59:10.993975Z",
     "iopub.status.busy": "2022-06-21T10:59:10.993140Z",
     "iopub.status.idle": "2022-06-21T10:59:11.218636Z",
     "shell.execute_reply": "2022-06-21T10:59:11.219242Z"
    },
    "papermill": {
     "duration": 1.580816,
     "end_time": "2022-06-21T10:59:11.219438",
     "exception": false,
     "start_time": "2022-06-21T10:59:09.638622",
     "status": "completed"
    },
    "tags": []
   },
   "outputs": [
    {
     "data": {
      "image/png": "[encoded data removed]",
      "text/plain": [
       "<Figure size 432x432 with 1 Axes>"
      ]
     },
     "metadata": {
      "needs_background": "light"
     },
     "output_type": "display_data"
    }
   ],
   "source": [
    "from mlxtend.plotting import plot_confusion_matrix\n",
    "fig, ax = plot_confusion_matrix(conf_mat=cm, figsize=(6, 6), cmap=plt.cm.Blues)\n",
    "plt.xlabel('Predictions', fontsize=18)\n",
    "plt.ylabel('Actuals', fontsize=18)\n",
    "plt.title('Confusion Matrix', fontsize=18)\n",
    "plt.show()"
   ]
  },
  {
   "cell_type": "code",
   "execution_count": 46,
   "id": "5af07b0c",
   "metadata": {
    "execution": {
     "iopub.execute_input": "2022-06-21T10:59:14.466648Z",
     "iopub.status.busy": "2022-06-21T10:59:14.465845Z",
     "iopub.status.idle": "2022-06-21T10:59:14.494779Z",
     "shell.execute_reply": "2022-06-21T10:59:14.495200Z",
     "shell.execute_reply.started": "2022-02-03T14:37:24.863978Z"
    },
    "papermill": {
     "duration": 1.430759,
     "end_time": "2022-06-21T10:59:14.495345",
     "exception": false,
     "start_time": "2022-06-21T10:59:13.064586",
     "status": "completed"
    },
    "tags": []
   },
   "outputs": [
    {
     "name": "stdout",
     "output_type": "stream",
     "text": [
      "Training time: 0.02015089988708496s\n"
     ]
    }
   ],
   "source": [
    "from sklearn.naive_bayes import GaussianNB\n",
    "gnb = GaussianNB()\n",
    "t16=time.time()\n",
    "gnb.fit(pca_X_train,np.argmax(train_y,axis=1))\n",
    "t17=time.time()\n",
    "print(f\"Training time: {t17-t16}s\")"
   ]
  },
  {
   "cell_type": "code",
   "execution_count": 47,
   "id": "c6cf3350",
   "metadata": {
    "execution": {
     "iopub.execute_input": "2022-06-21T10:59:17.478091Z",
     "iopub.status.busy": "2022-06-21T10:59:17.476847Z",
     "iopub.status.idle": "2022-06-21T10:59:17.502983Z",
     "shell.execute_reply": "2022-06-21T10:59:17.504151Z",
     "shell.execute_reply.started": "2022-02-03T14:37:24.866617Z"
    },
    "papermill": {
     "duration": 1.39426,
     "end_time": "2022-06-21T10:59:17.504360",
     "exception": false,
     "start_time": "2022-06-21T10:59:16.110100",
     "status": "completed"
    },
    "tags": []
   },
   "outputs": [
    {
     "name": "stdout",
     "output_type": "stream",
     "text": [
      "[4 4 4 ... 0 4 1]\n",
      "Testing time: 0.016973018646240234s\n"
     ]
    }
   ],
   "source": [
    "t18=time.time()\n",
    "gnb_labels = gnb.predict(pca_X_test)\n",
    "t19=time.time()\n",
    "print(gnb_labels )\n",
    "print(f\"Testing time: {t19-t18}s\")"
   ]
  },
  {
   "cell_type": "code",
   "execution_count": 48,
   "id": "47f96481",
   "metadata": {
    "execution": {
     "iopub.execute_input": "2022-06-21T10:59:20.252168Z",
     "iopub.status.busy": "2022-06-21T10:59:20.251312Z",
     "iopub.status.idle": "2022-06-21T10:59:20.278891Z",
     "shell.execute_reply": "2022-06-21T10:59:20.278422Z",
     "shell.execute_reply.started": "2022-02-03T14:37:24.869305Z"
    },
    "papermill": {
     "duration": 1.397238,
     "end_time": "2022-06-21T10:59:20.279015",
     "exception": false,
     "start_time": "2022-06-21T10:59:18.881777",
     "status": "completed"
    },
    "tags": []
   },
   "outputs": [
    {
     "name": "stdout",
     "output_type": "stream",
     "text": [
      "Accuracy: 0.4544\n",
      "[[182 207  89  49 489]\n",
      " [ 70 304  84  27 561]\n",
      " [ 59  52 468 282 102]\n",
      " [ 31  15 142 492 296]\n",
      " [ 17   9  97  50 826]]\n",
      "              precision    recall  f1-score   support\n",
      "\n",
      "         0.0       0.51      0.18      0.26      1016\n",
      "         1.0       0.52      0.29      0.37      1046\n",
      "         2.0       0.53      0.49      0.51       963\n",
      "         3.0       0.55      0.50      0.52       976\n",
      "         4.0       0.36      0.83      0.50       999\n",
      "\n",
      "    accuracy                           0.45      5000\n",
      "   macro avg       0.49      0.46      0.43      5000\n",
      "weighted avg       0.49      0.45      0.43      5000\n",
      "\n",
      "Sensitivity of  Non-ecotic beats (normal beat)  0.17913385826771652\n",
      "Specificity of  Non-ecotic beats (normal beat)  0.5245983935742972\n",
      "Sensitivity of  Supraventricular ectopic beats  0.29063097514340347\n",
      "Specificity of  Supraventricular ectopic beats  0.4977238239757208\n",
      "Sensitivity of  Ventricular ectopic beats   0.48598130841121495\n",
      "Specificity of  Ventricular ectopic beats  0.44686648501362397\n",
      "Sensitivity of  Fusion Beats  0.5040983606557377\n",
      "Specificity of  Fusion Beats  0.4423459244532803\n",
      "Sensitivity of  Unknown Beats  0.8268268268268268\n",
      "Specificity of  Unknown Beats  0.36140964758810296\n"
     ]
    }
   ],
   "source": [
    "from sklearn import metrics\n",
    "accuracy = metrics.accuracy_score(target_test ,gnb_labels)\n",
    "print(\"Accuracy:\",accuracy)\n",
    "cm = confusion_matrix(target_test, gnb_labels) \n",
    "print(cm)\n",
    "print(classification_report(target_test, gnb_labels))\n",
    "speci(cm)"
   ]
  },
  {
   "cell_type": "code",
   "execution_count": 49,
   "id": "a3f03eb7",
   "metadata": {
    "execution": {
     "iopub.execute_input": "2022-06-21T10:59:23.084964Z",
     "iopub.status.busy": "2022-06-21T10:59:23.051364Z",
     "iopub.status.idle": "2022-06-21T10:59:23.203316Z",
     "shell.execute_reply": "2022-06-21T10:59:23.203782Z"
    },
    "papermill": {
     "duration": 1.509258,
     "end_time": "2022-06-21T10:59:23.203974",
     "exception": false,
     "start_time": "2022-06-21T10:59:21.694716",
     "status": "completed"
    },
    "tags": []
   },
   "outputs": [
    {
     "data": {
      "image/png": "[encoded data removed]",
      "text/plain": [
       "<Figure size 432x432 with 1 Axes>"
      ]
     },
     "metadata": {
      "needs_background": "light"
     },
     "output_type": "display_data"
    }
   ],
   "source": [
    "from mlxtend.plotting import plot_confusion_matrix\n",
    "fig, ax = plot_confusion_matrix(conf_mat=cm, figsize=(6, 6), cmap=plt.cm.Blues)\n",
    "plt.xlabel('Predictions', fontsize=18)\n",
    "plt.ylabel('Actuals', fontsize=18)\n",
    "plt.title('Confusion Matrix', fontsize=18)\n",
    "plt.show()"
   ]
  },
  {
   "cell_type": "code",
   "execution_count": 50,
   "id": "af552ed1",
   "metadata": {
    "execution": {
     "iopub.execute_input": "2022-06-21T10:59:25.913327Z",
     "iopub.status.busy": "2022-06-21T10:59:25.912647Z",
     "iopub.status.idle": "2022-06-21T10:59:29.932965Z",
     "shell.execute_reply": "2022-06-21T10:59:29.933339Z",
     "shell.execute_reply.started": "2022-02-03T14:37:24.871867Z"
    },
    "papermill": {
     "duration": 5.376946,
     "end_time": "2022-06-21T10:59:29.933496",
     "exception": false,
     "start_time": "2022-06-21T10:59:24.556550",
     "status": "completed"
    },
    "tags": []
   },
   "outputs": [
    {
     "name": "stdout",
     "output_type": "stream",
     "text": [
      "Training time: 3.9890828132629395s\n"
     ]
    }
   ],
   "source": [
    "from sklearn.tree import DecisionTreeClassifier\n",
    "dt = DecisionTreeClassifier()\n",
    "t20=time.time()\n",
    "dt.fit(pca_X_train,np.argmax(train_y,axis=1))\n",
    "t21=time.time()\n",
    "print(f\"Training time: {t21-t20}s\")"
   ]
  },
  {
   "cell_type": "code",
   "execution_count": 51,
   "id": "619ba666",
   "metadata": {
    "execution": {
     "iopub.execute_input": "2022-06-21T10:59:32.668130Z",
     "iopub.status.busy": "2022-06-21T10:59:32.667227Z",
     "iopub.status.idle": "2022-06-21T10:59:32.674056Z",
     "shell.execute_reply": "2022-06-21T10:59:32.673433Z",
     "shell.execute_reply.started": "2022-02-03T14:37:24.874527Z"
    },
    "papermill": {
     "duration": 1.355839,
     "end_time": "2022-06-21T10:59:32.674202",
     "exception": false,
     "start_time": "2022-06-21T10:59:31.318363",
     "status": "completed"
    },
    "tags": []
   },
   "outputs": [
    {
     "name": "stdout",
     "output_type": "stream",
     "text": [
      "[1 0 1 ... 2 2 1]\n",
      "Testing time: 0.002546072006225586s\n"
     ]
    }
   ],
   "source": [
    "t22=time.time()\n",
    "dt_labels = dt.predict(pca_X_test)\n",
    "t23=time.time()\n",
    "print(dt_labels )\n",
    "print(f\"Testing time: {t23-t22}s\")"
   ]
  },
  {
   "cell_type": "code",
   "execution_count": 52,
   "id": "772ac39c",
   "metadata": {
    "execution": {
     "iopub.execute_input": "2022-06-21T10:59:35.382311Z",
     "iopub.status.busy": "2022-06-21T10:59:35.381449Z",
     "iopub.status.idle": "2022-06-21T10:59:35.408610Z",
     "shell.execute_reply": "2022-06-21T10:59:35.408033Z",
     "shell.execute_reply.started": "2022-02-03T14:37:24.87687Z"
    },
    "papermill": {
     "duration": 1.38485,
     "end_time": "2022-06-21T10:59:35.408803",
     "exception": false,
     "start_time": "2022-06-21T10:59:34.023953",
     "status": "completed"
    },
    "tags": []
   },
   "outputs": [
    {
     "name": "stdout",
     "output_type": "stream",
     "text": [
      "Accuracy: 0.9456\n",
      "[[ 848   62   56   22   28]\n",
      " [  13 1015   13    0    5]\n",
      " [  37   17  891   16    2]\n",
      " [   0    0    1  975    0]\n",
      " [   0    0    0    0  999]]\n",
      "              precision    recall  f1-score   support\n",
      "\n",
      "         0.0       0.94      0.83      0.89      1016\n",
      "         1.0       0.93      0.97      0.95      1046\n",
      "         2.0       0.93      0.93      0.93       963\n",
      "         3.0       0.96      1.00      0.98       976\n",
      "         4.0       0.97      1.00      0.98       999\n",
      "\n",
      "    accuracy                           0.95      5000\n",
      "   macro avg       0.95      0.95      0.94      5000\n",
      "weighted avg       0.95      0.95      0.94      5000\n",
      "\n",
      "Sensitivity of  Non-ecotic beats (normal beat)  0.8346456692913385\n",
      "Specificity of  Non-ecotic beats (normal beat)  0.9738955823293173\n",
      "Sensitivity of  Supraventricular ectopic beats  0.9703632887189293\n",
      "Specificity of  Supraventricular ectopic beats  0.9390490642387456\n",
      "Sensitivity of  Ventricular ectopic beats   0.9252336448598131\n",
      "Specificity of  Ventricular ectopic beats  0.9504582610849641\n",
      "Sensitivity of  Fusion Beats  0.9989754098360656\n",
      "Specificity of  Fusion Beats  0.9326540755467196\n",
      "Sensitivity of  Unknown Beats  1.0\n",
      "Specificity of  Unknown Beats  0.9320169957510622\n"
     ]
    }
   ],
   "source": [
    "from sklearn import metrics\n",
    "accuracy = metrics.accuracy_score(target_test ,dt_labels)\n",
    "print(\"Accuracy:\",accuracy)\n",
    "cm = confusion_matrix(target_test, dt_labels) \n",
    "print(cm)\n",
    "print(classification_report(target_test, dt_labels))\n",
    "speci(cm)"
   ]
  },
  {
   "cell_type": "code",
   "execution_count": 53,
   "id": "9baf810d",
   "metadata": {
    "execution": {
     "iopub.execute_input": "2022-06-21T10:59:38.406273Z",
     "iopub.status.busy": "2022-06-21T10:59:38.396647Z",
     "iopub.status.idle": "2022-06-21T10:59:38.544685Z",
     "shell.execute_reply": "2022-06-21T10:59:38.545176Z"
    },
    "papermill": {
     "duration": 1.782387,
     "end_time": "2022-06-21T10:59:38.545313",
     "exception": false,
     "start_time": "2022-06-21T10:59:36.762926",
     "status": "completed"
    },
    "tags": []
   },
   "outputs": [
    {
     "data": {
      "image/png": "[encoded data removed]",
      "text/plain": [
       "<Figure size 432x432 with 1 Axes>"
      ]
     },
     "metadata": {
      "needs_background": "light"
     },
     "output_type": "display_data"
    }
   ],
   "source": [
    "from mlxtend.plotting import plot_confusion_matrix\n",
    "fig, ax = plot_confusion_matrix(conf_mat=cm, figsize=(6, 6), cmap=plt.cm.Blues)\n",
    "plt.xlabel('Predictions', fontsize=18)\n",
    "plt.ylabel('Actuals', fontsize=18)\n",
    "plt.title('Confusion Matrix', fontsize=18)\n",
    "plt.show()\n"
   ]
  },
  {
   "cell_type": "code",
   "execution_count": 54,
   "id": "da00642d",
   "metadata": {
    "execution": {
     "iopub.execute_input": "2022-06-21T10:59:41.290006Z",
     "iopub.status.busy": "2022-06-21T10:59:41.289217Z",
     "iopub.status.idle": "2022-06-21T11:00:00.765589Z",
     "shell.execute_reply": "2022-06-21T11:00:00.766183Z",
     "shell.execute_reply.started": "2022-02-03T14:37:24.879248Z"
    },
    "papermill": {
     "duration": 20.833277,
     "end_time": "2022-06-21T11:00:00.766383",
     "exception": false,
     "start_time": "2022-06-21T10:59:39.933106",
     "status": "completed"
    },
    "tags": []
   },
   "outputs": [
    {
     "name": "stdout",
     "output_type": "stream",
     "text": [
      "Training time: 19.448023080825806s\n"
     ]
    }
   ],
   "source": [
    "from sklearn.ensemble import RandomForestClassifier\n",
    "rfc= RandomForestClassifier()\n",
    "t24=time.time()\n",
    "rfc.fit(pca_X_train,np.argmax(train_y,axis=1))\n",
    "t25=time.time()\n",
    "print(f\"Training time: {t25-t24}s\")"
   ]
  },
  {
   "cell_type": "code",
   "execution_count": 55,
   "id": "7152c50f",
   "metadata": {
    "execution": {
     "iopub.execute_input": "2022-06-21T11:00:03.464258Z",
     "iopub.status.busy": "2022-06-21T11:00:03.463694Z",
     "iopub.status.idle": "2022-06-21T11:00:03.557732Z",
     "shell.execute_reply": "2022-06-21T11:00:03.558322Z",
     "shell.execute_reply.started": "2022-02-03T14:37:24.881629Z"
    },
    "papermill": {
     "duration": 1.442573,
     "end_time": "2022-06-21T11:00:03.558505",
     "exception": false,
     "start_time": "2022-06-21T11:00:02.115932",
     "status": "completed"
    },
    "tags": []
   },
   "outputs": [
    {
     "name": "stdout",
     "output_type": "stream",
     "text": [
      "[1 0 1 ... 2 2 1]\n",
      "Testing time: 0.09280705451965332s\n"
     ]
    }
   ],
   "source": [
    "t26=time.time()\n",
    "rfc_labels = rfc.predict(pca_X_test)\n",
    "t27=time.time()\n",
    "print(rfc_labels )\n",
    "print(f\"Testing time: {t27-t26}s\")"
   ]
  },
  {
   "cell_type": "code",
   "execution_count": 56,
   "id": "1414a311",
   "metadata": {
    "execution": {
     "iopub.execute_input": "2022-06-21T11:00:06.317855Z",
     "iopub.status.busy": "2022-06-21T11:00:06.316993Z",
     "iopub.status.idle": "2022-06-21T11:00:06.345613Z",
     "shell.execute_reply": "2022-06-21T11:00:06.345074Z",
     "shell.execute_reply.started": "2022-02-03T14:37:24.883998Z"
    },
    "papermill": {
     "duration": 1.42558,
     "end_time": "2022-06-21T11:00:06.345737",
     "exception": false,
     "start_time": "2022-06-21T11:00:04.920157",
     "status": "completed"
    },
    "tags": []
   },
   "outputs": [
    {
     "name": "stdout",
     "output_type": "stream",
     "text": [
      "Accuracy: 0.9812\n",
      "[[ 957   16   25   16    2]\n",
      " [  14 1030    2    0    0]\n",
      " [  11    4  944    4    0]\n",
      " [   0    0    0  976    0]\n",
      " [   0    0    0    0  999]]\n",
      "              precision    recall  f1-score   support\n",
      "\n",
      "         0.0       0.97      0.94      0.96      1016\n",
      "         1.0       0.98      0.98      0.98      1046\n",
      "         2.0       0.97      0.98      0.98       963\n",
      "         3.0       0.98      1.00      0.99       976\n",
      "         4.0       1.00      1.00      1.00       999\n",
      "\n",
      "    accuracy                           0.98      5000\n",
      "   macro avg       0.98      0.98      0.98      5000\n",
      "weighted avg       0.98      0.98      0.98      5000\n",
      "\n",
      "Sensitivity of  Non-ecotic beats (normal beat)  0.9419291338582677\n",
      "Specificity of  Non-ecotic beats (normal beat)  0.991214859437751\n",
      "Sensitivity of  Supraventricular ectopic beats  0.9847036328871893\n",
      "Specificity of  Supraventricular ectopic beats  0.9802731411229135\n",
      "Sensitivity of  Ventricular ectopic beats   0.980269989615784\n",
      "Specificity of  Ventricular ectopic beats  0.9814218479068615\n",
      "Sensitivity of  Fusion Beats  1.0\n",
      "Specificity of  Fusion Beats  0.9766401590457257\n",
      "Sensitivity of  Unknown Beats  1.0\n",
      "Specificity of  Unknown Beats  0.9765058735316171\n"
     ]
    }
   ],
   "source": [
    "from sklearn import metrics\n",
    "accuracy = metrics.accuracy_score(target_test ,rfc_labels)\n",
    "print(\"Accuracy:\",accuracy)\n",
    "cm = confusion_matrix(target_test, rfc_labels) \n",
    "print(cm)\n",
    "print(classification_report(target_test, rfc_labels))\n",
    "speci(cm)"
   ]
  },
  {
   "cell_type": "code",
   "execution_count": 57,
   "id": "20c9e584",
   "metadata": {
    "execution": {
     "iopub.execute_input": "2022-06-21T11:00:09.099352Z",
     "iopub.status.busy": "2022-06-21T11:00:09.081400Z",
     "iopub.status.idle": "2022-06-21T11:00:09.233206Z",
     "shell.execute_reply": "2022-06-21T11:00:09.233603Z"
    },
    "papermill": {
     "duration": 1.526013,
     "end_time": "2022-06-21T11:00:09.233755",
     "exception": false,
     "start_time": "2022-06-21T11:00:07.707742",
     "status": "completed"
    },
    "tags": []
   },
   "outputs": [
    {
     "data": {
      "image/png": "[encoded data removed]",
      "text/plain": [
       "<Figure size 432x432 with 1 Axes>"
      ]
     },
     "metadata": {
      "needs_background": "light"
     },
     "output_type": "display_data"
    }
   ],
   "source": [
    "from mlxtend.plotting import plot_confusion_matrix\n",
    "fig, ax = plot_confusion_matrix(conf_mat=cm, figsize=(6, 6), cmap=plt.cm.Blues)\n",
    "plt.xlabel('Predictions', fontsize=18)\n",
    "plt.ylabel('Actuals', fontsize=18)\n",
    "plt.title('Confusion Matrix', fontsize=18)\n",
    "plt.show()"
   ]
  },
  {
   "cell_type": "code",
   "execution_count": 58,
   "id": "7661e2f7",
   "metadata": {
    "execution": {
     "iopub.execute_input": "2022-06-21T11:00:12.207169Z",
     "iopub.status.busy": "2022-06-21T11:00:12.206149Z",
     "iopub.status.idle": "2022-06-21T11:00:12.208080Z",
     "shell.execute_reply": "2022-06-21T11:00:12.208475Z"
    },
    "papermill": {
     "duration": 1.532868,
     "end_time": "2022-06-21T11:00:12.208636",
     "exception": false,
     "start_time": "2022-06-21T11:00:10.675768",
     "status": "completed"
    },
    "tags": []
   },
   "outputs": [],
   "source": [
    "target= X_train_df[X_train_df.shape[1]-1]\n",
    "feature = X_train_df.iloc[:,:X_train_df.shape[1]-1].values\n",
    "feature = feature.reshape(len(feature), feature.shape[1],1)"
   ]
  },
  {
   "cell_type": "code",
   "execution_count": 59,
   "id": "5f8b1508",
   "metadata": {
    "execution": {
     "iopub.execute_input": "2022-06-21T11:00:14.965786Z",
     "iopub.status.busy": "2022-06-21T11:00:14.964803Z",
     "iopub.status.idle": "2022-06-21T11:04:09.877734Z",
     "shell.execute_reply": "2022-06-21T11:04:09.878386Z"
    },
    "papermill": {
     "duration": 236.268572,
     "end_time": "2022-06-21T11:04:09.878617",
     "exception": false,
     "start_time": "2022-06-21T11:00:13.610045",
     "status": "completed"
    },
    "tags": []
   },
   "outputs": [
    {
     "name": "stdout",
     "output_type": "stream",
     "text": [
      "(25000, 150)\n",
      "[0.9808 0.9804 0.9792 0.9788 0.9772 0.9836 0.9824 0.9836 0.9828 0.9792]\n"
     ]
    }
   ],
   "source": [
    "feat = model_feat.predict(feature)\n",
    "X_train = sc.fit_transform(feat)\n",
    "pca = PCA(n_components = 150)\n",
    "pca_train = pca.fit_transform(X_train)\n",
    "print(pca_train.shape)\n",
    "from sklearn.model_selection import cross_val_score\n",
    "score = cross_val_score(rfc, pca_train, target, scoring='accuracy', cv=10)\n",
    "print(score)"
   ]
  },
  {
   "cell_type": "code",
   "execution_count": 60,
   "id": "f2439e6f",
   "metadata": {
    "execution": {
     "iopub.execute_input": "2022-06-21T11:04:12.766261Z",
     "iopub.status.busy": "2022-06-21T11:04:12.765057Z",
     "iopub.status.idle": "2022-06-21T11:04:12.769081Z",
     "shell.execute_reply": "2022-06-21T11:04:12.767019Z"
    },
    "papermill": {
     "duration": 1.538278,
     "end_time": "2022-06-21T11:04:12.769305",
     "exception": false,
     "start_time": "2022-06-21T11:04:11.231027",
     "status": "completed"
    },
    "tags": []
   },
   "outputs": [
    {
     "name": "stdout",
     "output_type": "stream",
     "text": [
      "Avg : 0.9808\n"
     ]
    }
   ],
   "source": [
    "print(\"Avg :\",np.average(score))"
   ]
  }
 ],
 "metadata": {
  "kernelspec": {
   "display_name": "Python 3",
   "language": "python",
   "name": "python3"
  },
  "language_info": {
   "codemirror_mode": {
    "name": "ipython",
    "version": 3
   },
   "file_extension": ".py",
   "mimetype": "text/x-python",
   "name": "python",
   "nbconvert_exporter": "python",
   "pygments_lexer": "ipython3",
   "version": "3.7.12"
  },
  "papermill": {
   "default_parameters": {},
   "duration": 1037.792763,
   "end_time": "2022-06-21T11:04:17.704146",
   "environment_variables": {},
   "exception": null,
   "input_path": "__notebook__.ipynb",
   "output_path": "__notebook__.ipynb",
   "parameters": {},
   "start_time": "2022-06-21T10:46:59.911383",
   "version": "2.3.3"
  }
 },
 "nbformat": 4,
 "nbformat_minor": 5
}
