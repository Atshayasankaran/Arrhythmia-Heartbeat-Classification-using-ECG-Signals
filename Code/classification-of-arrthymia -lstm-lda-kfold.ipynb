{
 "cells": [
  {
   "cell_type": "code",
   "execution_count": 1,
   "id": "8f729bb4",
   "metadata": {
    "_cell_guid": "b1076dfc-b9ad-4769-8c92-a6c4dae69d19",
    "_uuid": "8f2839f25d086af736a60e9eeb907d3b93b6e0e5",
    "execution": {
     "iopub.execute_input": "2022-06-21T11:23:50.296994Z",
     "iopub.status.busy": "2022-06-21T11:23:50.296170Z",
     "iopub.status.idle": "2022-06-21T11:23:50.397494Z",
     "shell.execute_reply": "2022-06-21T11:23:50.396903Z",
     "shell.execute_reply.started": "2021-12-30T16:03:32.800063Z"
    },
    "papermill": {
     "duration": 0.162269,
     "end_time": "2022-06-21T11:23:50.397695",
     "exception": false,
     "start_time": "2022-06-21T11:23:50.235426",
     "status": "completed"
    },
    "tags": []
   },
   "outputs": [
    {
     "name": "stdout",
     "output_type": "stream",
     "text": [
      "/kaggle/input/mitbit-arrhythmia-database/mitbih_database/112annotations.txt\n",
      "/kaggle/input/mitbit-arrhythmia-database/mitbih_database/233.csv\n",
      "/kaggle/input/mitbit-arrhythmia-database/mitbih_database/108.csv\n",
      "/kaggle/input/mitbit-arrhythmia-database/mitbih_database/118annotations.txt\n",
      "/kaggle/input/mitbit-arrhythmia-database/mitbih_database/231.csv\n",
      "/kaggle/input/mitbit-arrhythmia-database/mitbih_database/207.csv\n",
      "/kaggle/input/mitbit-arrhythmia-database/mitbih_database/115annotations.txt\n",
      "/kaggle/input/mitbit-arrhythmia-database/mitbih_database/108annotations.txt\n",
      "/kaggle/input/mitbit-arrhythmia-database/mitbih_database/123annotations.txt\n",
      "/kaggle/input/mitbit-arrhythmia-database/mitbih_database/102annotations.txt\n",
      "/kaggle/input/mitbit-arrhythmia-database/mitbih_database/209.csv\n",
      "/kaggle/input/mitbit-arrhythmia-database/mitbih_database/203annotations.txt\n",
      "/kaggle/input/mitbit-arrhythmia-database/mitbih_database/202annotations.txt\n",
      "/kaggle/input/mitbit-arrhythmia-database/mitbih_database/215annotations.txt\n",
      "/kaggle/input/mitbit-arrhythmia-database/mitbih_database/232.csv\n",
      "/kaggle/input/mitbit-arrhythmia-database/mitbih_database/223.csv\n",
      "/kaggle/input/mitbit-arrhythmia-database/mitbih_database/114annotations.txt\n",
      "/kaggle/input/mitbit-arrhythmia-database/mitbih_database/109annotations.txt\n",
      "/kaggle/input/mitbit-arrhythmia-database/mitbih_database/217annotations.txt\n",
      "/kaggle/input/mitbit-arrhythmia-database/mitbih_database/222annotations.txt\n",
      "/kaggle/input/mitbit-arrhythmia-database/mitbih_database/119.csv\n",
      "/kaggle/input/mitbit-arrhythmia-database/mitbih_database/234annotations.txt\n",
      "/kaggle/input/mitbit-arrhythmia-database/mitbih_database/114.csv\n",
      "/kaggle/input/mitbit-arrhythmia-database/mitbih_database/202.csv\n",
      "/kaggle/input/mitbit-arrhythmia-database/mitbih_database/105annotations.txt\n",
      "/kaggle/input/mitbit-arrhythmia-database/mitbih_database/221annotations.txt\n",
      "/kaggle/input/mitbit-arrhythmia-database/mitbih_database/230annotations.txt\n",
      "/kaggle/input/mitbit-arrhythmia-database/mitbih_database/115.csv\n",
      "/kaggle/input/mitbit-arrhythmia-database/mitbih_database/112.csv\n",
      "/kaggle/input/mitbit-arrhythmia-database/mitbih_database/100annotations.txt\n",
      "/kaggle/input/mitbit-arrhythmia-database/mitbih_database/208annotations.txt\n",
      "/kaggle/input/mitbit-arrhythmia-database/mitbih_database/212.csv\n",
      "/kaggle/input/mitbit-arrhythmia-database/mitbih_database/212annotations.txt\n",
      "/kaggle/input/mitbit-arrhythmia-database/mitbih_database/213annotations.txt\n",
      "/kaggle/input/mitbit-arrhythmia-database/mitbih_database/109.csv\n",
      "/kaggle/input/mitbit-arrhythmia-database/mitbih_database/228.csv\n",
      "/kaggle/input/mitbit-arrhythmia-database/mitbih_database/104annotations.txt\n",
      "/kaggle/input/mitbit-arrhythmia-database/mitbih_database/232annotations.txt\n",
      "/kaggle/input/mitbit-arrhythmia-database/mitbih_database/101annotations.txt\n",
      "/kaggle/input/mitbit-arrhythmia-database/mitbih_database/121annotations.txt\n",
      "/kaggle/input/mitbit-arrhythmia-database/mitbih_database/111annotations.txt\n",
      "/kaggle/input/mitbit-arrhythmia-database/mitbih_database/219.csv\n",
      "/kaggle/input/mitbit-arrhythmia-database/mitbih_database/106annotations.txt\n",
      "/kaggle/input/mitbit-arrhythmia-database/mitbih_database/207annotations.txt\n",
      "/kaggle/input/mitbit-arrhythmia-database/mitbih_database/209annotations.txt\n",
      "/kaggle/input/mitbit-arrhythmia-database/mitbih_database/116annotations.txt\n",
      "/kaggle/input/mitbit-arrhythmia-database/mitbih_database/118.csv\n",
      "/kaggle/input/mitbit-arrhythmia-database/mitbih_database/230.csv\n",
      "/kaggle/input/mitbit-arrhythmia-database/mitbih_database/213.csv\n",
      "/kaggle/input/mitbit-arrhythmia-database/mitbih_database/217.csv\n",
      "/kaggle/input/mitbit-arrhythmia-database/mitbih_database/215.csv\n",
      "/kaggle/input/mitbit-arrhythmia-database/mitbih_database/119annotations.txt\n",
      "/kaggle/input/mitbit-arrhythmia-database/mitbih_database/234.csv\n",
      "/kaggle/input/mitbit-arrhythmia-database/mitbih_database/100.csv\n",
      "/kaggle/input/mitbit-arrhythmia-database/mitbih_database/233annotations.txt\n",
      "/kaggle/input/mitbit-arrhythmia-database/mitbih_database/205annotations.txt\n",
      "/kaggle/input/mitbit-arrhythmia-database/mitbih_database/122.csv\n",
      "/kaggle/input/mitbit-arrhythmia-database/mitbih_database/201.csv\n",
      "/kaggle/input/mitbit-arrhythmia-database/mitbih_database/113annotations.txt\n",
      "/kaggle/input/mitbit-arrhythmia-database/mitbih_database/107.csv\n",
      "/kaggle/input/mitbit-arrhythmia-database/mitbih_database/221.csv\n",
      "/kaggle/input/mitbit-arrhythmia-database/mitbih_database/214.csv\n",
      "/kaggle/input/mitbit-arrhythmia-database/mitbih_database/219annotations.txt\n",
      "/kaggle/input/mitbit-arrhythmia-database/mitbih_database/200annotations.txt\n",
      "/kaggle/input/mitbit-arrhythmia-database/mitbih_database/105.csv\n",
      "/kaggle/input/mitbit-arrhythmia-database/mitbih_database/113.csv\n",
      "/kaggle/input/mitbit-arrhythmia-database/mitbih_database/106.csv\n",
      "/kaggle/input/mitbit-arrhythmia-database/mitbih_database/102.csv\n",
      "/kaggle/input/mitbit-arrhythmia-database/mitbih_database/220.csv\n",
      "/kaggle/input/mitbit-arrhythmia-database/mitbih_database/101.csv\n",
      "/kaggle/input/mitbit-arrhythmia-database/mitbih_database/122annotations.txt\n",
      "/kaggle/input/mitbit-arrhythmia-database/mitbih_database/111.csv\n",
      "/kaggle/input/mitbit-arrhythmia-database/mitbih_database/104.csv\n",
      "/kaggle/input/mitbit-arrhythmia-database/mitbih_database/103annotations.txt\n",
      "/kaggle/input/mitbit-arrhythmia-database/mitbih_database/117.csv\n",
      "/kaggle/input/mitbit-arrhythmia-database/mitbih_database/124.csv\n",
      "/kaggle/input/mitbit-arrhythmia-database/mitbih_database/228annotations.txt\n",
      "/kaggle/input/mitbit-arrhythmia-database/mitbih_database/210annotations.txt\n",
      "/kaggle/input/mitbit-arrhythmia-database/mitbih_database/214annotations.txt\n",
      "/kaggle/input/mitbit-arrhythmia-database/mitbih_database/220annotations.txt\n",
      "/kaggle/input/mitbit-arrhythmia-database/mitbih_database/222.csv\n",
      "/kaggle/input/mitbit-arrhythmia-database/mitbih_database/210.csv\n",
      "/kaggle/input/mitbit-arrhythmia-database/mitbih_database/231annotations.txt\n",
      "/kaggle/input/mitbit-arrhythmia-database/mitbih_database/205.csv\n",
      "/kaggle/input/mitbit-arrhythmia-database/mitbih_database/107annotations.txt\n",
      "/kaggle/input/mitbit-arrhythmia-database/mitbih_database/208.csv\n",
      "/kaggle/input/mitbit-arrhythmia-database/mitbih_database/121.csv\n",
      "/kaggle/input/mitbit-arrhythmia-database/mitbih_database/203.csv\n",
      "/kaggle/input/mitbit-arrhythmia-database/mitbih_database/117annotations.txt\n",
      "/kaggle/input/mitbit-arrhythmia-database/mitbih_database/223annotations.txt\n",
      "/kaggle/input/mitbit-arrhythmia-database/mitbih_database/200.csv\n",
      "/kaggle/input/mitbit-arrhythmia-database/mitbih_database/103.csv\n",
      "/kaggle/input/mitbit-arrhythmia-database/mitbih_database/116.csv\n",
      "/kaggle/input/mitbit-arrhythmia-database/mitbih_database/201annotations.txt\n",
      "/kaggle/input/mitbit-arrhythmia-database/mitbih_database/123.csv\n",
      "/kaggle/input/mitbit-arrhythmia-database/mitbih_database/124annotations.txt\n",
      "/kaggle/input/mitbit-arrhythmia-database/mitbih_database/mitbih_database/112annotations.txt\n",
      "/kaggle/input/mitbit-arrhythmia-database/mitbih_database/mitbih_database/233.csv\n",
      "/kaggle/input/mitbit-arrhythmia-database/mitbih_database/mitbih_database/108.csv\n",
      "/kaggle/input/mitbit-arrhythmia-database/mitbih_database/mitbih_database/118annotations.txt\n",
      "/kaggle/input/mitbit-arrhythmia-database/mitbih_database/mitbih_database/231.csv\n",
      "/kaggle/input/mitbit-arrhythmia-database/mitbih_database/mitbih_database/207.csv\n",
      "/kaggle/input/mitbit-arrhythmia-database/mitbih_database/mitbih_database/115annotations.txt\n",
      "/kaggle/input/mitbit-arrhythmia-database/mitbih_database/mitbih_database/108annotations.txt\n",
      "/kaggle/input/mitbit-arrhythmia-database/mitbih_database/mitbih_database/123annotations.txt\n",
      "/kaggle/input/mitbit-arrhythmia-database/mitbih_database/mitbih_database/102annotations.txt\n",
      "/kaggle/input/mitbit-arrhythmia-database/mitbih_database/mitbih_database/209.csv\n",
      "/kaggle/input/mitbit-arrhythmia-database/mitbih_database/mitbih_database/203annotations.txt\n",
      "/kaggle/input/mitbit-arrhythmia-database/mitbih_database/mitbih_database/202annotations.txt\n",
      "/kaggle/input/mitbit-arrhythmia-database/mitbih_database/mitbih_database/215annotations.txt\n",
      "/kaggle/input/mitbit-arrhythmia-database/mitbih_database/mitbih_database/232.csv\n",
      "/kaggle/input/mitbit-arrhythmia-database/mitbih_database/mitbih_database/223.csv\n",
      "/kaggle/input/mitbit-arrhythmia-database/mitbih_database/mitbih_database/114annotations.txt\n",
      "/kaggle/input/mitbit-arrhythmia-database/mitbih_database/mitbih_database/109annotations.txt\n",
      "/kaggle/input/mitbit-arrhythmia-database/mitbih_database/mitbih_database/217annotations.txt\n",
      "/kaggle/input/mitbit-arrhythmia-database/mitbih_database/mitbih_database/222annotations.txt\n",
      "/kaggle/input/mitbit-arrhythmia-database/mitbih_database/mitbih_database/119.csv\n",
      "/kaggle/input/mitbit-arrhythmia-database/mitbih_database/mitbih_database/234annotations.txt\n",
      "/kaggle/input/mitbit-arrhythmia-database/mitbih_database/mitbih_database/114.csv\n",
      "/kaggle/input/mitbit-arrhythmia-database/mitbih_database/mitbih_database/202.csv\n",
      "/kaggle/input/mitbit-arrhythmia-database/mitbih_database/mitbih_database/105annotations.txt\n",
      "/kaggle/input/mitbit-arrhythmia-database/mitbih_database/mitbih_database/221annotations.txt\n",
      "/kaggle/input/mitbit-arrhythmia-database/mitbih_database/mitbih_database/230annotations.txt\n",
      "/kaggle/input/mitbit-arrhythmia-database/mitbih_database/mitbih_database/115.csv\n",
      "/kaggle/input/mitbit-arrhythmia-database/mitbih_database/mitbih_database/112.csv\n",
      "/kaggle/input/mitbit-arrhythmia-database/mitbih_database/mitbih_database/100annotations.txt\n",
      "/kaggle/input/mitbit-arrhythmia-database/mitbih_database/mitbih_database/208annotations.txt\n",
      "/kaggle/input/mitbit-arrhythmia-database/mitbih_database/mitbih_database/212.csv\n",
      "/kaggle/input/mitbit-arrhythmia-database/mitbih_database/mitbih_database/212annotations.txt\n",
      "/kaggle/input/mitbit-arrhythmia-database/mitbih_database/mitbih_database/213annotations.txt\n",
      "/kaggle/input/mitbit-arrhythmia-database/mitbih_database/mitbih_database/109.csv\n",
      "/kaggle/input/mitbit-arrhythmia-database/mitbih_database/mitbih_database/228.csv\n",
      "/kaggle/input/mitbit-arrhythmia-database/mitbih_database/mitbih_database/104annotations.txt\n",
      "/kaggle/input/mitbit-arrhythmia-database/mitbih_database/mitbih_database/232annotations.txt\n",
      "/kaggle/input/mitbit-arrhythmia-database/mitbih_database/mitbih_database/101annotations.txt\n",
      "/kaggle/input/mitbit-arrhythmia-database/mitbih_database/mitbih_database/121annotations.txt\n",
      "/kaggle/input/mitbit-arrhythmia-database/mitbih_database/mitbih_database/111annotations.txt\n",
      "/kaggle/input/mitbit-arrhythmia-database/mitbih_database/mitbih_database/219.csv\n",
      "/kaggle/input/mitbit-arrhythmia-database/mitbih_database/mitbih_database/106annotations.txt\n",
      "/kaggle/input/mitbit-arrhythmia-database/mitbih_database/mitbih_database/207annotations.txt\n",
      "/kaggle/input/mitbit-arrhythmia-database/mitbih_database/mitbih_database/209annotations.txt\n",
      "/kaggle/input/mitbit-arrhythmia-database/mitbih_database/mitbih_database/116annotations.txt\n",
      "/kaggle/input/mitbit-arrhythmia-database/mitbih_database/mitbih_database/118.csv\n",
      "/kaggle/input/mitbit-arrhythmia-database/mitbih_database/mitbih_database/230.csv\n",
      "/kaggle/input/mitbit-arrhythmia-database/mitbih_database/mitbih_database/213.csv\n",
      "/kaggle/input/mitbit-arrhythmia-database/mitbih_database/mitbih_database/217.csv\n",
      "/kaggle/input/mitbit-arrhythmia-database/mitbih_database/mitbih_database/215.csv\n",
      "/kaggle/input/mitbit-arrhythmia-database/mitbih_database/mitbih_database/119annotations.txt\n",
      "/kaggle/input/mitbit-arrhythmia-database/mitbih_database/mitbih_database/234.csv\n",
      "/kaggle/input/mitbit-arrhythmia-database/mitbih_database/mitbih_database/100.csv\n",
      "/kaggle/input/mitbit-arrhythmia-database/mitbih_database/mitbih_database/233annotations.txt\n",
      "/kaggle/input/mitbit-arrhythmia-database/mitbih_database/mitbih_database/205annotations.txt\n",
      "/kaggle/input/mitbit-arrhythmia-database/mitbih_database/mitbih_database/122.csv\n",
      "/kaggle/input/mitbit-arrhythmia-database/mitbih_database/mitbih_database/201.csv\n",
      "/kaggle/input/mitbit-arrhythmia-database/mitbih_database/mitbih_database/113annotations.txt\n",
      "/kaggle/input/mitbit-arrhythmia-database/mitbih_database/mitbih_database/107.csv\n",
      "/kaggle/input/mitbit-arrhythmia-database/mitbih_database/mitbih_database/221.csv\n",
      "/kaggle/input/mitbit-arrhythmia-database/mitbih_database/mitbih_database/214.csv\n",
      "/kaggle/input/mitbit-arrhythmia-database/mitbih_database/mitbih_database/219annotations.txt\n",
      "/kaggle/input/mitbit-arrhythmia-database/mitbih_database/mitbih_database/200annotations.txt\n",
      "/kaggle/input/mitbit-arrhythmia-database/mitbih_database/mitbih_database/105.csv\n",
      "/kaggle/input/mitbit-arrhythmia-database/mitbih_database/mitbih_database/113.csv\n",
      "/kaggle/input/mitbit-arrhythmia-database/mitbih_database/mitbih_database/106.csv\n",
      "/kaggle/input/mitbit-arrhythmia-database/mitbih_database/mitbih_database/102.csv\n",
      "/kaggle/input/mitbit-arrhythmia-database/mitbih_database/mitbih_database/220.csv\n",
      "/kaggle/input/mitbit-arrhythmia-database/mitbih_database/mitbih_database/101.csv\n",
      "/kaggle/input/mitbit-arrhythmia-database/mitbih_database/mitbih_database/122annotations.txt\n",
      "/kaggle/input/mitbit-arrhythmia-database/mitbih_database/mitbih_database/111.csv\n",
      "/kaggle/input/mitbit-arrhythmia-database/mitbih_database/mitbih_database/104.csv\n",
      "/kaggle/input/mitbit-arrhythmia-database/mitbih_database/mitbih_database/103annotations.txt\n",
      "/kaggle/input/mitbit-arrhythmia-database/mitbih_database/mitbih_database/117.csv\n",
      "/kaggle/input/mitbit-arrhythmia-database/mitbih_database/mitbih_database/124.csv\n",
      "/kaggle/input/mitbit-arrhythmia-database/mitbih_database/mitbih_database/228annotations.txt\n",
      "/kaggle/input/mitbit-arrhythmia-database/mitbih_database/mitbih_database/210annotations.txt\n",
      "/kaggle/input/mitbit-arrhythmia-database/mitbih_database/mitbih_database/214annotations.txt\n",
      "/kaggle/input/mitbit-arrhythmia-database/mitbih_database/mitbih_database/220annotations.txt\n",
      "/kaggle/input/mitbit-arrhythmia-database/mitbih_database/mitbih_database/222.csv\n",
      "/kaggle/input/mitbit-arrhythmia-database/mitbih_database/mitbih_database/210.csv\n",
      "/kaggle/input/mitbit-arrhythmia-database/mitbih_database/mitbih_database/231annotations.txt\n",
      "/kaggle/input/mitbit-arrhythmia-database/mitbih_database/mitbih_database/205.csv\n",
      "/kaggle/input/mitbit-arrhythmia-database/mitbih_database/mitbih_database/107annotations.txt\n",
      "/kaggle/input/mitbit-arrhythmia-database/mitbih_database/mitbih_database/208.csv\n",
      "/kaggle/input/mitbit-arrhythmia-database/mitbih_database/mitbih_database/121.csv\n",
      "/kaggle/input/mitbit-arrhythmia-database/mitbih_database/mitbih_database/203.csv\n",
      "/kaggle/input/mitbit-arrhythmia-database/mitbih_database/mitbih_database/117annotations.txt\n",
      "/kaggle/input/mitbit-arrhythmia-database/mitbih_database/mitbih_database/223annotations.txt\n",
      "/kaggle/input/mitbit-arrhythmia-database/mitbih_database/mitbih_database/200.csv\n",
      "/kaggle/input/mitbit-arrhythmia-database/mitbih_database/mitbih_database/103.csv\n",
      "/kaggle/input/mitbit-arrhythmia-database/mitbih_database/mitbih_database/116.csv\n",
      "/kaggle/input/mitbit-arrhythmia-database/mitbih_database/mitbih_database/201annotations.txt\n",
      "/kaggle/input/mitbit-arrhythmia-database/mitbih_database/mitbih_database/123.csv\n",
      "/kaggle/input/mitbit-arrhythmia-database/mitbih_database/mitbih_database/124annotations.txt\n"
     ]
    }
   ],
   "source": [
    "# This Python 3 environment comes with many helpful analytics libraries installed\n",
    "# It is defined by the kaggle/python Docker image: https://github.com/kaggle/docker-python\n",
    "# For example, here's several helpful packages to load\n",
    "\n",
    "import numpy as np # linear algebra\n",
    "import pandas as pd # data processing, CSV file I/O (e.g. pd.read_csv)\n",
    "\n",
    "# Input data files are available in the read-only \"../input/\" directory\n",
    "# For example, running this (by clicking run or pressing Shift+Enter) will list all files under the input directory\n",
    "\n",
    "import os\n",
    "for dirname, _, filenames in os.walk('/kaggle/input'):\n",
    "    for filename in filenames:\n",
    "        print(os.path.join(dirname, filename))\n",
    "\n",
    "# You can write up to 20GB to the current directory (/kaggle/working/) that gets preserved as output when you create a version using \"Save & Run All\" \n",
    "# You can also write temporary files to /kaggle/temp/, but they won't be saved outside of the current session"
   ]
  },
  {
   "cell_type": "code",
   "execution_count": null,
   "id": "e5d1c9cd",
   "metadata": {
    "papermill": {
     "duration": 0.040965,
     "end_time": "2022-06-21T11:23:50.483417",
     "exception": false,
     "start_time": "2022-06-21T11:23:50.442452",
     "status": "completed"
    },
    "tags": []
   },
   "outputs": [],
   "source": []
  },
  {
   "cell_type": "code",
   "execution_count": 2,
   "id": "e2ad6a22",
   "metadata": {
    "execution": {
     "iopub.execute_input": "2022-06-21T11:23:50.614533Z",
     "iopub.status.busy": "2022-06-21T11:23:50.613613Z",
     "iopub.status.idle": "2022-06-21T11:23:56.285803Z",
     "shell.execute_reply": "2022-06-21T11:23:56.285309Z",
     "shell.execute_reply.started": "2021-12-30T16:03:32.942648Z"
    },
    "papermill": {
     "duration": 5.74122,
     "end_time": "2022-06-21T11:23:56.285944",
     "exception": false,
     "start_time": "2022-06-21T11:23:50.544724",
     "status": "completed"
    },
    "tags": []
   },
   "outputs": [],
   "source": [
    "import pandas as pd \n",
    "import os\n",
    "\n",
    "import matplotlib.pyplot as plt\n",
    "import csv\n",
    "import itertools\n",
    "import collections\n",
    "\n",
    "import pywt\n",
    "from scipy import stats\n",
    "\n",
    "from sklearn.utils import resample\n",
    "from sklearn.model_selection import train_test_split\n",
    "\n",
    "import keras\n",
    "from sklearn.preprocessing import MinMaxScaler\n",
    "from keras.models import Sequential , Model\n",
    "from keras.layers import Dense, LSTM, Dropout, Softmax, Bidirectional, Flatten\n",
    "import math\n",
    "from sklearn.metrics import mean_squared_error"
   ]
  },
  {
   "cell_type": "code",
   "execution_count": 3,
   "id": "4da323ac",
   "metadata": {
    "execution": {
     "iopub.execute_input": "2022-06-21T11:23:56.377444Z",
     "iopub.status.busy": "2022-06-21T11:23:56.376779Z",
     "iopub.status.idle": "2022-06-21T11:23:56.706166Z",
     "shell.execute_reply": "2022-06-21T11:23:56.705280Z",
     "shell.execute_reply.started": "2021-12-30T16:03:37.961384Z"
    },
    "papermill": {
     "duration": 0.376943,
     "end_time": "2022-06-21T11:23:56.706301",
     "exception": false,
     "start_time": "2022-06-21T11:23:56.329358",
     "status": "completed"
    },
    "tags": []
   },
   "outputs": [],
   "source": [
    "from tensorflow.keras.optimizers import Adam \n",
    "from keras.utils.np_utils import to_categorical\n",
    "from keras.utils.vis_utils import plot_model\n",
    "from keras import regularizers"
   ]
  },
  {
   "cell_type": "code",
   "execution_count": 4,
   "id": "752df6d6",
   "metadata": {
    "execution": {
     "iopub.execute_input": "2022-06-21T11:23:56.796854Z",
     "iopub.status.busy": "2022-06-21T11:23:56.795884Z",
     "iopub.status.idle": "2022-06-21T11:23:56.797801Z",
     "shell.execute_reply": "2022-06-21T11:23:56.798303Z",
     "shell.execute_reply.started": "2021-12-30T16:03:38.266899Z"
    },
    "papermill": {
     "duration": 0.049747,
     "end_time": "2022-06-21T11:23:56.798445",
     "exception": false,
     "start_time": "2022-06-21T11:23:56.748698",
     "status": "completed"
    },
    "tags": []
   },
   "outputs": [],
   "source": [
    "def denoise(data): \n",
    "    w = pywt.Wavelet('sym4')\n",
    "    maxlev = pywt.dwt_max_level(len(data), w.dec_len)\n",
    "    threshold = 0.04 # Threshold for filtering\n",
    "\n",
    "    coeffs = pywt.wavedec(data, 'sym4', level=maxlev)\n",
    "    for i in range(1, len(coeffs)):\n",
    "        coeffs[i] = pywt.threshold(coeffs[i], threshold*max(coeffs[i]))\n",
    "        \n",
    "    datarec = pywt.waverec(coeffs, 'sym4')\n",
    "    \n",
    "    return datarec"
   ]
  },
  {
   "cell_type": "code",
   "execution_count": 5,
   "id": "a38b60ce",
   "metadata": {
    "execution": {
     "iopub.execute_input": "2022-06-21T11:23:56.887102Z",
     "iopub.status.busy": "2022-06-21T11:23:56.886140Z",
     "iopub.status.idle": "2022-06-21T11:23:56.887979Z",
     "shell.execute_reply": "2022-06-21T11:23:56.888459Z",
     "shell.execute_reply.started": "2021-12-30T16:03:38.280615Z"
    },
    "papermill": {
     "duration": 0.049075,
     "end_time": "2022-06-21T11:23:56.888623",
     "exception": false,
     "start_time": "2022-06-21T11:23:56.839548",
     "status": "completed"
    },
    "tags": []
   },
   "outputs": [],
   "source": [
    "path = '/kaggle/input/mitbit-arrhythmia-database/mitbih_database/'\n",
    "window_size = 180\n",
    "maximum_counting = 10000\n",
    "\n",
    "classes = ['N', 'A', 'V', 'F', 'f']\n",
    "n_classes = len(classes)\n",
    "count_classes = [0]*n_classes\n",
    "\n",
    "X = list()\n",
    "y = list()"
   ]
  },
  {
   "cell_type": "code",
   "execution_count": 6,
   "id": "662d7488",
   "metadata": {
    "execution": {
     "iopub.execute_input": "2022-06-21T11:23:56.977357Z",
     "iopub.status.busy": "2022-06-21T11:23:56.976836Z",
     "iopub.status.idle": "2022-06-21T11:23:56.981637Z",
     "shell.execute_reply": "2022-06-21T11:23:56.981105Z",
     "shell.execute_reply.started": "2021-12-30T16:03:38.293302Z"
    },
    "papermill": {
     "duration": 0.050841,
     "end_time": "2022-06-21T11:23:56.981772",
     "exception": false,
     "start_time": "2022-06-21T11:23:56.930931",
     "status": "completed"
    },
    "tags": []
   },
   "outputs": [],
   "source": [
    "filenames = next(os.walk(path))[2]\n",
    "records = list()\n",
    "annotations = list()\n",
    "filenames.sort()"
   ]
  },
  {
   "cell_type": "code",
   "execution_count": 7,
   "id": "b14a29d3",
   "metadata": {
    "execution": {
     "iopub.execute_input": "2022-06-21T11:23:57.069892Z",
     "iopub.status.busy": "2022-06-21T11:23:57.068952Z",
     "iopub.status.idle": "2022-06-21T11:23:57.070860Z",
     "shell.execute_reply": "2022-06-21T11:23:57.071336Z",
     "shell.execute_reply.started": "2021-12-30T16:03:38.305895Z"
    },
    "papermill": {
     "duration": 0.048601,
     "end_time": "2022-06-21T11:23:57.071474",
     "exception": false,
     "start_time": "2022-06-21T11:23:57.022873",
     "status": "completed"
    },
    "tags": []
   },
   "outputs": [],
   "source": [
    "for f in filenames:\n",
    "    filename, file_extension = os.path.splitext(f)\n",
    "    if(file_extension == '.csv'):\n",
    "        records.append(path + filename + file_extension)\n",
    "    else:\n",
    "        annotations.append(path + filename + file_extension)"
   ]
  },
  {
   "cell_type": "code",
   "execution_count": 8,
   "id": "95d065f6",
   "metadata": {
    "execution": {
     "iopub.execute_input": "2022-06-21T11:23:57.168149Z",
     "iopub.status.busy": "2022-06-21T11:23:57.167437Z",
     "iopub.status.idle": "2022-06-21T11:24:57.155114Z",
     "shell.execute_reply": "2022-06-21T11:24:57.155812Z",
     "shell.execute_reply.started": "2021-12-30T16:03:38.315191Z"
    },
    "papermill": {
     "duration": 60.042726,
     "end_time": "2022-06-21T11:24:57.156017",
     "exception": false,
     "start_time": "2022-06-21T11:23:57.113291",
     "status": "completed"
    },
    "tags": []
   },
   "outputs": [
    {
     "data": {
      "image/png": "[encoded data removed]",
      "text/plain": [
       "<Figure size 432x288 with 1 Axes>"
      ]
     },
     "metadata": {
      "needs_background": "light"
     },
     "output_type": "display_data"
    },
    {
     "data": {
      "image/png": "[encoded data removed]",
      "text/plain": [
       "<Figure size 432x288 with 1 Axes>"
      ]
     },
     "metadata": {
      "needs_background": "light"
     },
     "output_type": "display_data"
    },
    {
     "data": {
      "image/png": "[encoded data removed]",
      "text/plain": [
       "<Figure size 432x288 with 1 Axes>"
      ]
     },
     "metadata": {
      "needs_background": "light"
     },
     "output_type": "display_data"
    },
    {
     "name": "stdout",
     "output_type": "stream",
     "text": [
      "(86470, 360) (86470,)\n"
     ]
    }
   ],
   "source": [
    "for r in range(0,len(records)):\n",
    "    signals = []\n",
    "\n",
    "    with open(records[r], 'rt') as csvfile:\n",
    "        spamreader = csv.reader(csvfile, delimiter=',', quotechar='|') # read CSV file\\\n",
    "        row_index = -1\n",
    "        for row in spamreader:\n",
    "            if(row_index >= 0):\n",
    "                signals.insert(row_index, int(row[1]))\n",
    "            row_index += 1\n",
    "            \n",
    "    if r is 1:\n",
    "        plt.title(\" Wave\")\n",
    "        plt.plot(signals[0:700])\n",
    "        plt.show()\n",
    "    signals = denoise(signals)\n",
    "    if r is 1:\n",
    "        plt.title(\" wave after denoised\")\n",
    "        plt.plot(signals[0:700])\n",
    "        plt.show()\n",
    "        \n",
    "    example_beat_printed = False\n",
    "    with open(annotations[r], 'r') as fileID:\n",
    "        data = fileID.readlines() \n",
    "        beat = list()\n",
    "        for d in range(1, len(data)): \n",
    "            splitted = data[d].split(' ')\n",
    "            splitted = filter(None, splitted)\n",
    "            next(splitted) \n",
    "            pos = int(next(splitted))\n",
    "            arrhythmia_type = next(splitted)\n",
    "            if(arrhythmia_type in classes):\n",
    "                arrhythmia_index = classes.index(arrhythmia_type)\n",
    "                count_classes[arrhythmia_index] += 1\n",
    "                if(window_size <= pos and pos < (len(signals) - window_size)):\n",
    "                    beat = signals[pos-window_size:pos+window_size]     \n",
    "                    if r is 1 and not example_beat_printed: \n",
    "                        plt.title(\"A Beat from Wave\")\n",
    "                        plt.plot(beat)\n",
    "                        plt.show()\n",
    "                        example_beat_printed = True\n",
    "                    X.append(beat)\n",
    "                    y.append(arrhythmia_index)\n",
    "\n",
    "print(np.shape(X), np.shape(y))"
   ]
  },
  {
   "cell_type": "code",
   "execution_count": 9,
   "id": "0a018d39",
   "metadata": {
    "execution": {
     "iopub.execute_input": "2022-06-21T11:24:57.304262Z",
     "iopub.status.busy": "2022-06-21T11:24:57.287831Z",
     "iopub.status.idle": "2022-06-21T11:24:58.086533Z",
     "shell.execute_reply": "2022-06-21T11:24:58.087346Z",
     "shell.execute_reply.started": "2021-12-30T16:04:36.487033Z"
    },
    "papermill": {
     "duration": 0.881078,
     "end_time": "2022-06-21T11:24:58.087550",
     "exception": false,
     "start_time": "2022-06-21T11:24:57.206472",
     "status": "completed"
    },
    "tags": []
   },
   "outputs": [
    {
     "name": "stdout",
     "output_type": "stream",
     "text": [
      "(86470, 361)\n"
     ]
    }
   ],
   "source": [
    "for i in range(0,len(X)):\n",
    "        X[i] = np.append(X[i], y[i])\n",
    "print(np.shape(X))"
   ]
  },
  {
   "cell_type": "code",
   "execution_count": 10,
   "id": "5cf6756b",
   "metadata": {
    "execution": {
     "iopub.execute_input": "2022-06-21T11:24:58.196937Z",
     "iopub.status.busy": "2022-06-21T11:24:58.195891Z",
     "iopub.status.idle": "2022-06-21T11:25:18.920433Z",
     "shell.execute_reply": "2022-06-21T11:25:18.920841Z",
     "shell.execute_reply.started": "2021-12-30T16:04:37.40636Z"
    },
    "papermill": {
     "duration": 20.783144,
     "end_time": "2022-06-21T11:25:18.920997",
     "exception": false,
     "start_time": "2022-06-21T11:24:58.137853",
     "status": "completed"
    },
    "tags": []
   },
   "outputs": [
    {
     "data": {
      "text/html": [
       "<div>\n",
       "<style scoped>\n",
       "    .dataframe tbody tr th:only-of-type {\n",
       "        vertical-align: middle;\n",
       "    }\n",
       "\n",
       "    .dataframe tbody tr th {\n",
       "        vertical-align: top;\n",
       "    }\n",
       "\n",
       "    .dataframe thead th {\n",
       "        text-align: right;\n",
       "    }\n",
       "</style>\n",
       "<table border=\"1\" class=\"dataframe\">\n",
       "  <thead>\n",
       "    <tr style=\"text-align: right;\">\n",
       "      <th></th>\n",
       "      <th>0</th>\n",
       "      <th>1</th>\n",
       "      <th>2</th>\n",
       "      <th>3</th>\n",
       "      <th>4</th>\n",
       "      <th>5</th>\n",
       "      <th>6</th>\n",
       "      <th>7</th>\n",
       "      <th>8</th>\n",
       "      <th>9</th>\n",
       "      <th>...</th>\n",
       "      <th>351</th>\n",
       "      <th>352</th>\n",
       "      <th>353</th>\n",
       "      <th>354</th>\n",
       "      <th>355</th>\n",
       "      <th>356</th>\n",
       "      <th>357</th>\n",
       "      <th>358</th>\n",
       "      <th>359</th>\n",
       "      <th>360</th>\n",
       "    </tr>\n",
       "  </thead>\n",
       "  <tbody>\n",
       "    <tr>\n",
       "      <th>0</th>\n",
       "      <td>963.374455</td>\n",
       "      <td>963.536949</td>\n",
       "      <td>964.756621</td>\n",
       "      <td>965.399062</td>\n",
       "      <td>966.017086</td>\n",
       "      <td>966.375099</td>\n",
       "      <td>966.610054</td>\n",
       "      <td>966.770207</td>\n",
       "      <td>966.863751</td>\n",
       "      <td>966.951485</td>\n",
       "      <td>...</td>\n",
       "      <td>962.278640</td>\n",
       "      <td>962.282842</td>\n",
       "      <td>962.301737</td>\n",
       "      <td>962.395261</td>\n",
       "      <td>962.294270</td>\n",
       "      <td>961.799296</td>\n",
       "      <td>963.125729</td>\n",
       "      <td>961.823215</td>\n",
       "      <td>962.056695</td>\n",
       "      <td>0.0</td>\n",
       "    </tr>\n",
       "    <tr>\n",
       "      <th>1</th>\n",
       "      <td>950.134075</td>\n",
       "      <td>950.900959</td>\n",
       "      <td>951.742885</td>\n",
       "      <td>951.389255</td>\n",
       "      <td>952.444730</td>\n",
       "      <td>952.698845</td>\n",
       "      <td>952.985557</td>\n",
       "      <td>953.265506</td>\n",
       "      <td>953.554840</td>\n",
       "      <td>953.878155</td>\n",
       "      <td>...</td>\n",
       "      <td>957.912677</td>\n",
       "      <td>957.910661</td>\n",
       "      <td>957.908414</td>\n",
       "      <td>957.887200</td>\n",
       "      <td>957.930868</td>\n",
       "      <td>958.046497</td>\n",
       "      <td>957.767864</td>\n",
       "      <td>957.935546</td>\n",
       "      <td>957.848457</td>\n",
       "      <td>0.0</td>\n",
       "    </tr>\n",
       "    <tr>\n",
       "      <th>2</th>\n",
       "      <td>956.855367</td>\n",
       "      <td>957.921859</td>\n",
       "      <td>958.970263</td>\n",
       "      <td>960.062874</td>\n",
       "      <td>961.063537</td>\n",
       "      <td>961.544535</td>\n",
       "      <td>961.778225</td>\n",
       "      <td>961.903495</td>\n",
       "      <td>961.914781</td>\n",
       "      <td>961.927284</td>\n",
       "      <td>...</td>\n",
       "      <td>962.793234</td>\n",
       "      <td>963.018453</td>\n",
       "      <td>963.291927</td>\n",
       "      <td>963.610334</td>\n",
       "      <td>963.801834</td>\n",
       "      <td>963.664744</td>\n",
       "      <td>964.690013</td>\n",
       "      <td>963.714316</td>\n",
       "      <td>963.719371</td>\n",
       "      <td>0.0</td>\n",
       "    </tr>\n",
       "    <tr>\n",
       "      <th>3</th>\n",
       "      <td>956.333844</td>\n",
       "      <td>956.469719</td>\n",
       "      <td>956.650190</td>\n",
       "      <td>956.840204</td>\n",
       "      <td>957.063040</td>\n",
       "      <td>957.289795</td>\n",
       "      <td>957.532154</td>\n",
       "      <td>957.763758</td>\n",
       "      <td>957.903596</td>\n",
       "      <td>958.002126</td>\n",
       "      <td>...</td>\n",
       "      <td>963.483037</td>\n",
       "      <td>963.849264</td>\n",
       "      <td>964.232722</td>\n",
       "      <td>964.751295</td>\n",
       "      <td>965.325454</td>\n",
       "      <td>965.385283</td>\n",
       "      <td>965.277388</td>\n",
       "      <td>965.949119</td>\n",
       "      <td>966.749783</td>\n",
       "      <td>0.0</td>\n",
       "    </tr>\n",
       "    <tr>\n",
       "      <th>4</th>\n",
       "      <td>950.051087</td>\n",
       "      <td>950.080657</td>\n",
       "      <td>950.899845</td>\n",
       "      <td>951.943309</td>\n",
       "      <td>952.584266</td>\n",
       "      <td>953.144752</td>\n",
       "      <td>953.758744</td>\n",
       "      <td>954.385010</td>\n",
       "      <td>955.116512</td>\n",
       "      <td>955.847917</td>\n",
       "      <td>...</td>\n",
       "      <td>962.082603</td>\n",
       "      <td>962.257165</td>\n",
       "      <td>962.430031</td>\n",
       "      <td>962.608560</td>\n",
       "      <td>962.787336</td>\n",
       "      <td>962.969444</td>\n",
       "      <td>963.152923</td>\n",
       "      <td>963.315874</td>\n",
       "      <td>963.472298</td>\n",
       "      <td>0.0</td>\n",
       "    </tr>\n",
       "    <tr>\n",
       "      <th>...</th>\n",
       "      <td>...</td>\n",
       "      <td>...</td>\n",
       "      <td>...</td>\n",
       "      <td>...</td>\n",
       "      <td>...</td>\n",
       "      <td>...</td>\n",
       "      <td>...</td>\n",
       "      <td>...</td>\n",
       "      <td>...</td>\n",
       "      <td>...</td>\n",
       "      <td>...</td>\n",
       "      <td>...</td>\n",
       "      <td>...</td>\n",
       "      <td>...</td>\n",
       "      <td>...</td>\n",
       "      <td>...</td>\n",
       "      <td>...</td>\n",
       "      <td>...</td>\n",
       "      <td>...</td>\n",
       "      <td>...</td>\n",
       "      <td>...</td>\n",
       "    </tr>\n",
       "    <tr>\n",
       "      <th>86465</th>\n",
       "      <td>960.091597</td>\n",
       "      <td>958.332371</td>\n",
       "      <td>959.228982</td>\n",
       "      <td>959.937280</td>\n",
       "      <td>960.462593</td>\n",
       "      <td>960.875403</td>\n",
       "      <td>961.311190</td>\n",
       "      <td>961.743369</td>\n",
       "      <td>962.152282</td>\n",
       "      <td>962.574638</td>\n",
       "      <td>...</td>\n",
       "      <td>964.516509</td>\n",
       "      <td>965.081464</td>\n",
       "      <td>965.657630</td>\n",
       "      <td>965.508808</td>\n",
       "      <td>965.080290</td>\n",
       "      <td>964.863438</td>\n",
       "      <td>964.607543</td>\n",
       "      <td>964.151499</td>\n",
       "      <td>963.933098</td>\n",
       "      <td>0.0</td>\n",
       "    </tr>\n",
       "    <tr>\n",
       "      <th>86466</th>\n",
       "      <td>960.158109</td>\n",
       "      <td>960.774672</td>\n",
       "      <td>961.122588</td>\n",
       "      <td>962.403698</td>\n",
       "      <td>963.542825</td>\n",
       "      <td>966.482368</td>\n",
       "      <td>966.960323</td>\n",
       "      <td>967.707577</td>\n",
       "      <td>968.022530</td>\n",
       "      <td>968.521270</td>\n",
       "      <td>...</td>\n",
       "      <td>963.553957</td>\n",
       "      <td>962.929216</td>\n",
       "      <td>962.408595</td>\n",
       "      <td>961.909285</td>\n",
       "      <td>961.207912</td>\n",
       "      <td>960.546289</td>\n",
       "      <td>959.842670</td>\n",
       "      <td>959.283797</td>\n",
       "      <td>959.529191</td>\n",
       "      <td>0.0</td>\n",
       "    </tr>\n",
       "    <tr>\n",
       "      <th>86467</th>\n",
       "      <td>959.520187</td>\n",
       "      <td>958.437111</td>\n",
       "      <td>959.105015</td>\n",
       "      <td>959.603769</td>\n",
       "      <td>960.050059</td>\n",
       "      <td>961.738668</td>\n",
       "      <td>962.600041</td>\n",
       "      <td>960.552121</td>\n",
       "      <td>957.583658</td>\n",
       "      <td>959.426743</td>\n",
       "      <td>...</td>\n",
       "      <td>968.586538</td>\n",
       "      <td>969.176431</td>\n",
       "      <td>969.713374</td>\n",
       "      <td>970.199836</td>\n",
       "      <td>970.198314</td>\n",
       "      <td>970.071392</td>\n",
       "      <td>969.631823</td>\n",
       "      <td>969.133521</td>\n",
       "      <td>969.677513</td>\n",
       "      <td>0.0</td>\n",
       "    </tr>\n",
       "    <tr>\n",
       "      <th>86468</th>\n",
       "      <td>957.960255</td>\n",
       "      <td>957.948389</td>\n",
       "      <td>959.213426</td>\n",
       "      <td>959.568639</td>\n",
       "      <td>959.893190</td>\n",
       "      <td>960.498387</td>\n",
       "      <td>961.169668</td>\n",
       "      <td>961.611360</td>\n",
       "      <td>961.984491</td>\n",
       "      <td>962.369367</td>\n",
       "      <td>...</td>\n",
       "      <td>974.808446</td>\n",
       "      <td>973.751860</td>\n",
       "      <td>972.810871</td>\n",
       "      <td>971.849649</td>\n",
       "      <td>970.724459</td>\n",
       "      <td>969.718156</td>\n",
       "      <td>968.525272</td>\n",
       "      <td>967.561324</td>\n",
       "      <td>968.065026</td>\n",
       "      <td>0.0</td>\n",
       "    </tr>\n",
       "    <tr>\n",
       "      <th>86469</th>\n",
       "      <td>956.404404</td>\n",
       "      <td>957.531612</td>\n",
       "      <td>958.738170</td>\n",
       "      <td>960.137072</td>\n",
       "      <td>961.633615</td>\n",
       "      <td>963.163953</td>\n",
       "      <td>964.694432</td>\n",
       "      <td>966.285352</td>\n",
       "      <td>967.899972</td>\n",
       "      <td>969.059446</td>\n",
       "      <td>...</td>\n",
       "      <td>962.505485</td>\n",
       "      <td>962.803601</td>\n",
       "      <td>963.433398</td>\n",
       "      <td>964.152886</td>\n",
       "      <td>962.467724</td>\n",
       "      <td>960.094117</td>\n",
       "      <td>960.598133</td>\n",
       "      <td>961.799478</td>\n",
       "      <td>961.153864</td>\n",
       "      <td>0.0</td>\n",
       "    </tr>\n",
       "  </tbody>\n",
       "</table>\n",
       "<p>86470 rows × 361 columns</p>\n",
       "</div>"
      ],
      "text/plain": [
       "              0           1           2           3           4           5    \\\n",
       "0      963.374455  963.536949  964.756621  965.399062  966.017086  966.375099   \n",
       "1      950.134075  950.900959  951.742885  951.389255  952.444730  952.698845   \n",
       "2      956.855367  957.921859  958.970263  960.062874  961.063537  961.544535   \n",
       "3      956.333844  956.469719  956.650190  956.840204  957.063040  957.289795   \n",
       "4      950.051087  950.080657  950.899845  951.943309  952.584266  953.144752   \n",
       "...           ...         ...         ...         ...         ...         ...   \n",
       "86465  960.091597  958.332371  959.228982  959.937280  960.462593  960.875403   \n",
       "86466  960.158109  960.774672  961.122588  962.403698  963.542825  966.482368   \n",
       "86467  959.520187  958.437111  959.105015  959.603769  960.050059  961.738668   \n",
       "86468  957.960255  957.948389  959.213426  959.568639  959.893190  960.498387   \n",
       "86469  956.404404  957.531612  958.738170  960.137072  961.633615  963.163953   \n",
       "\n",
       "              6           7           8           9    ...         351  \\\n",
       "0      966.610054  966.770207  966.863751  966.951485  ...  962.278640   \n",
       "1      952.985557  953.265506  953.554840  953.878155  ...  957.912677   \n",
       "2      961.778225  961.903495  961.914781  961.927284  ...  962.793234   \n",
       "3      957.532154  957.763758  957.903596  958.002126  ...  963.483037   \n",
       "4      953.758744  954.385010  955.116512  955.847917  ...  962.082603   \n",
       "...           ...         ...         ...         ...  ...         ...   \n",
       "86465  961.311190  961.743369  962.152282  962.574638  ...  964.516509   \n",
       "86466  966.960323  967.707577  968.022530  968.521270  ...  963.553957   \n",
       "86467  962.600041  960.552121  957.583658  959.426743  ...  968.586538   \n",
       "86468  961.169668  961.611360  961.984491  962.369367  ...  974.808446   \n",
       "86469  964.694432  966.285352  967.899972  969.059446  ...  962.505485   \n",
       "\n",
       "              352         353         354         355         356         357  \\\n",
       "0      962.282842  962.301737  962.395261  962.294270  961.799296  963.125729   \n",
       "1      957.910661  957.908414  957.887200  957.930868  958.046497  957.767864   \n",
       "2      963.018453  963.291927  963.610334  963.801834  963.664744  964.690013   \n",
       "3      963.849264  964.232722  964.751295  965.325454  965.385283  965.277388   \n",
       "4      962.257165  962.430031  962.608560  962.787336  962.969444  963.152923   \n",
       "...           ...         ...         ...         ...         ...         ...   \n",
       "86465  965.081464  965.657630  965.508808  965.080290  964.863438  964.607543   \n",
       "86466  962.929216  962.408595  961.909285  961.207912  960.546289  959.842670   \n",
       "86467  969.176431  969.713374  970.199836  970.198314  970.071392  969.631823   \n",
       "86468  973.751860  972.810871  971.849649  970.724459  969.718156  968.525272   \n",
       "86469  962.803601  963.433398  964.152886  962.467724  960.094117  960.598133   \n",
       "\n",
       "              358         359  360  \n",
       "0      961.823215  962.056695  0.0  \n",
       "1      957.935546  957.848457  0.0  \n",
       "2      963.714316  963.719371  0.0  \n",
       "3      965.949119  966.749783  0.0  \n",
       "4      963.315874  963.472298  0.0  \n",
       "...           ...         ...  ...  \n",
       "86465  964.151499  963.933098  0.0  \n",
       "86466  959.283797  959.529191  0.0  \n",
       "86467  969.133521  969.677513  0.0  \n",
       "86468  967.561324  968.065026  0.0  \n",
       "86469  961.799478  961.153864  0.0  \n",
       "\n",
       "[86470 rows x 361 columns]"
      ]
     },
     "execution_count": 10,
     "metadata": {},
     "output_type": "execute_result"
    }
   ],
   "source": [
    "X_train_df = pd.DataFrame(X)\n",
    "X_train_df"
   ]
  },
  {
   "cell_type": "code",
   "execution_count": 11,
   "id": "ae1ce66a",
   "metadata": {
    "execution": {
     "iopub.execute_input": "2022-06-21T11:25:19.023534Z",
     "iopub.status.busy": "2022-06-21T11:25:19.022812Z",
     "iopub.status.idle": "2022-06-21T11:25:19.026170Z",
     "shell.execute_reply": "2022-06-21T11:25:19.026823Z",
     "shell.execute_reply.started": "2021-12-30T16:05:00.040433Z"
    },
    "papermill": {
     "duration": 0.06026,
     "end_time": "2022-06-21T11:25:19.027030",
     "exception": false,
     "start_time": "2022-06-21T11:25:18.966770",
     "status": "completed"
    },
    "tags": []
   },
   "outputs": [
    {
     "name": "stdout",
     "output_type": "stream",
     "text": [
      "0.0    75011\n",
      "2.0     7129\n",
      "1.0     2546\n",
      "4.0      982\n",
      "3.0      802\n",
      "Name: 360, dtype: int64\n"
     ]
    }
   ],
   "source": [
    "per_class = X_train_df[X_train_df.shape[1]-1].value_counts()\n",
    "print(per_class)"
   ]
  },
  {
   "cell_type": "code",
   "execution_count": 12,
   "id": "aaff400d",
   "metadata": {
    "execution": {
     "iopub.execute_input": "2022-06-21T11:25:19.128843Z",
     "iopub.status.busy": "2022-06-21T11:25:19.128260Z",
     "iopub.status.idle": "2022-06-21T11:25:19.298360Z",
     "shell.execute_reply": "2022-06-21T11:25:19.298877Z",
     "shell.execute_reply.started": "2021-12-30T16:05:00.056858Z"
    },
    "papermill": {
     "duration": 0.224302,
     "end_time": "2022-06-21T11:25:19.299030",
     "exception": false,
     "start_time": "2022-06-21T11:25:19.074728",
     "status": "completed"
    },
    "tags": []
   },
   "outputs": [],
   "source": [
    "df_1=X_train_df[X_train_df[X_train_df.shape[1]-1]==1]\n",
    "df_2=X_train_df[X_train_df[X_train_df.shape[1]-1]==2]\n",
    "df_3=X_train_df[X_train_df[X_train_df.shape[1]-1]==3]\n",
    "df_4=X_train_df[X_train_df[X_train_df.shape[1]-1]==4]\n",
    "df_0=(X_train_df[X_train_df[X_train_df.shape[1]-1]==0]).sample(n=5000,random_state=42)\n",
    "\n",
    "df_1_upsample=resample(df_1,replace=True,n_samples=5000,random_state=42)\n",
    "df_2_upsample=resample(df_2,replace=True,n_samples=5000,random_state=42)\n",
    "df_3_upsample=resample(df_3,replace=True,n_samples=5000,random_state=42)\n",
    "df_4_upsample=resample(df_4,replace=True,n_samples=5000,random_state=42)\n",
    "X_train_df=pd.concat([df_0,df_1_upsample,df_2_upsample,df_3_upsample,df_4_upsample])"
   ]
  },
  {
   "cell_type": "code",
   "execution_count": 13,
   "id": "3d3f4480",
   "metadata": {
    "execution": {
     "iopub.execute_input": "2022-06-21T11:25:19.398301Z",
     "iopub.status.busy": "2022-06-21T11:25:19.397717Z",
     "iopub.status.idle": "2022-06-21T11:25:19.403241Z",
     "shell.execute_reply": "2022-06-21T11:25:19.403910Z",
     "shell.execute_reply.started": "2021-12-30T16:05:00.241792Z"
    },
    "papermill": {
     "duration": 0.058475,
     "end_time": "2022-06-21T11:25:19.404120",
     "exception": false,
     "start_time": "2022-06-21T11:25:19.345645",
     "status": "completed"
    },
    "tags": []
   },
   "outputs": [
    {
     "name": "stdout",
     "output_type": "stream",
     "text": [
      "0.0    5000\n",
      "1.0    5000\n",
      "2.0    5000\n",
      "3.0    5000\n",
      "4.0    5000\n",
      "Name: 360, dtype: int64\n"
     ]
    }
   ],
   "source": [
    "per_class = X_train_df[X_train_df.shape[1]-1].value_counts()\n",
    "print(per_class)"
   ]
  },
  {
   "cell_type": "code",
   "execution_count": 14,
   "id": "6654ee66",
   "metadata": {
    "execution": {
     "iopub.execute_input": "2022-06-21T11:25:19.505917Z",
     "iopub.status.busy": "2022-06-21T11:25:19.505148Z",
     "iopub.status.idle": "2022-06-21T11:25:19.554575Z",
     "shell.execute_reply": "2022-06-21T11:25:19.555006Z",
     "shell.execute_reply.started": "2021-12-30T16:05:00.254646Z"
    },
    "papermill": {
     "duration": 0.100186,
     "end_time": "2022-06-21T11:25:19.555159",
     "exception": false,
     "start_time": "2022-06-21T11:25:19.454973",
     "status": "completed"
    },
    "tags": []
   },
   "outputs": [
    {
     "name": "stdout",
     "output_type": "stream",
     "text": [
      "X_train :  (20000, 361)\n",
      "X_test  :  (5000, 361)\n"
     ]
    }
   ],
   "source": [
    "train, test = train_test_split(X_train_df, test_size=0.20)\n",
    "print(\"X_train : \", np.shape(train))\n",
    "print(\"X_test  : \", np.shape(test))"
   ]
  },
  {
   "cell_type": "code",
   "execution_count": 15,
   "id": "d2448c9a",
   "metadata": {
    "execution": {
     "iopub.execute_input": "2022-06-21T11:25:19.654061Z",
     "iopub.status.busy": "2022-06-21T11:25:19.653257Z",
     "iopub.status.idle": "2022-06-21T11:25:19.657837Z",
     "shell.execute_reply": "2022-06-21T11:25:19.658372Z",
     "shell.execute_reply.started": "2021-12-30T16:05:00.310635Z"
    },
    "papermill": {
     "duration": 0.05691,
     "end_time": "2022-06-21T11:25:19.658548",
     "exception": false,
     "start_time": "2022-06-21T11:25:19.601638",
     "status": "completed"
    },
    "tags": []
   },
   "outputs": [
    {
     "name": "stdout",
     "output_type": "stream",
     "text": [
      "(20000, 5) (5000, 5)\n"
     ]
    }
   ],
   "source": [
    "target_train=train[train.shape[1]-1]\n",
    "target_test=test[test.shape[1]-1]\n",
    "train_y=to_categorical(target_train)\n",
    "test_y=to_categorical(target_test)\n",
    "print(np.shape(train_y), np.shape(test_y))"
   ]
  },
  {
   "cell_type": "code",
   "execution_count": 16,
   "id": "76c58685",
   "metadata": {
    "execution": {
     "iopub.execute_input": "2022-06-21T11:25:19.757480Z",
     "iopub.status.busy": "2022-06-21T11:25:19.756777Z",
     "iopub.status.idle": "2022-06-21T11:25:19.759571Z",
     "shell.execute_reply": "2022-06-21T11:25:19.760198Z",
     "shell.execute_reply.started": "2021-12-30T16:05:00.320125Z"
    },
    "papermill": {
     "duration": 0.055986,
     "end_time": "2022-06-21T11:25:19.760379",
     "exception": false,
     "start_time": "2022-06-21T11:25:19.704393",
     "status": "completed"
    },
    "tags": []
   },
   "outputs": [
    {
     "name": "stdout",
     "output_type": "stream",
     "text": [
      "(20000, 360, 1) (5000, 360, 1)\n"
     ]
    }
   ],
   "source": [
    "train_x = train.iloc[:,:train.shape[1]-1].values\n",
    "test_x = test.iloc[:,:test.shape[1]-1].values\n",
    "train_x = train_x.reshape(len(train_x), train_x.shape[1],1)\n",
    "test_x = test_x.reshape(len(test_x), test_x.shape[1],1)\n",
    "print(np.shape(train_x), np.shape(test_x))"
   ]
  },
  {
   "cell_type": "code",
   "execution_count": 17,
   "id": "b3ac65ce",
   "metadata": {
    "execution": {
     "iopub.execute_input": "2022-06-21T11:25:19.860840Z",
     "iopub.status.busy": "2022-06-21T11:25:19.859991Z",
     "iopub.status.idle": "2022-06-21T11:25:19.863160Z",
     "shell.execute_reply": "2022-06-21T11:25:19.863816Z",
     "shell.execute_reply.started": "2021-12-30T16:05:00.33108Z"
    },
    "papermill": {
     "duration": 0.056524,
     "end_time": "2022-06-21T11:25:19.863995",
     "exception": false,
     "start_time": "2022-06-21T11:25:19.807471",
     "status": "completed"
    },
    "tags": []
   },
   "outputs": [
    {
     "name": "stdout",
     "output_type": "stream",
     "text": [
      "[[[ 957.13350248]\n",
      "  [ 960.0916877 ]\n",
      "  [ 965.85831387]\n",
      "  ...\n",
      "  [ 983.47453256]\n",
      "  [ 983.2557543 ]\n",
      "  [ 982.9827084 ]]\n",
      "\n",
      " [[ 963.86490228]\n",
      "  [ 965.73697923]\n",
      "  [ 966.03017358]\n",
      "  ...\n",
      "  [ 987.37283054]\n",
      "  [ 993.45956477]\n",
      "  [ 995.93258053]]\n",
      "\n",
      " [[ 975.45870783]\n",
      "  [ 977.17267861]\n",
      "  [ 979.24828746]\n",
      "  ...\n",
      "  [ 978.02009737]\n",
      "  [ 978.87490718]\n",
      "  [ 978.99801325]]\n",
      "\n",
      " ...\n",
      "\n",
      " [[ 753.9177903 ]\n",
      "  [ 765.21459536]\n",
      "  [ 785.4907701 ]\n",
      "  ...\n",
      "  [ 946.77775478]\n",
      "  [ 945.44437366]\n",
      "  [ 945.18895871]]\n",
      "\n",
      " [[ 973.09133436]\n",
      "  [ 974.04410754]\n",
      "  [ 974.98600429]\n",
      "  ...\n",
      "  [ 981.9003954 ]\n",
      "  [ 981.58718724]\n",
      "  [ 981.28162087]]\n",
      "\n",
      " [[ 989.20234056]\n",
      "  [ 989.91022813]\n",
      "  [ 990.68664814]\n",
      "  ...\n",
      "  [1055.11854739]\n",
      "  [1055.31064943]\n",
      "  [1055.42141419]]]\n"
     ]
    }
   ],
   "source": [
    "print(train_x)"
   ]
  },
  {
   "cell_type": "code",
   "execution_count": 18,
   "id": "d244379a",
   "metadata": {
    "execution": {
     "iopub.execute_input": "2022-06-21T11:25:19.972486Z",
     "iopub.status.busy": "2022-06-21T11:25:19.971913Z",
     "iopub.status.idle": "2022-06-21T11:25:23.446372Z",
     "shell.execute_reply": "2022-06-21T11:25:23.445821Z",
     "shell.execute_reply.started": "2021-12-30T16:05:00.342363Z"
    },
    "papermill": {
     "duration": 3.530189,
     "end_time": "2022-06-21T11:25:23.446525",
     "exception": false,
     "start_time": "2022-06-21T11:25:19.916336",
     "status": "completed"
    },
    "tags": []
   },
   "outputs": [
    {
     "name": "stderr",
     "output_type": "stream",
     "text": [
      "2022-06-21 11:25:20.054589: I tensorflow/stream_executor/cuda/cuda_gpu_executor.cc:937] successful NUMA node read from SysFS had negative value (-1), but there must be at least one NUMA node, so returning NUMA node zero\n",
      "2022-06-21 11:25:20.174106: I tensorflow/stream_executor/cuda/cuda_gpu_executor.cc:937] successful NUMA node read from SysFS had negative value (-1), but there must be at least one NUMA node, so returning NUMA node zero\n",
      "2022-06-21 11:25:20.174861: I tensorflow/stream_executor/cuda/cuda_gpu_executor.cc:937] successful NUMA node read from SysFS had negative value (-1), but there must be at least one NUMA node, so returning NUMA node zero\n",
      "2022-06-21 11:25:20.176510: I tensorflow/core/platform/cpu_feature_guard.cc:142] This TensorFlow binary is optimized with oneAPI Deep Neural Network Library (oneDNN) to use the following CPU instructions in performance-critical operations:  AVX2 AVX512F FMA\n",
      "To enable them in other operations, rebuild TensorFlow with the appropriate compiler flags.\n",
      "2022-06-21 11:25:20.177799: I tensorflow/stream_executor/cuda/cuda_gpu_executor.cc:937] successful NUMA node read from SysFS had negative value (-1), but there must be at least one NUMA node, so returning NUMA node zero\n",
      "2022-06-21 11:25:20.178730: I tensorflow/stream_executor/cuda/cuda_gpu_executor.cc:937] successful NUMA node read from SysFS had negative value (-1), but there must be at least one NUMA node, so returning NUMA node zero\n",
      "2022-06-21 11:25:20.179601: I tensorflow/stream_executor/cuda/cuda_gpu_executor.cc:937] successful NUMA node read from SysFS had negative value (-1), but there must be at least one NUMA node, so returning NUMA node zero\n",
      "2022-06-21 11:25:22.622364: I tensorflow/stream_executor/cuda/cuda_gpu_executor.cc:937] successful NUMA node read from SysFS had negative value (-1), but there must be at least one NUMA node, so returning NUMA node zero\n",
      "2022-06-21 11:25:22.623288: I tensorflow/stream_executor/cuda/cuda_gpu_executor.cc:937] successful NUMA node read from SysFS had negative value (-1), but there must be at least one NUMA node, so returning NUMA node zero\n",
      "2022-06-21 11:25:22.624018: I tensorflow/stream_executor/cuda/cuda_gpu_executor.cc:937] successful NUMA node read from SysFS had negative value (-1), but there must be at least one NUMA node, so returning NUMA node zero\n",
      "2022-06-21 11:25:22.624648: I tensorflow/core/common_runtime/gpu/gpu_device.cc:1510] Created device /job:localhost/replica:0/task:0/device:GPU:0 with 15403 MB memory:  -> device: 0, name: Tesla P100-PCIE-16GB, pci bus id: 0000:00:04.0, compute capability: 6.0\n"
     ]
    }
   ],
   "source": [
    "model1 = Sequential()\n",
    "model1.add(LSTM(units=50, return_sequences=True, activation='tanh', input_shape=(360,1)))\n",
    "model1.add(LSTM(units=10, return_sequences=True, activation='tanh'))\n",
    "model1.add(Flatten())\n",
    "model1.add(Dropout(0.5))\n",
    "model1.add(Dense(35))\n",
    "model1.add(Dense(5))\n",
    "model1.add(Softmax())"
   ]
  },
  {
   "cell_type": "code",
   "execution_count": 19,
   "id": "a519c6d3",
   "metadata": {
    "execution": {
     "iopub.execute_input": "2022-06-21T11:25:23.551850Z",
     "iopub.status.busy": "2022-06-21T11:25:23.550951Z",
     "iopub.status.idle": "2022-06-21T11:25:23.556621Z",
     "shell.execute_reply": "2022-06-21T11:25:23.557089Z",
     "shell.execute_reply.started": "2021-12-30T16:05:03.078636Z"
    },
    "papermill": {
     "duration": 0.062916,
     "end_time": "2022-06-21T11:25:23.557232",
     "exception": false,
     "start_time": "2022-06-21T11:25:23.494316",
     "status": "completed"
    },
    "tags": []
   },
   "outputs": [],
   "source": [
    "model1.compile(loss='categorical_crossentropy', optimizer=Adam(), metrics=['accuracy'])"
   ]
  },
  {
   "cell_type": "code",
   "execution_count": 20,
   "id": "12fb37e7",
   "metadata": {
    "execution": {
     "iopub.execute_input": "2022-06-21T11:25:23.659406Z",
     "iopub.status.busy": "2022-06-21T11:25:23.658652Z",
     "iopub.status.idle": "2022-06-21T11:31:35.022349Z",
     "shell.execute_reply": "2022-06-21T11:31:35.021777Z",
     "shell.execute_reply.started": "2021-12-30T16:05:03.105166Z"
    },
    "papermill": {
     "duration": 371.417494,
     "end_time": "2022-06-21T11:31:35.022494",
     "exception": false,
     "start_time": "2022-06-21T11:25:23.605000",
     "status": "completed"
    },
    "tags": []
   },
   "outputs": [
    {
     "name": "stderr",
     "output_type": "stream",
     "text": [
      "2022-06-21 11:25:23.775501: I tensorflow/compiler/mlir/mlir_graph_optimization_pass.cc:185] None of the MLIR Optimization Passes are enabled (registered 2)\n"
     ]
    },
    {
     "name": "stdout",
     "output_type": "stream",
     "text": [
      "Epoch 1/60\n"
     ]
    },
    {
     "name": "stderr",
     "output_type": "stream",
     "text": [
      "2022-06-21 11:25:27.099824: I tensorflow/stream_executor/cuda/cuda_dnn.cc:369] Loaded cuDNN version 8005\n"
     ]
    },
    {
     "name": "stdout",
     "output_type": "stream",
     "text": [
      "157/157 [==============================] - 11s 42ms/step - loss: 1.6735 - accuracy: 0.2285 - val_loss: 1.5300 - val_accuracy: 0.3134\n",
      "Epoch 2/60\n",
      "157/157 [==============================] - 6s 39ms/step - loss: 1.4040 - accuracy: 0.4115 - val_loss: 1.0434 - val_accuracy: 0.6556\n",
      "Epoch 3/60\n",
      "157/157 [==============================] - 6s 38ms/step - loss: 0.9223 - accuracy: 0.6797 - val_loss: 0.7697 - val_accuracy: 0.7386\n",
      "Epoch 4/60\n",
      "157/157 [==============================] - 6s 39ms/step - loss: 0.7837 - accuracy: 0.7268 - val_loss: 1.1438 - val_accuracy: 0.5522\n",
      "Epoch 5/60\n",
      "157/157 [==============================] - 6s 39ms/step - loss: 0.7341 - accuracy: 0.7507 - val_loss: 0.5993 - val_accuracy: 0.8036\n",
      "Epoch 6/60\n",
      "157/157 [==============================] - 6s 39ms/step - loss: 0.6152 - accuracy: 0.7958 - val_loss: 0.5648 - val_accuracy: 0.8078\n",
      "Epoch 7/60\n",
      "157/157 [==============================] - 6s 39ms/step - loss: 0.5778 - accuracy: 0.8037 - val_loss: 0.5106 - val_accuracy: 0.8300\n",
      "Epoch 8/60\n",
      "157/157 [==============================] - 6s 39ms/step - loss: 0.5501 - accuracy: 0.8137 - val_loss: 0.4678 - val_accuracy: 0.8576\n",
      "Epoch 9/60\n",
      "157/157 [==============================] - 6s 39ms/step - loss: 0.5232 - accuracy: 0.8248 - val_loss: 0.4527 - val_accuracy: 0.8482\n",
      "Epoch 10/60\n",
      "157/157 [==============================] - 6s 38ms/step - loss: 0.5055 - accuracy: 0.8309 - val_loss: 0.4431 - val_accuracy: 0.8520\n",
      "Epoch 11/60\n",
      "157/157 [==============================] - 6s 39ms/step - loss: 0.4788 - accuracy: 0.8363 - val_loss: 0.4060 - val_accuracy: 0.8760\n",
      "Epoch 12/60\n",
      "157/157 [==============================] - 6s 39ms/step - loss: 0.4715 - accuracy: 0.8433 - val_loss: 0.3926 - val_accuracy: 0.8772\n",
      "Epoch 13/60\n",
      "157/157 [==============================] - 6s 39ms/step - loss: 0.4634 - accuracy: 0.8428 - val_loss: 0.4004 - val_accuracy: 0.8686\n",
      "Epoch 14/60\n",
      "157/157 [==============================] - 6s 38ms/step - loss: 0.4391 - accuracy: 0.8516 - val_loss: 0.4025 - val_accuracy: 0.8768\n",
      "Epoch 15/60\n",
      "157/157 [==============================] - 6s 39ms/step - loss: 0.4817 - accuracy: 0.8346 - val_loss: 0.4991 - val_accuracy: 0.8342\n",
      "Epoch 16/60\n",
      "157/157 [==============================] - 6s 39ms/step - loss: 0.4256 - accuracy: 0.8583 - val_loss: 0.3638 - val_accuracy: 0.8836\n",
      "Epoch 17/60\n",
      "157/157 [==============================] - 6s 39ms/step - loss: 0.4110 - accuracy: 0.8632 - val_loss: 0.4607 - val_accuracy: 0.8540\n",
      "Epoch 18/60\n",
      "157/157 [==============================] - 6s 39ms/step - loss: 0.4103 - accuracy: 0.8623 - val_loss: 0.4166 - val_accuracy: 0.8546\n",
      "Epoch 19/60\n",
      "157/157 [==============================] - 6s 38ms/step - loss: 0.3893 - accuracy: 0.8687 - val_loss: 0.3848 - val_accuracy: 0.8772\n",
      "Epoch 20/60\n",
      "157/157 [==============================] - 6s 38ms/step - loss: 0.3932 - accuracy: 0.8658 - val_loss: 0.3435 - val_accuracy: 0.8940\n",
      "Epoch 21/60\n",
      "157/157 [==============================] - 6s 39ms/step - loss: 0.3965 - accuracy: 0.8639 - val_loss: 0.4506 - val_accuracy: 0.8690\n",
      "Epoch 22/60\n",
      "157/157 [==============================] - 6s 39ms/step - loss: 0.4087 - accuracy: 0.8642 - val_loss: 0.3403 - val_accuracy: 0.8846\n",
      "Epoch 23/60\n",
      "157/157 [==============================] - 6s 39ms/step - loss: 0.3729 - accuracy: 0.8733 - val_loss: 0.3283 - val_accuracy: 0.8928\n",
      "Epoch 24/60\n",
      "157/157 [==============================] - 6s 39ms/step - loss: 0.3543 - accuracy: 0.8774 - val_loss: 0.5052 - val_accuracy: 0.8250\n",
      "Epoch 25/60\n",
      "157/157 [==============================] - 6s 39ms/step - loss: 0.3805 - accuracy: 0.8724 - val_loss: 0.3170 - val_accuracy: 0.8992\n",
      "Epoch 26/60\n",
      "157/157 [==============================] - 6s 38ms/step - loss: 0.3463 - accuracy: 0.8815 - val_loss: 0.3802 - val_accuracy: 0.8748\n",
      "Epoch 27/60\n",
      "157/157 [==============================] - 6s 39ms/step - loss: 0.3712 - accuracy: 0.8766 - val_loss: 0.2903 - val_accuracy: 0.9046\n",
      "Epoch 28/60\n",
      "157/157 [==============================] - 6s 39ms/step - loss: 0.3369 - accuracy: 0.8831 - val_loss: 0.3617 - val_accuracy: 0.8944\n",
      "Epoch 29/60\n",
      "157/157 [==============================] - 6s 39ms/step - loss: 0.3191 - accuracy: 0.8903 - val_loss: 0.4006 - val_accuracy: 0.8690\n",
      "Epoch 30/60\n",
      "157/157 [==============================] - 6s 38ms/step - loss: 0.3163 - accuracy: 0.8906 - val_loss: 0.2943 - val_accuracy: 0.9000\n",
      "Epoch 31/60\n",
      "157/157 [==============================] - 6s 39ms/step - loss: 0.3018 - accuracy: 0.8953 - val_loss: 0.2860 - val_accuracy: 0.9034\n",
      "Epoch 32/60\n",
      "157/157 [==============================] - 6s 38ms/step - loss: 0.2979 - accuracy: 0.8949 - val_loss: 0.2614 - val_accuracy: 0.9090\n",
      "Epoch 33/60\n",
      "157/157 [==============================] - 6s 39ms/step - loss: 0.2958 - accuracy: 0.8989 - val_loss: 0.3244 - val_accuracy: 0.8894\n",
      "Epoch 34/60\n",
      "157/157 [==============================] - 6s 39ms/step - loss: 0.3013 - accuracy: 0.8979 - val_loss: 0.2611 - val_accuracy: 0.9120\n",
      "Epoch 35/60\n",
      "157/157 [==============================] - 6s 38ms/step - loss: 0.2747 - accuracy: 0.9054 - val_loss: 0.2568 - val_accuracy: 0.9148\n",
      "Epoch 36/60\n",
      "157/157 [==============================] - 6s 38ms/step - loss: 0.2703 - accuracy: 0.9057 - val_loss: 0.2771 - val_accuracy: 0.9092\n",
      "Epoch 37/60\n",
      "157/157 [==============================] - 6s 39ms/step - loss: 0.3026 - accuracy: 0.8945 - val_loss: 2.0673 - val_accuracy: 0.5644\n",
      "Epoch 38/60\n",
      "157/157 [==============================] - 6s 40ms/step - loss: 2.0991 - accuracy: 0.2691 - val_loss: 1.4453 - val_accuracy: 0.3386\n",
      "Epoch 39/60\n",
      "157/157 [==============================] - 6s 40ms/step - loss: 1.1750 - accuracy: 0.5353 - val_loss: 0.8165 - val_accuracy: 0.7330\n",
      "Epoch 40/60\n",
      "157/157 [==============================] - 6s 39ms/step - loss: 0.8277 - accuracy: 0.7128 - val_loss: 0.7009 - val_accuracy: 0.7644\n",
      "Epoch 41/60\n",
      "157/157 [==============================] - 6s 39ms/step - loss: 0.7064 - accuracy: 0.7551 - val_loss: 0.6296 - val_accuracy: 0.7932\n",
      "Epoch 42/60\n",
      "157/157 [==============================] - 6s 40ms/step - loss: 0.6447 - accuracy: 0.7782 - val_loss: 0.6009 - val_accuracy: 0.8012\n",
      "Epoch 43/60\n",
      "157/157 [==============================] - 6s 39ms/step - loss: 0.5875 - accuracy: 0.7947 - val_loss: 0.5137 - val_accuracy: 0.8172\n",
      "Epoch 44/60\n",
      "157/157 [==============================] - 6s 40ms/step - loss: 0.5241 - accuracy: 0.8159 - val_loss: 0.4561 - val_accuracy: 0.8392\n",
      "Epoch 45/60\n",
      "157/157 [==============================] - 6s 39ms/step - loss: 0.4816 - accuracy: 0.8307 - val_loss: 0.4309 - val_accuracy: 0.8546\n",
      "Epoch 46/60\n",
      "157/157 [==============================] - 6s 38ms/step - loss: 0.4419 - accuracy: 0.8448 - val_loss: 0.3869 - val_accuracy: 0.8692\n",
      "Epoch 47/60\n",
      "157/157 [==============================] - 6s 39ms/step - loss: 0.4210 - accuracy: 0.8551 - val_loss: 0.3654 - val_accuracy: 0.8712\n",
      "Epoch 48/60\n",
      "157/157 [==============================] - 6s 40ms/step - loss: 0.3959 - accuracy: 0.8615 - val_loss: 0.3536 - val_accuracy: 0.8786\n",
      "Epoch 49/60\n",
      "157/157 [==============================] - 6s 40ms/step - loss: 0.3792 - accuracy: 0.8716 - val_loss: 0.3178 - val_accuracy: 0.8920\n",
      "Epoch 50/60\n",
      "157/157 [==============================] - 6s 39ms/step - loss: 0.3654 - accuracy: 0.8730 - val_loss: 0.3141 - val_accuracy: 0.8946\n",
      "Epoch 51/60\n",
      "157/157 [==============================] - 6s 38ms/step - loss: 0.3634 - accuracy: 0.8733 - val_loss: 0.3047 - val_accuracy: 0.8954\n",
      "Epoch 52/60\n",
      "157/157 [==============================] - 6s 39ms/step - loss: 0.3563 - accuracy: 0.8778 - val_loss: 0.3340 - val_accuracy: 0.8886\n",
      "Epoch 53/60\n",
      "157/157 [==============================] - 6s 40ms/step - loss: 0.3279 - accuracy: 0.8885 - val_loss: 0.2858 - val_accuracy: 0.9058\n",
      "Epoch 54/60\n",
      "157/157 [==============================] - 6s 40ms/step - loss: 0.3220 - accuracy: 0.8881 - val_loss: 0.2862 - val_accuracy: 0.9028\n",
      "Epoch 55/60\n",
      "157/157 [==============================] - 6s 40ms/step - loss: 0.3056 - accuracy: 0.8943 - val_loss: 0.2717 - val_accuracy: 0.9076\n",
      "Epoch 56/60\n",
      "157/157 [==============================] - 6s 37ms/step - loss: 0.3068 - accuracy: 0.8921 - val_loss: 0.2928 - val_accuracy: 0.8998\n",
      "Epoch 57/60\n",
      "157/157 [==============================] - 6s 39ms/step - loss: 0.3095 - accuracy: 0.8938 - val_loss: 0.2749 - val_accuracy: 0.9068\n",
      "Epoch 58/60\n",
      "157/157 [==============================] - 6s 40ms/step - loss: 0.2891 - accuracy: 0.9017 - val_loss: 0.3278 - val_accuracy: 0.8884\n",
      "Epoch 59/60\n",
      "157/157 [==============================] - 6s 39ms/step - loss: 0.2912 - accuracy: 0.9007 - val_loss: 0.2490 - val_accuracy: 0.9180\n",
      "Epoch 60/60\n",
      "157/157 [==============================] - 6s 39ms/step - loss: 0.2914 - accuracy: 0.9010 - val_loss: 0.2509 - val_accuracy: 0.9132\n"
     ]
    }
   ],
   "source": [
    "history  = model1.fit(train_x, train_y, batch_size=128, epochs=60, verbose=1, validation_data=(test_x, test_y))"
   ]
  },
  {
   "cell_type": "code",
   "execution_count": 21,
   "id": "48ca4975",
   "metadata": {
    "execution": {
     "iopub.execute_input": "2022-06-21T11:31:38.011193Z",
     "iopub.status.busy": "2022-06-21T11:31:38.009961Z",
     "iopub.status.idle": "2022-06-21T11:31:40.471358Z",
     "shell.execute_reply": "2022-06-21T11:31:40.470572Z",
     "shell.execute_reply.started": "2021-12-30T16:17:57.75145Z"
    },
    "papermill": {
     "duration": 3.96768,
     "end_time": "2022-06-21T11:31:40.471545",
     "exception": false,
     "start_time": "2022-06-21T11:31:36.503865",
     "status": "completed"
    },
    "tags": []
   },
   "outputs": [
    {
     "name": "stdout",
     "output_type": "stream",
     "text": [
      "157/157 [==============================] - 2s 15ms/step - loss: 0.2509 - accuracy: 0.9132\n",
      "0.9132000207901001\n"
     ]
    }
   ],
   "source": [
    "score1 = model1.evaluate(test_x, test_y)\n",
    "print(score1[1])"
   ]
  },
  {
   "cell_type": "code",
   "execution_count": 22,
   "id": "4d95b8ff",
   "metadata": {
    "execution": {
     "iopub.execute_input": "2022-06-21T11:31:43.466613Z",
     "iopub.status.busy": "2022-06-21T11:31:43.465721Z",
     "iopub.status.idle": "2022-06-21T11:31:43.482360Z",
     "shell.execute_reply": "2022-06-21T11:31:43.481872Z",
     "shell.execute_reply.started": "2021-12-30T16:18:02.235751Z"
    },
    "papermill": {
     "duration": 1.523323,
     "end_time": "2022-06-21T11:31:43.482486",
     "exception": false,
     "start_time": "2022-06-21T11:31:41.959163",
     "status": "completed"
    },
    "tags": []
   },
   "outputs": [],
   "source": [
    "def speci(kcm):\n",
    "    total=sum(sum(kcm))\n",
    "    sensitivity1 = kcm[0,0]/(kcm[0,0]+kcm[0,1]+kcm[0,2]+kcm[0,3]+kcm[0,4])\n",
    "    print('Sensitivity of  Non-ecotic beats (normal beat) ', sensitivity1 )\n",
    "    specificity1 = (kcm[1,1]+kcm[2,2]+kcm[3,3]+kcm[4,4])/(total-(kcm[0,0]+kcm[0,1]+kcm[0,2]+kcm[0,3]+kcm[0,4]))\n",
    "    print('Specificity of  Non-ecotic beats (normal beat) ', specificity1)\n",
    "    sensitivity1 = kcm[1,1]/(kcm[1,0]+kcm[1,1]+kcm[1,2]+kcm[1,3]+kcm[1,4])\n",
    "    print('Sensitivity of  Supraventricular ectopic beats ', sensitivity1 )\n",
    "    specificity1 = (kcm[0,0]+kcm[2,2]+kcm[3,3]+kcm[4,4])/(total-(kcm[1,0]+kcm[1,1]+kcm[1,2]+kcm[1,3]+kcm[1,4]))\n",
    "    print('Specificity of  Supraventricular ectopic beats ', specificity1)\n",
    "    sensitivity1 = kcm[2,2]/(kcm[2,0]+kcm[2,1]+kcm[2,2]+kcm[2,3]+kcm[2,4])\n",
    "    print('Sensitivity of  Ventricular ectopic beats  ', sensitivity1 )\n",
    "    specificity1 = (kcm[1,1]+kcm[0,0]+kcm[3,3]+kcm[4,4])/(total-(kcm[2,0]+kcm[2,1]+kcm[2,2]+kcm[2,3]+kcm[2,4]))\n",
    "    print('Specificity of  Ventricular ectopic beats ', specificity1)\n",
    "    sensitivity1 = kcm[3,3]/(kcm[3,0]+kcm[3,1]+kcm[3,2]+kcm[3,3]+kcm[3,4])\n",
    "    print('Sensitivity of  Fusion Beats ', sensitivity1 )\n",
    "    specificity1 = (kcm[1,1]+kcm[2,2]+kcm[0,0]+kcm[4,4])/(total-(kcm[3,0]+kcm[3,1]+kcm[3,2]+kcm[3,3]+kcm[3,4]))\n",
    "    print('Specificity of  Fusion Beats ', specificity1)\n",
    "    sensitivity1 = kcm[4,4]/(kcm[4,0]+kcm[4,1]+kcm[4,2]+kcm[4,3]+kcm[4,4])\n",
    "    print('Sensitivity of  Unknown Beats ', sensitivity1 )\n",
    "    specificity1 = (kcm[1,1]+kcm[2,2]+kcm[3,3]+kcm[0,0])/(total-(kcm[4,0]+kcm[4,1]+kcm[4,2]+kcm[4,3]+kcm[4,4]))\n",
    "    print('Specificity of  Unknown Beats ', specificity1)\n",
    "    "
   ]
  },
  {
   "cell_type": "code",
   "execution_count": 23,
   "id": "75893c76",
   "metadata": {
    "execution": {
     "iopub.execute_input": "2022-06-21T11:31:46.718292Z",
     "iopub.status.busy": "2022-06-21T11:31:46.717392Z",
     "iopub.status.idle": "2022-06-21T11:31:49.395510Z",
     "shell.execute_reply": "2022-06-21T11:31:49.396300Z",
     "shell.execute_reply.started": "2021-12-30T16:18:02.255959Z"
    },
    "papermill": {
     "duration": 4.498392,
     "end_time": "2022-06-21T11:31:49.396520",
     "exception": false,
     "start_time": "2022-06-21T11:31:44.898128",
     "status": "completed"
    },
    "tags": []
   },
   "outputs": [
    {
     "name": "stdout",
     "output_type": "stream",
     "text": [
      "[[884  45   6  31  37]\n",
      " [ 98 844   5   2   5]\n",
      " [ 20  16 941  19  12]\n",
      " [ 76   0  39 932  14]\n",
      " [  6   1   2   0 965]]\n",
      "              precision    recall  f1-score   support\n",
      "\n",
      "           0       0.82      0.88      0.85      1003\n",
      "           1       0.93      0.88      0.91       954\n",
      "           2       0.95      0.93      0.94      1008\n",
      "           3       0.95      0.88      0.91      1061\n",
      "           4       0.93      0.99      0.96       974\n",
      "\n",
      "    accuracy                           0.91      5000\n",
      "   macro avg       0.92      0.91      0.91      5000\n",
      "weighted avg       0.92      0.91      0.91      5000\n",
      "\n",
      "Sensitivity of  Non-ecotic beats (normal beat)  0.8813559322033898\n",
      "Specificity of  Non-ecotic beats (normal beat)  0.9211908931698775\n",
      "Sensitivity of  Supraventricular ectopic beats  0.8846960167714885\n",
      "Specificity of  Supraventricular ectopic beats  0.9199209095402867\n",
      "Sensitivity of  Ventricular ectopic beats   0.933531746031746\n",
      "Specificity of  Ventricular ectopic beats  0.908066132264529\n",
      "Sensitivity of  Fusion Beats  0.8784165881244109\n",
      "Specificity of  Fusion Beats  0.9225691799949226\n",
      "Sensitivity of  Unknown Beats  0.9907597535934292\n",
      "Specificity of  Unknown Beats  0.8944361649279682\n"
     ]
    }
   ],
   "source": [
    "from sklearn.metrics import confusion_matrix,  classification_report\n",
    "Y_pred = model1.predict(test_x)\n",
    "Y_pred_classes = np.argmax(Y_pred,axis = 1) \n",
    "Y_true = np.argmax(test_y,axis = 1) \n",
    "confusion_mtx = confusion_matrix(Y_true, Y_pred_classes) \n",
    "print(confusion_mtx)\n",
    "print(classification_report(Y_true, Y_pred_classes))\n",
    "speci(confusion_mtx)"
   ]
  },
  {
   "cell_type": "code",
   "execution_count": 24,
   "id": "4f0c98e5",
   "metadata": {
    "execution": {
     "iopub.execute_input": "2022-06-21T11:31:52.158137Z",
     "iopub.status.busy": "2022-06-21T11:31:52.157436Z",
     "iopub.status.idle": "2022-06-21T11:31:52.432504Z",
     "shell.execute_reply": "2022-06-21T11:31:52.433004Z"
    },
    "papermill": {
     "duration": 1.653567,
     "end_time": "2022-06-21T11:31:52.433172",
     "exception": false,
     "start_time": "2022-06-21T11:31:50.779605",
     "status": "completed"
    },
    "tags": []
   },
   "outputs": [
    {
     "data": {
      "image/png": "[encoded data removed]",
      "text/plain": [
       "<Figure size 432x432 with 1 Axes>"
      ]
     },
     "metadata": {
      "needs_background": "light"
     },
     "output_type": "display_data"
    }
   ],
   "source": [
    "from mlxtend.plotting import plot_confusion_matrix\n",
    "fig, ax = plot_confusion_matrix(conf_mat=confusion_mtx, figsize=(6, 6), cmap=plt.cm.Blues)\n",
    "plt.xlabel('Predictions', fontsize=18)\n",
    "plt.ylabel('Actuals', fontsize=18)\n",
    "plt.title('Confusion Matrix', fontsize=18)\n",
    "plt.show()"
   ]
  },
  {
   "cell_type": "code",
   "execution_count": 25,
   "id": "afc0ac1b",
   "metadata": {
    "execution": {
     "iopub.execute_input": "2022-06-21T11:31:55.216188Z",
     "iopub.status.busy": "2022-06-21T11:31:55.215184Z",
     "iopub.status.idle": "2022-06-21T11:32:09.104280Z",
     "shell.execute_reply": "2022-06-21T11:32:09.103472Z",
     "shell.execute_reply.started": "2021-12-30T16:18:08.551996Z"
    },
    "papermill": {
     "duration": 15.266996,
     "end_time": "2022-06-21T11:32:09.104417",
     "exception": false,
     "start_time": "2022-06-21T11:31:53.837421",
     "status": "completed"
    },
    "tags": []
   },
   "outputs": [
    {
     "name": "stdout",
     "output_type": "stream",
     "text": [
      "(20000, 3600)\n",
      "(5000, 3600)\n"
     ]
    }
   ],
   "source": [
    "model_feat = Model(inputs=model1.input,outputs=model1.get_layer('flatten').output)\n",
    "feat_train = model_feat.predict(train_x)\n",
    "print(feat_train.shape)\n",
    "feat_test = model_feat.predict(test_x)\n",
    "print(feat_test.shape)"
   ]
  },
  {
   "cell_type": "code",
   "execution_count": 26,
   "id": "2eee08b3",
   "metadata": {
    "execution": {
     "iopub.execute_input": "2022-06-21T11:32:12.009369Z",
     "iopub.status.busy": "2022-06-21T11:32:12.008825Z",
     "iopub.status.idle": "2022-06-21T11:33:34.424029Z",
     "shell.execute_reply": "2022-06-21T11:33:34.424506Z",
     "shell.execute_reply.started": "2021-12-30T16:18:36.254838Z"
    },
    "papermill": {
     "duration": 83.844003,
     "end_time": "2022-06-21T11:33:34.424697",
     "exception": false,
     "start_time": "2022-06-21T11:32:10.580694",
     "status": "completed"
    },
    "tags": []
   },
   "outputs": [
    {
     "name": "stdout",
     "output_type": "stream",
     "text": [
      "Training time: 80.9495496749878s\n"
     ]
    }
   ],
   "source": [
    "from sklearn.preprocessing import StandardScaler\n",
    "from sklearn.discriminant_analysis import LinearDiscriminantAnalysis as LDA\n",
    "import time\n",
    "start0 = time.time()\n",
    "sc = StandardScaler()\n",
    "X_train = sc.fit_transform(feat_train)\n",
    "X_test = sc.transform(feat_test)\n",
    "lda = LDA(n_components=4)\n",
    "lda_X_train = lda.fit_transform(X_train,np.argmax(train_y,axis=1))\n",
    "lda_X_test = lda.transform(X_test)\n",
    "stop0=time.time()\n",
    "print(f\"Training time: {stop0 - start0}s\")"
   ]
  },
  {
   "cell_type": "code",
   "execution_count": 27,
   "id": "4743d3a0",
   "metadata": {
    "execution": {
     "iopub.execute_input": "2022-06-21T11:33:37.352210Z",
     "iopub.status.busy": "2022-06-21T11:33:37.351307Z",
     "iopub.status.idle": "2022-06-21T11:33:37.354300Z",
     "shell.execute_reply": "2022-06-21T11:33:37.354708Z",
     "shell.execute_reply.started": "2021-12-30T16:18:48.390316Z"
    },
    "papermill": {
     "duration": 1.347725,
     "end_time": "2022-06-21T11:33:37.354855",
     "exception": false,
     "start_time": "2022-06-21T11:33:36.007130",
     "status": "completed"
    },
    "tags": []
   },
   "outputs": [
    {
     "name": "stdout",
     "output_type": "stream",
     "text": [
      "(20000, 4)\n",
      "(5000, 4)\n"
     ]
    }
   ],
   "source": [
    "print(lda_X_train.shape)\n",
    "print(lda_X_test.shape)"
   ]
  },
  {
   "cell_type": "code",
   "execution_count": 28,
   "id": "3c9d9367",
   "metadata": {
    "execution": {
     "iopub.execute_input": "2022-06-21T11:33:40.001950Z",
     "iopub.status.busy": "2022-06-21T11:33:40.001078Z",
     "iopub.status.idle": "2022-06-21T11:33:40.003166Z",
     "shell.execute_reply": "2022-06-21T11:33:40.003548Z",
     "shell.execute_reply.started": "2021-12-30T16:18:48.405122Z"
    },
    "papermill": {
     "duration": 1.332232,
     "end_time": "2022-06-21T11:33:40.003730",
     "exception": false,
     "start_time": "2022-06-21T11:33:38.671498",
     "status": "completed"
    },
    "tags": []
   },
   "outputs": [],
   "source": [
    "import time"
   ]
  },
  {
   "cell_type": "code",
   "execution_count": 29,
   "id": "6c634717",
   "metadata": {
    "execution": {
     "iopub.execute_input": "2022-06-21T11:33:42.714551Z",
     "iopub.status.busy": "2022-06-21T11:33:42.713688Z",
     "iopub.status.idle": "2022-06-21T11:33:43.132827Z",
     "shell.execute_reply": "2022-06-21T11:33:43.133811Z",
     "shell.execute_reply.started": "2021-12-30T16:18:48.416255Z"
    },
    "papermill": {
     "duration": 1.732109,
     "end_time": "2022-06-21T11:33:43.134008",
     "exception": false,
     "start_time": "2022-06-21T11:33:41.401899",
     "status": "completed"
    },
    "tags": []
   },
   "outputs": [
    {
     "name": "stdout",
     "output_type": "stream",
     "text": [
      "Training time: 0.41583871841430664s\n"
     ]
    }
   ],
   "source": [
    "from sklearn.svm import SVC\n",
    "svm = SVC(kernel='rbf')\n",
    "t0=time.time()\n",
    "svm.fit(lda_X_train,np.argmax(train_y,axis=1))\n",
    "t1=time.time()\n",
    "print(f\"Training time: {t1-t0}s\")"
   ]
  },
  {
   "cell_type": "code",
   "execution_count": 30,
   "id": "eeea8d92",
   "metadata": {
    "execution": {
     "iopub.execute_input": "2022-06-21T11:33:45.774631Z",
     "iopub.status.busy": "2022-06-21T11:33:45.773855Z",
     "iopub.status.idle": "2022-06-21T11:33:45.935506Z",
     "shell.execute_reply": "2022-06-21T11:33:45.936117Z",
     "shell.execute_reply.started": "2021-12-30T16:19:03.626374Z"
    },
    "papermill": {
     "duration": 1.494417,
     "end_time": "2022-06-21T11:33:45.936310",
     "exception": false,
     "start_time": "2022-06-21T11:33:44.441893",
     "status": "completed"
    },
    "tags": []
   },
   "outputs": [
    {
     "name": "stdout",
     "output_type": "stream",
     "text": [
      "[3 4 1 ... 3 3 2]\n",
      "Testing time: 2.802701711654663s\n"
     ]
    }
   ],
   "source": [
    "t2=time.time()\n",
    "Pred_labels = svm.predict(lda_X_test)\n",
    "t3=time.time()\n",
    "print(Pred_labels )\n",
    "print(f\"Testing time: {t3-t1}s\")"
   ]
  },
  {
   "cell_type": "code",
   "execution_count": 31,
   "id": "dc59011c",
   "metadata": {
    "execution": {
     "iopub.execute_input": "2022-06-21T11:33:48.882238Z",
     "iopub.status.busy": "2022-06-21T11:33:48.881344Z",
     "iopub.status.idle": "2022-06-21T11:33:48.884743Z",
     "shell.execute_reply": "2022-06-21T11:33:48.885316Z",
     "shell.execute_reply.started": "2021-12-30T16:19:08.112454Z"
    },
    "papermill": {
     "duration": 1.367414,
     "end_time": "2022-06-21T11:33:48.885500",
     "exception": false,
     "start_time": "2022-06-21T11:33:47.518086",
     "status": "completed"
    },
    "tags": []
   },
   "outputs": [
    {
     "name": "stdout",
     "output_type": "stream",
     "text": [
      "Accuracy: 0.9456\n"
     ]
    }
   ],
   "source": [
    "from sklearn import metrics\n",
    "accuracy = metrics.accuracy_score(target_test ,Pred_labels)\n",
    "print(\"Accuracy:\",accuracy)"
   ]
  },
  {
   "cell_type": "code",
   "execution_count": 32,
   "id": "16ceef74",
   "metadata": {
    "execution": {
     "iopub.execute_input": "2022-06-21T11:33:51.533696Z",
     "iopub.status.busy": "2022-06-21T11:33:51.532508Z",
     "iopub.status.idle": "2022-06-21T11:33:51.563373Z",
     "shell.execute_reply": "2022-06-21T11:33:51.563991Z",
     "shell.execute_reply.started": "2021-12-30T16:19:08.120595Z"
    },
    "papermill": {
     "duration": 1.356306,
     "end_time": "2022-06-21T11:33:51.564171",
     "exception": false,
     "start_time": "2022-06-21T11:33:50.207865",
     "status": "completed"
    },
    "tags": []
   },
   "outputs": [
    {
     "name": "stdout",
     "output_type": "stream",
     "text": [
      "[[ 933   28   16   18    8]\n",
      " [  63  881    9    1    0]\n",
      " [  41   13  936   13    5]\n",
      " [  40    0    8 1010    3]\n",
      " [   6    0    0    0  968]]\n",
      "              precision    recall  f1-score   support\n",
      "\n",
      "         0.0       0.86      0.93      0.89      1003\n",
      "         1.0       0.96      0.92      0.94       954\n",
      "         2.0       0.97      0.93      0.95      1008\n",
      "         3.0       0.97      0.95      0.96      1061\n",
      "         4.0       0.98      0.99      0.99       974\n",
      "\n",
      "    accuracy                           0.95      5000\n",
      "   macro avg       0.95      0.95      0.95      5000\n",
      "weighted avg       0.95      0.95      0.95      5000\n",
      "\n",
      "Sensitivity of  Non-ecotic beats (normal beat)  0.9302093718843469\n",
      "Specificity of  Non-ecotic beats (normal beat)  0.9494620965724293\n",
      "Sensitivity of  Supraventricular ectopic beats  0.9234800838574424\n",
      "Specificity of  Supraventricular ectopic beats  0.9508156203657934\n",
      "Sensitivity of  Ventricular ectopic beats   0.9285714285714286\n",
      "Specificity of  Ventricular ectopic beats  0.9498997995991983\n",
      "Sensitivity of  Fusion Beats  0.9519321394910462\n",
      "Specificity of  Fusion Beats  0.9438943894389439\n",
      "Sensitivity of  Unknown Beats  0.9938398357289527\n",
      "Specificity of  Unknown Beats  0.9339294585196225\n"
     ]
    }
   ],
   "source": [
    "cm = confusion_matrix(target_test, Pred_labels) \n",
    "print(cm)\n",
    "print(classification_report(target_test, Pred_labels))\n",
    "speci(cm)"
   ]
  },
  {
   "cell_type": "code",
   "execution_count": 33,
   "id": "cec4a1cc",
   "metadata": {
    "execution": {
     "iopub.execute_input": "2022-06-21T11:33:54.228135Z",
     "iopub.status.busy": "2022-06-21T11:33:54.227227Z",
     "iopub.status.idle": "2022-06-21T11:33:54.382494Z",
     "shell.execute_reply": "2022-06-21T11:33:54.382051Z"
    },
    "papermill": {
     "duration": 1.497226,
     "end_time": "2022-06-21T11:33:54.382659",
     "exception": false,
     "start_time": "2022-06-21T11:33:52.885433",
     "status": "completed"
    },
    "tags": []
   },
   "outputs": [
    {
     "data": {
      "image/png": "[encoded data removed]",
      "text/plain": [
       "<Figure size 432x432 with 1 Axes>"
      ]
     },
     "metadata": {
      "needs_background": "light"
     },
     "output_type": "display_data"
    }
   ],
   "source": [
    "from mlxtend.plotting import plot_confusion_matrix\n",
    "fig, ax = plot_confusion_matrix(conf_mat=cm, figsize=(6, 6), cmap=plt.cm.Blues)\n",
    "plt.xlabel('Predictions', fontsize=18)\n",
    "plt.ylabel('Actuals', fontsize=18)\n",
    "plt.title('Confusion Matrix', fontsize=18)\n",
    "plt.show()"
   ]
  },
  {
   "cell_type": "code",
   "execution_count": 34,
   "id": "81d702df",
   "metadata": {
    "execution": {
     "iopub.execute_input": "2022-06-21T11:33:57.111127Z",
     "iopub.status.busy": "2022-06-21T11:33:57.110466Z",
     "iopub.status.idle": "2022-06-21T11:33:57.206883Z",
     "shell.execute_reply": "2022-06-21T11:33:57.207592Z",
     "shell.execute_reply.started": "2021-12-30T16:19:08.140563Z"
    },
    "papermill": {
     "duration": 1.496026,
     "end_time": "2022-06-21T11:33:57.207851",
     "exception": false,
     "start_time": "2022-06-21T11:33:55.711825",
     "status": "completed"
    },
    "tags": []
   },
   "outputs": [
    {
     "name": "stdout",
     "output_type": "stream",
     "text": [
      "Training time: 0.03840899467468262s\n"
     ]
    }
   ],
   "source": [
    "from sklearn import metrics\n",
    "from sklearn.neighbors import KNeighborsClassifier\n",
    "knn = KNeighborsClassifier(n_neighbors=5)\n",
    "t4=time.time()\n",
    "knn.fit(lda_X_train,np.argmax(train_y,axis=1))\n",
    "t5=time.time()\n",
    "print(f\"Training time: {t5-t4}s\")"
   ]
  },
  {
   "cell_type": "code",
   "execution_count": 35,
   "id": "e75e042e",
   "metadata": {
    "execution": {
     "iopub.execute_input": "2022-06-21T11:34:00.595760Z",
     "iopub.status.busy": "2022-06-21T11:34:00.594894Z",
     "iopub.status.idle": "2022-06-21T11:34:00.916498Z",
     "shell.execute_reply": "2022-06-21T11:34:00.917916Z",
     "shell.execute_reply.started": "2021-12-30T16:19:09.281649Z"
    },
    "papermill": {
     "duration": 2.115988,
     "end_time": "2022-06-21T11:34:00.918629",
     "exception": false,
     "start_time": "2022-06-21T11:33:58.802641",
     "status": "completed"
    },
    "tags": []
   },
   "outputs": [
    {
     "name": "stdout",
     "output_type": "stream",
     "text": [
      "[3 4 1 ... 3 3 2]\n",
      "Testing time: 0.3227651119232178s\n"
     ]
    }
   ],
   "source": [
    "t6=time.time()\n",
    "knn_labels = knn.predict(lda_X_test)\n",
    "t7=time.time()\n",
    "print(knn_labels )\n",
    "print(f\"Testing time: {t7-t6}s\")"
   ]
  },
  {
   "cell_type": "code",
   "execution_count": 36,
   "id": "99811d6f",
   "metadata": {
    "execution": {
     "iopub.execute_input": "2022-06-21T11:34:03.711813Z",
     "iopub.status.busy": "2022-06-21T11:34:03.711132Z",
     "iopub.status.idle": "2022-06-21T11:34:03.741727Z",
     "shell.execute_reply": "2022-06-21T11:34:03.742372Z",
     "shell.execute_reply.started": "2021-12-30T16:19:22.125253Z"
    },
    "papermill": {
     "duration": 1.370519,
     "end_time": "2022-06-21T11:34:03.742558",
     "exception": false,
     "start_time": "2022-06-21T11:34:02.372039",
     "status": "completed"
    },
    "tags": []
   },
   "outputs": [
    {
     "name": "stdout",
     "output_type": "stream",
     "text": [
      "Accuracy: 0.9528\n",
      "[[ 912   38   15   29    9]\n",
      " [  44  896   11    3    0]\n",
      " [  25   16  939   21    7]\n",
      " [  13    0    3 1045    0]\n",
      " [   2    0    0    0  972]]\n",
      "              precision    recall  f1-score   support\n",
      "\n",
      "         0.0       0.92      0.91      0.91      1003\n",
      "         1.0       0.94      0.94      0.94       954\n",
      "         2.0       0.97      0.93      0.95      1008\n",
      "         3.0       0.95      0.98      0.97      1061\n",
      "         4.0       0.98      1.00      0.99       974\n",
      "\n",
      "    accuracy                           0.95      5000\n",
      "   macro avg       0.95      0.95      0.95      5000\n",
      "weighted avg       0.95      0.95      0.95      5000\n",
      "\n",
      "Sensitivity of  Non-ecotic beats (normal beat)  0.909272183449651\n",
      "Specificity of  Non-ecotic beats (normal beat)  0.9637227920940705\n",
      "Sensitivity of  Supraventricular ectopic beats  0.939203354297694\n",
      "Specificity of  Supraventricular ectopic beats  0.9560059317844785\n",
      "Sensitivity of  Ventricular ectopic beats   0.9315476190476191\n",
      "Specificity of  Ventricular ectopic beats  0.9581663326653307\n",
      "Sensitivity of  Fusion Beats  0.9849198868991518\n",
      "Specificity of  Fusion Beats  0.9441482609799442\n",
      "Sensitivity of  Unknown Beats  0.997946611909651\n",
      "Specificity of  Unknown Beats  0.9418777943368107\n"
     ]
    }
   ],
   "source": [
    "from sklearn import metrics\n",
    "accuracy = metrics.accuracy_score(target_test ,knn_labels)\n",
    "print(\"Accuracy:\",accuracy)\n",
    "cm = confusion_matrix(target_test, knn_labels) \n",
    "print(cm)\n",
    "print(classification_report(target_test, knn_labels))\n",
    "speci(cm)"
   ]
  },
  {
   "cell_type": "code",
   "execution_count": 37,
   "id": "bc056088",
   "metadata": {
    "execution": {
     "iopub.execute_input": "2022-06-21T11:34:06.467192Z",
     "iopub.status.busy": "2022-06-21T11:34:06.463144Z",
     "iopub.status.idle": "2022-06-21T11:34:06.616108Z",
     "shell.execute_reply": "2022-06-21T11:34:06.616508Z"
    },
    "papermill": {
     "duration": 1.502604,
     "end_time": "2022-06-21T11:34:06.616709",
     "exception": false,
     "start_time": "2022-06-21T11:34:05.114105",
     "status": "completed"
    },
    "tags": []
   },
   "outputs": [
    {
     "data": {
      "image/png": "[encoded data removed]",
      "text/plain": [
       "<Figure size 432x432 with 1 Axes>"
      ]
     },
     "metadata": {
      "needs_background": "light"
     },
     "output_type": "display_data"
    }
   ],
   "source": [
    "from mlxtend.plotting import plot_confusion_matrix\n",
    "fig, ax = plot_confusion_matrix(conf_mat=cm, figsize=(6, 6), cmap=plt.cm.Blues)\n",
    "plt.xlabel('Predictions', fontsize=18)\n",
    "plt.ylabel('Actuals', fontsize=18)\n",
    "plt.title('Confusion Matrix', fontsize=18)\n",
    "plt.show()"
   ]
  },
  {
   "cell_type": "code",
   "execution_count": 38,
   "id": "80ff73ed",
   "metadata": {
    "execution": {
     "iopub.execute_input": "2022-06-21T11:34:09.581134Z",
     "iopub.status.busy": "2022-06-21T11:34:09.580253Z",
     "iopub.status.idle": "2022-06-21T11:34:10.074369Z",
     "shell.execute_reply": "2022-06-21T11:34:10.074951Z",
     "shell.execute_reply.started": "2021-12-30T16:19:22.145159Z"
    },
    "papermill": {
     "duration": 2.100313,
     "end_time": "2022-06-21T11:34:10.075165",
     "exception": false,
     "start_time": "2022-06-21T11:34:07.974852",
     "status": "completed"
    },
    "tags": []
   },
   "outputs": [
    {
     "name": "stdout",
     "output_type": "stream",
     "text": [
      "Training time: 0.4910874366760254s\n"
     ]
    }
   ],
   "source": [
    "from sklearn.svm import SVC\n",
    "svclassifier = SVC(kernel='sigmoid')\n",
    "t8=time.time()\n",
    "svclassifier.fit(lda_X_train,np.argmax(train_y,axis=1))\n",
    "t9=time.time()\n",
    "print(f\"Training time: {t9-t8}s\")"
   ]
  },
  {
   "cell_type": "code",
   "execution_count": 39,
   "id": "b6c76fbe",
   "metadata": {
    "execution": {
     "iopub.execute_input": "2022-06-21T11:34:12.822171Z",
     "iopub.status.busy": "2022-06-21T11:34:12.821420Z",
     "iopub.status.idle": "2022-06-21T11:34:13.027114Z",
     "shell.execute_reply": "2022-06-21T11:34:13.027827Z",
     "shell.execute_reply.started": "2021-12-30T16:19:41.308715Z"
    },
    "papermill": {
     "duration": 1.541508,
     "end_time": "2022-06-21T11:34:13.028032",
     "exception": false,
     "start_time": "2022-06-21T11:34:11.486524",
     "status": "completed"
    },
    "tags": []
   },
   "outputs": [
    {
     "name": "stdout",
     "output_type": "stream",
     "text": [
      "[3 4 1 ... 3 3 2]\n",
      "Testing time: 0.20147466659545898s\n"
     ]
    }
   ],
   "source": [
    "t10=time.time()\n",
    "svm_labels = svclassifier.predict(lda_X_test)\n",
    "t11=time.time()\n",
    "print(svm_labels )\n",
    "print(f\"Testing time: {t11-t10}s\")"
   ]
  },
  {
   "cell_type": "code",
   "execution_count": 40,
   "id": "67315402",
   "metadata": {
    "execution": {
     "iopub.execute_input": "2022-06-21T11:34:15.721120Z",
     "iopub.status.busy": "2022-06-21T11:34:15.720275Z",
     "iopub.status.idle": "2022-06-21T11:34:15.747259Z",
     "shell.execute_reply": "2022-06-21T11:34:15.746773Z",
     "shell.execute_reply.started": "2021-12-30T16:19:46.90107Z"
    },
    "papermill": {
     "duration": 1.373827,
     "end_time": "2022-06-21T11:34:15.747393",
     "exception": false,
     "start_time": "2022-06-21T11:34:14.373566",
     "status": "completed"
    },
    "tags": []
   },
   "outputs": [
    {
     "name": "stdout",
     "output_type": "stream",
     "text": [
      "Accuracy: 0.9392\n",
      "[[ 902   47   16   24   14]\n",
      " [  51  893    7    2    1]\n",
      " [  19   23  922   36    8]\n",
      " [  32    0    8 1010   11]\n",
      " [   5    0    0    0  969]]\n",
      "              precision    recall  f1-score   support\n",
      "\n",
      "         0.0       0.89      0.90      0.90      1003\n",
      "         1.0       0.93      0.94      0.93       954\n",
      "         2.0       0.97      0.91      0.94      1008\n",
      "         3.0       0.94      0.95      0.95      1061\n",
      "         4.0       0.97      0.99      0.98       974\n",
      "\n",
      "    accuracy                           0.94      5000\n",
      "   macro avg       0.94      0.94      0.94      5000\n",
      "weighted avg       0.94      0.94      0.94      5000\n",
      "\n",
      "Sensitivity of  Non-ecotic beats (normal beat)  0.8993020937188435\n",
      "Specificity of  Non-ecotic beats (normal beat)  0.9492119089316988\n",
      "Sensitivity of  Supraventricular ectopic beats  0.9360587002096437\n",
      "Specificity of  Supraventricular ectopic beats  0.939940682155215\n",
      "Sensitivity of  Ventricular ectopic beats   0.9146825396825397\n",
      "Specificity of  Ventricular ectopic beats  0.9453907815631263\n",
      "Sensitivity of  Fusion Beats  0.9519321394910462\n",
      "Specificity of  Fusion Beats  0.9357705001269357\n",
      "Sensitivity of  Unknown Beats  0.9948665297741273\n",
      "Specificity of  Unknown Beats  0.9257327372081471\n"
     ]
    }
   ],
   "source": [
    "from sklearn import metrics\n",
    "accuracy = metrics.accuracy_score(target_test ,svm_labels)\n",
    "print(\"Accuracy:\",accuracy)\n",
    "cm = confusion_matrix(target_test, svm_labels) \n",
    "print(cm)\n",
    "print(classification_report(target_test, svm_labels))\n",
    "speci(cm)"
   ]
  },
  {
   "cell_type": "code",
   "execution_count": 41,
   "id": "50dc9915",
   "metadata": {
    "execution": {
     "iopub.execute_input": "2022-06-21T11:34:18.462550Z",
     "iopub.status.busy": "2022-06-21T11:34:18.460811Z",
     "iopub.status.idle": "2022-06-21T11:34:18.609815Z",
     "shell.execute_reply": "2022-06-21T11:34:18.610217Z"
    },
    "papermill": {
     "duration": 1.538913,
     "end_time": "2022-06-21T11:34:18.610363",
     "exception": false,
     "start_time": "2022-06-21T11:34:17.071450",
     "status": "completed"
    },
    "tags": []
   },
   "outputs": [
    {
     "data": {
      "image/png": "[encoded data removed]",
      "text/plain": [
       "<Figure size 432x432 with 1 Axes>"
      ]
     },
     "metadata": {
      "needs_background": "light"
     },
     "output_type": "display_data"
    }
   ],
   "source": [
    "from mlxtend.plotting import plot_confusion_matrix\n",
    "fig, ax = plot_confusion_matrix(conf_mat=cm, figsize=(6, 6), cmap=plt.cm.Blues)\n",
    "plt.xlabel('Predictions', fontsize=18)\n",
    "plt.ylabel('Actuals', fontsize=18)\n",
    "plt.title('Confusion Matrix', fontsize=18)\n",
    "plt.show()"
   ]
  },
  {
   "cell_type": "code",
   "execution_count": 42,
   "id": "228892ee",
   "metadata": {
    "execution": {
     "iopub.execute_input": "2022-06-21T11:34:21.552706Z",
     "iopub.status.busy": "2022-06-21T11:34:21.551801Z",
     "iopub.status.idle": "2022-06-21T11:34:22.507329Z",
     "shell.execute_reply": "2022-06-21T11:34:22.507936Z",
     "shell.execute_reply.started": "2021-12-30T16:19:46.922665Z"
    },
    "papermill": {
     "duration": 2.298961,
     "end_time": "2022-06-21T11:34:22.508130",
     "exception": false,
     "start_time": "2022-06-21T11:34:20.209169",
     "status": "completed"
    },
    "tags": []
   },
   "outputs": [
    {
     "name": "stdout",
     "output_type": "stream",
     "text": [
      "Training time: 0.9530572891235352s\n"
     ]
    }
   ],
   "source": [
    "from sklearn.svm import SVC\n",
    "svclassifier = SVC(kernel='poly', degree=8)\n",
    "t12=time.time()\n",
    "svclassifier.fit(lda_X_train,np.argmax(train_y,axis=1))\n",
    "t13=time.time()\n",
    "print(f\"Training time: {t13-t12}s\")"
   ]
  },
  {
   "cell_type": "code",
   "execution_count": 43,
   "id": "f5440ced",
   "metadata": {
    "execution": {
     "iopub.execute_input": "2022-06-21T11:34:25.196436Z",
     "iopub.status.busy": "2022-06-21T11:34:25.195506Z",
     "iopub.status.idle": "2022-06-21T11:34:25.394163Z",
     "shell.execute_reply": "2022-06-21T11:34:25.394763Z",
     "shell.execute_reply.started": "2021-12-30T16:21:09.459476Z"
    },
    "papermill": {
     "duration": 1.546876,
     "end_time": "2022-06-21T11:34:25.394956",
     "exception": false,
     "start_time": "2022-06-21T11:34:23.848080",
     "status": "completed"
    },
    "tags": []
   },
   "outputs": [
    {
     "name": "stdout",
     "output_type": "stream",
     "text": [
      "[3 4 1 ... 3 3 2]\n",
      "Testing time: 0.19575047492980957s\n"
     ]
    }
   ],
   "source": [
    "t14=time.time()\n",
    "svm_labels = svclassifier.predict(lda_X_test)\n",
    "t15=time.time()\n",
    "print(svm_labels )\n",
    "print(f\"Testing time: {t15-t14}s\")"
   ]
  },
  {
   "cell_type": "code",
   "execution_count": 44,
   "id": "4d06a2c9",
   "metadata": {
    "execution": {
     "iopub.execute_input": "2022-06-21T11:34:28.141007Z",
     "iopub.status.busy": "2022-06-21T11:34:28.140120Z",
     "iopub.status.idle": "2022-06-21T11:34:28.168409Z",
     "shell.execute_reply": "2022-06-21T11:34:28.169095Z",
     "shell.execute_reply.started": "2021-12-30T16:21:22.256144Z"
    },
    "papermill": {
     "duration": 1.433306,
     "end_time": "2022-06-21T11:34:28.169257",
     "exception": false,
     "start_time": "2022-06-21T11:34:26.735951",
     "status": "completed"
    },
    "tags": []
   },
   "outputs": [
    {
     "name": "stdout",
     "output_type": "stream",
     "text": [
      "Accuracy: 0.8934\n",
      "[[965  11  15   7   5]\n",
      " [169 775   8   2   0]\n",
      " [123  16 835  14  20]\n",
      " [109   0   1 951   0]\n",
      " [ 33   0   0   0 941]]\n",
      "              precision    recall  f1-score   support\n",
      "\n",
      "         0.0       0.69      0.96      0.80      1003\n",
      "         1.0       0.97      0.81      0.88       954\n",
      "         2.0       0.97      0.83      0.89      1008\n",
      "         3.0       0.98      0.90      0.93      1061\n",
      "         4.0       0.97      0.97      0.97       974\n",
      "\n",
      "    accuracy                           0.89      5000\n",
      "   macro avg       0.92      0.89      0.90      5000\n",
      "weighted avg       0.92      0.89      0.90      5000\n",
      "\n",
      "Sensitivity of  Non-ecotic beats (normal beat)  0.9621136590229312\n",
      "Specificity of  Non-ecotic beats (normal beat)  0.8761571178383788\n",
      "Sensitivity of  Supraventricular ectopic beats  0.8123689727463312\n",
      "Specificity of  Supraventricular ectopic beats  0.9125061789421651\n",
      "Sensitivity of  Ventricular ectopic beats   0.8283730158730159\n",
      "Specificity of  Ventricular ectopic beats  0.9098196392785571\n",
      "Sensitivity of  Fusion Beats  0.8963242224316682\n",
      "Specificity of  Fusion Beats  0.8926123381568926\n",
      "Sensitivity of  Unknown Beats  0.9661190965092402\n",
      "Specificity of  Unknown Beats  0.8758072528564332\n"
     ]
    }
   ],
   "source": [
    "from sklearn import metrics\n",
    "accuracy = metrics.accuracy_score(target_test ,svm_labels)\n",
    "print(\"Accuracy:\",accuracy)\n",
    "cm = confusion_matrix(target_test, svm_labels) \n",
    "print(cm)\n",
    "print(classification_report(target_test, svm_labels))\n",
    "speci(cm)"
   ]
  },
  {
   "cell_type": "code",
   "execution_count": 45,
   "id": "db697df3",
   "metadata": {
    "execution": {
     "iopub.execute_input": "2022-06-21T11:34:31.189701Z",
     "iopub.status.busy": "2022-06-21T11:34:31.188090Z",
     "iopub.status.idle": "2022-06-21T11:34:31.313452Z",
     "shell.execute_reply": "2022-06-21T11:34:31.313882Z"
    },
    "papermill": {
     "duration": 1.793792,
     "end_time": "2022-06-21T11:34:31.314035",
     "exception": false,
     "start_time": "2022-06-21T11:34:29.520243",
     "status": "completed"
    },
    "tags": []
   },
   "outputs": [
    {
     "data": {
      "image/png": "[encoded data removed]",
      "text/plain": [
       "<Figure size 432x432 with 1 Axes>"
      ]
     },
     "metadata": {
      "needs_background": "light"
     },
     "output_type": "display_data"
    }
   ],
   "source": [
    "from mlxtend.plotting import plot_confusion_matrix\n",
    "fig, ax = plot_confusion_matrix(conf_mat=cm, figsize=(6, 6), cmap=plt.cm.Blues)\n",
    "plt.xlabel('Predictions', fontsize=18)\n",
    "plt.ylabel('Actuals', fontsize=18)\n",
    "plt.title('Confusion Matrix', fontsize=18)\n",
    "plt.show()"
   ]
  },
  {
   "cell_type": "code",
   "execution_count": 46,
   "id": "ff2268a8",
   "metadata": {
    "execution": {
     "iopub.execute_input": "2022-06-21T11:34:34.546813Z",
     "iopub.status.busy": "2022-06-21T11:34:34.545902Z",
     "iopub.status.idle": "2022-06-21T11:34:34.558258Z",
     "shell.execute_reply": "2022-06-21T11:34:34.557616Z",
     "shell.execute_reply.started": "2021-12-30T16:21:22.280387Z"
    },
    "papermill": {
     "duration": 1.897756,
     "end_time": "2022-06-21T11:34:34.558419",
     "exception": false,
     "start_time": "2022-06-21T11:34:32.660663",
     "status": "completed"
    },
    "tags": []
   },
   "outputs": [
    {
     "name": "stdout",
     "output_type": "stream",
     "text": [
      "Training time: 0.005137443542480469s\n"
     ]
    }
   ],
   "source": [
    "from sklearn.naive_bayes import GaussianNB\n",
    "gnb = GaussianNB()\n",
    "t16=time.time()\n",
    "gnb.fit(lda_X_train,np.argmax(train_y,axis=1))\n",
    "t17=time.time()\n",
    "print(f\"Training time: {t17-t16}s\")"
   ]
  },
  {
   "cell_type": "code",
   "execution_count": 47,
   "id": "c27e8b50",
   "metadata": {
    "execution": {
     "iopub.execute_input": "2022-06-21T11:34:37.315945Z",
     "iopub.status.busy": "2022-06-21T11:34:37.314915Z",
     "iopub.status.idle": "2022-06-21T11:34:37.320110Z",
     "shell.execute_reply": "2022-06-21T11:34:37.320734Z",
     "shell.execute_reply.started": "2021-12-30T16:21:22.31421Z"
    },
    "papermill": {
     "duration": 1.366551,
     "end_time": "2022-06-21T11:34:37.320924",
     "exception": false,
     "start_time": "2022-06-21T11:34:35.954373",
     "status": "completed"
    },
    "tags": []
   },
   "outputs": [
    {
     "name": "stdout",
     "output_type": "stream",
     "text": [
      "[3 4 1 ... 3 3 2]\n",
      "Testing time: 0.0030829906463623047s\n"
     ]
    }
   ],
   "source": [
    "t18=time.time()\n",
    "gnb_labels = gnb.predict(lda_X_test)\n",
    "t19=time.time()\n",
    "print(gnb_labels )\n",
    "print(f\"Testing time: {t19-t18}s\")"
   ]
  },
  {
   "cell_type": "code",
   "execution_count": 48,
   "id": "029b0d75",
   "metadata": {
    "execution": {
     "iopub.execute_input": "2022-06-21T11:34:39.998900Z",
     "iopub.status.busy": "2022-06-21T11:34:39.997990Z",
     "iopub.status.idle": "2022-06-21T11:34:40.028179Z",
     "shell.execute_reply": "2022-06-21T11:34:40.028751Z",
     "shell.execute_reply.started": "2021-12-30T16:21:22.339055Z"
    },
    "papermill": {
     "duration": 1.366665,
     "end_time": "2022-06-21T11:34:40.028993",
     "exception": false,
     "start_time": "2022-06-21T11:34:38.662328",
     "status": "completed"
    },
    "tags": []
   },
   "outputs": [
    {
     "name": "stdout",
     "output_type": "stream",
     "text": [
      "Accuracy: 0.9438\n",
      "[[ 957   17   12   13    4]\n",
      " [  87  856   11    0    0]\n",
      " [  41   11  935   16    5]\n",
      " [  47    0    8 1003    3]\n",
      " [   6    0    0    0  968]]\n",
      "              precision    recall  f1-score   support\n",
      "\n",
      "         0.0       0.84      0.95      0.89      1003\n",
      "         1.0       0.97      0.90      0.93       954\n",
      "         2.0       0.97      0.93      0.95      1008\n",
      "         3.0       0.97      0.95      0.96      1061\n",
      "         4.0       0.99      0.99      0.99       974\n",
      "\n",
      "    accuracy                           0.94      5000\n",
      "   macro avg       0.95      0.94      0.94      5000\n",
      "weighted avg       0.95      0.94      0.94      5000\n",
      "\n",
      "Sensitivity of  Non-ecotic beats (normal beat)  0.9541375872382851\n",
      "Specificity of  Non-ecotic beats (normal beat)  0.9412059044283212\n",
      "Sensitivity of  Supraventricular ectopic beats  0.8972746331236897\n",
      "Specificity of  Supraventricular ectopic beats  0.9547701433514583\n",
      "Sensitivity of  Ventricular ectopic beats   0.9275793650793651\n",
      "Specificity of  Ventricular ectopic beats  0.9478957915831663\n",
      "Sensitivity of  Fusion Beats  0.9453345900094251\n",
      "Specificity of  Fusion Beats  0.9433866463569434\n",
      "Sensitivity of  Unknown Beats  0.9938398357289527\n",
      "Specificity of  Unknown Beats  0.9316939890710383\n"
     ]
    }
   ],
   "source": [
    "from sklearn import metrics\n",
    "accuracy = metrics.accuracy_score(target_test ,gnb_labels)\n",
    "print(\"Accuracy:\",accuracy)\n",
    "cm = confusion_matrix(target_test, gnb_labels) \n",
    "print(cm)\n",
    "print(classification_report(target_test, gnb_labels))\n",
    "speci(cm)"
   ]
  },
  {
   "cell_type": "code",
   "execution_count": 49,
   "id": "038967cf",
   "metadata": {
    "execution": {
     "iopub.execute_input": "2022-06-21T11:34:43.157693Z",
     "iopub.status.busy": "2022-06-21T11:34:43.156840Z",
     "iopub.status.idle": "2022-06-21T11:34:43.339494Z",
     "shell.execute_reply": "2022-06-21T11:34:43.340236Z"
    },
    "papermill": {
     "duration": 1.735328,
     "end_time": "2022-06-21T11:34:43.340469",
     "exception": false,
     "start_time": "2022-06-21T11:34:41.605141",
     "status": "completed"
    },
    "tags": []
   },
   "outputs": [
    {
     "data": {
      "image/png": "[encoded data removed]",
      "text/plain": [
       "<Figure size 432x432 with 1 Axes>"
      ]
     },
     "metadata": {
      "needs_background": "light"
     },
     "output_type": "display_data"
    }
   ],
   "source": [
    "from mlxtend.plotting import plot_confusion_matrix\n",
    "fig, ax = plot_confusion_matrix(conf_mat=cm, figsize=(6, 6), cmap=plt.cm.Blues)\n",
    "plt.xlabel('Predictions', fontsize=18)\n",
    "plt.ylabel('Actuals', fontsize=18)\n",
    "plt.title('Confusion Matrix', fontsize=18)\n",
    "plt.show()"
   ]
  },
  {
   "cell_type": "code",
   "execution_count": 50,
   "id": "63bc8c34",
   "metadata": {
    "execution": {
     "iopub.execute_input": "2022-06-21T11:34:46.050229Z",
     "iopub.status.busy": "2022-06-21T11:34:46.049420Z",
     "iopub.status.idle": "2022-06-21T11:34:46.156826Z",
     "shell.execute_reply": "2022-06-21T11:34:46.156312Z",
     "shell.execute_reply.started": "2021-12-30T16:21:22.360518Z"
    },
    "papermill": {
     "duration": 1.457652,
     "end_time": "2022-06-21T11:34:46.156963",
     "exception": false,
     "start_time": "2022-06-21T11:34:44.699311",
     "status": "completed"
    },
    "tags": []
   },
   "outputs": [
    {
     "name": "stdout",
     "output_type": "stream",
     "text": [
      "Training time: 0.07977509498596191s\n"
     ]
    }
   ],
   "source": [
    "from sklearn.tree import DecisionTreeClassifier\n",
    "dt = DecisionTreeClassifier()\n",
    "t20=time.time()\n",
    "dt.fit(lda_X_train,np.argmax(train_y,axis=1))\n",
    "t21=time.time()\n",
    "print(f\"Training time: {t21-t20}s\")"
   ]
  },
  {
   "cell_type": "code",
   "execution_count": 51,
   "id": "63de9c8c",
   "metadata": {
    "execution": {
     "iopub.execute_input": "2022-06-21T11:34:48.888670Z",
     "iopub.status.busy": "2022-06-21T11:34:48.887756Z",
     "iopub.status.idle": "2022-06-21T11:34:48.893808Z",
     "shell.execute_reply": "2022-06-21T11:34:48.893334Z",
     "shell.execute_reply.started": "2021-12-30T16:21:27.75184Z"
    },
    "papermill": {
     "duration": 1.391763,
     "end_time": "2022-06-21T11:34:48.893928",
     "exception": false,
     "start_time": "2022-06-21T11:34:47.502165",
     "status": "completed"
    },
    "tags": []
   },
   "outputs": [
    {
     "name": "stdout",
     "output_type": "stream",
     "text": [
      "[3 4 1 ... 3 3 2]\n",
      "Testing time: 0.00213623046875s\n"
     ]
    }
   ],
   "source": [
    "t22=time.time()\n",
    "dt_labels = dt.predict(lda_X_test)\n",
    "t23=time.time()\n",
    "print(dt_labels )\n",
    "print(f\"Testing time: {t23-t22}s\")"
   ]
  },
  {
   "cell_type": "code",
   "execution_count": 52,
   "id": "ac84d0fe",
   "metadata": {
    "execution": {
     "iopub.execute_input": "2022-06-21T11:34:51.585406Z",
     "iopub.status.busy": "2022-06-21T11:34:51.584498Z",
     "iopub.status.idle": "2022-06-21T11:34:51.612625Z",
     "shell.execute_reply": "2022-06-21T11:34:51.613096Z",
     "shell.execute_reply.started": "2021-12-30T16:21:27.768562Z"
    },
    "papermill": {
     "duration": 1.378098,
     "end_time": "2022-06-21T11:34:51.613283",
     "exception": false,
     "start_time": "2022-06-21T11:34:50.235185",
     "status": "completed"
    },
    "tags": []
   },
   "outputs": [
    {
     "name": "stdout",
     "output_type": "stream",
     "text": [
      "Accuracy: 0.9596\n",
      "[[ 919   43   21   16    4]\n",
      " [  38  908    8    0    0]\n",
      " [  38   11  936   21    2]\n",
      " [   0    0    0 1061    0]\n",
      " [   0    0    0    0  974]]\n",
      "              precision    recall  f1-score   support\n",
      "\n",
      "         0.0       0.92      0.92      0.92      1003\n",
      "         1.0       0.94      0.95      0.95       954\n",
      "         2.0       0.97      0.93      0.95      1008\n",
      "         3.0       0.97      1.00      0.98      1061\n",
      "         4.0       0.99      1.00      1.00       974\n",
      "\n",
      "    accuracy                           0.96      5000\n",
      "   macro avg       0.96      0.96      0.96      5000\n",
      "weighted avg       0.96      0.96      0.96      5000\n",
      "\n",
      "Sensitivity of  Non-ecotic beats (normal beat)  0.9162512462612163\n",
      "Specificity of  Non-ecotic beats (normal beat)  0.9704778583937953\n",
      "Sensitivity of  Supraventricular ectopic beats  0.9517819706498952\n",
      "Specificity of  Supraventricular ectopic beats  0.9614434008897677\n",
      "Sensitivity of  Ventricular ectopic beats   0.9285714285714286\n",
      "Specificity of  Ventricular ectopic beats  0.967434869739479\n",
      "Sensitivity of  Fusion Beats  1.0\n",
      "Specificity of  Fusion Beats  0.9487179487179487\n",
      "Sensitivity of  Unknown Beats  1.0\n",
      "Specificity of  Unknown Beats  0.949826130153999\n"
     ]
    }
   ],
   "source": [
    "from sklearn import metrics\n",
    "accuracy = metrics.accuracy_score(target_test ,dt_labels)\n",
    "print(\"Accuracy:\",accuracy)\n",
    "cm = confusion_matrix(target_test, dt_labels) \n",
    "print(cm)\n",
    "print(classification_report(target_test, dt_labels))\n",
    "speci(cm)"
   ]
  },
  {
   "cell_type": "code",
   "execution_count": 53,
   "id": "0a11b0e3",
   "metadata": {
    "execution": {
     "iopub.execute_input": "2022-06-21T11:34:54.576406Z",
     "iopub.status.busy": "2022-06-21T11:34:54.575379Z",
     "iopub.status.idle": "2022-06-21T11:34:54.722282Z",
     "shell.execute_reply": "2022-06-21T11:34:54.722688Z"
    },
    "papermill": {
     "duration": 1.504286,
     "end_time": "2022-06-21T11:34:54.722841",
     "exception": false,
     "start_time": "2022-06-21T11:34:53.218555",
     "status": "completed"
    },
    "tags": []
   },
   "outputs": [
    {
     "data": {
      "image/png": "[encoded data removed]",
      "text/plain": [
       "<Figure size 432x432 with 1 Axes>"
      ]
     },
     "metadata": {
      "needs_background": "light"
     },
     "output_type": "display_data"
    }
   ],
   "source": [
    "from mlxtend.plotting import plot_confusion_matrix\n",
    "fig, ax = plot_confusion_matrix(conf_mat=cm, figsize=(6, 6), cmap=plt.cm.Blues)\n",
    "plt.xlabel('Predictions', fontsize=18)\n",
    "plt.ylabel('Actuals', fontsize=18)\n",
    "plt.title('Confusion Matrix', fontsize=18)\n",
    "plt.show()"
   ]
  },
  {
   "cell_type": "code",
   "execution_count": 54,
   "id": "22d8c735",
   "metadata": {
    "execution": {
     "iopub.execute_input": "2022-06-21T11:34:57.450119Z",
     "iopub.status.busy": "2022-06-21T11:34:57.449279Z",
     "iopub.status.idle": "2022-06-21T11:34:59.939235Z",
     "shell.execute_reply": "2022-06-21T11:34:59.938421Z",
     "shell.execute_reply.started": "2021-12-30T16:21:27.796604Z"
    },
    "papermill": {
     "duration": 3.871768,
     "end_time": "2022-06-21T11:34:59.939361",
     "exception": false,
     "start_time": "2022-06-21T11:34:56.067593",
     "status": "completed"
    },
    "tags": []
   },
   "outputs": [
    {
     "name": "stdout",
     "output_type": "stream",
     "text": [
      "Training time: 2.465975761413574s\n"
     ]
    }
   ],
   "source": [
    "from sklearn.ensemble import RandomForestClassifier\n",
    "rfc= RandomForestClassifier()\n",
    "t24=time.time()\n",
    "rfc.fit(lda_X_train,np.argmax(train_y,axis=1))\n",
    "t25=time.time()\n",
    "print(f\"Training time: {t25-t24}s\")"
   ]
  },
  {
   "cell_type": "code",
   "execution_count": 55,
   "id": "ee9949d8",
   "metadata": {
    "execution": {
     "iopub.execute_input": "2022-06-21T11:35:02.669701Z",
     "iopub.status.busy": "2022-06-21T11:35:02.668713Z",
     "iopub.status.idle": "2022-06-21T11:35:02.725724Z",
     "shell.execute_reply": "2022-06-21T11:35:02.726338Z",
     "shell.execute_reply.started": "2021-12-30T16:21:50.679079Z"
    },
    "papermill": {
     "duration": 1.4298,
     "end_time": "2022-06-21T11:35:02.726545",
     "exception": false,
     "start_time": "2022-06-21T11:35:01.296745",
     "status": "completed"
    },
    "tags": []
   },
   "outputs": [
    {
     "name": "stdout",
     "output_type": "stream",
     "text": [
      "[3 4 1 ... 3 3 2]\n",
      "Testing time: 0.055420875549316406s\n"
     ]
    }
   ],
   "source": [
    "t26=time.time()\n",
    "rfc_labels = rfc.predict(lda_X_test)\n",
    "t27=time.time()\n",
    "print(rfc_labels )\n",
    "print(f\"Testing time: {t27-t26}s\")"
   ]
  },
  {
   "cell_type": "code",
   "execution_count": 56,
   "id": "3d64d03b",
   "metadata": {
    "execution": {
     "iopub.execute_input": "2022-06-21T11:35:05.773561Z",
     "iopub.status.busy": "2022-06-21T11:35:05.772815Z",
     "iopub.status.idle": "2022-06-21T11:35:05.818881Z",
     "shell.execute_reply": "2022-06-21T11:35:05.819735Z",
     "shell.execute_reply.started": "2021-12-30T16:21:50.777017Z"
    },
    "papermill": {
     "duration": 1.478516,
     "end_time": "2022-06-21T11:35:05.819946",
     "exception": false,
     "start_time": "2022-06-21T11:35:04.341430",
     "status": "completed"
    },
    "tags": []
   },
   "outputs": [
    {
     "name": "stdout",
     "output_type": "stream",
     "text": [
      "Accuracy: 0.9664\n",
      "[[ 938   26   19   14    6]\n",
      " [  28  914    8    4    0]\n",
      " [  28   15  945   16    4]\n",
      " [   0    0    0 1061    0]\n",
      " [   0    0    0    0  974]]\n",
      "              precision    recall  f1-score   support\n",
      "\n",
      "         0.0       0.94      0.94      0.94      1003\n",
      "         1.0       0.96      0.96      0.96       954\n",
      "         2.0       0.97      0.94      0.95      1008\n",
      "         3.0       0.97      1.00      0.98      1061\n",
      "         4.0       0.99      1.00      0.99       974\n",
      "\n",
      "    accuracy                           0.97      5000\n",
      "   macro avg       0.97      0.97      0.97      5000\n",
      "weighted avg       0.97      0.97      0.97      5000\n",
      "\n",
      "Sensitivity of  Non-ecotic beats (normal beat)  0.9351944167497508\n",
      "Specificity of  Non-ecotic beats (normal beat)  0.9742306730047535\n",
      "Sensitivity of  Supraventricular ectopic beats  0.9580712788259959\n",
      "Specificity of  Supraventricular ectopic beats  0.9683638161146811\n",
      "Sensitivity of  Ventricular ectopic beats   0.9375\n",
      "Specificity of  Ventricular ectopic beats  0.9736973947895792\n",
      "Sensitivity of  Fusion Beats  1.0\n",
      "Specificity of  Fusion Beats  0.9573495811119573\n",
      "Sensitivity of  Unknown Beats  1.0\n",
      "Specificity of  Unknown Beats  0.9582712369597616\n"
     ]
    }
   ],
   "source": [
    "from sklearn import metrics\n",
    "accuracy = metrics.accuracy_score(target_test ,rfc_labels)\n",
    "print(\"Accuracy:\",accuracy)\n",
    "cm = confusion_matrix(target_test, rfc_labels) \n",
    "print(cm)\n",
    "print(classification_report(target_test, rfc_labels))\n",
    "speci(cm)"
   ]
  },
  {
   "cell_type": "code",
   "execution_count": 57,
   "id": "5011ae9c",
   "metadata": {
    "execution": {
     "iopub.execute_input": "2022-06-21T11:35:09.041746Z",
     "iopub.status.busy": "2022-06-21T11:35:09.038558Z",
     "iopub.status.idle": "2022-06-21T11:35:09.189546Z",
     "shell.execute_reply": "2022-06-21T11:35:09.190030Z"
    },
    "papermill": {
     "duration": 1.540741,
     "end_time": "2022-06-21T11:35:09.190177",
     "exception": false,
     "start_time": "2022-06-21T11:35:07.649436",
     "status": "completed"
    },
    "tags": []
   },
   "outputs": [
    {
     "data": {
      "image/png": "[encoded data removed]",
      "text/plain": [
       "<Figure size 432x432 with 1 Axes>"
      ]
     },
     "metadata": {
      "needs_background": "light"
     },
     "output_type": "display_data"
    }
   ],
   "source": [
    "from mlxtend.plotting import plot_confusion_matrix\n",
    "fig, ax = plot_confusion_matrix(conf_mat=cm, figsize=(6, 6), cmap=plt.cm.Blues)\n",
    "plt.xlabel('Predictions', fontsize=18)\n",
    "plt.ylabel('Actuals', fontsize=18)\n",
    "plt.title('Confusion Matrix', fontsize=18)\n",
    "plt.show()"
   ]
  },
  {
   "cell_type": "code",
   "execution_count": 58,
   "id": "4bae3d1d",
   "metadata": {
    "execution": {
     "iopub.execute_input": "2022-06-21T11:35:11.892782Z",
     "iopub.status.busy": "2022-06-21T11:35:11.891809Z",
     "iopub.status.idle": "2022-06-21T11:35:11.893693Z",
     "shell.execute_reply": "2022-06-21T11:35:11.894127Z"
    },
    "papermill": {
     "duration": 1.353807,
     "end_time": "2022-06-21T11:35:11.894260",
     "exception": false,
     "start_time": "2022-06-21T11:35:10.540453",
     "status": "completed"
    },
    "tags": []
   },
   "outputs": [],
   "source": [
    "target= X_train_df[X_train_df.shape[1]-1]\n",
    "feature = X_train_df.iloc[:,:X_train_df.shape[1]-1].values\n",
    "feature = feature.reshape(len(feature), feature.shape[1],1)"
   ]
  },
  {
   "cell_type": "code",
   "execution_count": 59,
   "id": "9fda6171",
   "metadata": {
    "execution": {
     "iopub.execute_input": "2022-06-21T11:35:14.957259Z",
     "iopub.status.busy": "2022-06-21T11:35:14.956320Z",
     "iopub.status.idle": "2022-06-21T11:37:01.406019Z",
     "shell.execute_reply": "2022-06-21T11:37:01.406726Z"
    },
    "papermill": {
     "duration": 108.102354,
     "end_time": "2022-06-21T11:37:01.406910",
     "exception": false,
     "start_time": "2022-06-21T11:35:13.304556",
     "status": "completed"
    },
    "tags": []
   },
   "outputs": [
    {
     "name": "stdout",
     "output_type": "stream",
     "text": [
      "(25000, 4)\n"
     ]
    }
   ],
   "source": [
    "feat = model_feat.predict(feature)\n",
    "X_train = sc.fit_transform(feat)\n",
    "lda = LDA(n_components=4)\n",
    "lda_train = lda.fit_transform(X_train, target)\n",
    "print(lda_train.shape)"
   ]
  },
  {
   "cell_type": "code",
   "execution_count": 60,
   "id": "4a45abaf",
   "metadata": {
    "execution": {
     "iopub.execute_input": "2022-06-21T11:37:04.123018Z",
     "iopub.status.busy": "2022-06-21T11:37:04.122135Z",
     "iopub.status.idle": "2022-06-21T11:37:33.387012Z",
     "shell.execute_reply": "2022-06-21T11:37:33.387568Z"
    },
    "papermill": {
     "duration": 30.622941,
     "end_time": "2022-06-21T11:37:33.387788",
     "exception": false,
     "start_time": "2022-06-21T11:37:02.764847",
     "status": "completed"
    },
    "tags": []
   },
   "outputs": [
    {
     "name": "stdout",
     "output_type": "stream",
     "text": [
      "[0.9868 0.9904 0.9884 0.9884 0.9916 0.9896 0.9916 0.9916 0.9908 0.9896]\n"
     ]
    }
   ],
   "source": [
    "from sklearn.model_selection import cross_val_score\n",
    "score = cross_val_score(rfc, lda_train, target, scoring='accuracy', cv=10)\n",
    "print(score)"
   ]
  },
  {
   "cell_type": "code",
   "execution_count": 61,
   "id": "e4146f6d",
   "metadata": {
    "execution": {
     "iopub.execute_input": "2022-06-21T11:37:36.163015Z",
     "iopub.status.busy": "2022-06-21T11:37:36.162335Z",
     "iopub.status.idle": "2022-06-21T11:37:36.165602Z",
     "shell.execute_reply": "2022-06-21T11:37:36.166278Z"
    },
    "papermill": {
     "duration": 1.398449,
     "end_time": "2022-06-21T11:37:36.166459",
     "exception": false,
     "start_time": "2022-06-21T11:37:34.768010",
     "status": "completed"
    },
    "tags": []
   },
   "outputs": [
    {
     "name": "stdout",
     "output_type": "stream",
     "text": [
      "Avg : 0.98988\n"
     ]
    }
   ],
   "source": [
    "print(\"Avg :\",np.average(score))"
   ]
  }
 ],
 "metadata": {
  "kernelspec": {
   "display_name": "Python 3",
   "language": "python",
   "name": "python3"
  },
  "language_info": {
   "codemirror_mode": {
    "name": "ipython",
    "version": 3
   },
   "file_extension": ".py",
   "mimetype": "text/x-python",
   "name": "python",
   "nbconvert_exporter": "python",
   "pygments_lexer": "ipython3",
   "version": "3.7.12"
  },
  "papermill": {
   "default_parameters": {},
   "duration": 839.653098,
   "end_time": "2022-06-21T11:37:41.410248",
   "environment_variables": {},
   "exception": null,
   "input_path": "__notebook__.ipynb",
   "output_path": "__notebook__.ipynb",
   "parameters": {},
   "start_time": "2022-06-21T11:23:41.757150",
   "version": "2.3.3"
  }
 },
 "nbformat": 4,
 "nbformat_minor": 5
}
