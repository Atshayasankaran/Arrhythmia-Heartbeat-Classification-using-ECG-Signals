{
 "cells": [
  {
   "cell_type": "code",
   "execution_count": 1,
   "id": "f8b5d255",
   "metadata": {
    "_cell_guid": "b1076dfc-b9ad-4769-8c92-a6c4dae69d19",
    "_uuid": "8f2839f25d086af736a60e9eeb907d3b93b6e0e5",
    "execution": {
     "iopub.execute_input": "2022-06-21T08:46:43.669240Z",
     "iopub.status.busy": "2022-06-21T08:46:43.667686Z",
     "iopub.status.idle": "2022-06-21T08:46:43.812565Z",
     "shell.execute_reply": "2022-06-21T08:46:43.813273Z",
     "shell.execute_reply.started": "2022-06-21T07:22:03.800411Z"
    },
    "papermill": {
     "duration": 0.193894,
     "end_time": "2022-06-21T08:46:43.813614",
     "exception": false,
     "start_time": "2022-06-21T08:46:43.619720",
     "status": "completed"
    },
    "tags": []
   },
   "outputs": [
    {
     "name": "stdout",
     "output_type": "stream",
     "text": [
      "/kaggle/input/mitbit-arrhythmia-database/mitbih_database/112annotations.txt\n",
      "/kaggle/input/mitbit-arrhythmia-database/mitbih_database/233.csv\n",
      "/kaggle/input/mitbit-arrhythmia-database/mitbih_database/108.csv\n",
      "/kaggle/input/mitbit-arrhythmia-database/mitbih_database/118annotations.txt\n",
      "/kaggle/input/mitbit-arrhythmia-database/mitbih_database/231.csv\n",
      "/kaggle/input/mitbit-arrhythmia-database/mitbih_database/207.csv\n",
      "/kaggle/input/mitbit-arrhythmia-database/mitbih_database/115annotations.txt\n",
      "/kaggle/input/mitbit-arrhythmia-database/mitbih_database/108annotations.txt\n",
      "/kaggle/input/mitbit-arrhythmia-database/mitbih_database/123annotations.txt\n",
      "/kaggle/input/mitbit-arrhythmia-database/mitbih_database/102annotations.txt\n",
      "/kaggle/input/mitbit-arrhythmia-database/mitbih_database/209.csv\n",
      "/kaggle/input/mitbit-arrhythmia-database/mitbih_database/203annotations.txt\n",
      "/kaggle/input/mitbit-arrhythmia-database/mitbih_database/202annotations.txt\n",
      "/kaggle/input/mitbit-arrhythmia-database/mitbih_database/215annotations.txt\n",
      "/kaggle/input/mitbit-arrhythmia-database/mitbih_database/232.csv\n",
      "/kaggle/input/mitbit-arrhythmia-database/mitbih_database/223.csv\n",
      "/kaggle/input/mitbit-arrhythmia-database/mitbih_database/114annotations.txt\n",
      "/kaggle/input/mitbit-arrhythmia-database/mitbih_database/109annotations.txt\n",
      "/kaggle/input/mitbit-arrhythmia-database/mitbih_database/217annotations.txt\n",
      "/kaggle/input/mitbit-arrhythmia-database/mitbih_database/222annotations.txt\n",
      "/kaggle/input/mitbit-arrhythmia-database/mitbih_database/119.csv\n",
      "/kaggle/input/mitbit-arrhythmia-database/mitbih_database/234annotations.txt\n",
      "/kaggle/input/mitbit-arrhythmia-database/mitbih_database/114.csv\n",
      "/kaggle/input/mitbit-arrhythmia-database/mitbih_database/202.csv\n",
      "/kaggle/input/mitbit-arrhythmia-database/mitbih_database/105annotations.txt\n",
      "/kaggle/input/mitbit-arrhythmia-database/mitbih_database/221annotations.txt\n",
      "/kaggle/input/mitbit-arrhythmia-database/mitbih_database/230annotations.txt\n",
      "/kaggle/input/mitbit-arrhythmia-database/mitbih_database/115.csv\n",
      "/kaggle/input/mitbit-arrhythmia-database/mitbih_database/112.csv\n",
      "/kaggle/input/mitbit-arrhythmia-database/mitbih_database/100annotations.txt\n",
      "/kaggle/input/mitbit-arrhythmia-database/mitbih_database/208annotations.txt\n",
      "/kaggle/input/mitbit-arrhythmia-database/mitbih_database/212.csv\n",
      "/kaggle/input/mitbit-arrhythmia-database/mitbih_database/212annotations.txt\n",
      "/kaggle/input/mitbit-arrhythmia-database/mitbih_database/213annotations.txt\n",
      "/kaggle/input/mitbit-arrhythmia-database/mitbih_database/109.csv\n",
      "/kaggle/input/mitbit-arrhythmia-database/mitbih_database/228.csv\n",
      "/kaggle/input/mitbit-arrhythmia-database/mitbih_database/104annotations.txt\n",
      "/kaggle/input/mitbit-arrhythmia-database/mitbih_database/232annotations.txt\n",
      "/kaggle/input/mitbit-arrhythmia-database/mitbih_database/101annotations.txt\n",
      "/kaggle/input/mitbit-arrhythmia-database/mitbih_database/121annotations.txt\n",
      "/kaggle/input/mitbit-arrhythmia-database/mitbih_database/111annotations.txt\n",
      "/kaggle/input/mitbit-arrhythmia-database/mitbih_database/219.csv\n",
      "/kaggle/input/mitbit-arrhythmia-database/mitbih_database/106annotations.txt\n",
      "/kaggle/input/mitbit-arrhythmia-database/mitbih_database/207annotations.txt\n",
      "/kaggle/input/mitbit-arrhythmia-database/mitbih_database/209annotations.txt\n",
      "/kaggle/input/mitbit-arrhythmia-database/mitbih_database/116annotations.txt\n",
      "/kaggle/input/mitbit-arrhythmia-database/mitbih_database/118.csv\n",
      "/kaggle/input/mitbit-arrhythmia-database/mitbih_database/230.csv\n",
      "/kaggle/input/mitbit-arrhythmia-database/mitbih_database/213.csv\n",
      "/kaggle/input/mitbit-arrhythmia-database/mitbih_database/217.csv\n",
      "/kaggle/input/mitbit-arrhythmia-database/mitbih_database/215.csv\n",
      "/kaggle/input/mitbit-arrhythmia-database/mitbih_database/119annotations.txt\n",
      "/kaggle/input/mitbit-arrhythmia-database/mitbih_database/234.csv\n",
      "/kaggle/input/mitbit-arrhythmia-database/mitbih_database/100.csv\n",
      "/kaggle/input/mitbit-arrhythmia-database/mitbih_database/233annotations.txt\n",
      "/kaggle/input/mitbit-arrhythmia-database/mitbih_database/205annotations.txt\n",
      "/kaggle/input/mitbit-arrhythmia-database/mitbih_database/122.csv\n",
      "/kaggle/input/mitbit-arrhythmia-database/mitbih_database/201.csv\n",
      "/kaggle/input/mitbit-arrhythmia-database/mitbih_database/113annotations.txt\n",
      "/kaggle/input/mitbit-arrhythmia-database/mitbih_database/107.csv\n",
      "/kaggle/input/mitbit-arrhythmia-database/mitbih_database/221.csv\n",
      "/kaggle/input/mitbit-arrhythmia-database/mitbih_database/214.csv\n",
      "/kaggle/input/mitbit-arrhythmia-database/mitbih_database/219annotations.txt\n",
      "/kaggle/input/mitbit-arrhythmia-database/mitbih_database/200annotations.txt\n",
      "/kaggle/input/mitbit-arrhythmia-database/mitbih_database/105.csv\n",
      "/kaggle/input/mitbit-arrhythmia-database/mitbih_database/113.csv\n",
      "/kaggle/input/mitbit-arrhythmia-database/mitbih_database/106.csv\n",
      "/kaggle/input/mitbit-arrhythmia-database/mitbih_database/102.csv\n",
      "/kaggle/input/mitbit-arrhythmia-database/mitbih_database/220.csv\n",
      "/kaggle/input/mitbit-arrhythmia-database/mitbih_database/101.csv\n",
      "/kaggle/input/mitbit-arrhythmia-database/mitbih_database/122annotations.txt\n",
      "/kaggle/input/mitbit-arrhythmia-database/mitbih_database/111.csv\n",
      "/kaggle/input/mitbit-arrhythmia-database/mitbih_database/104.csv\n",
      "/kaggle/input/mitbit-arrhythmia-database/mitbih_database/103annotations.txt\n",
      "/kaggle/input/mitbit-arrhythmia-database/mitbih_database/117.csv\n",
      "/kaggle/input/mitbit-arrhythmia-database/mitbih_database/124.csv\n",
      "/kaggle/input/mitbit-arrhythmia-database/mitbih_database/228annotations.txt\n",
      "/kaggle/input/mitbit-arrhythmia-database/mitbih_database/210annotations.txt\n",
      "/kaggle/input/mitbit-arrhythmia-database/mitbih_database/214annotations.txt\n",
      "/kaggle/input/mitbit-arrhythmia-database/mitbih_database/220annotations.txt\n",
      "/kaggle/input/mitbit-arrhythmia-database/mitbih_database/222.csv\n",
      "/kaggle/input/mitbit-arrhythmia-database/mitbih_database/210.csv\n",
      "/kaggle/input/mitbit-arrhythmia-database/mitbih_database/231annotations.txt\n",
      "/kaggle/input/mitbit-arrhythmia-database/mitbih_database/205.csv\n",
      "/kaggle/input/mitbit-arrhythmia-database/mitbih_database/107annotations.txt\n",
      "/kaggle/input/mitbit-arrhythmia-database/mitbih_database/208.csv\n",
      "/kaggle/input/mitbit-arrhythmia-database/mitbih_database/121.csv\n",
      "/kaggle/input/mitbit-arrhythmia-database/mitbih_database/203.csv\n",
      "/kaggle/input/mitbit-arrhythmia-database/mitbih_database/117annotations.txt\n",
      "/kaggle/input/mitbit-arrhythmia-database/mitbih_database/223annotations.txt\n",
      "/kaggle/input/mitbit-arrhythmia-database/mitbih_database/200.csv\n",
      "/kaggle/input/mitbit-arrhythmia-database/mitbih_database/103.csv\n",
      "/kaggle/input/mitbit-arrhythmia-database/mitbih_database/116.csv\n",
      "/kaggle/input/mitbit-arrhythmia-database/mitbih_database/201annotations.txt\n",
      "/kaggle/input/mitbit-arrhythmia-database/mitbih_database/123.csv\n",
      "/kaggle/input/mitbit-arrhythmia-database/mitbih_database/124annotations.txt\n",
      "/kaggle/input/mitbit-arrhythmia-database/mitbih_database/mitbih_database/112annotations.txt\n",
      "/kaggle/input/mitbit-arrhythmia-database/mitbih_database/mitbih_database/233.csv\n",
      "/kaggle/input/mitbit-arrhythmia-database/mitbih_database/mitbih_database/108.csv\n",
      "/kaggle/input/mitbit-arrhythmia-database/mitbih_database/mitbih_database/118annotations.txt\n",
      "/kaggle/input/mitbit-arrhythmia-database/mitbih_database/mitbih_database/231.csv\n",
      "/kaggle/input/mitbit-arrhythmia-database/mitbih_database/mitbih_database/207.csv\n",
      "/kaggle/input/mitbit-arrhythmia-database/mitbih_database/mitbih_database/115annotations.txt\n",
      "/kaggle/input/mitbit-arrhythmia-database/mitbih_database/mitbih_database/108annotations.txt\n",
      "/kaggle/input/mitbit-arrhythmia-database/mitbih_database/mitbih_database/123annotations.txt\n",
      "/kaggle/input/mitbit-arrhythmia-database/mitbih_database/mitbih_database/102annotations.txt\n",
      "/kaggle/input/mitbit-arrhythmia-database/mitbih_database/mitbih_database/209.csv\n",
      "/kaggle/input/mitbit-arrhythmia-database/mitbih_database/mitbih_database/203annotations.txt\n",
      "/kaggle/input/mitbit-arrhythmia-database/mitbih_database/mitbih_database/202annotations.txt\n",
      "/kaggle/input/mitbit-arrhythmia-database/mitbih_database/mitbih_database/215annotations.txt\n",
      "/kaggle/input/mitbit-arrhythmia-database/mitbih_database/mitbih_database/232.csv\n",
      "/kaggle/input/mitbit-arrhythmia-database/mitbih_database/mitbih_database/223.csv\n",
      "/kaggle/input/mitbit-arrhythmia-database/mitbih_database/mitbih_database/114annotations.txt\n",
      "/kaggle/input/mitbit-arrhythmia-database/mitbih_database/mitbih_database/109annotations.txt\n",
      "/kaggle/input/mitbit-arrhythmia-database/mitbih_database/mitbih_database/217annotations.txt\n",
      "/kaggle/input/mitbit-arrhythmia-database/mitbih_database/mitbih_database/222annotations.txt\n",
      "/kaggle/input/mitbit-arrhythmia-database/mitbih_database/mitbih_database/119.csv\n",
      "/kaggle/input/mitbit-arrhythmia-database/mitbih_database/mitbih_database/234annotations.txt\n",
      "/kaggle/input/mitbit-arrhythmia-database/mitbih_database/mitbih_database/114.csv\n",
      "/kaggle/input/mitbit-arrhythmia-database/mitbih_database/mitbih_database/202.csv\n",
      "/kaggle/input/mitbit-arrhythmia-database/mitbih_database/mitbih_database/105annotations.txt\n",
      "/kaggle/input/mitbit-arrhythmia-database/mitbih_database/mitbih_database/221annotations.txt\n",
      "/kaggle/input/mitbit-arrhythmia-database/mitbih_database/mitbih_database/230annotations.txt\n",
      "/kaggle/input/mitbit-arrhythmia-database/mitbih_database/mitbih_database/115.csv\n",
      "/kaggle/input/mitbit-arrhythmia-database/mitbih_database/mitbih_database/112.csv\n",
      "/kaggle/input/mitbit-arrhythmia-database/mitbih_database/mitbih_database/100annotations.txt\n",
      "/kaggle/input/mitbit-arrhythmia-database/mitbih_database/mitbih_database/208annotations.txt\n",
      "/kaggle/input/mitbit-arrhythmia-database/mitbih_database/mitbih_database/212.csv\n",
      "/kaggle/input/mitbit-arrhythmia-database/mitbih_database/mitbih_database/212annotations.txt\n",
      "/kaggle/input/mitbit-arrhythmia-database/mitbih_database/mitbih_database/213annotations.txt\n",
      "/kaggle/input/mitbit-arrhythmia-database/mitbih_database/mitbih_database/109.csv\n",
      "/kaggle/input/mitbit-arrhythmia-database/mitbih_database/mitbih_database/228.csv\n",
      "/kaggle/input/mitbit-arrhythmia-database/mitbih_database/mitbih_database/104annotations.txt\n",
      "/kaggle/input/mitbit-arrhythmia-database/mitbih_database/mitbih_database/232annotations.txt\n",
      "/kaggle/input/mitbit-arrhythmia-database/mitbih_database/mitbih_database/101annotations.txt\n",
      "/kaggle/input/mitbit-arrhythmia-database/mitbih_database/mitbih_database/121annotations.txt\n",
      "/kaggle/input/mitbit-arrhythmia-database/mitbih_database/mitbih_database/111annotations.txt\n",
      "/kaggle/input/mitbit-arrhythmia-database/mitbih_database/mitbih_database/219.csv\n",
      "/kaggle/input/mitbit-arrhythmia-database/mitbih_database/mitbih_database/106annotations.txt\n",
      "/kaggle/input/mitbit-arrhythmia-database/mitbih_database/mitbih_database/207annotations.txt\n",
      "/kaggle/input/mitbit-arrhythmia-database/mitbih_database/mitbih_database/209annotations.txt\n",
      "/kaggle/input/mitbit-arrhythmia-database/mitbih_database/mitbih_database/116annotations.txt\n",
      "/kaggle/input/mitbit-arrhythmia-database/mitbih_database/mitbih_database/118.csv\n",
      "/kaggle/input/mitbit-arrhythmia-database/mitbih_database/mitbih_database/230.csv\n",
      "/kaggle/input/mitbit-arrhythmia-database/mitbih_database/mitbih_database/213.csv\n",
      "/kaggle/input/mitbit-arrhythmia-database/mitbih_database/mitbih_database/217.csv\n",
      "/kaggle/input/mitbit-arrhythmia-database/mitbih_database/mitbih_database/215.csv\n",
      "/kaggle/input/mitbit-arrhythmia-database/mitbih_database/mitbih_database/119annotations.txt\n",
      "/kaggle/input/mitbit-arrhythmia-database/mitbih_database/mitbih_database/234.csv\n",
      "/kaggle/input/mitbit-arrhythmia-database/mitbih_database/mitbih_database/100.csv\n",
      "/kaggle/input/mitbit-arrhythmia-database/mitbih_database/mitbih_database/233annotations.txt\n",
      "/kaggle/input/mitbit-arrhythmia-database/mitbih_database/mitbih_database/205annotations.txt\n",
      "/kaggle/input/mitbit-arrhythmia-database/mitbih_database/mitbih_database/122.csv\n",
      "/kaggle/input/mitbit-arrhythmia-database/mitbih_database/mitbih_database/201.csv\n",
      "/kaggle/input/mitbit-arrhythmia-database/mitbih_database/mitbih_database/113annotations.txt\n",
      "/kaggle/input/mitbit-arrhythmia-database/mitbih_database/mitbih_database/107.csv\n",
      "/kaggle/input/mitbit-arrhythmia-database/mitbih_database/mitbih_database/221.csv\n",
      "/kaggle/input/mitbit-arrhythmia-database/mitbih_database/mitbih_database/214.csv\n",
      "/kaggle/input/mitbit-arrhythmia-database/mitbih_database/mitbih_database/219annotations.txt\n",
      "/kaggle/input/mitbit-arrhythmia-database/mitbih_database/mitbih_database/200annotations.txt\n",
      "/kaggle/input/mitbit-arrhythmia-database/mitbih_database/mitbih_database/105.csv\n",
      "/kaggle/input/mitbit-arrhythmia-database/mitbih_database/mitbih_database/113.csv\n",
      "/kaggle/input/mitbit-arrhythmia-database/mitbih_database/mitbih_database/106.csv\n",
      "/kaggle/input/mitbit-arrhythmia-database/mitbih_database/mitbih_database/102.csv\n",
      "/kaggle/input/mitbit-arrhythmia-database/mitbih_database/mitbih_database/220.csv\n",
      "/kaggle/input/mitbit-arrhythmia-database/mitbih_database/mitbih_database/101.csv\n",
      "/kaggle/input/mitbit-arrhythmia-database/mitbih_database/mitbih_database/122annotations.txt\n",
      "/kaggle/input/mitbit-arrhythmia-database/mitbih_database/mitbih_database/111.csv\n",
      "/kaggle/input/mitbit-arrhythmia-database/mitbih_database/mitbih_database/104.csv\n",
      "/kaggle/input/mitbit-arrhythmia-database/mitbih_database/mitbih_database/103annotations.txt\n",
      "/kaggle/input/mitbit-arrhythmia-database/mitbih_database/mitbih_database/117.csv\n",
      "/kaggle/input/mitbit-arrhythmia-database/mitbih_database/mitbih_database/124.csv\n",
      "/kaggle/input/mitbit-arrhythmia-database/mitbih_database/mitbih_database/228annotations.txt\n",
      "/kaggle/input/mitbit-arrhythmia-database/mitbih_database/mitbih_database/210annotations.txt\n",
      "/kaggle/input/mitbit-arrhythmia-database/mitbih_database/mitbih_database/214annotations.txt\n",
      "/kaggle/input/mitbit-arrhythmia-database/mitbih_database/mitbih_database/220annotations.txt\n",
      "/kaggle/input/mitbit-arrhythmia-database/mitbih_database/mitbih_database/222.csv\n",
      "/kaggle/input/mitbit-arrhythmia-database/mitbih_database/mitbih_database/210.csv\n",
      "/kaggle/input/mitbit-arrhythmia-database/mitbih_database/mitbih_database/231annotations.txt\n",
      "/kaggle/input/mitbit-arrhythmia-database/mitbih_database/mitbih_database/205.csv\n",
      "/kaggle/input/mitbit-arrhythmia-database/mitbih_database/mitbih_database/107annotations.txt\n",
      "/kaggle/input/mitbit-arrhythmia-database/mitbih_database/mitbih_database/208.csv\n",
      "/kaggle/input/mitbit-arrhythmia-database/mitbih_database/mitbih_database/121.csv\n",
      "/kaggle/input/mitbit-arrhythmia-database/mitbih_database/mitbih_database/203.csv\n",
      "/kaggle/input/mitbit-arrhythmia-database/mitbih_database/mitbih_database/117annotations.txt\n",
      "/kaggle/input/mitbit-arrhythmia-database/mitbih_database/mitbih_database/223annotations.txt\n",
      "/kaggle/input/mitbit-arrhythmia-database/mitbih_database/mitbih_database/200.csv\n",
      "/kaggle/input/mitbit-arrhythmia-database/mitbih_database/mitbih_database/103.csv\n",
      "/kaggle/input/mitbit-arrhythmia-database/mitbih_database/mitbih_database/116.csv\n",
      "/kaggle/input/mitbit-arrhythmia-database/mitbih_database/mitbih_database/201annotations.txt\n",
      "/kaggle/input/mitbit-arrhythmia-database/mitbih_database/mitbih_database/123.csv\n",
      "/kaggle/input/mitbit-arrhythmia-database/mitbih_database/mitbih_database/124annotations.txt\n"
     ]
    }
   ],
   "source": [
    "# This Python 3 environment comes with many helpful analytics libraries installed\n",
    "# It is defined by the kaggle/python Docker image: https://github.com/kaggle/docker-python\n",
    "# For example, here's several helpful packages to load\n",
    "\n",
    "import numpy as np # linear algebra\n",
    "import pandas as pd # data processing, CSV file I/O (e.g. pd.read_csv)\n",
    "\n",
    "# Input data files are available in the read-only \"../input/\" directory\n",
    "# For example, running this (by clicking run or pressing Shift+Enter) will list all files under the input directory\n",
    "\n",
    "import os\n",
    "for dirname, _, filenames in os.walk('/kaggle/input'):\n",
    "    for filename in filenames:\n",
    "        print(os.path.join(dirname, filename))\n",
    "\n",
    "# You can write up to 20GB to the current directory (/kaggle/working/) that gets preserved as output when you create a version using \"Save & Run All\" \n",
    "# You can also write temporary files to /kaggle/temp/, but they won't be saved outside of the current session"
   ]
  },
  {
   "cell_type": "code",
   "execution_count": 2,
   "id": "25b048a4",
   "metadata": {
    "execution": {
     "iopub.execute_input": "2022-06-21T08:46:43.912198Z",
     "iopub.status.busy": "2022-06-21T08:46:43.911419Z",
     "iopub.status.idle": "2022-06-21T08:46:49.600644Z",
     "shell.execute_reply": "2022-06-21T08:46:49.600179Z",
     "shell.execute_reply.started": "2022-06-21T07:22:03.889899Z"
    },
    "papermill": {
     "duration": 5.73967,
     "end_time": "2022-06-21T08:46:49.600816",
     "exception": false,
     "start_time": "2022-06-21T08:46:43.861146",
     "status": "completed"
    },
    "tags": []
   },
   "outputs": [],
   "source": [
    "import pandas as pd \n",
    "import os\n",
    "\n",
    "import matplotlib.pyplot as plt\n",
    "import csv\n",
    "import itertools\n",
    "import collections\n",
    "\n",
    "import pywt\n",
    "from scipy import stats\n",
    "\n",
    "from sklearn.utils import resample\n",
    "from sklearn.model_selection import train_test_split\n",
    "\n",
    "import keras\n",
    "from sklearn.preprocessing import MinMaxScaler\n",
    "from keras.models import Sequential , Model\n",
    "from keras.layers import Dense, LSTM, Dropout, Softmax, Bidirectional, Flatten\n",
    "import math\n",
    "from sklearn.metrics import mean_squared_error"
   ]
  },
  {
   "cell_type": "code",
   "execution_count": 3,
   "id": "0713379d",
   "metadata": {
    "execution": {
     "iopub.execute_input": "2022-06-21T08:46:49.694859Z",
     "iopub.status.busy": "2022-06-21T08:46:49.694017Z",
     "iopub.status.idle": "2022-06-21T08:46:50.027837Z",
     "shell.execute_reply": "2022-06-21T08:46:50.028357Z",
     "shell.execute_reply.started": "2022-06-21T07:22:09.157122Z"
    },
    "papermill": {
     "duration": 0.383956,
     "end_time": "2022-06-21T08:46:50.028534",
     "exception": false,
     "start_time": "2022-06-21T08:46:49.644578",
     "status": "completed"
    },
    "tags": []
   },
   "outputs": [],
   "source": [
    "from tensorflow.keras.optimizers import Adam \n",
    "from keras.utils.np_utils import to_categorical\n",
    "from keras.utils.vis_utils import plot_model\n",
    "from keras import regularizers"
   ]
  },
  {
   "cell_type": "code",
   "execution_count": 4,
   "id": "b24b3b93",
   "metadata": {
    "execution": {
     "iopub.execute_input": "2022-06-21T08:46:50.124888Z",
     "iopub.status.busy": "2022-06-21T08:46:50.124007Z",
     "iopub.status.idle": "2022-06-21T08:46:50.125781Z",
     "shell.execute_reply": "2022-06-21T08:46:50.126289Z",
     "shell.execute_reply.started": "2022-06-21T07:22:09.473562Z"
    },
    "papermill": {
     "duration": 0.052223,
     "end_time": "2022-06-21T08:46:50.126424",
     "exception": false,
     "start_time": "2022-06-21T08:46:50.074201",
     "status": "completed"
    },
    "tags": []
   },
   "outputs": [],
   "source": [
    "def denoise(data): \n",
    "    w = pywt.Wavelet('sym4')\n",
    "    maxlev = pywt.dwt_max_level(len(data), w.dec_len)\n",
    "    threshold = 0.04 # Threshold for filtering\n",
    "\n",
    "    coeffs = pywt.wavedec(data, 'sym4', level=maxlev)\n",
    "    for i in range(1, len(coeffs)):\n",
    "        coeffs[i] = pywt.threshold(coeffs[i], threshold*max(coeffs[i]))\n",
    "        \n",
    "    datarec = pywt.waverec(coeffs, 'sym4')\n",
    "    \n",
    "    return datarec"
   ]
  },
  {
   "cell_type": "code",
   "execution_count": 5,
   "id": "08bc3ab3",
   "metadata": {
    "execution": {
     "iopub.execute_input": "2022-06-21T08:46:50.216289Z",
     "iopub.status.busy": "2022-06-21T08:46:50.215412Z",
     "iopub.status.idle": "2022-06-21T08:46:50.220712Z",
     "shell.execute_reply": "2022-06-21T08:46:50.220236Z",
     "shell.execute_reply.started": "2022-06-21T07:22:09.479936Z"
    },
    "papermill": {
     "duration": 0.051609,
     "end_time": "2022-06-21T08:46:50.220845",
     "exception": false,
     "start_time": "2022-06-21T08:46:50.169236",
     "status": "completed"
    },
    "tags": []
   },
   "outputs": [],
   "source": [
    "path = '/kaggle/input/mitbit-arrhythmia-database/mitbih_database/'\n",
    "window_size = 180\n",
    "maximum_counting = 10000\n",
    "\n",
    "classes = ['N', 'L', 'R', 'A', 'V']\n",
    "n_classes = len(classes)\n",
    "count_classes = [0]*n_classes\n",
    "\n",
    "X = list()\n",
    "y = list()"
   ]
  },
  {
   "cell_type": "code",
   "execution_count": 6,
   "id": "99f6a736",
   "metadata": {
    "execution": {
     "iopub.execute_input": "2022-06-21T08:46:50.311744Z",
     "iopub.status.busy": "2022-06-21T08:46:50.311147Z",
     "iopub.status.idle": "2022-06-21T08:46:50.315628Z",
     "shell.execute_reply": "2022-06-21T08:46:50.316067Z",
     "shell.execute_reply.started": "2022-06-21T07:22:09.496365Z"
    },
    "papermill": {
     "duration": 0.051725,
     "end_time": "2022-06-21T08:46:50.316211",
     "exception": false,
     "start_time": "2022-06-21T08:46:50.264486",
     "status": "completed"
    },
    "tags": []
   },
   "outputs": [],
   "source": [
    "filenames = next(os.walk(path))[2]\n",
    "records = list()\n",
    "annotations = list()\n",
    "filenames.sort()"
   ]
  },
  {
   "cell_type": "code",
   "execution_count": 7,
   "id": "08183f24",
   "metadata": {
    "execution": {
     "iopub.execute_input": "2022-06-21T08:46:50.407871Z",
     "iopub.status.busy": "2022-06-21T08:46:50.407061Z",
     "iopub.status.idle": "2022-06-21T08:46:50.409134Z",
     "shell.execute_reply": "2022-06-21T08:46:50.409607Z",
     "shell.execute_reply.started": "2022-06-21T07:22:09.510255Z"
    },
    "papermill": {
     "duration": 0.050021,
     "end_time": "2022-06-21T08:46:50.409787",
     "exception": false,
     "start_time": "2022-06-21T08:46:50.359766",
     "status": "completed"
    },
    "tags": []
   },
   "outputs": [],
   "source": [
    "for f in filenames:\n",
    "    filename, file_extension = os.path.splitext(f)\n",
    "    if(file_extension == '.csv'):\n",
    "        records.append(path + filename + file_extension)\n",
    "    else:\n",
    "        annotations.append(path + filename + file_extension)"
   ]
  },
  {
   "cell_type": "code",
   "execution_count": 8,
   "id": "e53aa29c",
   "metadata": {
    "execution": {
     "iopub.execute_input": "2022-06-21T08:46:50.508998Z",
     "iopub.status.busy": "2022-06-21T08:46:50.504641Z",
     "iopub.status.idle": "2022-06-21T08:47:50.583546Z",
     "shell.execute_reply": "2022-06-21T08:47:50.584703Z",
     "shell.execute_reply.started": "2022-06-21T07:22:09.516765Z"
    },
    "papermill": {
     "duration": 60.131264,
     "end_time": "2022-06-21T08:47:50.585057",
     "exception": false,
     "start_time": "2022-06-21T08:46:50.453793",
     "status": "completed"
    },
    "tags": []
   },
   "outputs": [
    {
     "data": {
      "image/png": "[encoded data removed]",
      "text/plain": [
       "<Figure size 432x288 with 1 Axes>"
      ]
     },
     "metadata": {
      "needs_background": "light"
     },
     "output_type": "display_data"
    },
    {
     "data": {
      "image/png": "[encoded data removed]",
      "text/plain": [
       "<Figure size 432x288 with 1 Axes>"
      ]
     },
     "metadata": {
      "needs_background": "light"
     },
     "output_type": "display_data"
    },
    {
     "data": {
      "image/png": "[encoded data removed]",
      "text/plain": [
       "<Figure size 432x288 with 1 Axes>"
      ]
     },
     "metadata": {
      "needs_background": "light"
     },
     "output_type": "display_data"
    },
    {
     "name": "stdout",
     "output_type": "stream",
     "text": [
      "(100012, 360) (100012,)\n"
     ]
    }
   ],
   "source": [
    "for r in range(0,len(records)):\n",
    "    signals = []\n",
    "\n",
    "    with open(records[r], 'rt') as csvfile:\n",
    "        spamreader = csv.reader(csvfile, delimiter=',', quotechar='|') # read CSV file\\\n",
    "        row_index = -1\n",
    "        for row in spamreader:\n",
    "            if(row_index >= 0):\n",
    "                signals.insert(row_index, int(row[1]))\n",
    "            row_index += 1\n",
    "            \n",
    "    if r is 1:\n",
    "        plt.title(\" Wave\")\n",
    "        plt.plot(signals[0:700])\n",
    "        plt.show()\n",
    "    signals = denoise(signals)\n",
    "    if r is 1:\n",
    "        plt.title(\" wave after denoised\")\n",
    "        plt.plot(signals[0:700])\n",
    "        plt.show()\n",
    "        \n",
    "    example_beat_printed = False\n",
    "    with open(annotations[r], 'r') as fileID:\n",
    "        data = fileID.readlines() \n",
    "        beat = list()\n",
    "        for d in range(1, len(data)): \n",
    "            splitted = data[d].split(' ')\n",
    "            splitted = filter(None, splitted)\n",
    "            next(splitted) \n",
    "            pos = int(next(splitted))\n",
    "            arrhythmia_type = next(splitted)\n",
    "            if(arrhythmia_type in classes):\n",
    "                arrhythmia_index = classes.index(arrhythmia_type)\n",
    "                count_classes[arrhythmia_index] += 1\n",
    "                if(window_size <= pos and pos < (len(signals) - window_size)):\n",
    "                    beat = signals[pos-window_size:pos+window_size]     \n",
    "                    if r is 1 and not example_beat_printed: \n",
    "                        plt.title(\"A Beat from Wave\")\n",
    "                        plt.plot(beat)\n",
    "                        plt.show()\n",
    "                        example_beat_printed = True\n",
    "                    X.append(beat)\n",
    "                    y.append(arrhythmia_index)\n",
    "\n",
    "print(np.shape(X), np.shape(y))"
   ]
  },
  {
   "cell_type": "code",
   "execution_count": 9,
   "id": "e98dda0f",
   "metadata": {
    "execution": {
     "iopub.execute_input": "2022-06-21T08:47:50.768738Z",
     "iopub.status.busy": "2022-06-21T08:47:50.767837Z",
     "iopub.status.idle": "2022-06-21T08:47:51.824676Z",
     "shell.execute_reply": "2022-06-21T08:47:51.825396Z",
     "shell.execute_reply.started": "2022-06-21T07:23:07.726144Z"
    },
    "papermill": {
     "duration": 1.142864,
     "end_time": "2022-06-21T08:47:51.825621",
     "exception": false,
     "start_time": "2022-06-21T08:47:50.682757",
     "status": "completed"
    },
    "tags": []
   },
   "outputs": [
    {
     "name": "stdout",
     "output_type": "stream",
     "text": [
      "(100012, 361)\n"
     ]
    }
   ],
   "source": [
    "for i in range(0,len(X)):\n",
    "        X[i] = np.append(X[i], y[i])\n",
    "print(np.shape(X))"
   ]
  },
  {
   "cell_type": "code",
   "execution_count": 10,
   "id": "9dccee84",
   "metadata": {
    "execution": {
     "iopub.execute_input": "2022-06-21T08:47:51.943038Z",
     "iopub.status.busy": "2022-06-21T08:47:51.926792Z",
     "iopub.status.idle": "2022-06-21T08:48:11.601373Z",
     "shell.execute_reply": "2022-06-21T08:48:11.600904Z",
     "shell.execute_reply.started": "2022-06-21T07:23:08.656621Z"
    },
    "papermill": {
     "duration": 19.727877,
     "end_time": "2022-06-21T08:48:11.601503",
     "exception": false,
     "start_time": "2022-06-21T08:47:51.873626",
     "status": "completed"
    },
    "tags": []
   },
   "outputs": [
    {
     "data": {
      "text/html": [
       "<div>\n",
       "<style scoped>\n",
       "    .dataframe tbody tr th:only-of-type {\n",
       "        vertical-align: middle;\n",
       "    }\n",
       "\n",
       "    .dataframe tbody tr th {\n",
       "        vertical-align: top;\n",
       "    }\n",
       "\n",
       "    .dataframe thead th {\n",
       "        text-align: right;\n",
       "    }\n",
       "</style>\n",
       "<table border=\"1\" class=\"dataframe\">\n",
       "  <thead>\n",
       "    <tr style=\"text-align: right;\">\n",
       "      <th></th>\n",
       "      <th>0</th>\n",
       "      <th>1</th>\n",
       "      <th>2</th>\n",
       "      <th>3</th>\n",
       "      <th>4</th>\n",
       "      <th>5</th>\n",
       "      <th>6</th>\n",
       "      <th>7</th>\n",
       "      <th>8</th>\n",
       "      <th>9</th>\n",
       "      <th>...</th>\n",
       "      <th>351</th>\n",
       "      <th>352</th>\n",
       "      <th>353</th>\n",
       "      <th>354</th>\n",
       "      <th>355</th>\n",
       "      <th>356</th>\n",
       "      <th>357</th>\n",
       "      <th>358</th>\n",
       "      <th>359</th>\n",
       "      <th>360</th>\n",
       "    </tr>\n",
       "  </thead>\n",
       "  <tbody>\n",
       "    <tr>\n",
       "      <th>0</th>\n",
       "      <td>963.374455</td>\n",
       "      <td>963.536949</td>\n",
       "      <td>964.756621</td>\n",
       "      <td>965.399062</td>\n",
       "      <td>966.017086</td>\n",
       "      <td>966.375099</td>\n",
       "      <td>966.610054</td>\n",
       "      <td>966.770207</td>\n",
       "      <td>966.863751</td>\n",
       "      <td>966.951485</td>\n",
       "      <td>...</td>\n",
       "      <td>962.278640</td>\n",
       "      <td>962.282842</td>\n",
       "      <td>962.301737</td>\n",
       "      <td>962.395261</td>\n",
       "      <td>962.294270</td>\n",
       "      <td>961.799296</td>\n",
       "      <td>963.125729</td>\n",
       "      <td>961.823215</td>\n",
       "      <td>962.056695</td>\n",
       "      <td>0.0</td>\n",
       "    </tr>\n",
       "    <tr>\n",
       "      <th>1</th>\n",
       "      <td>950.134075</td>\n",
       "      <td>950.900959</td>\n",
       "      <td>951.742885</td>\n",
       "      <td>951.389255</td>\n",
       "      <td>952.444730</td>\n",
       "      <td>952.698845</td>\n",
       "      <td>952.985557</td>\n",
       "      <td>953.265506</td>\n",
       "      <td>953.554840</td>\n",
       "      <td>953.878155</td>\n",
       "      <td>...</td>\n",
       "      <td>957.912677</td>\n",
       "      <td>957.910661</td>\n",
       "      <td>957.908414</td>\n",
       "      <td>957.887200</td>\n",
       "      <td>957.930868</td>\n",
       "      <td>958.046497</td>\n",
       "      <td>957.767864</td>\n",
       "      <td>957.935546</td>\n",
       "      <td>957.848457</td>\n",
       "      <td>0.0</td>\n",
       "    </tr>\n",
       "    <tr>\n",
       "      <th>2</th>\n",
       "      <td>956.855367</td>\n",
       "      <td>957.921859</td>\n",
       "      <td>958.970263</td>\n",
       "      <td>960.062874</td>\n",
       "      <td>961.063537</td>\n",
       "      <td>961.544535</td>\n",
       "      <td>961.778225</td>\n",
       "      <td>961.903495</td>\n",
       "      <td>961.914781</td>\n",
       "      <td>961.927284</td>\n",
       "      <td>...</td>\n",
       "      <td>962.793234</td>\n",
       "      <td>963.018453</td>\n",
       "      <td>963.291927</td>\n",
       "      <td>963.610334</td>\n",
       "      <td>963.801834</td>\n",
       "      <td>963.664744</td>\n",
       "      <td>964.690013</td>\n",
       "      <td>963.714316</td>\n",
       "      <td>963.719371</td>\n",
       "      <td>0.0</td>\n",
       "    </tr>\n",
       "    <tr>\n",
       "      <th>3</th>\n",
       "      <td>956.333844</td>\n",
       "      <td>956.469719</td>\n",
       "      <td>956.650190</td>\n",
       "      <td>956.840204</td>\n",
       "      <td>957.063040</td>\n",
       "      <td>957.289795</td>\n",
       "      <td>957.532154</td>\n",
       "      <td>957.763758</td>\n",
       "      <td>957.903596</td>\n",
       "      <td>958.002126</td>\n",
       "      <td>...</td>\n",
       "      <td>963.483037</td>\n",
       "      <td>963.849264</td>\n",
       "      <td>964.232722</td>\n",
       "      <td>964.751295</td>\n",
       "      <td>965.325454</td>\n",
       "      <td>965.385283</td>\n",
       "      <td>965.277388</td>\n",
       "      <td>965.949119</td>\n",
       "      <td>966.749783</td>\n",
       "      <td>0.0</td>\n",
       "    </tr>\n",
       "    <tr>\n",
       "      <th>4</th>\n",
       "      <td>950.051087</td>\n",
       "      <td>950.080657</td>\n",
       "      <td>950.899845</td>\n",
       "      <td>951.943309</td>\n",
       "      <td>952.584266</td>\n",
       "      <td>953.144752</td>\n",
       "      <td>953.758744</td>\n",
       "      <td>954.385010</td>\n",
       "      <td>955.116512</td>\n",
       "      <td>955.847917</td>\n",
       "      <td>...</td>\n",
       "      <td>962.082603</td>\n",
       "      <td>962.257165</td>\n",
       "      <td>962.430031</td>\n",
       "      <td>962.608560</td>\n",
       "      <td>962.787336</td>\n",
       "      <td>962.969444</td>\n",
       "      <td>963.152923</td>\n",
       "      <td>963.315874</td>\n",
       "      <td>963.472298</td>\n",
       "      <td>0.0</td>\n",
       "    </tr>\n",
       "    <tr>\n",
       "      <th>...</th>\n",
       "      <td>...</td>\n",
       "      <td>...</td>\n",
       "      <td>...</td>\n",
       "      <td>...</td>\n",
       "      <td>...</td>\n",
       "      <td>...</td>\n",
       "      <td>...</td>\n",
       "      <td>...</td>\n",
       "      <td>...</td>\n",
       "      <td>...</td>\n",
       "      <td>...</td>\n",
       "      <td>...</td>\n",
       "      <td>...</td>\n",
       "      <td>...</td>\n",
       "      <td>...</td>\n",
       "      <td>...</td>\n",
       "      <td>...</td>\n",
       "      <td>...</td>\n",
       "      <td>...</td>\n",
       "      <td>...</td>\n",
       "      <td>...</td>\n",
       "    </tr>\n",
       "    <tr>\n",
       "      <th>100007</th>\n",
       "      <td>960.091597</td>\n",
       "      <td>958.332371</td>\n",
       "      <td>959.228982</td>\n",
       "      <td>959.937280</td>\n",
       "      <td>960.462593</td>\n",
       "      <td>960.875403</td>\n",
       "      <td>961.311190</td>\n",
       "      <td>961.743369</td>\n",
       "      <td>962.152282</td>\n",
       "      <td>962.574638</td>\n",
       "      <td>...</td>\n",
       "      <td>964.516509</td>\n",
       "      <td>965.081464</td>\n",
       "      <td>965.657630</td>\n",
       "      <td>965.508808</td>\n",
       "      <td>965.080290</td>\n",
       "      <td>964.863438</td>\n",
       "      <td>964.607543</td>\n",
       "      <td>964.151499</td>\n",
       "      <td>963.933098</td>\n",
       "      <td>0.0</td>\n",
       "    </tr>\n",
       "    <tr>\n",
       "      <th>100008</th>\n",
       "      <td>960.158109</td>\n",
       "      <td>960.774672</td>\n",
       "      <td>961.122588</td>\n",
       "      <td>962.403698</td>\n",
       "      <td>963.542825</td>\n",
       "      <td>966.482368</td>\n",
       "      <td>966.960323</td>\n",
       "      <td>967.707577</td>\n",
       "      <td>968.022530</td>\n",
       "      <td>968.521270</td>\n",
       "      <td>...</td>\n",
       "      <td>963.553957</td>\n",
       "      <td>962.929216</td>\n",
       "      <td>962.408595</td>\n",
       "      <td>961.909285</td>\n",
       "      <td>961.207912</td>\n",
       "      <td>960.546289</td>\n",
       "      <td>959.842670</td>\n",
       "      <td>959.283797</td>\n",
       "      <td>959.529191</td>\n",
       "      <td>0.0</td>\n",
       "    </tr>\n",
       "    <tr>\n",
       "      <th>100009</th>\n",
       "      <td>959.520187</td>\n",
       "      <td>958.437111</td>\n",
       "      <td>959.105015</td>\n",
       "      <td>959.603769</td>\n",
       "      <td>960.050059</td>\n",
       "      <td>961.738668</td>\n",
       "      <td>962.600041</td>\n",
       "      <td>960.552121</td>\n",
       "      <td>957.583658</td>\n",
       "      <td>959.426743</td>\n",
       "      <td>...</td>\n",
       "      <td>968.586538</td>\n",
       "      <td>969.176431</td>\n",
       "      <td>969.713374</td>\n",
       "      <td>970.199836</td>\n",
       "      <td>970.198314</td>\n",
       "      <td>970.071392</td>\n",
       "      <td>969.631823</td>\n",
       "      <td>969.133521</td>\n",
       "      <td>969.677513</td>\n",
       "      <td>0.0</td>\n",
       "    </tr>\n",
       "    <tr>\n",
       "      <th>100010</th>\n",
       "      <td>957.960255</td>\n",
       "      <td>957.948389</td>\n",
       "      <td>959.213426</td>\n",
       "      <td>959.568639</td>\n",
       "      <td>959.893190</td>\n",
       "      <td>960.498387</td>\n",
       "      <td>961.169668</td>\n",
       "      <td>961.611360</td>\n",
       "      <td>961.984491</td>\n",
       "      <td>962.369367</td>\n",
       "      <td>...</td>\n",
       "      <td>974.808446</td>\n",
       "      <td>973.751860</td>\n",
       "      <td>972.810871</td>\n",
       "      <td>971.849649</td>\n",
       "      <td>970.724459</td>\n",
       "      <td>969.718156</td>\n",
       "      <td>968.525272</td>\n",
       "      <td>967.561324</td>\n",
       "      <td>968.065026</td>\n",
       "      <td>0.0</td>\n",
       "    </tr>\n",
       "    <tr>\n",
       "      <th>100011</th>\n",
       "      <td>956.404404</td>\n",
       "      <td>957.531612</td>\n",
       "      <td>958.738170</td>\n",
       "      <td>960.137072</td>\n",
       "      <td>961.633615</td>\n",
       "      <td>963.163953</td>\n",
       "      <td>964.694432</td>\n",
       "      <td>966.285352</td>\n",
       "      <td>967.899972</td>\n",
       "      <td>969.059446</td>\n",
       "      <td>...</td>\n",
       "      <td>962.505485</td>\n",
       "      <td>962.803601</td>\n",
       "      <td>963.433398</td>\n",
       "      <td>964.152886</td>\n",
       "      <td>962.467724</td>\n",
       "      <td>960.094117</td>\n",
       "      <td>960.598133</td>\n",
       "      <td>961.799478</td>\n",
       "      <td>961.153864</td>\n",
       "      <td>0.0</td>\n",
       "    </tr>\n",
       "  </tbody>\n",
       "</table>\n",
       "<p>100012 rows × 361 columns</p>\n",
       "</div>"
      ],
      "text/plain": [
       "               0           1           2           3           4    \\\n",
       "0       963.374455  963.536949  964.756621  965.399062  966.017086   \n",
       "1       950.134075  950.900959  951.742885  951.389255  952.444730   \n",
       "2       956.855367  957.921859  958.970263  960.062874  961.063537   \n",
       "3       956.333844  956.469719  956.650190  956.840204  957.063040   \n",
       "4       950.051087  950.080657  950.899845  951.943309  952.584266   \n",
       "...            ...         ...         ...         ...         ...   \n",
       "100007  960.091597  958.332371  959.228982  959.937280  960.462593   \n",
       "100008  960.158109  960.774672  961.122588  962.403698  963.542825   \n",
       "100009  959.520187  958.437111  959.105015  959.603769  960.050059   \n",
       "100010  957.960255  957.948389  959.213426  959.568639  959.893190   \n",
       "100011  956.404404  957.531612  958.738170  960.137072  961.633615   \n",
       "\n",
       "               5           6           7           8           9    ...  \\\n",
       "0       966.375099  966.610054  966.770207  966.863751  966.951485  ...   \n",
       "1       952.698845  952.985557  953.265506  953.554840  953.878155  ...   \n",
       "2       961.544535  961.778225  961.903495  961.914781  961.927284  ...   \n",
       "3       957.289795  957.532154  957.763758  957.903596  958.002126  ...   \n",
       "4       953.144752  953.758744  954.385010  955.116512  955.847917  ...   \n",
       "...            ...         ...         ...         ...         ...  ...   \n",
       "100007  960.875403  961.311190  961.743369  962.152282  962.574638  ...   \n",
       "100008  966.482368  966.960323  967.707577  968.022530  968.521270  ...   \n",
       "100009  961.738668  962.600041  960.552121  957.583658  959.426743  ...   \n",
       "100010  960.498387  961.169668  961.611360  961.984491  962.369367  ...   \n",
       "100011  963.163953  964.694432  966.285352  967.899972  969.059446  ...   \n",
       "\n",
       "               351         352         353         354         355  \\\n",
       "0       962.278640  962.282842  962.301737  962.395261  962.294270   \n",
       "1       957.912677  957.910661  957.908414  957.887200  957.930868   \n",
       "2       962.793234  963.018453  963.291927  963.610334  963.801834   \n",
       "3       963.483037  963.849264  964.232722  964.751295  965.325454   \n",
       "4       962.082603  962.257165  962.430031  962.608560  962.787336   \n",
       "...            ...         ...         ...         ...         ...   \n",
       "100007  964.516509  965.081464  965.657630  965.508808  965.080290   \n",
       "100008  963.553957  962.929216  962.408595  961.909285  961.207912   \n",
       "100009  968.586538  969.176431  969.713374  970.199836  970.198314   \n",
       "100010  974.808446  973.751860  972.810871  971.849649  970.724459   \n",
       "100011  962.505485  962.803601  963.433398  964.152886  962.467724   \n",
       "\n",
       "               356         357         358         359  360  \n",
       "0       961.799296  963.125729  961.823215  962.056695  0.0  \n",
       "1       958.046497  957.767864  957.935546  957.848457  0.0  \n",
       "2       963.664744  964.690013  963.714316  963.719371  0.0  \n",
       "3       965.385283  965.277388  965.949119  966.749783  0.0  \n",
       "4       962.969444  963.152923  963.315874  963.472298  0.0  \n",
       "...            ...         ...         ...         ...  ...  \n",
       "100007  964.863438  964.607543  964.151499  963.933098  0.0  \n",
       "100008  960.546289  959.842670  959.283797  959.529191  0.0  \n",
       "100009  970.071392  969.631823  969.133521  969.677513  0.0  \n",
       "100010  969.718156  968.525272  967.561324  968.065026  0.0  \n",
       "100011  960.094117  960.598133  961.799478  961.153864  0.0  \n",
       "\n",
       "[100012 rows x 361 columns]"
      ]
     },
     "execution_count": 10,
     "metadata": {},
     "output_type": "execute_result"
    }
   ],
   "source": [
    "X_train_df = pd.DataFrame(X)\n",
    "X_train_df"
   ]
  },
  {
   "cell_type": "code",
   "execution_count": 11,
   "id": "1e88d7c0",
   "metadata": {
    "execution": {
     "iopub.execute_input": "2022-06-21T08:48:11.712596Z",
     "iopub.status.busy": "2022-06-21T08:48:11.710925Z",
     "iopub.status.idle": "2022-06-21T08:48:11.715541Z",
     "shell.execute_reply": "2022-06-21T08:48:11.714713Z",
     "shell.execute_reply.started": "2022-06-21T07:23:28.726387Z"
    },
    "papermill": {
     "duration": 0.065188,
     "end_time": "2022-06-21T08:48:11.715728",
     "exception": false,
     "start_time": "2022-06-21T08:48:11.650540",
     "status": "completed"
    },
    "tags": []
   },
   "outputs": [
    {
     "name": "stdout",
     "output_type": "stream",
     "text": [
      "0.0    75011\n",
      "1.0     8071\n",
      "2.0     7255\n",
      "4.0     7129\n",
      "3.0     2546\n",
      "Name: 360, dtype: int64\n"
     ]
    }
   ],
   "source": [
    "per_class = X_train_df[X_train_df.shape[1]-1].value_counts()\n",
    "print(per_class)"
   ]
  },
  {
   "cell_type": "code",
   "execution_count": 12,
   "id": "d85baa32",
   "metadata": {
    "execution": {
     "iopub.execute_input": "2022-06-21T08:48:11.818973Z",
     "iopub.status.busy": "2022-06-21T08:48:11.818286Z",
     "iopub.status.idle": "2022-06-21T08:48:11.992800Z",
     "shell.execute_reply": "2022-06-21T08:48:11.992298Z",
     "shell.execute_reply.started": "2022-06-21T07:23:28.740889Z"
    },
    "papermill": {
     "duration": 0.228515,
     "end_time": "2022-06-21T08:48:11.992945",
     "exception": false,
     "start_time": "2022-06-21T08:48:11.764430",
     "status": "completed"
    },
    "tags": []
   },
   "outputs": [],
   "source": [
    "df_1=X_train_df[X_train_df[X_train_df.shape[1]-1]==1]\n",
    "df_2=X_train_df[X_train_df[X_train_df.shape[1]-1]==2]\n",
    "df_3=X_train_df[X_train_df[X_train_df.shape[1]-1]==3]\n",
    "df_4=X_train_df[X_train_df[X_train_df.shape[1]-1]==4]\n",
    "df_0=(X_train_df[X_train_df[X_train_df.shape[1]-1]==0]).sample(n=5000,random_state=42)\n",
    "\n",
    "df_1_upsample=resample(df_1,replace=True,n_samples=5000,random_state=42)\n",
    "df_2_upsample=resample(df_2,replace=True,n_samples=5000,random_state=42)\n",
    "df_3_upsample=resample(df_3,replace=True,n_samples=5000,random_state=42)\n",
    "df_4_upsample=resample(df_4,replace=True,n_samples=5000,random_state=42)\n",
    "X_train_df=pd.concat([df_0,df_1_upsample,df_2_upsample,df_3_upsample,df_4_upsample])"
   ]
  },
  {
   "cell_type": "code",
   "execution_count": 13,
   "id": "748ee929",
   "metadata": {
    "execution": {
     "iopub.execute_input": "2022-06-21T08:48:12.097771Z",
     "iopub.status.busy": "2022-06-21T08:48:12.095970Z",
     "iopub.status.idle": "2022-06-21T08:48:12.100461Z",
     "shell.execute_reply": "2022-06-21T08:48:12.099896Z",
     "shell.execute_reply.started": "2022-06-21T07:23:28.924053Z"
    },
    "papermill": {
     "duration": 0.05923,
     "end_time": "2022-06-21T08:48:12.100599",
     "exception": false,
     "start_time": "2022-06-21T08:48:12.041369",
     "status": "completed"
    },
    "tags": []
   },
   "outputs": [
    {
     "name": "stdout",
     "output_type": "stream",
     "text": [
      "0.0    5000\n",
      "1.0    5000\n",
      "2.0    5000\n",
      "3.0    5000\n",
      "4.0    5000\n",
      "Name: 360, dtype: int64\n"
     ]
    }
   ],
   "source": [
    "per_class = X_train_df[X_train_df.shape[1]-1].value_counts()\n",
    "print(per_class)"
   ]
  },
  {
   "cell_type": "code",
   "execution_count": 14,
   "id": "79e155da",
   "metadata": {
    "execution": {
     "iopub.execute_input": "2022-06-21T08:48:12.233314Z",
     "iopub.status.busy": "2022-06-21T08:48:12.232618Z",
     "iopub.status.idle": "2022-06-21T08:48:12.253306Z",
     "shell.execute_reply": "2022-06-21T08:48:12.253850Z",
     "shell.execute_reply.started": "2022-06-21T07:23:28.936892Z"
    },
    "papermill": {
     "duration": 0.101497,
     "end_time": "2022-06-21T08:48:12.254033",
     "exception": false,
     "start_time": "2022-06-21T08:48:12.152536",
     "status": "completed"
    },
    "tags": []
   },
   "outputs": [
    {
     "name": "stdout",
     "output_type": "stream",
     "text": [
      "X_train :  (20000, 361)\n",
      "X_test  :  (5000, 361)\n"
     ]
    }
   ],
   "source": [
    "train, test = train_test_split(X_train_df, test_size=0.20)\n",
    "print(\"X_train : \", np.shape(train))\n",
    "print(\"X_test  : \", np.shape(test))"
   ]
  },
  {
   "cell_type": "code",
   "execution_count": 15,
   "id": "8057b306",
   "metadata": {
    "execution": {
     "iopub.execute_input": "2022-06-21T08:48:12.356914Z",
     "iopub.status.busy": "2022-06-21T08:48:12.356100Z",
     "iopub.status.idle": "2022-06-21T08:48:12.360861Z",
     "shell.execute_reply": "2022-06-21T08:48:12.360288Z",
     "shell.execute_reply.started": "2022-06-21T07:23:28.991603Z"
    },
    "papermill": {
     "duration": 0.058268,
     "end_time": "2022-06-21T08:48:12.360990",
     "exception": false,
     "start_time": "2022-06-21T08:48:12.302722",
     "status": "completed"
    },
    "tags": []
   },
   "outputs": [
    {
     "name": "stdout",
     "output_type": "stream",
     "text": [
      "(20000, 5) (5000, 5)\n"
     ]
    }
   ],
   "source": [
    "target_train=train[train.shape[1]-1]\n",
    "target_test=test[test.shape[1]-1]\n",
    "train_y=to_categorical(target_train)\n",
    "test_y=to_categorical(target_test)\n",
    "print(np.shape(train_y), np.shape(test_y))"
   ]
  },
  {
   "cell_type": "code",
   "execution_count": 16,
   "id": "b0416d8d",
   "metadata": {
    "execution": {
     "iopub.execute_input": "2022-06-21T08:48:12.462600Z",
     "iopub.status.busy": "2022-06-21T08:48:12.461992Z",
     "iopub.status.idle": "2022-06-21T08:48:12.464836Z",
     "shell.execute_reply": "2022-06-21T08:48:12.465412Z",
     "shell.execute_reply.started": "2022-06-21T07:23:29.001977Z"
    },
    "papermill": {
     "duration": 0.057439,
     "end_time": "2022-06-21T08:48:12.465573",
     "exception": false,
     "start_time": "2022-06-21T08:48:12.408134",
     "status": "completed"
    },
    "tags": []
   },
   "outputs": [
    {
     "name": "stdout",
     "output_type": "stream",
     "text": [
      "(20000, 360, 1) (5000, 360, 1)\n"
     ]
    }
   ],
   "source": [
    "train_x = train.iloc[:,:train.shape[1]-1].values\n",
    "test_x = test.iloc[:,:test.shape[1]-1].values\n",
    "train_x = train_x.reshape(len(train_x), train_x.shape[1],1)\n",
    "test_x = test_x.reshape(len(test_x), test_x.shape[1],1)\n",
    "print(np.shape(train_x), np.shape(test_x))"
   ]
  },
  {
   "cell_type": "code",
   "execution_count": 17,
   "id": "3c90790e",
   "metadata": {
    "execution": {
     "iopub.execute_input": "2022-06-21T08:48:12.599349Z",
     "iopub.status.busy": "2022-06-21T08:48:12.591981Z",
     "iopub.status.idle": "2022-06-21T08:48:12.602510Z",
     "shell.execute_reply": "2022-06-21T08:48:12.603509Z",
     "shell.execute_reply.started": "2022-06-21T07:23:29.011940Z"
    },
    "papermill": {
     "duration": 0.089557,
     "end_time": "2022-06-21T08:48:12.603775",
     "exception": false,
     "start_time": "2022-06-21T08:48:12.514218",
     "status": "completed"
    },
    "tags": []
   },
   "outputs": [
    {
     "name": "stdout",
     "output_type": "stream",
     "text": [
      "[[[1033.72758369]\n",
      "  [1035.02365249]\n",
      "  [1036.21428748]\n",
      "  ...\n",
      "  [ 969.49517529]\n",
      "  [ 974.26526919]\n",
      "  [ 971.60913182]]\n",
      "\n",
      " [[ 988.44794402]\n",
      "  [ 995.89743783]\n",
      "  [ 993.94626934]\n",
      "  ...\n",
      "  [1021.41281644]\n",
      "  [1021.21691198]\n",
      "  [1021.31455613]]\n",
      "\n",
      " [[ 983.52095499]\n",
      "  [ 982.03269051]\n",
      "  [ 981.22122322]\n",
      "  ...\n",
      "  [ 979.84118145]\n",
      "  [ 979.837797  ]\n",
      "  [ 979.70607301]]\n",
      "\n",
      " ...\n",
      "\n",
      " [[ 848.4537476 ]\n",
      "  [ 848.38924671]\n",
      "  [ 848.47105217]\n",
      "  ...\n",
      "  [ 863.5261889 ]\n",
      "  [ 863.53172479]\n",
      "  [ 863.05418747]]\n",
      "\n",
      " [[ 936.24028341]\n",
      "  [ 936.49404491]\n",
      "  [ 937.14427351]\n",
      "  ...\n",
      "  [ 980.35449435]\n",
      "  [ 980.28676913]\n",
      "  [ 979.94366339]]\n",
      "\n",
      " [[1038.52822002]\n",
      "  [1041.25414802]\n",
      "  [1042.29113859]\n",
      "  ...\n",
      "  [1055.77327694]\n",
      "  [1055.41206452]\n",
      "  [1055.67364818]]]\n"
     ]
    }
   ],
   "source": [
    "print(train_x)"
   ]
  },
  {
   "cell_type": "code",
   "execution_count": 18,
   "id": "d6017f48",
   "metadata": {
    "execution": {
     "iopub.execute_input": "2022-06-21T08:48:12.802962Z",
     "iopub.status.busy": "2022-06-21T08:48:12.802299Z",
     "iopub.status.idle": "2022-06-21T08:48:15.661574Z",
     "shell.execute_reply": "2022-06-21T08:48:15.662211Z",
     "shell.execute_reply.started": "2022-06-21T07:23:29.021284Z"
    },
    "papermill": {
     "duration": 2.957865,
     "end_time": "2022-06-21T08:48:15.662420",
     "exception": false,
     "start_time": "2022-06-21T08:48:12.704555",
     "status": "completed"
    },
    "tags": []
   },
   "outputs": [
    {
     "name": "stderr",
     "output_type": "stream",
     "text": [
      "2022-06-21 08:48:12.912633: I tensorflow/stream_executor/cuda/cuda_gpu_executor.cc:937] successful NUMA node read from SysFS had negative value (-1), but there must be at least one NUMA node, so returning NUMA node zero\n",
      "2022-06-21 08:48:13.062390: I tensorflow/stream_executor/cuda/cuda_gpu_executor.cc:937] successful NUMA node read from SysFS had negative value (-1), but there must be at least one NUMA node, so returning NUMA node zero\n",
      "2022-06-21 08:48:13.063734: I tensorflow/stream_executor/cuda/cuda_gpu_executor.cc:937] successful NUMA node read from SysFS had negative value (-1), but there must be at least one NUMA node, so returning NUMA node zero\n",
      "2022-06-21 08:48:13.066364: I tensorflow/core/platform/cpu_feature_guard.cc:142] This TensorFlow binary is optimized with oneAPI Deep Neural Network Library (oneDNN) to use the following CPU instructions in performance-critical operations:  AVX2 AVX512F FMA\n",
      "To enable them in other operations, rebuild TensorFlow with the appropriate compiler flags.\n",
      "2022-06-21 08:48:13.067387: I tensorflow/stream_executor/cuda/cuda_gpu_executor.cc:937] successful NUMA node read from SysFS had negative value (-1), but there must be at least one NUMA node, so returning NUMA node zero\n",
      "2022-06-21 08:48:13.068600: I tensorflow/stream_executor/cuda/cuda_gpu_executor.cc:937] successful NUMA node read from SysFS had negative value (-1), but there must be at least one NUMA node, so returning NUMA node zero\n",
      "2022-06-21 08:48:13.069821: I tensorflow/stream_executor/cuda/cuda_gpu_executor.cc:937] successful NUMA node read from SysFS had negative value (-1), but there must be at least one NUMA node, so returning NUMA node zero\n",
      "2022-06-21 08:48:15.278471: I tensorflow/stream_executor/cuda/cuda_gpu_executor.cc:937] successful NUMA node read from SysFS had negative value (-1), but there must be at least one NUMA node, so returning NUMA node zero\n",
      "2022-06-21 08:48:15.279435: I tensorflow/stream_executor/cuda/cuda_gpu_executor.cc:937] successful NUMA node read from SysFS had negative value (-1), but there must be at least one NUMA node, so returning NUMA node zero\n",
      "2022-06-21 08:48:15.280387: I tensorflow/stream_executor/cuda/cuda_gpu_executor.cc:937] successful NUMA node read from SysFS had negative value (-1), but there must be at least one NUMA node, so returning NUMA node zero\n",
      "2022-06-21 08:48:15.281221: I tensorflow/core/common_runtime/gpu/gpu_device.cc:1510] Created device /job:localhost/replica:0/task:0/device:GPU:0 with 15403 MB memory:  -> device: 0, name: Tesla P100-PCIE-16GB, pci bus id: 0000:00:04.0, compute capability: 6.0\n"
     ]
    }
   ],
   "source": [
    "model1 = Sequential()\n",
    "model1.add(Bidirectional(LSTM(units=50, return_sequences=True, activation='tanh', input_shape=(360,1))))\n",
    "model1.add(Bidirectional(LSTM(units=10, return_sequences=True, activation='tanh')))\n",
    "model1.add(Flatten())\n",
    "model1.add(Dropout(0.5))\n",
    "model1.add(Dense(35))\n",
    "model1.add(Dense(5))\n",
    "model1.add(Softmax())"
   ]
  },
  {
   "cell_type": "code",
   "execution_count": 19,
   "id": "73a38307",
   "metadata": {
    "execution": {
     "iopub.execute_input": "2022-06-21T08:48:15.776050Z",
     "iopub.status.busy": "2022-06-21T08:48:15.774874Z",
     "iopub.status.idle": "2022-06-21T08:48:15.792179Z",
     "shell.execute_reply": "2022-06-21T08:48:15.792560Z",
     "shell.execute_reply.started": "2022-06-21T07:23:31.637199Z"
    },
    "papermill": {
     "duration": 0.075277,
     "end_time": "2022-06-21T08:48:15.792730",
     "exception": false,
     "start_time": "2022-06-21T08:48:15.717453",
     "status": "completed"
    },
    "tags": []
   },
   "outputs": [],
   "source": [
    "model1.compile(loss='categorical_crossentropy', optimizer=Adam(), metrics=['accuracy'])"
   ]
  },
  {
   "cell_type": "code",
   "execution_count": 20,
   "id": "92de4532",
   "metadata": {
    "execution": {
     "iopub.execute_input": "2022-06-21T08:48:15.900982Z",
     "iopub.status.busy": "2022-06-21T08:48:15.900077Z",
     "iopub.status.idle": "2022-06-21T09:01:43.151391Z",
     "shell.execute_reply": "2022-06-21T09:01:43.150901Z",
     "shell.execute_reply.started": "2022-06-21T07:23:31.661661Z"
    },
    "papermill": {
     "duration": 807.3054,
     "end_time": "2022-06-21T09:01:43.151542",
     "exception": false,
     "start_time": "2022-06-21T08:48:15.846142",
     "status": "completed"
    },
    "tags": []
   },
   "outputs": [
    {
     "name": "stderr",
     "output_type": "stream",
     "text": [
      "2022-06-21 08:48:16.035594: I tensorflow/compiler/mlir/mlir_graph_optimization_pass.cc:185] None of the MLIR Optimization Passes are enabled (registered 2)\n"
     ]
    },
    {
     "name": "stdout",
     "output_type": "stream",
     "text": [
      "Epoch 1/60\n"
     ]
    },
    {
     "name": "stderr",
     "output_type": "stream",
     "text": [
      "2022-06-21 08:48:22.073046: I tensorflow/stream_executor/cuda/cuda_dnn.cc:369] Loaded cuDNN version 8005\n"
     ]
    },
    {
     "name": "stdout",
     "output_type": "stream",
     "text": [
      "157/157 [==============================] - 21s 89ms/step - loss: 1.6987 - accuracy: 0.2421 - val_loss: 1.5335 - val_accuracy: 0.2926\n",
      "Epoch 2/60\n",
      "157/157 [==============================] - 13s 80ms/step - loss: 1.5131 - accuracy: 0.3200 - val_loss: 1.4579 - val_accuracy: 0.4624\n",
      "Epoch 3/60\n",
      "157/157 [==============================] - 13s 81ms/step - loss: 1.3291 - accuracy: 0.4778 - val_loss: 1.0446 - val_accuracy: 0.6428\n",
      "Epoch 4/60\n",
      "157/157 [==============================] - 13s 81ms/step - loss: 0.9463 - accuracy: 0.6709 - val_loss: 1.2173 - val_accuracy: 0.4620\n",
      "Epoch 5/60\n",
      "157/157 [==============================] - 13s 81ms/step - loss: 0.8276 - accuracy: 0.7229 - val_loss: 0.6819 - val_accuracy: 0.7938\n",
      "Epoch 6/60\n",
      "157/157 [==============================] - 13s 82ms/step - loss: 0.6732 - accuracy: 0.7876 - val_loss: 0.5154 - val_accuracy: 0.8366\n",
      "Epoch 7/60\n",
      "157/157 [==============================] - 13s 80ms/step - loss: 0.5889 - accuracy: 0.8141 - val_loss: 0.5431 - val_accuracy: 0.8510\n",
      "Epoch 8/60\n",
      "157/157 [==============================] - 13s 83ms/step - loss: 0.6757 - accuracy: 0.7761 - val_loss: 0.4656 - val_accuracy: 0.8676\n",
      "Epoch 9/60\n",
      "157/157 [==============================] - 13s 82ms/step - loss: 0.5201 - accuracy: 0.8374 - val_loss: 0.4736 - val_accuracy: 0.8496\n",
      "Epoch 10/60\n",
      "157/157 [==============================] - 13s 81ms/step - loss: 0.6122 - accuracy: 0.8019 - val_loss: 0.5590 - val_accuracy: 0.8194\n",
      "Epoch 11/60\n",
      "157/157 [==============================] - 13s 82ms/step - loss: 0.4775 - accuracy: 0.8486 - val_loss: 0.4393 - val_accuracy: 0.8668\n",
      "Epoch 12/60\n",
      "157/157 [==============================] - 13s 80ms/step - loss: 0.5033 - accuracy: 0.8420 - val_loss: 0.4304 - val_accuracy: 0.8816\n",
      "Epoch 13/60\n",
      "157/157 [==============================] - 13s 82ms/step - loss: 0.4570 - accuracy: 0.8562 - val_loss: 0.3733 - val_accuracy: 0.8794\n",
      "Epoch 14/60\n",
      "157/157 [==============================] - 13s 82ms/step - loss: 0.4116 - accuracy: 0.8687 - val_loss: 0.3587 - val_accuracy: 0.8928\n",
      "Epoch 15/60\n",
      "157/157 [==============================] - 13s 82ms/step - loss: 0.4133 - accuracy: 0.8696 - val_loss: 0.2996 - val_accuracy: 0.9032\n",
      "Epoch 16/60\n",
      "157/157 [==============================] - 13s 83ms/step - loss: 0.3548 - accuracy: 0.8852 - val_loss: 0.2667 - val_accuracy: 0.9132\n",
      "Epoch 17/60\n",
      "157/157 [==============================] - 13s 80ms/step - loss: 0.3053 - accuracy: 0.9030 - val_loss: 0.2250 - val_accuracy: 0.9236\n",
      "Epoch 18/60\n",
      "157/157 [==============================] - 13s 83ms/step - loss: 0.2651 - accuracy: 0.9157 - val_loss: 0.2196 - val_accuracy: 0.9258\n",
      "Epoch 19/60\n",
      "157/157 [==============================] - 13s 81ms/step - loss: 0.2995 - accuracy: 0.9024 - val_loss: 0.1876 - val_accuracy: 0.9338\n",
      "Epoch 20/60\n",
      "157/157 [==============================] - 13s 82ms/step - loss: 0.2466 - accuracy: 0.9181 - val_loss: 0.2133 - val_accuracy: 0.9300\n",
      "Epoch 21/60\n",
      "157/157 [==============================] - 13s 83ms/step - loss: 0.2364 - accuracy: 0.9221 - val_loss: 0.1827 - val_accuracy: 0.9404\n",
      "Epoch 22/60\n",
      "157/157 [==============================] - 13s 80ms/step - loss: 0.2161 - accuracy: 0.9292 - val_loss: 0.1747 - val_accuracy: 0.9402\n",
      "Epoch 23/60\n",
      "157/157 [==============================] - 13s 83ms/step - loss: 0.2161 - accuracy: 0.9283 - val_loss: 0.3099 - val_accuracy: 0.9044\n",
      "Epoch 24/60\n",
      "157/157 [==============================] - 13s 81ms/step - loss: 0.2232 - accuracy: 0.9247 - val_loss: 0.1639 - val_accuracy: 0.9424\n",
      "Epoch 25/60\n",
      "157/157 [==============================] - 13s 82ms/step - loss: 0.2020 - accuracy: 0.9334 - val_loss: 0.1720 - val_accuracy: 0.9428\n",
      "Epoch 26/60\n",
      "157/157 [==============================] - 13s 84ms/step - loss: 0.1827 - accuracy: 0.9387 - val_loss: 0.1767 - val_accuracy: 0.9404\n",
      "Epoch 27/60\n",
      "157/157 [==============================] - 12s 80ms/step - loss: 0.1963 - accuracy: 0.9341 - val_loss: 0.1603 - val_accuracy: 0.9424\n",
      "Epoch 28/60\n",
      "157/157 [==============================] - 13s 84ms/step - loss: 0.1773 - accuracy: 0.9420 - val_loss: 0.1896 - val_accuracy: 0.9338\n",
      "Epoch 29/60\n",
      "157/157 [==============================] - 13s 81ms/step - loss: 0.1879 - accuracy: 0.9373 - val_loss: 0.1415 - val_accuracy: 0.9528\n",
      "Epoch 30/60\n",
      "157/157 [==============================] - 13s 82ms/step - loss: 0.1679 - accuracy: 0.9428 - val_loss: 0.1602 - val_accuracy: 0.9480\n",
      "Epoch 31/60\n",
      "157/157 [==============================] - 13s 83ms/step - loss: 0.1615 - accuracy: 0.9462 - val_loss: 0.1708 - val_accuracy: 0.9424\n",
      "Epoch 32/60\n",
      "157/157 [==============================] - 12s 80ms/step - loss: 0.1616 - accuracy: 0.9465 - val_loss: 0.1410 - val_accuracy: 0.9502\n",
      "Epoch 33/60\n",
      "157/157 [==============================] - 13s 84ms/step - loss: 0.1662 - accuracy: 0.9446 - val_loss: 0.1712 - val_accuracy: 0.9390\n",
      "Epoch 34/60\n",
      "157/157 [==============================] - 13s 80ms/step - loss: 0.1511 - accuracy: 0.9485 - val_loss: 0.1309 - val_accuracy: 0.9540\n",
      "Epoch 35/60\n",
      "157/157 [==============================] - 13s 82ms/step - loss: 0.1453 - accuracy: 0.9499 - val_loss: 0.1296 - val_accuracy: 0.9574\n",
      "Epoch 36/60\n",
      "157/157 [==============================] - 13s 83ms/step - loss: 0.1578 - accuracy: 0.9470 - val_loss: 0.1287 - val_accuracy: 0.9556\n",
      "Epoch 37/60\n",
      "157/157 [==============================] - 13s 80ms/step - loss: 0.1443 - accuracy: 0.9512 - val_loss: 0.1365 - val_accuracy: 0.9562\n",
      "Epoch 38/60\n",
      "157/157 [==============================] - 13s 84ms/step - loss: 0.1368 - accuracy: 0.9546 - val_loss: 0.1338 - val_accuracy: 0.9552\n",
      "Epoch 39/60\n",
      "157/157 [==============================] - 13s 80ms/step - loss: 0.1431 - accuracy: 0.9537 - val_loss: 0.1273 - val_accuracy: 0.9564\n",
      "Epoch 40/60\n",
      "157/157 [==============================] - 13s 84ms/step - loss: 0.1324 - accuracy: 0.9550 - val_loss: 0.1305 - val_accuracy: 0.9524\n",
      "Epoch 41/60\n",
      "157/157 [==============================] - 13s 84ms/step - loss: 0.1445 - accuracy: 0.9514 - val_loss: 0.1315 - val_accuracy: 0.9556\n",
      "Epoch 42/60\n",
      "157/157 [==============================] - 12s 78ms/step - loss: 0.1381 - accuracy: 0.9527 - val_loss: 0.1222 - val_accuracy: 0.9568\n",
      "Epoch 43/60\n",
      "157/157 [==============================] - 13s 84ms/step - loss: 0.1277 - accuracy: 0.9561 - val_loss: 0.1175 - val_accuracy: 0.9582\n",
      "Epoch 44/60\n",
      "157/157 [==============================] - 12s 79ms/step - loss: 0.1320 - accuracy: 0.9553 - val_loss: 0.1389 - val_accuracy: 0.9522\n",
      "Epoch 45/60\n",
      "157/157 [==============================] - 13s 83ms/step - loss: 0.1585 - accuracy: 0.9455 - val_loss: 0.1478 - val_accuracy: 0.9514\n",
      "Epoch 46/60\n",
      "157/157 [==============================] - 13s 84ms/step - loss: 0.1338 - accuracy: 0.9574 - val_loss: 0.1323 - val_accuracy: 0.9574\n",
      "Epoch 47/60\n",
      "157/157 [==============================] - 12s 79ms/step - loss: 0.1266 - accuracy: 0.9571 - val_loss: 0.1127 - val_accuracy: 0.9600\n",
      "Epoch 48/60\n",
      "157/157 [==============================] - 13s 83ms/step - loss: 0.1234 - accuracy: 0.9570 - val_loss: 0.1128 - val_accuracy: 0.9632\n",
      "Epoch 49/60\n",
      "157/157 [==============================] - 13s 84ms/step - loss: 0.1203 - accuracy: 0.9594 - val_loss: 0.1662 - val_accuracy: 0.9472\n",
      "Epoch 50/60\n",
      "157/157 [==============================] - 12s 78ms/step - loss: 0.1351 - accuracy: 0.9541 - val_loss: 0.1171 - val_accuracy: 0.9596\n",
      "Epoch 51/60\n",
      "157/157 [==============================] - 13s 84ms/step - loss: 0.1214 - accuracy: 0.9572 - val_loss: 0.1141 - val_accuracy: 0.9628\n",
      "Epoch 52/60\n",
      "157/157 [==============================] - 12s 79ms/step - loss: 0.1264 - accuracy: 0.9586 - val_loss: 0.1084 - val_accuracy: 0.9626\n",
      "Epoch 53/60\n",
      "157/157 [==============================] - 13s 84ms/step - loss: 0.1106 - accuracy: 0.9634 - val_loss: 0.1091 - val_accuracy: 0.9594\n",
      "Epoch 54/60\n",
      "157/157 [==============================] - 13s 84ms/step - loss: 0.1138 - accuracy: 0.9602 - val_loss: 0.1254 - val_accuracy: 0.9584\n",
      "Epoch 55/60\n",
      "157/157 [==============================] - 13s 82ms/step - loss: 0.1142 - accuracy: 0.9609 - val_loss: 0.0947 - val_accuracy: 0.9698\n",
      "Epoch 56/60\n",
      "157/157 [==============================] - 13s 84ms/step - loss: 0.1223 - accuracy: 0.9589 - val_loss: 0.1170 - val_accuracy: 0.9588\n",
      "Epoch 57/60\n",
      "157/157 [==============================] - 13s 83ms/step - loss: 0.1110 - accuracy: 0.9614 - val_loss: 0.1016 - val_accuracy: 0.9668\n",
      "Epoch 58/60\n",
      "157/157 [==============================] - 13s 81ms/step - loss: 0.1144 - accuracy: 0.9605 - val_loss: 0.1446 - val_accuracy: 0.9532\n",
      "Epoch 59/60\n",
      "157/157 [==============================] - 13s 84ms/step - loss: 0.1225 - accuracy: 0.9576 - val_loss: 0.1087 - val_accuracy: 0.9648\n",
      "Epoch 60/60\n",
      "157/157 [==============================] - 13s 80ms/step - loss: 0.1134 - accuracy: 0.9613 - val_loss: 0.1015 - val_accuracy: 0.9642\n"
     ]
    }
   ],
   "source": [
    "history  = model1.fit(train_x, train_y, batch_size=128, epochs=60, verbose=1, validation_data=(test_x, test_y))"
   ]
  },
  {
   "cell_type": "code",
   "execution_count": 21,
   "id": "c98ee1ad",
   "metadata": {
    "execution": {
     "iopub.execute_input": "2022-06-21T09:01:48.937644Z",
     "iopub.status.busy": "2022-06-21T09:01:48.936684Z",
     "iopub.status.idle": "2022-06-21T09:01:53.751055Z",
     "shell.execute_reply": "2022-06-21T09:01:53.751714Z",
     "shell.execute_reply.started": "2022-06-21T07:36:32.248772Z"
    },
    "papermill": {
     "duration": 7.917036,
     "end_time": "2022-06-21T09:01:53.751911",
     "exception": false,
     "start_time": "2022-06-21T09:01:45.834875",
     "status": "completed"
    },
    "tags": []
   },
   "outputs": [
    {
     "name": "stdout",
     "output_type": "stream",
     "text": [
      "157/157 [==============================] - 5s 30ms/step - loss: 0.1015 - accuracy: 0.9642\n",
      "0.9642000198364258\n"
     ]
    }
   ],
   "source": [
    "score1 = model1.evaluate(test_x, test_y)\n",
    "print(score1[1])"
   ]
  },
  {
   "cell_type": "code",
   "execution_count": 22,
   "id": "86c78f7e",
   "metadata": {
    "execution": {
     "iopub.execute_input": "2022-06-21T09:01:59.367877Z",
     "iopub.status.busy": "2022-06-21T09:01:59.366988Z",
     "iopub.status.idle": "2022-06-21T09:01:59.380740Z",
     "shell.execute_reply": "2022-06-21T09:01:59.380250Z",
     "shell.execute_reply.started": "2022-06-21T07:36:36.741757Z"
    },
    "papermill": {
     "duration": 2.938065,
     "end_time": "2022-06-21T09:01:59.380864",
     "exception": false,
     "start_time": "2022-06-21T09:01:56.442799",
     "status": "completed"
    },
    "tags": []
   },
   "outputs": [],
   "source": [
    "def speci(kcm):\n",
    "    total=sum(sum(kcm))\n",
    "    sensitivity1 = kcm[0,0]/(kcm[0,0]+kcm[0,1]+kcm[0,2]+kcm[0,3]+kcm[0,4])\n",
    "    print('Sensitivity of  Non-ecotic beats (normal beat) ', sensitivity1 )\n",
    "    specificity1 = (kcm[1,1]+kcm[2,2]+kcm[3,3]+kcm[4,4])/(total-(kcm[0,0]+kcm[0,1]+kcm[0,2]+kcm[0,3]+kcm[0,4]))\n",
    "    print('Specificity of  Non-ecotic beats (normal beat) ', specificity1)\n",
    "    sensitivity1 = kcm[1,1]/(kcm[1,0]+kcm[1,1]+kcm[1,2]+kcm[1,3]+kcm[1,4])\n",
    "    print('Sensitivity of  Supraventricular ectopic beats ', sensitivity1 )\n",
    "    specificity1 = (kcm[0,0]+kcm[2,2]+kcm[3,3]+kcm[4,4])/(total-(kcm[1,0]+kcm[1,1]+kcm[1,2]+kcm[1,3]+kcm[1,4]))\n",
    "    print('Specificity of  Supraventricular ectopic beats ', specificity1)\n",
    "    sensitivity1 = kcm[2,2]/(kcm[2,0]+kcm[2,1]+kcm[2,2]+kcm[2,3]+kcm[2,4])\n",
    "    print('Sensitivity of  Ventricular ectopic beats  ', sensitivity1 )\n",
    "    specificity1 = (kcm[1,1]+kcm[0,0]+kcm[3,3]+kcm[4,4])/(total-(kcm[2,0]+kcm[2,1]+kcm[2,2]+kcm[2,3]+kcm[2,4]))\n",
    "    print('Specificity of  Ventricular ectopic beats ', specificity1)\n",
    "    sensitivity1 = kcm[3,3]/(kcm[3,0]+kcm[3,1]+kcm[3,2]+kcm[3,3]+kcm[3,4])\n",
    "    print('Sensitivity of  Fusion Beats ', sensitivity1 )\n",
    "    specificity1 = (kcm[1,1]+kcm[2,2]+kcm[0,0]+kcm[4,4])/(total-(kcm[3,0]+kcm[3,1]+kcm[3,2]+kcm[3,3]+kcm[3,4]))\n",
    "    print('Specificity of  Fusion Beats ', specificity1)\n",
    "    sensitivity1 = kcm[4,4]/(kcm[4,0]+kcm[4,1]+kcm[4,2]+kcm[4,3]+kcm[4,4])\n",
    "    print('Sensitivity of  Unknown Beats ', sensitivity1 )\n",
    "    specificity1 = (kcm[1,1]+kcm[2,2]+kcm[3,3]+kcm[0,0])/(total-(kcm[4,0]+kcm[4,1]+kcm[4,2]+kcm[4,3]+kcm[4,4]))\n",
    "    print('Specificity of  Unknown Beats ', specificity1)\n",
    "    "
   ]
  },
  {
   "cell_type": "code",
   "execution_count": 23,
   "id": "bd6cce2a",
   "metadata": {
    "execution": {
     "iopub.execute_input": "2022-06-21T09:02:04.736411Z",
     "iopub.status.busy": "2022-06-21T09:02:04.735513Z",
     "iopub.status.idle": "2022-06-21T09:02:11.072548Z",
     "shell.execute_reply": "2022-06-21T09:02:11.072086Z",
     "shell.execute_reply.started": "2022-06-21T07:36:36.762480Z"
    },
    "papermill": {
     "duration": 9.0542,
     "end_time": "2022-06-21T09:02:11.072703",
     "exception": false,
     "start_time": "2022-06-21T09:02:02.018503",
     "status": "completed"
    },
    "tags": []
   },
   "outputs": [
    {
     "name": "stdout",
     "output_type": "stream",
     "text": [
      "[[ 918    4    4   49   10]\n",
      " [   4 1025    0    3    5]\n",
      " [   2    0  980    3    0]\n",
      " [  57    0    5  946    1]\n",
      " [   8   10    5    9  952]]\n",
      "              precision    recall  f1-score   support\n",
      "\n",
      "           0       0.93      0.93      0.93       985\n",
      "           1       0.99      0.99      0.99      1037\n",
      "           2       0.99      0.99      0.99       985\n",
      "           3       0.94      0.94      0.94      1009\n",
      "           4       0.98      0.97      0.98       984\n",
      "\n",
      "    accuracy                           0.96      5000\n",
      "   macro avg       0.96      0.96      0.96      5000\n",
      "weighted avg       0.96      0.96      0.96      5000\n",
      "\n",
      "Sensitivity of  Non-ecotic beats (normal beat)  0.9319796954314721\n",
      "Specificity of  Non-ecotic beats (normal beat)  0.9721046077210461\n",
      "Sensitivity of  Supraventricular ectopic beats  0.9884281581485053\n",
      "Specificity of  Supraventricular ectopic beats  0.9578602069139541\n",
      "Sensitivity of  Ventricular ectopic beats   0.9949238578680203\n",
      "Specificity of  Ventricular ectopic beats  0.9566625155666252\n",
      "Sensitivity of  Fusion Beats  0.9375619425173439\n",
      "Specificity of  Fusion Beats  0.970934602856427\n",
      "Sensitivity of  Unknown Beats  0.967479674796748\n",
      "Specificity of  Unknown Beats  0.9633964143426295\n"
     ]
    }
   ],
   "source": [
    "from sklearn.metrics import confusion_matrix, classification_report\n",
    "Y_pred = model1.predict(test_x)\n",
    "Y_pred_classes = np.argmax(Y_pred,axis = 1) \n",
    "Y_true = np.argmax(test_y,axis = 1) \n",
    "confusion_mtx = confusion_matrix(Y_true, Y_pred_classes) \n",
    "print(confusion_mtx)\n",
    "print(classification_report(Y_true, Y_pred_classes))\n",
    "speci(confusion_mtx)"
   ]
  },
  {
   "cell_type": "code",
   "execution_count": 24,
   "id": "6942b708",
   "metadata": {
    "execution": {
     "iopub.execute_input": "2022-06-21T09:02:16.988201Z",
     "iopub.status.busy": "2022-06-21T09:02:16.987391Z",
     "iopub.status.idle": "2022-06-21T09:02:17.240266Z",
     "shell.execute_reply": "2022-06-21T09:02:17.240644Z",
     "shell.execute_reply.started": "2022-06-21T07:36:43.096168Z"
    },
    "papermill": {
     "duration": 2.975793,
     "end_time": "2022-06-21T09:02:17.240821",
     "exception": false,
     "start_time": "2022-06-21T09:02:14.265028",
     "status": "completed"
    },
    "tags": []
   },
   "outputs": [
    {
     "data": {
      "image/png": "[encoded data removed]",
      "text/plain": [
       "<Figure size 432x432 with 1 Axes>"
      ]
     },
     "metadata": {
      "needs_background": "light"
     },
     "output_type": "display_data"
    }
   ],
   "source": [
    "from mlxtend.plotting import plot_confusion_matrix\n",
    "fig, ax = plot_confusion_matrix(conf_mat=confusion_mtx, figsize=(6, 6), cmap=plt.cm.Blues)\n",
    "plt.xlabel('Predictions', fontsize=18)\n",
    "plt.ylabel('Actuals', fontsize=18)\n",
    "plt.title('Confusion Matrix', fontsize=18)\n",
    "plt.show()"
   ]
  },
  {
   "cell_type": "code",
   "execution_count": 25,
   "id": "00e21945",
   "metadata": {
    "execution": {
     "iopub.execute_input": "2022-06-21T09:02:22.804564Z",
     "iopub.status.busy": "2022-06-21T09:02:22.803683Z",
     "iopub.status.idle": "2022-06-21T09:02:50.508931Z",
     "shell.execute_reply": "2022-06-21T09:02:50.509714Z",
     "shell.execute_reply.started": "2022-06-21T07:36:43.448559Z"
    },
    "papermill": {
     "duration": 30.362313,
     "end_time": "2022-06-21T09:02:50.509947",
     "exception": false,
     "start_time": "2022-06-21T09:02:20.147634",
     "status": "completed"
    },
    "tags": []
   },
   "outputs": [
    {
     "name": "stdout",
     "output_type": "stream",
     "text": [
      "(20000, 7200)\n",
      "(5000, 7200)\n"
     ]
    }
   ],
   "source": [
    "model_feat = Model(inputs=model1.input,outputs=model1.get_layer('flatten').output)\n",
    "feat_train = model_feat.predict(train_x)\n",
    "print(feat_train.shape)\n",
    "feat_test = model_feat.predict(test_x)\n",
    "print(feat_test.shape)"
   ]
  },
  {
   "cell_type": "code",
   "execution_count": 26,
   "id": "2e9c9f3e",
   "metadata": {
    "execution": {
     "iopub.execute_input": "2022-06-21T09:02:56.181126Z",
     "iopub.status.busy": "2022-06-21T09:02:56.180319Z",
     "iopub.status.idle": "2022-06-21T09:09:24.850739Z",
     "shell.execute_reply": "2022-06-21T09:09:24.851339Z",
     "shell.execute_reply.started": "2022-06-21T07:37:08.521398Z"
    },
    "papermill": {
     "duration": 391.359604,
     "end_time": "2022-06-21T09:09:24.851506",
     "exception": false,
     "start_time": "2022-06-21T09:02:53.491902",
     "status": "completed"
    },
    "tags": []
   },
   "outputs": [
    {
     "name": "stdout",
     "output_type": "stream",
     "text": [
      "Training time: 385.8966782093048s\n"
     ]
    }
   ],
   "source": [
    "from sklearn.preprocessing import StandardScaler\n",
    "from sklearn.discriminant_analysis import LinearDiscriminantAnalysis as LDA\n",
    "import time\n",
    "start0 = time.time()\n",
    "sc = StandardScaler()\n",
    "X_train = sc.fit_transform(feat_train)\n",
    "X_test = sc.transform(feat_test)\n",
    "lda = LDA(n_components=4)\n",
    "lda_X_train = lda.fit_transform(X_train,np.argmax(train_y,axis=1))\n",
    "lda_X_test = lda.transform(X_test)\n",
    "stop0=time.time()\n",
    "print(f\"Training time: {stop0 - start0}s\")"
   ]
  },
  {
   "cell_type": "code",
   "execution_count": 27,
   "id": "29f0d407",
   "metadata": {
    "execution": {
     "iopub.execute_input": "2022-06-21T09:09:30.464226Z",
     "iopub.status.busy": "2022-06-21T09:09:30.463328Z",
     "iopub.status.idle": "2022-06-21T09:09:30.467080Z",
     "shell.execute_reply": "2022-06-21T09:09:30.464796Z",
     "shell.execute_reply.started": "2022-06-21T07:43:55.266201Z"
    },
    "papermill": {
     "duration": 2.970423,
     "end_time": "2022-06-21T09:09:30.467230",
     "exception": false,
     "start_time": "2022-06-21T09:09:27.496807",
     "status": "completed"
    },
    "tags": []
   },
   "outputs": [
    {
     "name": "stdout",
     "output_type": "stream",
     "text": [
      "(20000, 4)\n",
      "(5000, 4)\n"
     ]
    }
   ],
   "source": [
    "print(lda_X_train.shape)\n",
    "print(lda_X_test.shape)"
   ]
  },
  {
   "cell_type": "code",
   "execution_count": 28,
   "id": "f92cae8a",
   "metadata": {
    "execution": {
     "iopub.execute_input": "2022-06-21T09:09:35.791901Z",
     "iopub.status.busy": "2022-06-21T09:09:35.790261Z",
     "iopub.status.idle": "2022-06-21T09:09:35.792465Z",
     "shell.execute_reply": "2022-06-21T09:09:35.792903Z",
     "shell.execute_reply.started": "2022-06-21T07:43:55.299914Z"
    },
    "papermill": {
     "duration": 2.644353,
     "end_time": "2022-06-21T09:09:35.793048",
     "exception": false,
     "start_time": "2022-06-21T09:09:33.148695",
     "status": "completed"
    },
    "tags": []
   },
   "outputs": [],
   "source": [
    "import time"
   ]
  },
  {
   "cell_type": "code",
   "execution_count": 29,
   "id": "abbf8856",
   "metadata": {
    "execution": {
     "iopub.execute_input": "2022-06-21T09:09:41.418695Z",
     "iopub.status.busy": "2022-06-21T09:09:41.414859Z",
     "iopub.status.idle": "2022-06-21T09:09:41.555376Z",
     "shell.execute_reply": "2022-06-21T09:09:41.555975Z",
     "shell.execute_reply.started": "2022-06-21T07:43:55.314279Z"
    },
    "papermill": {
     "duration": 3.068097,
     "end_time": "2022-06-21T09:09:41.556151",
     "exception": false,
     "start_time": "2022-06-21T09:09:38.488054",
     "status": "completed"
    },
    "tags": []
   },
   "outputs": [
    {
     "name": "stdout",
     "output_type": "stream",
     "text": [
      "Training time: 0.13754558563232422s\n"
     ]
    }
   ],
   "source": [
    "from sklearn.svm import SVC\n",
    "svm = SVC(kernel='rbf')\n",
    "t0=time.time()\n",
    "svm.fit(lda_X_train,np.argmax(train_y,axis=1))\n",
    "t1=time.time()\n",
    "print(f\"Training time: {t1-t0}s\")"
   ]
  },
  {
   "cell_type": "code",
   "execution_count": 30,
   "id": "d321c57a",
   "metadata": {
    "execution": {
     "iopub.execute_input": "2022-06-21T09:09:46.894451Z",
     "iopub.status.busy": "2022-06-21T09:09:46.893688Z",
     "iopub.status.idle": "2022-06-21T09:09:46.951020Z",
     "shell.execute_reply": "2022-06-21T09:09:46.951548Z",
     "shell.execute_reply.started": "2022-06-21T07:43:55.697398Z"
    },
    "papermill": {
     "duration": 2.714087,
     "end_time": "2022-06-21T09:09:46.951733",
     "exception": false,
     "start_time": "2022-06-21T09:09:44.237646",
     "status": "completed"
    },
    "tags": []
   },
   "outputs": [
    {
     "name": "stdout",
     "output_type": "stream",
     "text": [
      "[4 2 3 ... 4 2 4]\n",
      "Testing time: 5.395446300506592s\n"
     ]
    }
   ],
   "source": [
    "t2=time.time()\n",
    "Pred_labels = svm.predict(lda_X_test)\n",
    "t3=time.time()\n",
    "print(Pred_labels )\n",
    "print(f\"Testing time: {t3-t1}s\")"
   ]
  },
  {
   "cell_type": "code",
   "execution_count": 31,
   "id": "c2d2f149",
   "metadata": {
    "execution": {
     "iopub.execute_input": "2022-06-21T09:09:52.566879Z",
     "iopub.status.busy": "2022-06-21T09:09:52.565971Z",
     "iopub.status.idle": "2022-06-21T09:09:52.569506Z",
     "shell.execute_reply": "2022-06-21T09:09:52.570447Z",
     "shell.execute_reply.started": "2022-06-21T07:43:55.858661Z"
    },
    "papermill": {
     "duration": 2.989363,
     "end_time": "2022-06-21T09:09:52.570628",
     "exception": false,
     "start_time": "2022-06-21T09:09:49.581265",
     "status": "completed"
    },
    "tags": []
   },
   "outputs": [
    {
     "name": "stdout",
     "output_type": "stream",
     "text": [
      "Accuracy: 0.9432\n"
     ]
    }
   ],
   "source": [
    "from sklearn import metrics\n",
    "accuracy = metrics.accuracy_score(target_test ,Pred_labels)\n",
    "print(\"Accuracy:\",accuracy)"
   ]
  },
  {
   "cell_type": "code",
   "execution_count": 32,
   "id": "22e0c84b",
   "metadata": {
    "execution": {
     "iopub.execute_input": "2022-06-21T09:09:58.396489Z",
     "iopub.status.busy": "2022-06-21T09:09:58.395713Z",
     "iopub.status.idle": "2022-06-21T09:09:58.421002Z",
     "shell.execute_reply": "2022-06-21T09:09:58.421587Z",
     "shell.execute_reply.started": "2022-06-21T07:43:55.869883Z"
    },
    "papermill": {
     "duration": 2.675259,
     "end_time": "2022-06-21T09:09:58.421826",
     "exception": false,
     "start_time": "2022-06-21T09:09:55.746567",
     "status": "completed"
    },
    "tags": []
   },
   "outputs": [
    {
     "name": "stdout",
     "output_type": "stream",
     "text": [
      "[[ 917    6    9   43   10]\n",
      " [  17 1015    0    2    3]\n",
      " [  20    2  955    7    1]\n",
      " [  59    1    7  939    3]\n",
      " [  75    7    2   10  890]]\n",
      "              precision    recall  f1-score   support\n",
      "\n",
      "         0.0       0.84      0.93      0.88       985\n",
      "         1.0       0.98      0.98      0.98      1037\n",
      "         2.0       0.98      0.97      0.98       985\n",
      "         3.0       0.94      0.93      0.93      1009\n",
      "         4.0       0.98      0.90      0.94       984\n",
      "\n",
      "    accuracy                           0.94      5000\n",
      "   macro avg       0.95      0.94      0.94      5000\n",
      "weighted avg       0.95      0.94      0.94      5000\n",
      "\n",
      "Sensitivity of  Non-ecotic beats (normal beat)  0.9309644670050762\n",
      "Specificity of  Non-ecotic beats (normal beat)  0.9462017434620175\n",
      "Sensitivity of  Supraventricular ectopic beats  0.9787849566055931\n",
      "Specificity of  Supraventricular ectopic beats  0.9338884683320716\n",
      "Sensitivity of  Ventricular ectopic beats   0.9695431472081218\n",
      "Specificity of  Ventricular ectopic beats  0.9367372353673723\n",
      "Sensitivity of  Fusion Beats  0.9306243805748265\n",
      "Specificity of  Fusion Beats  0.9463793535454773\n",
      "Sensitivity of  Unknown Beats  0.9044715447154471\n",
      "Specificity of  Unknown Beats  0.9526892430278885\n"
     ]
    }
   ],
   "source": [
    "cm = confusion_matrix(target_test, Pred_labels) \n",
    "print(cm)\n",
    "print(classification_report(target_test, Pred_labels))\n",
    "speci(cm)"
   ]
  },
  {
   "cell_type": "code",
   "execution_count": 33,
   "id": "721936b5",
   "metadata": {
    "execution": {
     "iopub.execute_input": "2022-06-21T09:10:04.032383Z",
     "iopub.status.busy": "2022-06-21T09:10:04.031446Z",
     "iopub.status.idle": "2022-06-21T09:10:04.187031Z",
     "shell.execute_reply": "2022-06-21T09:10:04.187457Z",
     "shell.execute_reply.started": "2022-06-21T07:43:55.910954Z"
    },
    "papermill": {
     "duration": 3.062709,
     "end_time": "2022-06-21T09:10:04.187605",
     "exception": false,
     "start_time": "2022-06-21T09:10:01.124896",
     "status": "completed"
    },
    "tags": []
   },
   "outputs": [
    {
     "data": {
      "image/png": "[encoded data removed]",
      "text/plain": [
       "<Figure size 432x432 with 1 Axes>"
      ]
     },
     "metadata": {
      "needs_background": "light"
     },
     "output_type": "display_data"
    }
   ],
   "source": [
    "from mlxtend.plotting import plot_confusion_matrix\n",
    "fig, ax = plot_confusion_matrix(conf_mat=cm, figsize=(6, 6), cmap=plt.cm.Blues)\n",
    "plt.xlabel('Predictions', fontsize=18)\n",
    "plt.ylabel('Actuals', fontsize=18)\n",
    "plt.title('Confusion Matrix', fontsize=18)\n",
    "plt.show()"
   ]
  },
  {
   "cell_type": "code",
   "execution_count": 34,
   "id": "0a460577",
   "metadata": {
    "execution": {
     "iopub.execute_input": "2022-06-21T09:10:09.553968Z",
     "iopub.status.busy": "2022-06-21T09:10:09.552827Z",
     "iopub.status.idle": "2022-06-21T09:10:09.653094Z",
     "shell.execute_reply": "2022-06-21T09:10:09.653734Z",
     "shell.execute_reply.started": "2022-06-21T07:43:56.136777Z"
    },
    "papermill": {
     "duration": 2.754177,
     "end_time": "2022-06-21T09:10:09.653914",
     "exception": false,
     "start_time": "2022-06-21T09:10:06.899737",
     "status": "completed"
    },
    "tags": []
   },
   "outputs": [
    {
     "name": "stdout",
     "output_type": "stream",
     "text": [
      "Training time: 0.04190254211425781s\n"
     ]
    }
   ],
   "source": [
    "from sklearn import metrics\n",
    "from sklearn.neighbors import KNeighborsClassifier\n",
    "knn = KNeighborsClassifier(n_neighbors=5)\n",
    "t4=time.time()\n",
    "knn.fit(lda_X_train,np.argmax(train_y,axis=1))\n",
    "t5=time.time()\n",
    "print(f\"Training time: {t5-t4}s\")"
   ]
  },
  {
   "cell_type": "code",
   "execution_count": 35,
   "id": "6f7bbc10",
   "metadata": {
    "execution": {
     "iopub.execute_input": "2022-06-21T09:10:15.228426Z",
     "iopub.status.busy": "2022-06-21T09:10:15.227601Z",
     "iopub.status.idle": "2022-06-21T09:10:15.424332Z",
     "shell.execute_reply": "2022-06-21T09:10:15.423278Z",
     "shell.execute_reply.started": "2022-06-21T07:43:56.237219Z"
    },
    "papermill": {
     "duration": 3.116436,
     "end_time": "2022-06-21T09:10:15.424473",
     "exception": false,
     "start_time": "2022-06-21T09:10:12.308037",
     "status": "completed"
    },
    "tags": []
   },
   "outputs": [
    {
     "name": "stdout",
     "output_type": "stream",
     "text": [
      "[4 2 3 ... 4 2 4]\n",
      "Testing time: 0.19644451141357422s\n"
     ]
    }
   ],
   "source": [
    "t6=time.time()\n",
    "knn_labels = knn.predict(lda_X_test)\n",
    "t7=time.time()\n",
    "print(knn_labels )\n",
    "print(f\"Testing time: {t7-t6}s\")"
   ]
  },
  {
   "cell_type": "code",
   "execution_count": 36,
   "id": "d5f444d6",
   "metadata": {
    "execution": {
     "iopub.execute_input": "2022-06-21T09:10:20.796630Z",
     "iopub.status.busy": "2022-06-21T09:10:20.795769Z",
     "iopub.status.idle": "2022-06-21T09:10:20.822645Z",
     "shell.execute_reply": "2022-06-21T09:10:20.823095Z",
     "shell.execute_reply.started": "2022-06-21T07:43:56.437491Z"
    },
    "papermill": {
     "duration": 2.684658,
     "end_time": "2022-06-21T09:10:20.823248",
     "exception": false,
     "start_time": "2022-06-21T09:10:18.138590",
     "status": "completed"
    },
    "tags": []
   },
   "outputs": [
    {
     "name": "stdout",
     "output_type": "stream",
     "text": [
      "Accuracy: 0.9544\n",
      "[[ 905   13   12   42   13]\n",
      " [  10 1020    0    2    5]\n",
      " [   7    3  966    6    3]\n",
      " [  33    5   11  954    6]\n",
      " [  18   18    9   12  927]]\n",
      "              precision    recall  f1-score   support\n",
      "\n",
      "         0.0       0.93      0.92      0.92       985\n",
      "         1.0       0.96      0.98      0.97      1037\n",
      "         2.0       0.97      0.98      0.97       985\n",
      "         3.0       0.94      0.95      0.94      1009\n",
      "         4.0       0.97      0.94      0.96       984\n",
      "\n",
      "    accuracy                           0.95      5000\n",
      "   macro avg       0.95      0.95      0.95      5000\n",
      "weighted avg       0.95      0.95      0.95      5000\n",
      "\n",
      "Sensitivity of  Non-ecotic beats (normal beat)  0.9187817258883249\n",
      "Specificity of  Non-ecotic beats (normal beat)  0.9631382316313823\n",
      "Sensitivity of  Supraventricular ectopic beats  0.9836065573770492\n",
      "Specificity of  Supraventricular ectopic beats  0.9467575069391875\n",
      "Sensitivity of  Ventricular ectopic beats   0.9807106598984772\n",
      "Specificity of  Ventricular ectopic beats  0.947945205479452\n",
      "Sensitivity of  Fusion Beats  0.9454905847373637\n",
      "Specificity of  Fusion Beats  0.9566524680531195\n",
      "Sensitivity of  Unknown Beats  0.9420731707317073\n",
      "Specificity of  Unknown Beats  0.9574203187250996\n"
     ]
    }
   ],
   "source": [
    "from sklearn import metrics\n",
    "accuracy = metrics.accuracy_score(target_test ,knn_labels)\n",
    "print(\"Accuracy:\",accuracy)\n",
    "cm = confusion_matrix(target_test, knn_labels) \n",
    "print(cm)\n",
    "print(classification_report(target_test, knn_labels))\n",
    "speci(cm)"
   ]
  },
  {
   "cell_type": "code",
   "execution_count": 37,
   "id": "b14e3765",
   "metadata": {
    "execution": {
     "iopub.execute_input": "2022-06-21T09:10:26.584579Z",
     "iopub.status.busy": "2022-06-21T09:10:26.583603Z",
     "iopub.status.idle": "2022-06-21T09:10:26.861583Z",
     "shell.execute_reply": "2022-06-21T09:10:26.862095Z",
     "shell.execute_reply.started": "2022-06-21T07:43:56.471595Z"
    },
    "papermill": {
     "duration": 3.307446,
     "end_time": "2022-06-21T09:10:26.862264",
     "exception": false,
     "start_time": "2022-06-21T09:10:23.554818",
     "status": "completed"
    },
    "tags": []
   },
   "outputs": [
    {
     "data": {
      "image/png": "[encoded data removed]",
      "text/plain": [
       "<Figure size 432x432 with 1 Axes>"
      ]
     },
     "metadata": {
      "needs_background": "light"
     },
     "output_type": "display_data"
    }
   ],
   "source": [
    "from mlxtend.plotting import plot_confusion_matrix\n",
    "fig, ax = plot_confusion_matrix(conf_mat=cm, figsize=(6, 6), cmap=plt.cm.Blues)\n",
    "plt.xlabel('Predictions', fontsize=18)\n",
    "plt.ylabel('Actuals', fontsize=18)\n",
    "plt.title('Confusion Matrix', fontsize=18)\n",
    "plt.show()"
   ]
  },
  {
   "cell_type": "code",
   "execution_count": 38,
   "id": "ea937e29",
   "metadata": {
    "execution": {
     "iopub.execute_input": "2022-06-21T09:10:32.517729Z",
     "iopub.status.busy": "2022-06-21T09:10:32.516569Z",
     "iopub.status.idle": "2022-06-21T09:10:32.744805Z",
     "shell.execute_reply": "2022-06-21T09:10:32.743889Z",
     "shell.execute_reply.started": "2022-06-21T07:43:56.638995Z"
    },
    "papermill": {
     "duration": 2.896163,
     "end_time": "2022-06-21T09:10:32.744956",
     "exception": false,
     "start_time": "2022-06-21T09:10:29.848793",
     "status": "completed"
    },
    "tags": []
   },
   "outputs": [
    {
     "name": "stdout",
     "output_type": "stream",
     "text": [
      "Training time: 0.22609353065490723s\n"
     ]
    }
   ],
   "source": [
    "from sklearn.svm import SVC\n",
    "svclassifier = SVC(kernel='sigmoid')\n",
    "t8=time.time()\n",
    "svclassifier.fit(lda_X_train,np.argmax(train_y,axis=1))\n",
    "t9=time.time()\n",
    "print(f\"Training time: {t9-t8}s\")"
   ]
  },
  {
   "cell_type": "code",
   "execution_count": 39,
   "id": "bee14d3e",
   "metadata": {
    "execution": {
     "iopub.execute_input": "2022-06-21T09:10:38.362386Z",
     "iopub.status.busy": "2022-06-21T09:10:38.361572Z",
     "iopub.status.idle": "2022-06-21T09:10:38.441408Z",
     "shell.execute_reply": "2022-06-21T09:10:38.441924Z",
     "shell.execute_reply.started": "2022-06-21T07:43:56.949114Z"
    },
    "papermill": {
     "duration": 2.785132,
     "end_time": "2022-06-21T09:10:38.442081",
     "exception": false,
     "start_time": "2022-06-21T09:10:35.656949",
     "status": "completed"
    },
    "tags": []
   },
   "outputs": [
    {
     "name": "stdout",
     "output_type": "stream",
     "text": [
      "[4 2 3 ... 4 2 4]\n",
      "Testing time: 0.07710909843444824s\n"
     ]
    }
   ],
   "source": [
    "t10=time.time()\n",
    "svm_labels = svclassifier.predict(lda_X_test)\n",
    "t11=time.time()\n",
    "print(svm_labels )\n",
    "print(f\"Testing time: {t11-t10}s\")"
   ]
  },
  {
   "cell_type": "code",
   "execution_count": 40,
   "id": "56ebe58e",
   "metadata": {
    "execution": {
     "iopub.execute_input": "2022-06-21T09:10:43.764321Z",
     "iopub.status.busy": "2022-06-21T09:10:43.763491Z",
     "iopub.status.idle": "2022-06-21T09:10:43.790220Z",
     "shell.execute_reply": "2022-06-21T09:10:43.790595Z",
     "shell.execute_reply.started": "2022-06-21T07:43:57.087952Z"
    },
    "papermill": {
     "duration": 2.710951,
     "end_time": "2022-06-21T09:10:43.790771",
     "exception": false,
     "start_time": "2022-06-21T09:10:41.079820",
     "status": "completed"
    },
    "tags": []
   },
   "outputs": [
    {
     "name": "stdout",
     "output_type": "stream",
     "text": [
      "Accuracy: 0.9502\n",
      "[[ 897   14   13   49   12]\n",
      " [   9 1020    0    2    6]\n",
      " [   5    7  962    8    3]\n",
      " [  39    7    9  947    7]\n",
      " [  20   14   10   15  925]]\n",
      "              precision    recall  f1-score   support\n",
      "\n",
      "         0.0       0.92      0.91      0.92       985\n",
      "         1.0       0.96      0.98      0.97      1037\n",
      "         2.0       0.97      0.98      0.97       985\n",
      "         3.0       0.93      0.94      0.93      1009\n",
      "         4.0       0.97      0.94      0.96       984\n",
      "\n",
      "    accuracy                           0.95      5000\n",
      "   macro avg       0.95      0.95      0.95      5000\n",
      "weighted avg       0.95      0.95      0.95      5000\n",
      "\n",
      "Sensitivity of  Non-ecotic beats (normal beat)  0.9106598984771573\n",
      "Specificity of  Non-ecotic beats (normal beat)  0.9599003735990037\n",
      "Sensitivity of  Supraventricular ectopic beats  0.9836065573770492\n",
      "Specificity of  Supraventricular ectopic beats  0.9414584910421397\n",
      "Sensitivity of  Ventricular ectopic beats   0.9766497461928934\n",
      "Specificity of  Ventricular ectopic beats  0.9437110834371109\n",
      "Sensitivity of  Fusion Beats  0.9385530227948464\n",
      "Specificity of  Fusion Beats  0.9531445752944124\n",
      "Sensitivity of  Unknown Beats  0.9400406504065041\n",
      "Specificity of  Unknown Beats  0.9526892430278885\n"
     ]
    }
   ],
   "source": [
    "from sklearn import metrics\n",
    "accuracy = metrics.accuracy_score(target_test ,svm_labels)\n",
    "print(\"Accuracy:\",accuracy)\n",
    "cm = confusion_matrix(target_test, svm_labels) \n",
    "print(cm)\n",
    "print(classification_report(target_test, svm_labels))\n",
    "speci(cm)"
   ]
  },
  {
   "cell_type": "code",
   "execution_count": 41,
   "id": "0d4fad2e",
   "metadata": {
    "execution": {
     "iopub.execute_input": "2022-06-21T09:10:49.422403Z",
     "iopub.status.busy": "2022-06-21T09:10:49.421221Z",
     "iopub.status.idle": "2022-06-21T09:10:49.575465Z",
     "shell.execute_reply": "2022-06-21T09:10:49.576023Z",
     "shell.execute_reply.started": "2022-06-21T07:43:57.120655Z"
    },
    "papermill": {
     "duration": 2.821604,
     "end_time": "2022-06-21T09:10:49.576232",
     "exception": false,
     "start_time": "2022-06-21T09:10:46.754628",
     "status": "completed"
    },
    "tags": []
   },
   "outputs": [
    {
     "data": {
      "image/png": "[encoded data removed]",
      "text/plain": [
       "<Figure size 432x432 with 1 Axes>"
      ]
     },
     "metadata": {
      "needs_background": "light"
     },
     "output_type": "display_data"
    }
   ],
   "source": [
    "from mlxtend.plotting import plot_confusion_matrix\n",
    "fig, ax = plot_confusion_matrix(conf_mat=cm, figsize=(6, 6), cmap=plt.cm.Blues)\n",
    "plt.xlabel('Predictions', fontsize=18)\n",
    "plt.ylabel('Actuals', fontsize=18)\n",
    "plt.title('Confusion Matrix', fontsize=18)\n",
    "plt.show()"
   ]
  },
  {
   "cell_type": "code",
   "execution_count": 42,
   "id": "ba3bbb2b",
   "metadata": {
    "execution": {
     "iopub.execute_input": "2022-06-21T09:10:55.021755Z",
     "iopub.status.busy": "2022-06-21T09:10:55.020871Z",
     "iopub.status.idle": "2022-06-21T09:10:55.533514Z",
     "shell.execute_reply": "2022-06-21T09:10:55.534093Z",
     "shell.execute_reply.started": "2022-06-21T07:43:57.293918Z"
    },
    "papermill": {
     "duration": 3.218177,
     "end_time": "2022-06-21T09:10:55.534270",
     "exception": false,
     "start_time": "2022-06-21T09:10:52.316093",
     "status": "completed"
    },
    "tags": []
   },
   "outputs": [
    {
     "name": "stdout",
     "output_type": "stream",
     "text": [
      "Training time: 0.5098118782043457s\n"
     ]
    }
   ],
   "source": [
    "from sklearn.svm import SVC\n",
    "svclassifier = SVC(kernel='poly', degree=8)\n",
    "t12=time.time()\n",
    "svclassifier.fit(lda_X_train,np.argmax(train_y,axis=1))\n",
    "t13=time.time()\n",
    "print(f\"Training time: {t13-t12}s\")"
   ]
  },
  {
   "cell_type": "code",
   "execution_count": 43,
   "id": "4830d435",
   "metadata": {
    "execution": {
     "iopub.execute_input": "2022-06-21T09:11:01.795703Z",
     "iopub.status.busy": "2022-06-21T09:11:01.794776Z",
     "iopub.status.idle": "2022-06-21T09:11:01.944213Z",
     "shell.execute_reply": "2022-06-21T09:11:01.944630Z",
     "shell.execute_reply.started": "2022-06-21T07:43:58.092592Z"
    },
    "papermill": {
     "duration": 3.184049,
     "end_time": "2022-06-21T09:11:01.944804",
     "exception": false,
     "start_time": "2022-06-21T09:10:58.760755",
     "status": "completed"
    },
    "tags": []
   },
   "outputs": [
    {
     "name": "stdout",
     "output_type": "stream",
     "text": [
      "[4 2 3 ... 4 2 4]\n",
      "Testing time: 0.146622896194458s\n"
     ]
    }
   ],
   "source": [
    "t14=time.time()\n",
    "svm_labels = svclassifier.predict(lda_X_test)\n",
    "t15=time.time()\n",
    "print(svm_labels )\n",
    "print(f\"Testing time: {t15-t14}s\")"
   ]
  },
  {
   "cell_type": "code",
   "execution_count": 44,
   "id": "2f7a5378",
   "metadata": {
    "execution": {
     "iopub.execute_input": "2022-06-21T09:11:07.326341Z",
     "iopub.status.busy": "2022-06-21T09:11:07.319334Z",
     "iopub.status.idle": "2022-06-21T09:11:07.346521Z",
     "shell.execute_reply": "2022-06-21T09:11:07.346015Z",
     "shell.execute_reply.started": "2022-06-21T07:43:58.280337Z"
    },
    "papermill": {
     "duration": 2.723454,
     "end_time": "2022-06-21T09:11:07.346740",
     "exception": false,
     "start_time": "2022-06-21T09:11:04.623286",
     "status": "completed"
    },
    "tags": []
   },
   "outputs": [
    {
     "name": "stdout",
     "output_type": "stream",
     "text": [
      "Accuracy: 0.8946\n",
      "[[ 907   16   12   21   29]\n",
      " [  24 1007    3    1    2]\n",
      " [  60   14  901    5    5]\n",
      " [ 154   14    7  821   13]\n",
      " [  89   33   17    8  837]]\n",
      "              precision    recall  f1-score   support\n",
      "\n",
      "         0.0       0.74      0.92      0.82       985\n",
      "         1.0       0.93      0.97      0.95      1037\n",
      "         2.0       0.96      0.91      0.94       985\n",
      "         3.0       0.96      0.81      0.88      1009\n",
      "         4.0       0.94      0.85      0.90       984\n",
      "\n",
      "    accuracy                           0.89      5000\n",
      "   macro avg       0.91      0.89      0.90      5000\n",
      "weighted avg       0.91      0.89      0.90      5000\n",
      "\n",
      "Sensitivity of  Non-ecotic beats (normal beat)  0.9208121827411168\n",
      "Specificity of  Non-ecotic beats (normal beat)  0.8881693648816936\n",
      "Sensitivity of  Supraventricular ectopic beats  0.9710703953712633\n",
      "Specificity of  Supraventricular ectopic beats  0.8745899571032046\n",
      "Sensitivity of  Ventricular ectopic beats   0.9147208121827411\n",
      "Specificity of  Ventricular ectopic beats  0.8896637608966376\n",
      "Sensitivity of  Fusion Beats  0.8136769078295342\n",
      "Specificity of  Fusion Beats  0.9150588824855925\n",
      "Sensitivity of  Unknown Beats  0.850609756097561\n",
      "Specificity of  Unknown Beats  0.9053784860557769\n"
     ]
    }
   ],
   "source": [
    "from sklearn import metrics\n",
    "accuracy = metrics.accuracy_score(target_test ,svm_labels)\n",
    "print(\"Accuracy:\",accuracy)\n",
    "cm = confusion_matrix(target_test, svm_labels) \n",
    "print(cm)\n",
    "print(classification_report(target_test, svm_labels))\n",
    "speci(cm)"
   ]
  },
  {
   "cell_type": "code",
   "execution_count": 45,
   "id": "15353650",
   "metadata": {
    "execution": {
     "iopub.execute_input": "2022-06-21T09:11:13.175390Z",
     "iopub.status.busy": "2022-06-21T09:11:13.156461Z",
     "iopub.status.idle": "2022-06-21T09:11:13.290677Z",
     "shell.execute_reply": "2022-06-21T09:11:13.290104Z",
     "shell.execute_reply.started": "2022-06-21T07:43:58.314551Z"
    },
    "papermill": {
     "duration": 2.858184,
     "end_time": "2022-06-21T09:11:13.290815",
     "exception": false,
     "start_time": "2022-06-21T09:11:10.432631",
     "status": "completed"
    },
    "tags": []
   },
   "outputs": [
    {
     "data": {
      "image/png": "[encoded data removed]",
      "text/plain": [
       "<Figure size 432x432 with 1 Axes>"
      ]
     },
     "metadata": {
      "needs_background": "light"
     },
     "output_type": "display_data"
    }
   ],
   "source": [
    "from mlxtend.plotting import plot_confusion_matrix\n",
    "fig, ax = plot_confusion_matrix(conf_mat=cm, figsize=(6, 6), cmap=plt.cm.Blues)\n",
    "plt.xlabel('Predictions', fontsize=18)\n",
    "plt.ylabel('Actuals', fontsize=18)\n",
    "plt.title('Confusion Matrix', fontsize=18)\n",
    "plt.show()"
   ]
  },
  {
   "cell_type": "code",
   "execution_count": 46,
   "id": "94596ffc",
   "metadata": {
    "execution": {
     "iopub.execute_input": "2022-06-21T09:11:18.735971Z",
     "iopub.status.busy": "2022-06-21T09:11:18.734981Z",
     "iopub.status.idle": "2022-06-21T09:11:18.747953Z",
     "shell.execute_reply": "2022-06-21T09:11:18.748745Z",
     "shell.execute_reply.started": "2022-06-21T07:43:58.488994Z"
    },
    "papermill": {
     "duration": 2.756403,
     "end_time": "2022-06-21T09:11:18.748972",
     "exception": false,
     "start_time": "2022-06-21T09:11:15.992569",
     "status": "completed"
    },
    "tags": []
   },
   "outputs": [
    {
     "name": "stdout",
     "output_type": "stream",
     "text": [
      "Training time: 0.010645389556884766s\n"
     ]
    }
   ],
   "source": [
    "from sklearn.naive_bayes import GaussianNB\n",
    "gnb = GaussianNB()\n",
    "t16=time.time()\n",
    "gnb.fit(lda_X_train,np.argmax(train_y,axis=1))\n",
    "t17=time.time()\n",
    "print(f\"Training time: {t17-t16}s\")"
   ]
  },
  {
   "cell_type": "code",
   "execution_count": 47,
   "id": "7df815d1",
   "metadata": {
    "execution": {
     "iopub.execute_input": "2022-06-21T09:11:24.274160Z",
     "iopub.status.busy": "2022-06-21T09:11:24.273077Z",
     "iopub.status.idle": "2022-06-21T09:11:24.279558Z",
     "shell.execute_reply": "2022-06-21T09:11:24.278844Z",
     "shell.execute_reply.started": "2022-06-21T07:43:58.504775Z"
    },
    "papermill": {
     "duration": 2.675763,
     "end_time": "2022-06-21T09:11:24.279720",
     "exception": false,
     "start_time": "2022-06-21T09:11:21.603957",
     "status": "completed"
    },
    "tags": []
   },
   "outputs": [
    {
     "name": "stdout",
     "output_type": "stream",
     "text": [
      "[4 2 3 ... 4 2 4]\n",
      "Testing time: 0.0034570693969726562s\n"
     ]
    }
   ],
   "source": [
    "t18=time.time()\n",
    "gnb_labels = gnb.predict(lda_X_test)\n",
    "t19=time.time()\n",
    "print(gnb_labels )\n",
    "print(f\"Testing time: {t19-t18}s\")"
   ]
  },
  {
   "cell_type": "code",
   "execution_count": 48,
   "id": "f7a36537",
   "metadata": {
    "execution": {
     "iopub.execute_input": "2022-06-21T09:11:29.663792Z",
     "iopub.status.busy": "2022-06-21T09:11:29.654110Z",
     "iopub.status.idle": "2022-06-21T09:11:29.698797Z",
     "shell.execute_reply": "2022-06-21T09:11:29.699948Z",
     "shell.execute_reply.started": "2022-06-21T07:43:58.515387Z"
    },
    "papermill": {
     "duration": 2.758113,
     "end_time": "2022-06-21T09:11:29.700191",
     "exception": false,
     "start_time": "2022-06-21T09:11:26.942078",
     "status": "completed"
    },
    "tags": []
   },
   "outputs": [
    {
     "name": "stdout",
     "output_type": "stream",
     "text": [
      "Accuracy: 0.9512\n",
      "[[ 945    7    6   20    7]\n",
      " [  13 1019    0    1    4]\n",
      " [  20    1  955    6    3]\n",
      " [  69    2    7  925    6]\n",
      " [  51   11    4    6  912]]\n",
      "              precision    recall  f1-score   support\n",
      "\n",
      "         0.0       0.86      0.96      0.91       985\n",
      "         1.0       0.98      0.98      0.98      1037\n",
      "         2.0       0.98      0.97      0.98       985\n",
      "         3.0       0.97      0.92      0.94      1009\n",
      "         4.0       0.98      0.93      0.95       984\n",
      "\n",
      "    accuracy                           0.95      5000\n",
      "   macro avg       0.95      0.95      0.95      5000\n",
      "weighted avg       0.95      0.95      0.95      5000\n",
      "\n",
      "Sensitivity of  Non-ecotic beats (normal beat)  0.9593908629441624\n",
      "Specificity of  Non-ecotic beats (normal beat)  0.9491905354919054\n",
      "Sensitivity of  Supraventricular ectopic beats  0.982642237222758\n",
      "Specificity of  Supraventricular ectopic beats  0.9429724955841534\n",
      "Sensitivity of  Ventricular ectopic beats   0.9695431472081218\n",
      "Specificity of  Ventricular ectopic beats  0.9466998754669987\n",
      "Sensitivity of  Fusion Beats  0.9167492566897919\n",
      "Specificity of  Fusion Beats  0.9599097970433476\n",
      "Sensitivity of  Unknown Beats  0.926829268292683\n",
      "Specificity of  Unknown Beats  0.9571713147410359\n"
     ]
    }
   ],
   "source": [
    "from sklearn import metrics\n",
    "accuracy = metrics.accuracy_score(target_test ,gnb_labels)\n",
    "print(\"Accuracy:\",accuracy)\n",
    "cm = confusion_matrix(target_test, gnb_labels) \n",
    "print(cm)\n",
    "print(classification_report(target_test, gnb_labels))\n",
    "speci(cm)"
   ]
  },
  {
   "cell_type": "code",
   "execution_count": 49,
   "id": "8018d633",
   "metadata": {
    "execution": {
     "iopub.execute_input": "2022-06-21T09:11:35.876319Z",
     "iopub.status.busy": "2022-06-21T09:11:35.865200Z",
     "iopub.status.idle": "2022-06-21T09:11:35.991910Z",
     "shell.execute_reply": "2022-06-21T09:11:35.991383Z",
     "shell.execute_reply.started": "2022-06-21T07:43:58.546539Z"
    },
    "papermill": {
     "duration": 2.845343,
     "end_time": "2022-06-21T09:11:35.992036",
     "exception": false,
     "start_time": "2022-06-21T09:11:33.146693",
     "status": "completed"
    },
    "tags": []
   },
   "outputs": [
    {
     "data": {
      "image/png": "[encoded data removed]",
      "text/plain": [
       "<Figure size 432x432 with 1 Axes>"
      ]
     },
     "metadata": {
      "needs_background": "light"
     },
     "output_type": "display_data"
    }
   ],
   "source": [
    "from mlxtend.plotting import plot_confusion_matrix\n",
    "fig, ax = plot_confusion_matrix(conf_mat=cm, figsize=(6, 6), cmap=plt.cm.Blues)\n",
    "plt.xlabel('Predictions', fontsize=18)\n",
    "plt.ylabel('Actuals', fontsize=18)\n",
    "plt.title('Confusion Matrix', fontsize=18)\n",
    "plt.show()"
   ]
  },
  {
   "cell_type": "code",
   "execution_count": 50,
   "id": "413d4bf7",
   "metadata": {
    "execution": {
     "iopub.execute_input": "2022-06-21T09:11:41.645767Z",
     "iopub.status.busy": "2022-06-21T09:11:41.645069Z",
     "iopub.status.idle": "2022-06-21T09:11:41.727123Z",
     "shell.execute_reply": "2022-06-21T09:11:41.726628Z",
     "shell.execute_reply.started": "2022-06-21T07:43:58.704147Z"
    },
    "papermill": {
     "duration": 3.036658,
     "end_time": "2022-06-21T09:11:41.727254",
     "exception": false,
     "start_time": "2022-06-21T09:11:38.690596",
     "status": "completed"
    },
    "tags": []
   },
   "outputs": [
    {
     "name": "stdout",
     "output_type": "stream",
     "text": [
      "Training time: 0.0548250675201416s\n"
     ]
    }
   ],
   "source": [
    "from sklearn.tree import DecisionTreeClassifier\n",
    "dt = DecisionTreeClassifier()\n",
    "t20=time.time()\n",
    "dt.fit(lda_X_train,np.argmax(train_y,axis=1))\n",
    "t21=time.time()\n",
    "print(f\"Training time: {t21-t20}s\")"
   ]
  },
  {
   "cell_type": "code",
   "execution_count": 51,
   "id": "dc9b11bc",
   "metadata": {
    "execution": {
     "iopub.execute_input": "2022-06-21T09:11:47.101404Z",
     "iopub.status.busy": "2022-06-21T09:11:47.100429Z",
     "iopub.status.idle": "2022-06-21T09:11:47.106131Z",
     "shell.execute_reply": "2022-06-21T09:11:47.106602Z",
     "shell.execute_reply.started": "2022-06-21T07:43:58.848434Z"
    },
    "papermill": {
     "duration": 2.651488,
     "end_time": "2022-06-21T09:11:47.106804",
     "exception": false,
     "start_time": "2022-06-21T09:11:44.455316",
     "status": "completed"
    },
    "tags": []
   },
   "outputs": [
    {
     "name": "stdout",
     "output_type": "stream",
     "text": [
      "[4 2 3 ... 4 2 4]\n",
      "Testing time: 0.0012786388397216797s\n"
     ]
    }
   ],
   "source": [
    "t22=time.time()\n",
    "dt_labels = dt.predict(lda_X_test)\n",
    "t23=time.time()\n",
    "print(dt_labels )\n",
    "print(f\"Testing time: {t23-t22}s\")"
   ]
  },
  {
   "cell_type": "code",
   "execution_count": 52,
   "id": "3bf19286",
   "metadata": {
    "execution": {
     "iopub.execute_input": "2022-06-21T09:11:52.740482Z",
     "iopub.status.busy": "2022-06-21T09:11:52.739633Z",
     "iopub.status.idle": "2022-06-21T09:11:52.766710Z",
     "shell.execute_reply": "2022-06-21T09:11:52.766233Z",
     "shell.execute_reply.started": "2022-06-21T07:43:58.868033Z"
    },
    "papermill": {
     "duration": 3.003429,
     "end_time": "2022-06-21T09:11:52.766857",
     "exception": false,
     "start_time": "2022-06-21T09:11:49.763428",
     "status": "completed"
    },
    "tags": []
   },
   "outputs": [
    {
     "name": "stdout",
     "output_type": "stream",
     "text": [
      "Accuracy: 0.9462\n",
      "[[ 869   17   12   47   40]\n",
      " [   8 1017    0    3    9]\n",
      " [   4    1  932   24   24]\n",
      " [  22    3    5  966   13]\n",
      " [   4   17    3   13  947]]\n",
      "              precision    recall  f1-score   support\n",
      "\n",
      "         0.0       0.96      0.88      0.92       985\n",
      "         1.0       0.96      0.98      0.97      1037\n",
      "         2.0       0.98      0.95      0.96       985\n",
      "         3.0       0.92      0.96      0.94      1009\n",
      "         4.0       0.92      0.96      0.94       984\n",
      "\n",
      "    accuracy                           0.95      5000\n",
      "   macro avg       0.95      0.95      0.95      5000\n",
      "weighted avg       0.95      0.95      0.95      5000\n",
      "\n",
      "Sensitivity of  Non-ecotic beats (normal beat)  0.8822335025380711\n",
      "Specificity of  Non-ecotic beats (normal beat)  0.961892901618929\n",
      "Sensitivity of  Supraventricular ectopic beats  0.9807135969141755\n",
      "Specificity of  Supraventricular ectopic beats  0.9371688115064345\n",
      "Sensitivity of  Ventricular ectopic beats   0.9461928934010152\n",
      "Specificity of  Ventricular ectopic beats  0.9462017434620175\n",
      "Sensitivity of  Fusion Beats  0.9573835480673935\n",
      "Specificity of  Fusion Beats  0.9433725883237284\n",
      "Sensitivity of  Unknown Beats  0.9623983739837398\n",
      "Specificity of  Unknown Beats  0.9422310756972112\n"
     ]
    }
   ],
   "source": [
    "from sklearn import metrics\n",
    "accuracy = metrics.accuracy_score(target_test ,dt_labels)\n",
    "print(\"Accuracy:\",accuracy)\n",
    "cm = confusion_matrix(target_test, dt_labels) \n",
    "print(cm)\n",
    "print(classification_report(target_test, dt_labels))\n",
    "speci(cm)"
   ]
  },
  {
   "cell_type": "code",
   "execution_count": 53,
   "id": "dfc5ab4b",
   "metadata": {
    "execution": {
     "iopub.execute_input": "2022-06-21T09:11:58.087220Z",
     "iopub.status.busy": "2022-06-21T09:11:58.085953Z",
     "iopub.status.idle": "2022-06-21T09:11:58.236505Z",
     "shell.execute_reply": "2022-06-21T09:11:58.236969Z",
     "shell.execute_reply.started": "2022-06-21T07:43:58.926230Z"
    },
    "papermill": {
     "duration": 2.8147,
     "end_time": "2022-06-21T09:11:58.237212",
     "exception": false,
     "start_time": "2022-06-21T09:11:55.422512",
     "status": "completed"
    },
    "tags": []
   },
   "outputs": [
    {
     "data": {
      "image/png": "[encoded data removed]",
      "text/plain": [
       "<Figure size 432x432 with 1 Axes>"
      ]
     },
     "metadata": {
      "needs_background": "light"
     },
     "output_type": "display_data"
    }
   ],
   "source": [
    "from mlxtend.plotting import plot_confusion_matrix\n",
    "fig, ax = plot_confusion_matrix(conf_mat=cm, figsize=(6, 6), cmap=plt.cm.Blues)\n",
    "plt.xlabel('Predictions', fontsize=18)\n",
    "plt.ylabel('Actuals', fontsize=18)\n",
    "plt.title('Confusion Matrix', fontsize=18)\n",
    "plt.show()"
   ]
  },
  {
   "cell_type": "code",
   "execution_count": 54,
   "id": "b43212a4",
   "metadata": {
    "execution": {
     "iopub.execute_input": "2022-06-21T09:12:04.119551Z",
     "iopub.status.busy": "2022-06-21T09:12:04.116750Z",
     "iopub.status.idle": "2022-06-21T09:12:06.500428Z",
     "shell.execute_reply": "2022-06-21T09:12:06.499627Z",
     "shell.execute_reply.started": "2022-06-21T07:43:59.178281Z"
    },
    "papermill": {
     "duration": 5.518094,
     "end_time": "2022-06-21T09:12:06.500570",
     "exception": false,
     "start_time": "2022-06-21T09:12:00.982476",
     "status": "completed"
    },
    "tags": []
   },
   "outputs": [
    {
     "name": "stdout",
     "output_type": "stream",
     "text": [
      "Training time: 2.3435657024383545s\n"
     ]
    }
   ],
   "source": [
    "from sklearn.ensemble import RandomForestClassifier\n",
    "rfc= RandomForestClassifier()\n",
    "t24=time.time()\n",
    "rfc.fit(lda_X_train,np.argmax(train_y,axis=1))\n",
    "t25=time.time()\n",
    "print(f\"Training time: {t25-t24}s\")"
   ]
  },
  {
   "cell_type": "code",
   "execution_count": 55,
   "id": "080c23de",
   "metadata": {
    "execution": {
     "iopub.execute_input": "2022-06-21T09:12:11.883989Z",
     "iopub.status.busy": "2022-06-21T09:12:11.882974Z",
     "iopub.status.idle": "2022-06-21T09:12:11.933709Z",
     "shell.execute_reply": "2022-06-21T09:12:11.933268Z",
     "shell.execute_reply.started": "2022-06-21T07:44:01.737313Z"
    },
    "papermill": {
     "duration": 2.724975,
     "end_time": "2022-06-21T09:12:11.933867",
     "exception": false,
     "start_time": "2022-06-21T09:12:09.208892",
     "status": "completed"
    },
    "tags": []
   },
   "outputs": [
    {
     "name": "stdout",
     "output_type": "stream",
     "text": [
      "[4 2 3 ... 4 2 4]\n",
      "Testing time: 0.04782724380493164s\n"
     ]
    }
   ],
   "source": [
    "t26=time.time()\n",
    "rfc_labels = rfc.predict(lda_X_test)\n",
    "t27=time.time()\n",
    "print(rfc_labels )\n",
    "print(f\"Testing time: {t27-t26}s\")"
   ]
  },
  {
   "cell_type": "code",
   "execution_count": 56,
   "id": "a5e2dbaf",
   "metadata": {
    "execution": {
     "iopub.execute_input": "2022-06-21T09:12:17.656971Z",
     "iopub.status.busy": "2022-06-21T09:12:17.656291Z",
     "iopub.status.idle": "2022-06-21T09:12:17.683166Z",
     "shell.execute_reply": "2022-06-21T09:12:17.683613Z",
     "shell.execute_reply.started": "2022-06-21T07:44:01.797588Z"
    },
    "papermill": {
     "duration": 2.773594,
     "end_time": "2022-06-21T09:12:17.683779",
     "exception": false,
     "start_time": "2022-06-21T09:12:14.910185",
     "status": "completed"
    },
    "tags": []
   },
   "outputs": [
    {
     "name": "stdout",
     "output_type": "stream",
     "text": [
      "Accuracy: 0.954\n",
      "[[ 897   10   14   40   24]\n",
      " [   8 1020    2    1    6]\n",
      " [   8    2  951    6   18]\n",
      " [  25    8    9  961    6]\n",
      " [  10   18    4   11  941]]\n",
      "              precision    recall  f1-score   support\n",
      "\n",
      "         0.0       0.95      0.91      0.93       985\n",
      "         1.0       0.96      0.98      0.97      1037\n",
      "         2.0       0.97      0.97      0.97       985\n",
      "         3.0       0.94      0.95      0.95      1009\n",
      "         4.0       0.95      0.96      0.95       984\n",
      "\n",
      "    accuracy                           0.95      5000\n",
      "   macro avg       0.95      0.95      0.95      5000\n",
      "weighted avg       0.95      0.95      0.95      5000\n",
      "\n",
      "Sensitivity of  Non-ecotic beats (normal beat)  0.9106598984771573\n",
      "Specificity of  Non-ecotic beats (normal beat)  0.9646326276463263\n",
      "Sensitivity of  Supraventricular ectopic beats  0.9836065573770492\n",
      "Specificity of  Supraventricular ectopic beats  0.9462528387585163\n",
      "Sensitivity of  Ventricular ectopic beats   0.965482233502538\n",
      "Specificity of  Ventricular ectopic beats  0.9511830635118307\n",
      "Sensitivity of  Fusion Beats  0.9524281466798811\n",
      "Specificity of  Fusion Beats  0.9543973941368078\n",
      "Sensitivity of  Unknown Beats  0.9563008130081301\n",
      "Specificity of  Unknown Beats  0.9534362549800797\n"
     ]
    }
   ],
   "source": [
    "from sklearn import metrics\n",
    "accuracy = metrics.accuracy_score(target_test ,rfc_labels)\n",
    "print(\"Accuracy:\",accuracy)\n",
    "cm = confusion_matrix(target_test, rfc_labels) \n",
    "print(cm)\n",
    "print(classification_report(target_test, rfc_labels))\n",
    "speci(cm)"
   ]
  },
  {
   "cell_type": "code",
   "execution_count": 57,
   "id": "3e19461a",
   "metadata": {
    "execution": {
     "iopub.execute_input": "2022-06-21T09:12:23.127423Z",
     "iopub.status.busy": "2022-06-21T09:12:23.126599Z",
     "iopub.status.idle": "2022-06-21T09:12:23.277397Z",
     "shell.execute_reply": "2022-06-21T09:12:23.276825Z",
     "shell.execute_reply.started": "2022-06-21T07:44:01.831384Z"
    },
    "papermill": {
     "duration": 2.910797,
     "end_time": "2022-06-21T09:12:23.277587",
     "exception": false,
     "start_time": "2022-06-21T09:12:20.366790",
     "status": "completed"
    },
    "tags": []
   },
   "outputs": [
    {
     "data": {
      "image/png": "[encoded data removed]",
      "text/plain": [
       "<Figure size 432x432 with 1 Axes>"
      ]
     },
     "metadata": {
      "needs_background": "light"
     },
     "output_type": "display_data"
    }
   ],
   "source": [
    "from mlxtend.plotting import plot_confusion_matrix\n",
    "fig, ax = plot_confusion_matrix(conf_mat=cm, figsize=(6, 6), cmap=plt.cm.Blues)\n",
    "plt.xlabel('Predictions', fontsize=18)\n",
    "plt.ylabel('Actuals', fontsize=18)\n",
    "plt.title('Confusion Matrix', fontsize=18)\n",
    "plt.show()"
   ]
  },
  {
   "cell_type": "code",
   "execution_count": 58,
   "id": "ae6c2e3b",
   "metadata": {
    "execution": {
     "iopub.execute_input": "2022-06-21T09:12:28.887243Z",
     "iopub.status.busy": "2022-06-21T09:12:28.886265Z",
     "iopub.status.idle": "2022-06-21T09:12:28.888580Z",
     "shell.execute_reply": "2022-06-21T09:12:28.888180Z",
     "shell.execute_reply.started": "2022-06-21T07:44:01.998103Z"
    },
    "papermill": {
     "duration": 2.666432,
     "end_time": "2022-06-21T09:12:28.888711",
     "exception": false,
     "start_time": "2022-06-21T09:12:26.222279",
     "status": "completed"
    },
    "tags": []
   },
   "outputs": [],
   "source": [
    "target= X_train_df[X_train_df.shape[1]-1]\n",
    "feature = X_train_df.iloc[:,:X_train_df.shape[1]-1].values\n",
    "feature = feature.reshape(len(feature), feature.shape[1],1)"
   ]
  },
  {
   "cell_type": "code",
   "execution_count": 59,
   "id": "5b922947",
   "metadata": {
    "execution": {
     "iopub.execute_input": "2022-06-21T09:12:34.313277Z",
     "iopub.status.busy": "2022-06-21T09:12:34.312715Z",
     "iopub.status.idle": "2022-06-21T09:20:29.104430Z",
     "shell.execute_reply": "2022-06-21T09:20:29.105157Z",
     "shell.execute_reply.started": "2022-06-21T07:55:36.637733Z"
    },
    "papermill": {
     "duration": 477.505042,
     "end_time": "2022-06-21T09:20:29.105374",
     "exception": false,
     "start_time": "2022-06-21T09:12:31.600332",
     "status": "completed"
    },
    "tags": []
   },
   "outputs": [
    {
     "name": "stdout",
     "output_type": "stream",
     "text": [
      "(25000, 4)\n"
     ]
    }
   ],
   "source": [
    "feat = model_feat.predict(feature)\n",
    "X_train = sc.fit_transform(feat)\n",
    "lda = LDA(n_components=4)\n",
    "lda_train = lda.fit_transform(X_train, target)\n",
    "print(lda_train.shape)\n"
   ]
  },
  {
   "cell_type": "code",
   "execution_count": 60,
   "id": "07a4ba00",
   "metadata": {
    "execution": {
     "iopub.execute_input": "2022-06-21T09:20:34.470682Z",
     "iopub.status.busy": "2022-06-21T09:20:34.469739Z",
     "iopub.status.idle": "2022-06-21T09:20:59.612158Z",
     "shell.execute_reply": "2022-06-21T09:20:59.612593Z",
     "shell.execute_reply.started": "2022-06-21T08:44:55.562101Z"
    },
    "papermill": {
     "duration": 27.835171,
     "end_time": "2022-06-21T09:20:59.612780",
     "exception": false,
     "start_time": "2022-06-21T09:20:31.777609",
     "status": "completed"
    },
    "tags": []
   },
   "outputs": [
    {
     "name": "stdout",
     "output_type": "stream",
     "text": [
      "[0.9944 0.9956 0.9936 0.9956 0.998  0.9968 0.9952 0.9968 0.9964 0.9964]\n"
     ]
    }
   ],
   "source": [
    "from sklearn.model_selection import cross_val_score\n",
    "score = cross_val_score(rfc, lda_train, target, scoring='accuracy', cv=10)\n",
    "print(score)"
   ]
  },
  {
   "cell_type": "code",
   "execution_count": 61,
   "id": "5efef2d0",
   "metadata": {
    "execution": {
     "iopub.execute_input": "2022-06-21T09:21:05.245988Z",
     "iopub.status.busy": "2022-06-21T09:21:05.245366Z",
     "iopub.status.idle": "2022-06-21T09:21:05.248523Z",
     "shell.execute_reply": "2022-06-21T09:21:05.249148Z",
     "shell.execute_reply.started": "2022-06-21T07:44:28.289430Z"
    },
    "papermill": {
     "duration": 2.6521,
     "end_time": "2022-06-21T09:21:05.249301",
     "exception": false,
     "start_time": "2022-06-21T09:21:02.597201",
     "status": "completed"
    },
    "tags": []
   },
   "outputs": [
    {
     "name": "stdout",
     "output_type": "stream",
     "text": [
      "Avg : 0.99588\n"
     ]
    }
   ],
   "source": [
    "print(\"Avg :\",np.average(score))"
   ]
  }
 ],
 "metadata": {
  "kernelspec": {
   "display_name": "Python 3",
   "language": "python",
   "name": "python3"
  },
  "language_info": {
   "codemirror_mode": {
    "name": "ipython",
    "version": 3
   },
   "file_extension": ".py",
   "mimetype": "text/x-python",
   "name": "python",
   "nbconvert_exporter": "python",
   "pygments_lexer": "ipython3",
   "version": "3.7.12"
  },
  "papermill": {
   "default_parameters": {},
   "duration": 2076.00825,
   "end_time": "2022-06-21T09:21:11.081002",
   "environment_variables": {},
   "exception": null,
   "input_path": "__notebook__.ipynb",
   "output_path": "__notebook__.ipynb",
   "parameters": {},
   "start_time": "2022-06-21T08:46:35.072752",
   "version": "2.3.3"
  }
 },
 "nbformat": 4,
 "nbformat_minor": 5
}
