{
 "cells": [
  {
   "cell_type": "code",
   "execution_count": 1,
   "id": "5fb98c7d",
   "metadata": {
    "_cell_guid": "b1076dfc-b9ad-4769-8c92-a6c4dae69d19",
    "_uuid": "8f2839f25d086af736a60e9eeb907d3b93b6e0e5",
    "execution": {
     "iopub.execute_input": "2022-06-20T10:28:48.797849Z",
     "iopub.status.busy": "2022-06-20T10:28:48.796302Z",
     "iopub.status.idle": "2022-06-20T10:28:48.929840Z",
     "shell.execute_reply": "2022-06-20T10:28:48.929235Z",
     "shell.execute_reply.started": "2022-06-13T08:08:37.492353Z"
    },
    "papermill": {
     "duration": 0.18178,
     "end_time": "2022-06-20T10:28:48.929979",
     "exception": false,
     "start_time": "2022-06-20T10:28:48.748199",
     "status": "completed"
    },
    "tags": []
   },
   "outputs": [
    {
     "name": "stdout",
     "output_type": "stream",
     "text": [
      "/kaggle/input/mitbit-arrhythmia-database/mitbih_database/112annotations.txt\n",
      "/kaggle/input/mitbit-arrhythmia-database/mitbih_database/233.csv\n",
      "/kaggle/input/mitbit-arrhythmia-database/mitbih_database/108.csv\n",
      "/kaggle/input/mitbit-arrhythmia-database/mitbih_database/118annotations.txt\n",
      "/kaggle/input/mitbit-arrhythmia-database/mitbih_database/231.csv\n",
      "/kaggle/input/mitbit-arrhythmia-database/mitbih_database/207.csv\n",
      "/kaggle/input/mitbit-arrhythmia-database/mitbih_database/115annotations.txt\n",
      "/kaggle/input/mitbit-arrhythmia-database/mitbih_database/108annotations.txt\n",
      "/kaggle/input/mitbit-arrhythmia-database/mitbih_database/123annotations.txt\n",
      "/kaggle/input/mitbit-arrhythmia-database/mitbih_database/102annotations.txt\n",
      "/kaggle/input/mitbit-arrhythmia-database/mitbih_database/209.csv\n",
      "/kaggle/input/mitbit-arrhythmia-database/mitbih_database/203annotations.txt\n",
      "/kaggle/input/mitbit-arrhythmia-database/mitbih_database/202annotations.txt\n",
      "/kaggle/input/mitbit-arrhythmia-database/mitbih_database/215annotations.txt\n",
      "/kaggle/input/mitbit-arrhythmia-database/mitbih_database/232.csv\n",
      "/kaggle/input/mitbit-arrhythmia-database/mitbih_database/223.csv\n",
      "/kaggle/input/mitbit-arrhythmia-database/mitbih_database/114annotations.txt\n",
      "/kaggle/input/mitbit-arrhythmia-database/mitbih_database/109annotations.txt\n",
      "/kaggle/input/mitbit-arrhythmia-database/mitbih_database/217annotations.txt\n",
      "/kaggle/input/mitbit-arrhythmia-database/mitbih_database/222annotations.txt\n",
      "/kaggle/input/mitbit-arrhythmia-database/mitbih_database/119.csv\n",
      "/kaggle/input/mitbit-arrhythmia-database/mitbih_database/234annotations.txt\n",
      "/kaggle/input/mitbit-arrhythmia-database/mitbih_database/114.csv\n",
      "/kaggle/input/mitbit-arrhythmia-database/mitbih_database/202.csv\n",
      "/kaggle/input/mitbit-arrhythmia-database/mitbih_database/105annotations.txt\n",
      "/kaggle/input/mitbit-arrhythmia-database/mitbih_database/221annotations.txt\n",
      "/kaggle/input/mitbit-arrhythmia-database/mitbih_database/230annotations.txt\n",
      "/kaggle/input/mitbit-arrhythmia-database/mitbih_database/115.csv\n",
      "/kaggle/input/mitbit-arrhythmia-database/mitbih_database/112.csv\n",
      "/kaggle/input/mitbit-arrhythmia-database/mitbih_database/100annotations.txt\n",
      "/kaggle/input/mitbit-arrhythmia-database/mitbih_database/208annotations.txt\n",
      "/kaggle/input/mitbit-arrhythmia-database/mitbih_database/212.csv\n",
      "/kaggle/input/mitbit-arrhythmia-database/mitbih_database/212annotations.txt\n",
      "/kaggle/input/mitbit-arrhythmia-database/mitbih_database/213annotations.txt\n",
      "/kaggle/input/mitbit-arrhythmia-database/mitbih_database/109.csv\n",
      "/kaggle/input/mitbit-arrhythmia-database/mitbih_database/228.csv\n",
      "/kaggle/input/mitbit-arrhythmia-database/mitbih_database/104annotations.txt\n",
      "/kaggle/input/mitbit-arrhythmia-database/mitbih_database/232annotations.txt\n",
      "/kaggle/input/mitbit-arrhythmia-database/mitbih_database/101annotations.txt\n",
      "/kaggle/input/mitbit-arrhythmia-database/mitbih_database/121annotations.txt\n",
      "/kaggle/input/mitbit-arrhythmia-database/mitbih_database/111annotations.txt\n",
      "/kaggle/input/mitbit-arrhythmia-database/mitbih_database/219.csv\n",
      "/kaggle/input/mitbit-arrhythmia-database/mitbih_database/106annotations.txt\n",
      "/kaggle/input/mitbit-arrhythmia-database/mitbih_database/207annotations.txt\n",
      "/kaggle/input/mitbit-arrhythmia-database/mitbih_database/209annotations.txt\n",
      "/kaggle/input/mitbit-arrhythmia-database/mitbih_database/116annotations.txt\n",
      "/kaggle/input/mitbit-arrhythmia-database/mitbih_database/118.csv\n",
      "/kaggle/input/mitbit-arrhythmia-database/mitbih_database/230.csv\n",
      "/kaggle/input/mitbit-arrhythmia-database/mitbih_database/213.csv\n",
      "/kaggle/input/mitbit-arrhythmia-database/mitbih_database/217.csv\n",
      "/kaggle/input/mitbit-arrhythmia-database/mitbih_database/215.csv\n",
      "/kaggle/input/mitbit-arrhythmia-database/mitbih_database/119annotations.txt\n",
      "/kaggle/input/mitbit-arrhythmia-database/mitbih_database/234.csv\n",
      "/kaggle/input/mitbit-arrhythmia-database/mitbih_database/100.csv\n",
      "/kaggle/input/mitbit-arrhythmia-database/mitbih_database/233annotations.txt\n",
      "/kaggle/input/mitbit-arrhythmia-database/mitbih_database/205annotations.txt\n",
      "/kaggle/input/mitbit-arrhythmia-database/mitbih_database/122.csv\n",
      "/kaggle/input/mitbit-arrhythmia-database/mitbih_database/201.csv\n",
      "/kaggle/input/mitbit-arrhythmia-database/mitbih_database/113annotations.txt\n",
      "/kaggle/input/mitbit-arrhythmia-database/mitbih_database/107.csv\n",
      "/kaggle/input/mitbit-arrhythmia-database/mitbih_database/221.csv\n",
      "/kaggle/input/mitbit-arrhythmia-database/mitbih_database/214.csv\n",
      "/kaggle/input/mitbit-arrhythmia-database/mitbih_database/219annotations.txt\n",
      "/kaggle/input/mitbit-arrhythmia-database/mitbih_database/200annotations.txt\n",
      "/kaggle/input/mitbit-arrhythmia-database/mitbih_database/105.csv\n",
      "/kaggle/input/mitbit-arrhythmia-database/mitbih_database/113.csv\n",
      "/kaggle/input/mitbit-arrhythmia-database/mitbih_database/106.csv\n",
      "/kaggle/input/mitbit-arrhythmia-database/mitbih_database/102.csv\n",
      "/kaggle/input/mitbit-arrhythmia-database/mitbih_database/220.csv\n",
      "/kaggle/input/mitbit-arrhythmia-database/mitbih_database/101.csv\n",
      "/kaggle/input/mitbit-arrhythmia-database/mitbih_database/122annotations.txt\n",
      "/kaggle/input/mitbit-arrhythmia-database/mitbih_database/111.csv\n",
      "/kaggle/input/mitbit-arrhythmia-database/mitbih_database/104.csv\n",
      "/kaggle/input/mitbit-arrhythmia-database/mitbih_database/103annotations.txt\n",
      "/kaggle/input/mitbit-arrhythmia-database/mitbih_database/117.csv\n",
      "/kaggle/input/mitbit-arrhythmia-database/mitbih_database/124.csv\n",
      "/kaggle/input/mitbit-arrhythmia-database/mitbih_database/228annotations.txt\n",
      "/kaggle/input/mitbit-arrhythmia-database/mitbih_database/210annotations.txt\n",
      "/kaggle/input/mitbit-arrhythmia-database/mitbih_database/214annotations.txt\n",
      "/kaggle/input/mitbit-arrhythmia-database/mitbih_database/220annotations.txt\n",
      "/kaggle/input/mitbit-arrhythmia-database/mitbih_database/222.csv\n",
      "/kaggle/input/mitbit-arrhythmia-database/mitbih_database/210.csv\n",
      "/kaggle/input/mitbit-arrhythmia-database/mitbih_database/231annotations.txt\n",
      "/kaggle/input/mitbit-arrhythmia-database/mitbih_database/205.csv\n",
      "/kaggle/input/mitbit-arrhythmia-database/mitbih_database/107annotations.txt\n",
      "/kaggle/input/mitbit-arrhythmia-database/mitbih_database/208.csv\n",
      "/kaggle/input/mitbit-arrhythmia-database/mitbih_database/121.csv\n",
      "/kaggle/input/mitbit-arrhythmia-database/mitbih_database/203.csv\n",
      "/kaggle/input/mitbit-arrhythmia-database/mitbih_database/117annotations.txt\n",
      "/kaggle/input/mitbit-arrhythmia-database/mitbih_database/223annotations.txt\n",
      "/kaggle/input/mitbit-arrhythmia-database/mitbih_database/200.csv\n",
      "/kaggle/input/mitbit-arrhythmia-database/mitbih_database/103.csv\n",
      "/kaggle/input/mitbit-arrhythmia-database/mitbih_database/116.csv\n",
      "/kaggle/input/mitbit-arrhythmia-database/mitbih_database/201annotations.txt\n",
      "/kaggle/input/mitbit-arrhythmia-database/mitbih_database/123.csv\n",
      "/kaggle/input/mitbit-arrhythmia-database/mitbih_database/124annotations.txt\n",
      "/kaggle/input/mitbit-arrhythmia-database/mitbih_database/mitbih_database/112annotations.txt\n",
      "/kaggle/input/mitbit-arrhythmia-database/mitbih_database/mitbih_database/233.csv\n",
      "/kaggle/input/mitbit-arrhythmia-database/mitbih_database/mitbih_database/108.csv\n",
      "/kaggle/input/mitbit-arrhythmia-database/mitbih_database/mitbih_database/118annotations.txt\n",
      "/kaggle/input/mitbit-arrhythmia-database/mitbih_database/mitbih_database/231.csv\n",
      "/kaggle/input/mitbit-arrhythmia-database/mitbih_database/mitbih_database/207.csv\n",
      "/kaggle/input/mitbit-arrhythmia-database/mitbih_database/mitbih_database/115annotations.txt\n",
      "/kaggle/input/mitbit-arrhythmia-database/mitbih_database/mitbih_database/108annotations.txt\n",
      "/kaggle/input/mitbit-arrhythmia-database/mitbih_database/mitbih_database/123annotations.txt\n",
      "/kaggle/input/mitbit-arrhythmia-database/mitbih_database/mitbih_database/102annotations.txt\n",
      "/kaggle/input/mitbit-arrhythmia-database/mitbih_database/mitbih_database/209.csv\n",
      "/kaggle/input/mitbit-arrhythmia-database/mitbih_database/mitbih_database/203annotations.txt\n",
      "/kaggle/input/mitbit-arrhythmia-database/mitbih_database/mitbih_database/202annotations.txt\n",
      "/kaggle/input/mitbit-arrhythmia-database/mitbih_database/mitbih_database/215annotations.txt\n",
      "/kaggle/input/mitbit-arrhythmia-database/mitbih_database/mitbih_database/232.csv\n",
      "/kaggle/input/mitbit-arrhythmia-database/mitbih_database/mitbih_database/223.csv\n",
      "/kaggle/input/mitbit-arrhythmia-database/mitbih_database/mitbih_database/114annotations.txt\n",
      "/kaggle/input/mitbit-arrhythmia-database/mitbih_database/mitbih_database/109annotations.txt\n",
      "/kaggle/input/mitbit-arrhythmia-database/mitbih_database/mitbih_database/217annotations.txt\n",
      "/kaggle/input/mitbit-arrhythmia-database/mitbih_database/mitbih_database/222annotations.txt\n",
      "/kaggle/input/mitbit-arrhythmia-database/mitbih_database/mitbih_database/119.csv\n",
      "/kaggle/input/mitbit-arrhythmia-database/mitbih_database/mitbih_database/234annotations.txt\n",
      "/kaggle/input/mitbit-arrhythmia-database/mitbih_database/mitbih_database/114.csv\n",
      "/kaggle/input/mitbit-arrhythmia-database/mitbih_database/mitbih_database/202.csv\n",
      "/kaggle/input/mitbit-arrhythmia-database/mitbih_database/mitbih_database/105annotations.txt\n",
      "/kaggle/input/mitbit-arrhythmia-database/mitbih_database/mitbih_database/221annotations.txt\n",
      "/kaggle/input/mitbit-arrhythmia-database/mitbih_database/mitbih_database/230annotations.txt\n",
      "/kaggle/input/mitbit-arrhythmia-database/mitbih_database/mitbih_database/115.csv\n",
      "/kaggle/input/mitbit-arrhythmia-database/mitbih_database/mitbih_database/112.csv\n",
      "/kaggle/input/mitbit-arrhythmia-database/mitbih_database/mitbih_database/100annotations.txt\n",
      "/kaggle/input/mitbit-arrhythmia-database/mitbih_database/mitbih_database/208annotations.txt\n",
      "/kaggle/input/mitbit-arrhythmia-database/mitbih_database/mitbih_database/212.csv\n",
      "/kaggle/input/mitbit-arrhythmia-database/mitbih_database/mitbih_database/212annotations.txt\n",
      "/kaggle/input/mitbit-arrhythmia-database/mitbih_database/mitbih_database/213annotations.txt\n",
      "/kaggle/input/mitbit-arrhythmia-database/mitbih_database/mitbih_database/109.csv\n",
      "/kaggle/input/mitbit-arrhythmia-database/mitbih_database/mitbih_database/228.csv\n",
      "/kaggle/input/mitbit-arrhythmia-database/mitbih_database/mitbih_database/104annotations.txt\n",
      "/kaggle/input/mitbit-arrhythmia-database/mitbih_database/mitbih_database/232annotations.txt\n",
      "/kaggle/input/mitbit-arrhythmia-database/mitbih_database/mitbih_database/101annotations.txt\n",
      "/kaggle/input/mitbit-arrhythmia-database/mitbih_database/mitbih_database/121annotations.txt\n",
      "/kaggle/input/mitbit-arrhythmia-database/mitbih_database/mitbih_database/111annotations.txt\n",
      "/kaggle/input/mitbit-arrhythmia-database/mitbih_database/mitbih_database/219.csv\n",
      "/kaggle/input/mitbit-arrhythmia-database/mitbih_database/mitbih_database/106annotations.txt\n",
      "/kaggle/input/mitbit-arrhythmia-database/mitbih_database/mitbih_database/207annotations.txt\n",
      "/kaggle/input/mitbit-arrhythmia-database/mitbih_database/mitbih_database/209annotations.txt\n",
      "/kaggle/input/mitbit-arrhythmia-database/mitbih_database/mitbih_database/116annotations.txt\n",
      "/kaggle/input/mitbit-arrhythmia-database/mitbih_database/mitbih_database/118.csv\n",
      "/kaggle/input/mitbit-arrhythmia-database/mitbih_database/mitbih_database/230.csv\n",
      "/kaggle/input/mitbit-arrhythmia-database/mitbih_database/mitbih_database/213.csv\n",
      "/kaggle/input/mitbit-arrhythmia-database/mitbih_database/mitbih_database/217.csv\n",
      "/kaggle/input/mitbit-arrhythmia-database/mitbih_database/mitbih_database/215.csv\n",
      "/kaggle/input/mitbit-arrhythmia-database/mitbih_database/mitbih_database/119annotations.txt\n",
      "/kaggle/input/mitbit-arrhythmia-database/mitbih_database/mitbih_database/234.csv\n",
      "/kaggle/input/mitbit-arrhythmia-database/mitbih_database/mitbih_database/100.csv\n",
      "/kaggle/input/mitbit-arrhythmia-database/mitbih_database/mitbih_database/233annotations.txt\n",
      "/kaggle/input/mitbit-arrhythmia-database/mitbih_database/mitbih_database/205annotations.txt\n",
      "/kaggle/input/mitbit-arrhythmia-database/mitbih_database/mitbih_database/122.csv\n",
      "/kaggle/input/mitbit-arrhythmia-database/mitbih_database/mitbih_database/201.csv\n",
      "/kaggle/input/mitbit-arrhythmia-database/mitbih_database/mitbih_database/113annotations.txt\n",
      "/kaggle/input/mitbit-arrhythmia-database/mitbih_database/mitbih_database/107.csv\n",
      "/kaggle/input/mitbit-arrhythmia-database/mitbih_database/mitbih_database/221.csv\n",
      "/kaggle/input/mitbit-arrhythmia-database/mitbih_database/mitbih_database/214.csv\n",
      "/kaggle/input/mitbit-arrhythmia-database/mitbih_database/mitbih_database/219annotations.txt\n",
      "/kaggle/input/mitbit-arrhythmia-database/mitbih_database/mitbih_database/200annotations.txt\n",
      "/kaggle/input/mitbit-arrhythmia-database/mitbih_database/mitbih_database/105.csv\n",
      "/kaggle/input/mitbit-arrhythmia-database/mitbih_database/mitbih_database/113.csv\n",
      "/kaggle/input/mitbit-arrhythmia-database/mitbih_database/mitbih_database/106.csv\n",
      "/kaggle/input/mitbit-arrhythmia-database/mitbih_database/mitbih_database/102.csv\n",
      "/kaggle/input/mitbit-arrhythmia-database/mitbih_database/mitbih_database/220.csv\n",
      "/kaggle/input/mitbit-arrhythmia-database/mitbih_database/mitbih_database/101.csv\n",
      "/kaggle/input/mitbit-arrhythmia-database/mitbih_database/mitbih_database/122annotations.txt\n",
      "/kaggle/input/mitbit-arrhythmia-database/mitbih_database/mitbih_database/111.csv\n",
      "/kaggle/input/mitbit-arrhythmia-database/mitbih_database/mitbih_database/104.csv\n",
      "/kaggle/input/mitbit-arrhythmia-database/mitbih_database/mitbih_database/103annotations.txt\n",
      "/kaggle/input/mitbit-arrhythmia-database/mitbih_database/mitbih_database/117.csv\n",
      "/kaggle/input/mitbit-arrhythmia-database/mitbih_database/mitbih_database/124.csv\n",
      "/kaggle/input/mitbit-arrhythmia-database/mitbih_database/mitbih_database/228annotations.txt\n",
      "/kaggle/input/mitbit-arrhythmia-database/mitbih_database/mitbih_database/210annotations.txt\n",
      "/kaggle/input/mitbit-arrhythmia-database/mitbih_database/mitbih_database/214annotations.txt\n",
      "/kaggle/input/mitbit-arrhythmia-database/mitbih_database/mitbih_database/220annotations.txt\n",
      "/kaggle/input/mitbit-arrhythmia-database/mitbih_database/mitbih_database/222.csv\n",
      "/kaggle/input/mitbit-arrhythmia-database/mitbih_database/mitbih_database/210.csv\n",
      "/kaggle/input/mitbit-arrhythmia-database/mitbih_database/mitbih_database/231annotations.txt\n",
      "/kaggle/input/mitbit-arrhythmia-database/mitbih_database/mitbih_database/205.csv\n",
      "/kaggle/input/mitbit-arrhythmia-database/mitbih_database/mitbih_database/107annotations.txt\n",
      "/kaggle/input/mitbit-arrhythmia-database/mitbih_database/mitbih_database/208.csv\n",
      "/kaggle/input/mitbit-arrhythmia-database/mitbih_database/mitbih_database/121.csv\n",
      "/kaggle/input/mitbit-arrhythmia-database/mitbih_database/mitbih_database/203.csv\n",
      "/kaggle/input/mitbit-arrhythmia-database/mitbih_database/mitbih_database/117annotations.txt\n",
      "/kaggle/input/mitbit-arrhythmia-database/mitbih_database/mitbih_database/223annotations.txt\n",
      "/kaggle/input/mitbit-arrhythmia-database/mitbih_database/mitbih_database/200.csv\n",
      "/kaggle/input/mitbit-arrhythmia-database/mitbih_database/mitbih_database/103.csv\n",
      "/kaggle/input/mitbit-arrhythmia-database/mitbih_database/mitbih_database/116.csv\n",
      "/kaggle/input/mitbit-arrhythmia-database/mitbih_database/mitbih_database/201annotations.txt\n",
      "/kaggle/input/mitbit-arrhythmia-database/mitbih_database/mitbih_database/123.csv\n",
      "/kaggle/input/mitbit-arrhythmia-database/mitbih_database/mitbih_database/124annotations.txt\n"
     ]
    }
   ],
   "source": [
    "# This Python 3 environment comes with many helpful analytics libraries installed\n",
    "# It is defined by the kaggle/python Docker image: https://github.com/kaggle/docker-python\n",
    "# For example, here's several helpful packages to load\n",
    "\n",
    "import numpy as np # linear algebra\n",
    "import pandas as pd # data processing, CSV file I/O (e.g. pd.read_csv)\n",
    "\n",
    "# Input data files are available in the read-only \"../input/\" directory\n",
    "# For example, running this (by clicking run or pressing Shift+Enter) will list all files under the input directory\n",
    "\n",
    "import os\n",
    "for dirname, _, filenames in os.walk('/kaggle/input'):\n",
    "    for filename in filenames:\n",
    "        print(os.path.join(dirname, filename))\n",
    "\n",
    "# You can write up to 20GB to the current directory (/kaggle/working/) that gets preserved as output when you create a version using \"Save & Run All\" \n",
    "# You can also write temporary files to /kaggle/temp/, but they won't be saved outside of the current session"
   ]
  },
  {
   "cell_type": "code",
   "execution_count": 2,
   "id": "5b7405f3",
   "metadata": {
    "execution": {
     "iopub.execute_input": "2022-06-20T10:28:49.023083Z",
     "iopub.status.busy": "2022-06-20T10:28:49.022381Z",
     "iopub.status.idle": "2022-06-20T10:28:57.586171Z",
     "shell.execute_reply": "2022-06-20T10:28:57.586929Z",
     "shell.execute_reply.started": "2022-06-13T08:08:37.578728Z"
    },
    "papermill": {
     "duration": 8.613581,
     "end_time": "2022-06-20T10:28:57.587121",
     "exception": false,
     "start_time": "2022-06-20T10:28:48.973540",
     "status": "completed"
    },
    "tags": []
   },
   "outputs": [
    {
     "name": "stdout",
     "output_type": "stream",
     "text": [
      "Requirement already satisfied: seaborn in /opt/conda/lib/python3.7/site-packages (0.11.2)\r\n",
      "Requirement already satisfied: matplotlib>=2.2 in /opt/conda/lib/python3.7/site-packages (from seaborn) (3.5.0)\r\n",
      "Requirement already satisfied: numpy>=1.15 in /opt/conda/lib/python3.7/site-packages (from seaborn) (1.19.5)\r\n",
      "Requirement already satisfied: pandas>=0.23 in /opt/conda/lib/python3.7/site-packages (from seaborn) (1.3.4)\r\n",
      "Requirement already satisfied: scipy>=1.0 in /opt/conda/lib/python3.7/site-packages (from seaborn) (1.7.2)\r\n",
      "Requirement already satisfied: kiwisolver>=1.0.1 in /opt/conda/lib/python3.7/site-packages (from matplotlib>=2.2->seaborn) (1.3.2)\r\n",
      "Requirement already satisfied: fonttools>=4.22.0 in /opt/conda/lib/python3.7/site-packages (from matplotlib>=2.2->seaborn) (4.28.2)\r\n",
      "Requirement already satisfied: pyparsing>=2.2.1 in /opt/conda/lib/python3.7/site-packages (from matplotlib>=2.2->seaborn) (3.0.6)\r\n",
      "Requirement already satisfied: pillow>=6.2.0 in /opt/conda/lib/python3.7/site-packages (from matplotlib>=2.2->seaborn) (8.2.0)\r\n",
      "Requirement already satisfied: setuptools-scm>=4 in /opt/conda/lib/python3.7/site-packages (from matplotlib>=2.2->seaborn) (6.3.2)\r\n",
      "Requirement already satisfied: packaging>=20.0 in /opt/conda/lib/python3.7/site-packages (from matplotlib>=2.2->seaborn) (21.0)\r\n",
      "Requirement already satisfied: python-dateutil>=2.7 in /opt/conda/lib/python3.7/site-packages (from matplotlib>=2.2->seaborn) (2.8.0)\r\n",
      "Requirement already satisfied: cycler>=0.10 in /opt/conda/lib/python3.7/site-packages (from matplotlib>=2.2->seaborn) (0.11.0)\r\n",
      "Requirement already satisfied: pytz>=2017.3 in /opt/conda/lib/python3.7/site-packages (from pandas>=0.23->seaborn) (2021.3)\r\n",
      "Requirement already satisfied: six>=1.5 in /opt/conda/lib/python3.7/site-packages (from python-dateutil>=2.7->matplotlib>=2.2->seaborn) (1.16.0)\r\n",
      "Requirement already satisfied: tomli>=1.0.0 in /opt/conda/lib/python3.7/site-packages (from setuptools-scm>=4->matplotlib>=2.2->seaborn) (1.2.2)\r\n",
      "Requirement already satisfied: setuptools in /opt/conda/lib/python3.7/site-packages (from setuptools-scm>=4->matplotlib>=2.2->seaborn) (59.1.1)\r\n",
      "\u001b[33mWARNING: Running pip as the 'root' user can result in broken permissions and conflicting behaviour with the system package manager. It is recommended to use a virtual environment instead: https://pip.pypa.io/warnings/venv\u001b[0m\r\n"
     ]
    }
   ],
   "source": [
    "! pip install --upgrade seaborn"
   ]
  },
  {
   "cell_type": "code",
   "execution_count": 3,
   "id": "f31e001a",
   "metadata": {
    "execution": {
     "iopub.execute_input": "2022-06-20T10:28:57.682910Z",
     "iopub.status.busy": "2022-06-20T10:28:57.682208Z",
     "iopub.status.idle": "2022-06-20T10:29:03.112464Z",
     "shell.execute_reply": "2022-06-20T10:29:03.111920Z",
     "shell.execute_reply.started": "2022-06-13T08:08:46.276077Z"
    },
    "papermill": {
     "duration": 5.480808,
     "end_time": "2022-06-20T10:29:03.112601",
     "exception": false,
     "start_time": "2022-06-20T10:28:57.631793",
     "status": "completed"
    },
    "tags": []
   },
   "outputs": [],
   "source": [
    "import pandas as pd \n",
    "import os\n",
    "\n",
    "import matplotlib.pyplot as plt\n",
    "import csv\n",
    "import itertools\n",
    "import collections\n",
    "\n",
    "import pywt\n",
    "from scipy import stats\n",
    "\n",
    "from sklearn.utils import resample\n",
    "from sklearn.model_selection import train_test_split\n",
    "\n",
    "import keras\n",
    "from sklearn.preprocessing import MinMaxScaler\n",
    "from keras.models import Sequential , Model\n",
    "from keras.layers import Dense, LSTM, Dropout, Softmax, Bidirectional, Flatten\n",
    "import math\n",
    "from sklearn.metrics import mean_squared_error\n",
    "import seaborn as sns"
   ]
  },
  {
   "cell_type": "code",
   "execution_count": 4,
   "id": "71e9c7b5",
   "metadata": {
    "execution": {
     "iopub.execute_input": "2022-06-20T10:29:03.205497Z",
     "iopub.status.busy": "2022-06-20T10:29:03.204753Z",
     "iopub.status.idle": "2022-06-20T10:29:03.514507Z",
     "shell.execute_reply": "2022-06-20T10:29:03.514060Z",
     "shell.execute_reply.started": "2022-06-13T08:08:51.74877Z"
    },
    "papermill": {
     "duration": 0.357233,
     "end_time": "2022-06-20T10:29:03.514625",
     "exception": false,
     "start_time": "2022-06-20T10:29:03.157392",
     "status": "completed"
    },
    "tags": []
   },
   "outputs": [],
   "source": [
    "from tensorflow.keras.optimizers import Adam \n",
    "from keras.utils.np_utils import to_categorical\n",
    "from keras.utils.vis_utils import plot_model\n",
    "from keras import regularizers"
   ]
  },
  {
   "cell_type": "code",
   "execution_count": 5,
   "id": "51516501",
   "metadata": {
    "execution": {
     "iopub.execute_input": "2022-06-20T10:29:03.608684Z",
     "iopub.status.busy": "2022-06-20T10:29:03.608167Z",
     "iopub.status.idle": "2022-06-20T10:29:03.611864Z",
     "shell.execute_reply": "2022-06-20T10:29:03.611455Z",
     "shell.execute_reply.started": "2022-06-13T08:08:52.068601Z"
    },
    "papermill": {
     "duration": 0.052627,
     "end_time": "2022-06-20T10:29:03.611965",
     "exception": false,
     "start_time": "2022-06-20T10:29:03.559338",
     "status": "completed"
    },
    "tags": []
   },
   "outputs": [],
   "source": [
    "def denoise(data): \n",
    "    w = pywt.Wavelet('sym4')\n",
    "    maxlev = pywt.dwt_max_level(len(data), w.dec_len)\n",
    "    threshold = 0.04 # Threshold for filtering\n",
    "\n",
    "    coeffs = pywt.wavedec(data, 'sym4', level=maxlev)\n",
    "    for i in range(1, len(coeffs)):\n",
    "        coeffs[i] = pywt.threshold(coeffs[i], threshold*max(coeffs[i]))\n",
    "        \n",
    "    datarec = pywt.waverec(coeffs, 'sym4')\n",
    "    \n",
    "    return datarec"
   ]
  },
  {
   "cell_type": "code",
   "execution_count": 6,
   "id": "ec6d549e",
   "metadata": {
    "execution": {
     "iopub.execute_input": "2022-06-20T10:29:03.704387Z",
     "iopub.status.busy": "2022-06-20T10:29:03.703656Z",
     "iopub.status.idle": "2022-06-20T10:29:03.705621Z",
     "shell.execute_reply": "2022-06-20T10:29:03.705975Z",
     "shell.execute_reply.started": "2022-06-13T08:08:52.079749Z"
    },
    "papermill": {
     "duration": 0.050394,
     "end_time": "2022-06-20T10:29:03.706124",
     "exception": false,
     "start_time": "2022-06-20T10:29:03.655730",
     "status": "completed"
    },
    "tags": []
   },
   "outputs": [],
   "source": [
    "path = '/kaggle/input/mitbit-arrhythmia-database/mitbih_database/'\n",
    "window_size = 180\n",
    "classes = ['N', 'A', 'V', 'F', 'f']\n",
    "n_classes = len(classes)\n",
    "count_classes = [0]*n_classes\n",
    "\n",
    "X = list()\n",
    "y = list()"
   ]
  },
  {
   "cell_type": "code",
   "execution_count": 7,
   "id": "b226a21f",
   "metadata": {
    "execution": {
     "iopub.execute_input": "2022-06-20T10:29:03.797013Z",
     "iopub.status.busy": "2022-06-20T10:29:03.796534Z",
     "iopub.status.idle": "2022-06-20T10:29:03.801188Z",
     "shell.execute_reply": "2022-06-20T10:29:03.800721Z",
     "shell.execute_reply.started": "2022-06-13T08:08:52.095599Z"
    },
    "papermill": {
     "duration": 0.051888,
     "end_time": "2022-06-20T10:29:03.801302",
     "exception": false,
     "start_time": "2022-06-20T10:29:03.749414",
     "status": "completed"
    },
    "tags": []
   },
   "outputs": [],
   "source": [
    "filenames = next(os.walk(path))[2]\n",
    "records = list()\n",
    "annotations = list()\n",
    "filenames.sort()"
   ]
  },
  {
   "cell_type": "code",
   "execution_count": 8,
   "id": "4504e247",
   "metadata": {
    "execution": {
     "iopub.execute_input": "2022-06-20T10:29:03.904524Z",
     "iopub.status.busy": "2022-06-20T10:29:03.902792Z",
     "iopub.status.idle": "2022-06-20T10:29:03.907266Z",
     "shell.execute_reply": "2022-06-20T10:29:03.907959Z",
     "shell.execute_reply.started": "2022-06-13T08:08:52.105596Z"
    },
    "papermill": {
     "duration": 0.063503,
     "end_time": "2022-06-20T10:29:03.908177",
     "exception": false,
     "start_time": "2022-06-20T10:29:03.844674",
     "status": "completed"
    },
    "tags": []
   },
   "outputs": [],
   "source": [
    "for f in filenames:\n",
    "    filename, file_extension = os.path.splitext(f)\n",
    "    if(file_extension == '.csv'):\n",
    "        records.append(path + filename + file_extension)\n",
    "    else:\n",
    "        annotations.append(path + filename + file_extension)"
   ]
  },
  {
   "cell_type": "code",
   "execution_count": 9,
   "id": "aaeaa48f",
   "metadata": {
    "execution": {
     "iopub.execute_input": "2022-06-20T10:29:04.072540Z",
     "iopub.status.busy": "2022-06-20T10:29:04.071746Z",
     "iopub.status.idle": "2022-06-20T10:30:02.057461Z",
     "shell.execute_reply": "2022-06-20T10:30:02.057884Z",
     "shell.execute_reply.started": "2022-06-13T08:08:52.112917Z"
    },
    "papermill": {
     "duration": 58.070264,
     "end_time": "2022-06-20T10:30:02.058056",
     "exception": false,
     "start_time": "2022-06-20T10:29:03.987792",
     "status": "completed"
    },
    "tags": []
   },
   "outputs": [
    {
     "data": {
      "image/png": "[encoded data removed]",
      "text/plain": [
       "<Figure size 432x288 with 1 Axes>"
      ]
     },
     "metadata": {
      "needs_background": "light"
     },
     "output_type": "display_data"
    },
    {
     "data": {
      "image/png": "[encoded data removed]",
      "text/plain": [
       "<Figure size 432x288 with 1 Axes>"
      ]
     },
     "metadata": {
      "needs_background": "light"
     },
     "output_type": "display_data"
    },
    {
     "data": {
      "image/png": "[encoded data removed]",
      "text/plain": [
       "<Figure size 432x288 with 1 Axes>"
      ]
     },
     "metadata": {
      "needs_background": "light"
     },
     "output_type": "display_data"
    },
    {
     "name": "stdout",
     "output_type": "stream",
     "text": [
      "(86470, 360) (86470,)\n"
     ]
    }
   ],
   "source": [
    "for r in range(0,len(records)):\n",
    "    signals = []\n",
    "\n",
    "    with open(records[r], 'rt') as csvfile:\n",
    "        spamreader = csv.reader(csvfile, delimiter=',', quotechar='|') # read CSV file\\\n",
    "        row_index = -1\n",
    "        for row in spamreader:\n",
    "            if(row_index >= 0):\n",
    "                signals.insert(row_index, int(row[1]))\n",
    "            row_index += 1\n",
    "            \n",
    "    if r is 1:\n",
    "        plt.title(\" Wave\")\n",
    "        plt.plot(signals[0:700])\n",
    "        plt.show()\n",
    "    signals = denoise(signals)\n",
    "    if r is 1:\n",
    "        plt.title(\" wave after denoised\")\n",
    "        plt.plot(signals[0:700])\n",
    "        plt.show()\n",
    "        \n",
    "    example_beat_printed = False\n",
    "    with open(annotations[r], 'r') as fileID:\n",
    "        data = fileID.readlines() \n",
    "        beat = list()\n",
    "        for d in range(1, len(data)): \n",
    "            splitted = data[d].split(' ')\n",
    "            splitted = filter(None, splitted)\n",
    "            next(splitted) \n",
    "            pos = int(next(splitted))\n",
    "            arrhythmia_type = next(splitted)\n",
    "            if(arrhythmia_type in classes):\n",
    "                arrhythmia_index = classes.index(arrhythmia_type)\n",
    "                count_classes[arrhythmia_index] += 1\n",
    "                if(window_size <= pos and pos < (len(signals) - window_size)):\n",
    "                    beat = signals[pos-window_size:pos+window_size]     \n",
    "                    if r is 1 and not example_beat_printed: \n",
    "                        plt.title(\"A Beat from Wave\")\n",
    "                        plt.plot(beat)\n",
    "                        plt.show()\n",
    "                        example_beat_printed = True\n",
    "                    X.append(beat)\n",
    "                    y.append(arrhythmia_index)\n",
    "\n",
    "print(np.shape(X), np.shape(y))"
   ]
  },
  {
   "cell_type": "code",
   "execution_count": 10,
   "id": "ec8114c1",
   "metadata": {
    "execution": {
     "iopub.execute_input": "2022-06-20T10:30:02.158506Z",
     "iopub.status.busy": "2022-06-20T10:30:02.157736Z",
     "iopub.status.idle": "2022-06-20T10:30:02.938176Z",
     "shell.execute_reply": "2022-06-20T10:30:02.938559Z",
     "shell.execute_reply.started": "2022-06-13T08:09:51.193584Z"
    },
    "papermill": {
     "duration": 0.834003,
     "end_time": "2022-06-20T10:30:02.938710",
     "exception": false,
     "start_time": "2022-06-20T10:30:02.104707",
     "status": "completed"
    },
    "tags": []
   },
   "outputs": [
    {
     "name": "stdout",
     "output_type": "stream",
     "text": [
      "(86470, 361)\n"
     ]
    }
   ],
   "source": [
    "for i in range(0,len(X)):\n",
    "        X[i] = np.append(X[i], y[i])\n",
    "print(np.shape(X))"
   ]
  },
  {
   "cell_type": "code",
   "execution_count": 11,
   "id": "0833f04f",
   "metadata": {
    "execution": {
     "iopub.execute_input": "2022-06-20T10:30:03.094338Z",
     "iopub.status.busy": "2022-06-20T10:30:03.068591Z",
     "iopub.status.idle": "2022-06-20T10:30:19.316375Z",
     "shell.execute_reply": "2022-06-20T10:30:19.316932Z",
     "shell.execute_reply.started": "2022-06-13T08:09:51.974389Z"
    },
    "papermill": {
     "duration": 16.330681,
     "end_time": "2022-06-20T10:30:19.317152",
     "exception": false,
     "start_time": "2022-06-20T10:30:02.986471",
     "status": "completed"
    },
    "tags": []
   },
   "outputs": [
    {
     "data": {
      "text/html": [
       "<div>\n",
       "<style scoped>\n",
       "    .dataframe tbody tr th:only-of-type {\n",
       "        vertical-align: middle;\n",
       "    }\n",
       "\n",
       "    .dataframe tbody tr th {\n",
       "        vertical-align: top;\n",
       "    }\n",
       "\n",
       "    .dataframe thead th {\n",
       "        text-align: right;\n",
       "    }\n",
       "</style>\n",
       "<table border=\"1\" class=\"dataframe\">\n",
       "  <thead>\n",
       "    <tr style=\"text-align: right;\">\n",
       "      <th></th>\n",
       "      <th>0</th>\n",
       "      <th>1</th>\n",
       "      <th>2</th>\n",
       "      <th>3</th>\n",
       "      <th>4</th>\n",
       "      <th>5</th>\n",
       "      <th>6</th>\n",
       "      <th>7</th>\n",
       "      <th>8</th>\n",
       "      <th>9</th>\n",
       "      <th>...</th>\n",
       "      <th>351</th>\n",
       "      <th>352</th>\n",
       "      <th>353</th>\n",
       "      <th>354</th>\n",
       "      <th>355</th>\n",
       "      <th>356</th>\n",
       "      <th>357</th>\n",
       "      <th>358</th>\n",
       "      <th>359</th>\n",
       "      <th>360</th>\n",
       "    </tr>\n",
       "  </thead>\n",
       "  <tbody>\n",
       "    <tr>\n",
       "      <th>0</th>\n",
       "      <td>963.374455</td>\n",
       "      <td>963.536949</td>\n",
       "      <td>964.756621</td>\n",
       "      <td>965.399062</td>\n",
       "      <td>966.017086</td>\n",
       "      <td>966.375099</td>\n",
       "      <td>966.610054</td>\n",
       "      <td>966.770207</td>\n",
       "      <td>966.863751</td>\n",
       "      <td>966.951485</td>\n",
       "      <td>...</td>\n",
       "      <td>962.278640</td>\n",
       "      <td>962.282842</td>\n",
       "      <td>962.301737</td>\n",
       "      <td>962.395261</td>\n",
       "      <td>962.294270</td>\n",
       "      <td>961.799296</td>\n",
       "      <td>963.125729</td>\n",
       "      <td>961.823215</td>\n",
       "      <td>962.056695</td>\n",
       "      <td>0.0</td>\n",
       "    </tr>\n",
       "    <tr>\n",
       "      <th>1</th>\n",
       "      <td>950.134075</td>\n",
       "      <td>950.900959</td>\n",
       "      <td>951.742885</td>\n",
       "      <td>951.389255</td>\n",
       "      <td>952.444730</td>\n",
       "      <td>952.698845</td>\n",
       "      <td>952.985557</td>\n",
       "      <td>953.265506</td>\n",
       "      <td>953.554840</td>\n",
       "      <td>953.878155</td>\n",
       "      <td>...</td>\n",
       "      <td>957.912677</td>\n",
       "      <td>957.910661</td>\n",
       "      <td>957.908414</td>\n",
       "      <td>957.887200</td>\n",
       "      <td>957.930868</td>\n",
       "      <td>958.046497</td>\n",
       "      <td>957.767864</td>\n",
       "      <td>957.935546</td>\n",
       "      <td>957.848457</td>\n",
       "      <td>0.0</td>\n",
       "    </tr>\n",
       "    <tr>\n",
       "      <th>2</th>\n",
       "      <td>956.855367</td>\n",
       "      <td>957.921859</td>\n",
       "      <td>958.970263</td>\n",
       "      <td>960.062874</td>\n",
       "      <td>961.063537</td>\n",
       "      <td>961.544535</td>\n",
       "      <td>961.778225</td>\n",
       "      <td>961.903495</td>\n",
       "      <td>961.914781</td>\n",
       "      <td>961.927284</td>\n",
       "      <td>...</td>\n",
       "      <td>962.793234</td>\n",
       "      <td>963.018453</td>\n",
       "      <td>963.291927</td>\n",
       "      <td>963.610334</td>\n",
       "      <td>963.801834</td>\n",
       "      <td>963.664744</td>\n",
       "      <td>964.690013</td>\n",
       "      <td>963.714316</td>\n",
       "      <td>963.719371</td>\n",
       "      <td>0.0</td>\n",
       "    </tr>\n",
       "    <tr>\n",
       "      <th>3</th>\n",
       "      <td>956.333844</td>\n",
       "      <td>956.469719</td>\n",
       "      <td>956.650190</td>\n",
       "      <td>956.840204</td>\n",
       "      <td>957.063040</td>\n",
       "      <td>957.289795</td>\n",
       "      <td>957.532154</td>\n",
       "      <td>957.763758</td>\n",
       "      <td>957.903596</td>\n",
       "      <td>958.002126</td>\n",
       "      <td>...</td>\n",
       "      <td>963.483037</td>\n",
       "      <td>963.849264</td>\n",
       "      <td>964.232722</td>\n",
       "      <td>964.751295</td>\n",
       "      <td>965.325454</td>\n",
       "      <td>965.385283</td>\n",
       "      <td>965.277388</td>\n",
       "      <td>965.949119</td>\n",
       "      <td>966.749783</td>\n",
       "      <td>0.0</td>\n",
       "    </tr>\n",
       "    <tr>\n",
       "      <th>4</th>\n",
       "      <td>950.051087</td>\n",
       "      <td>950.080657</td>\n",
       "      <td>950.899845</td>\n",
       "      <td>951.943309</td>\n",
       "      <td>952.584266</td>\n",
       "      <td>953.144752</td>\n",
       "      <td>953.758744</td>\n",
       "      <td>954.385010</td>\n",
       "      <td>955.116512</td>\n",
       "      <td>955.847917</td>\n",
       "      <td>...</td>\n",
       "      <td>962.082603</td>\n",
       "      <td>962.257165</td>\n",
       "      <td>962.430031</td>\n",
       "      <td>962.608560</td>\n",
       "      <td>962.787336</td>\n",
       "      <td>962.969444</td>\n",
       "      <td>963.152923</td>\n",
       "      <td>963.315874</td>\n",
       "      <td>963.472298</td>\n",
       "      <td>0.0</td>\n",
       "    </tr>\n",
       "    <tr>\n",
       "      <th>...</th>\n",
       "      <td>...</td>\n",
       "      <td>...</td>\n",
       "      <td>...</td>\n",
       "      <td>...</td>\n",
       "      <td>...</td>\n",
       "      <td>...</td>\n",
       "      <td>...</td>\n",
       "      <td>...</td>\n",
       "      <td>...</td>\n",
       "      <td>...</td>\n",
       "      <td>...</td>\n",
       "      <td>...</td>\n",
       "      <td>...</td>\n",
       "      <td>...</td>\n",
       "      <td>...</td>\n",
       "      <td>...</td>\n",
       "      <td>...</td>\n",
       "      <td>...</td>\n",
       "      <td>...</td>\n",
       "      <td>...</td>\n",
       "      <td>...</td>\n",
       "    </tr>\n",
       "    <tr>\n",
       "      <th>86465</th>\n",
       "      <td>960.091597</td>\n",
       "      <td>958.332371</td>\n",
       "      <td>959.228982</td>\n",
       "      <td>959.937280</td>\n",
       "      <td>960.462593</td>\n",
       "      <td>960.875403</td>\n",
       "      <td>961.311190</td>\n",
       "      <td>961.743369</td>\n",
       "      <td>962.152282</td>\n",
       "      <td>962.574638</td>\n",
       "      <td>...</td>\n",
       "      <td>964.516509</td>\n",
       "      <td>965.081464</td>\n",
       "      <td>965.657630</td>\n",
       "      <td>965.508808</td>\n",
       "      <td>965.080290</td>\n",
       "      <td>964.863438</td>\n",
       "      <td>964.607543</td>\n",
       "      <td>964.151499</td>\n",
       "      <td>963.933098</td>\n",
       "      <td>0.0</td>\n",
       "    </tr>\n",
       "    <tr>\n",
       "      <th>86466</th>\n",
       "      <td>960.158109</td>\n",
       "      <td>960.774672</td>\n",
       "      <td>961.122588</td>\n",
       "      <td>962.403698</td>\n",
       "      <td>963.542825</td>\n",
       "      <td>966.482368</td>\n",
       "      <td>966.960323</td>\n",
       "      <td>967.707577</td>\n",
       "      <td>968.022530</td>\n",
       "      <td>968.521270</td>\n",
       "      <td>...</td>\n",
       "      <td>963.553957</td>\n",
       "      <td>962.929216</td>\n",
       "      <td>962.408595</td>\n",
       "      <td>961.909285</td>\n",
       "      <td>961.207912</td>\n",
       "      <td>960.546289</td>\n",
       "      <td>959.842670</td>\n",
       "      <td>959.283797</td>\n",
       "      <td>959.529191</td>\n",
       "      <td>0.0</td>\n",
       "    </tr>\n",
       "    <tr>\n",
       "      <th>86467</th>\n",
       "      <td>959.520187</td>\n",
       "      <td>958.437111</td>\n",
       "      <td>959.105015</td>\n",
       "      <td>959.603769</td>\n",
       "      <td>960.050059</td>\n",
       "      <td>961.738668</td>\n",
       "      <td>962.600041</td>\n",
       "      <td>960.552121</td>\n",
       "      <td>957.583658</td>\n",
       "      <td>959.426743</td>\n",
       "      <td>...</td>\n",
       "      <td>968.586538</td>\n",
       "      <td>969.176431</td>\n",
       "      <td>969.713374</td>\n",
       "      <td>970.199836</td>\n",
       "      <td>970.198314</td>\n",
       "      <td>970.071392</td>\n",
       "      <td>969.631823</td>\n",
       "      <td>969.133521</td>\n",
       "      <td>969.677513</td>\n",
       "      <td>0.0</td>\n",
       "    </tr>\n",
       "    <tr>\n",
       "      <th>86468</th>\n",
       "      <td>957.960255</td>\n",
       "      <td>957.948389</td>\n",
       "      <td>959.213426</td>\n",
       "      <td>959.568639</td>\n",
       "      <td>959.893190</td>\n",
       "      <td>960.498387</td>\n",
       "      <td>961.169668</td>\n",
       "      <td>961.611360</td>\n",
       "      <td>961.984491</td>\n",
       "      <td>962.369367</td>\n",
       "      <td>...</td>\n",
       "      <td>974.808446</td>\n",
       "      <td>973.751860</td>\n",
       "      <td>972.810871</td>\n",
       "      <td>971.849649</td>\n",
       "      <td>970.724459</td>\n",
       "      <td>969.718156</td>\n",
       "      <td>968.525272</td>\n",
       "      <td>967.561324</td>\n",
       "      <td>968.065026</td>\n",
       "      <td>0.0</td>\n",
       "    </tr>\n",
       "    <tr>\n",
       "      <th>86469</th>\n",
       "      <td>956.404404</td>\n",
       "      <td>957.531612</td>\n",
       "      <td>958.738170</td>\n",
       "      <td>960.137072</td>\n",
       "      <td>961.633615</td>\n",
       "      <td>963.163953</td>\n",
       "      <td>964.694432</td>\n",
       "      <td>966.285352</td>\n",
       "      <td>967.899972</td>\n",
       "      <td>969.059446</td>\n",
       "      <td>...</td>\n",
       "      <td>962.505485</td>\n",
       "      <td>962.803601</td>\n",
       "      <td>963.433398</td>\n",
       "      <td>964.152886</td>\n",
       "      <td>962.467724</td>\n",
       "      <td>960.094117</td>\n",
       "      <td>960.598133</td>\n",
       "      <td>961.799478</td>\n",
       "      <td>961.153864</td>\n",
       "      <td>0.0</td>\n",
       "    </tr>\n",
       "  </tbody>\n",
       "</table>\n",
       "<p>86470 rows × 361 columns</p>\n",
       "</div>"
      ],
      "text/plain": [
       "              0           1           2           3           4           5    \\\n",
       "0      963.374455  963.536949  964.756621  965.399062  966.017086  966.375099   \n",
       "1      950.134075  950.900959  951.742885  951.389255  952.444730  952.698845   \n",
       "2      956.855367  957.921859  958.970263  960.062874  961.063537  961.544535   \n",
       "3      956.333844  956.469719  956.650190  956.840204  957.063040  957.289795   \n",
       "4      950.051087  950.080657  950.899845  951.943309  952.584266  953.144752   \n",
       "...           ...         ...         ...         ...         ...         ...   \n",
       "86465  960.091597  958.332371  959.228982  959.937280  960.462593  960.875403   \n",
       "86466  960.158109  960.774672  961.122588  962.403698  963.542825  966.482368   \n",
       "86467  959.520187  958.437111  959.105015  959.603769  960.050059  961.738668   \n",
       "86468  957.960255  957.948389  959.213426  959.568639  959.893190  960.498387   \n",
       "86469  956.404404  957.531612  958.738170  960.137072  961.633615  963.163953   \n",
       "\n",
       "              6           7           8           9    ...         351  \\\n",
       "0      966.610054  966.770207  966.863751  966.951485  ...  962.278640   \n",
       "1      952.985557  953.265506  953.554840  953.878155  ...  957.912677   \n",
       "2      961.778225  961.903495  961.914781  961.927284  ...  962.793234   \n",
       "3      957.532154  957.763758  957.903596  958.002126  ...  963.483037   \n",
       "4      953.758744  954.385010  955.116512  955.847917  ...  962.082603   \n",
       "...           ...         ...         ...         ...  ...         ...   \n",
       "86465  961.311190  961.743369  962.152282  962.574638  ...  964.516509   \n",
       "86466  966.960323  967.707577  968.022530  968.521270  ...  963.553957   \n",
       "86467  962.600041  960.552121  957.583658  959.426743  ...  968.586538   \n",
       "86468  961.169668  961.611360  961.984491  962.369367  ...  974.808446   \n",
       "86469  964.694432  966.285352  967.899972  969.059446  ...  962.505485   \n",
       "\n",
       "              352         353         354         355         356         357  \\\n",
       "0      962.282842  962.301737  962.395261  962.294270  961.799296  963.125729   \n",
       "1      957.910661  957.908414  957.887200  957.930868  958.046497  957.767864   \n",
       "2      963.018453  963.291927  963.610334  963.801834  963.664744  964.690013   \n",
       "3      963.849264  964.232722  964.751295  965.325454  965.385283  965.277388   \n",
       "4      962.257165  962.430031  962.608560  962.787336  962.969444  963.152923   \n",
       "...           ...         ...         ...         ...         ...         ...   \n",
       "86465  965.081464  965.657630  965.508808  965.080290  964.863438  964.607543   \n",
       "86466  962.929216  962.408595  961.909285  961.207912  960.546289  959.842670   \n",
       "86467  969.176431  969.713374  970.199836  970.198314  970.071392  969.631823   \n",
       "86468  973.751860  972.810871  971.849649  970.724459  969.718156  968.525272   \n",
       "86469  962.803601  963.433398  964.152886  962.467724  960.094117  960.598133   \n",
       "\n",
       "              358         359  360  \n",
       "0      961.823215  962.056695  0.0  \n",
       "1      957.935546  957.848457  0.0  \n",
       "2      963.714316  963.719371  0.0  \n",
       "3      965.949119  966.749783  0.0  \n",
       "4      963.315874  963.472298  0.0  \n",
       "...           ...         ...  ...  \n",
       "86465  964.151499  963.933098  0.0  \n",
       "86466  959.283797  959.529191  0.0  \n",
       "86467  969.133521  969.677513  0.0  \n",
       "86468  967.561324  968.065026  0.0  \n",
       "86469  961.799478  961.153864  0.0  \n",
       "\n",
       "[86470 rows x 361 columns]"
      ]
     },
     "execution_count": 11,
     "metadata": {},
     "output_type": "execute_result"
    }
   ],
   "source": [
    "X_train_df = pd.DataFrame(X)\n",
    "X_train_df"
   ]
  },
  {
   "cell_type": "code",
   "execution_count": 12,
   "id": "2406245f",
   "metadata": {
    "execution": {
     "iopub.execute_input": "2022-06-20T10:30:19.436582Z",
     "iopub.status.busy": "2022-06-20T10:30:19.435978Z",
     "iopub.status.idle": "2022-06-20T10:30:19.440367Z",
     "shell.execute_reply": "2022-06-20T10:30:19.440879Z",
     "shell.execute_reply.started": "2022-06-13T08:10:08.360342Z"
    },
    "papermill": {
     "duration": 0.069758,
     "end_time": "2022-06-20T10:30:19.441052",
     "exception": false,
     "start_time": "2022-06-20T10:30:19.371294",
     "status": "completed"
    },
    "tags": []
   },
   "outputs": [
    {
     "name": "stdout",
     "output_type": "stream",
     "text": [
      "0.0    75011\n",
      "2.0     7129\n",
      "1.0     2546\n",
      "4.0      982\n",
      "3.0      802\n",
      "Name: 360, dtype: int64\n"
     ]
    }
   ],
   "source": [
    "per_class = X_train_df[X_train_df.shape[1]-1].value_counts()\n",
    "print(per_class)"
   ]
  },
  {
   "cell_type": "code",
   "execution_count": 13,
   "id": "8d881544",
   "metadata": {
    "execution": {
     "iopub.execute_input": "2022-06-20T10:30:19.554212Z",
     "iopub.status.busy": "2022-06-20T10:30:19.553572Z",
     "iopub.status.idle": "2022-06-20T10:30:19.720212Z",
     "shell.execute_reply": "2022-06-20T10:30:19.720783Z",
     "shell.execute_reply.started": "2022-06-13T08:10:08.373403Z"
    },
    "papermill": {
     "duration": 0.227191,
     "end_time": "2022-06-20T10:30:19.720988",
     "exception": false,
     "start_time": "2022-06-20T10:30:19.493797",
     "status": "completed"
    },
    "tags": []
   },
   "outputs": [],
   "source": [
    "df_1=X_train_df[X_train_df[X_train_df.shape[1]-1]==1]\n",
    "df_2=X_train_df[X_train_df[X_train_df.shape[1]-1]==2]\n",
    "df_3=X_train_df[X_train_df[X_train_df.shape[1]-1]==3]\n",
    "df_4=X_train_df[X_train_df[X_train_df.shape[1]-1]==4]\n",
    "df_0=(X_train_df[X_train_df[X_train_df.shape[1]-1]==0]).sample(n=5000,random_state=42)\n",
    "\n",
    "df_1_upsample=resample(df_1,replace=True,n_samples=5000,random_state=42)\n",
    "df_2_upsample=resample(df_2,replace=True,n_samples=5000,random_state=42)\n",
    "df_3_upsample=resample(df_3,replace=True,n_samples=5000,random_state=42)\n",
    "df_4_upsample=resample(df_4,replace=True,n_samples=5000,random_state=42)\n",
    "X_train_df=pd.concat([df_0,df_1_upsample,df_2_upsample,df_3_upsample,df_4_upsample])"
   ]
  },
  {
   "cell_type": "code",
   "execution_count": 14,
   "id": "e13de839",
   "metadata": {
    "execution": {
     "iopub.execute_input": "2022-06-20T10:30:19.836621Z",
     "iopub.status.busy": "2022-06-20T10:30:19.835755Z",
     "iopub.status.idle": "2022-06-20T10:30:19.839386Z",
     "shell.execute_reply": "2022-06-20T10:30:19.839796Z",
     "shell.execute_reply.started": "2022-06-13T08:10:08.541941Z"
    },
    "papermill": {
     "duration": 0.064924,
     "end_time": "2022-06-20T10:30:19.839928",
     "exception": false,
     "start_time": "2022-06-20T10:30:19.775004",
     "status": "completed"
    },
    "tags": []
   },
   "outputs": [
    {
     "name": "stdout",
     "output_type": "stream",
     "text": [
      "0.0    5000\n",
      "1.0    5000\n",
      "2.0    5000\n",
      "3.0    5000\n",
      "4.0    5000\n",
      "Name: 360, dtype: int64\n"
     ]
    }
   ],
   "source": [
    "per_class = X_train_df[X_train_df.shape[1]-1].value_counts()\n",
    "print(per_class)"
   ]
  },
  {
   "cell_type": "code",
   "execution_count": 15,
   "id": "f512e60e",
   "metadata": {
    "execution": {
     "iopub.execute_input": "2022-06-20T10:30:19.955424Z",
     "iopub.status.busy": "2022-06-20T10:30:19.954535Z",
     "iopub.status.idle": "2022-06-20T10:30:20.007992Z",
     "shell.execute_reply": "2022-06-20T10:30:20.007387Z",
     "shell.execute_reply.started": "2022-06-13T08:10:08.551499Z"
    },
    "papermill": {
     "duration": 0.113538,
     "end_time": "2022-06-20T10:30:20.008176",
     "exception": false,
     "start_time": "2022-06-20T10:30:19.894638",
     "status": "completed"
    },
    "tags": []
   },
   "outputs": [
    {
     "name": "stdout",
     "output_type": "stream",
     "text": [
      "X_train :  (20000, 361)\n",
      "X_test  :  (5000, 361)\n"
     ]
    }
   ],
   "source": [
    "train, test = train_test_split(X_train_df, test_size=0.20)\n",
    "print(\"X_train : \", np.shape(train))\n",
    "print(\"X_test  : \", np.shape(test))"
   ]
  },
  {
   "cell_type": "code",
   "execution_count": 16,
   "id": "b48f7491",
   "metadata": {
    "execution": {
     "iopub.execute_input": "2022-06-20T10:30:20.122693Z",
     "iopub.status.busy": "2022-06-20T10:30:20.120439Z",
     "iopub.status.idle": "2022-06-20T10:30:20.127643Z",
     "shell.execute_reply": "2022-06-20T10:30:20.127011Z",
     "shell.execute_reply.started": "2022-06-13T08:10:08.605982Z"
    },
    "papermill": {
     "duration": 0.065601,
     "end_time": "2022-06-20T10:30:20.127774",
     "exception": false,
     "start_time": "2022-06-20T10:30:20.062173",
     "status": "completed"
    },
    "tags": []
   },
   "outputs": [
    {
     "name": "stdout",
     "output_type": "stream",
     "text": [
      "(20000, 5) (5000, 5)\n"
     ]
    }
   ],
   "source": [
    "target_train=train[train.shape[1]-1]\n",
    "target_test=test[test.shape[1]-1]\n",
    "train_y=to_categorical(target_train)\n",
    "test_y=to_categorical(target_test)\n",
    "print(np.shape(train_y), np.shape(test_y))"
   ]
  },
  {
   "cell_type": "code",
   "execution_count": 17,
   "id": "65482892",
   "metadata": {
    "execution": {
     "iopub.execute_input": "2022-06-20T10:30:20.244756Z",
     "iopub.status.busy": "2022-06-20T10:30:20.243919Z",
     "iopub.status.idle": "2022-06-20T10:30:20.246609Z",
     "shell.execute_reply": "2022-06-20T10:30:20.247190Z",
     "shell.execute_reply.started": "2022-06-13T08:10:08.614936Z"
    },
    "papermill": {
     "duration": 0.064263,
     "end_time": "2022-06-20T10:30:20.247356",
     "exception": false,
     "start_time": "2022-06-20T10:30:20.183093",
     "status": "completed"
    },
    "tags": []
   },
   "outputs": [
    {
     "name": "stdout",
     "output_type": "stream",
     "text": [
      "(20000, 360, 1) (5000, 360, 1)\n"
     ]
    }
   ],
   "source": [
    "train_x = train.iloc[:,:train.shape[1]-1].values\n",
    "test_x = test.iloc[:,:test.shape[1]-1].values\n",
    "train_x = train_x.reshape(len(train_x), train_x.shape[1],1)\n",
    "test_x = test_x.reshape(len(test_x), test_x.shape[1],1)\n",
    "print(np.shape(train_x), np.shape(test_x))"
   ]
  },
  {
   "cell_type": "code",
   "execution_count": 18,
   "id": "9c27282e",
   "metadata": {
    "execution": {
     "iopub.execute_input": "2022-06-20T10:30:20.359661Z",
     "iopub.status.busy": "2022-06-20T10:30:20.358765Z",
     "iopub.status.idle": "2022-06-20T10:30:20.365650Z",
     "shell.execute_reply": "2022-06-20T10:30:20.365187Z",
     "shell.execute_reply.started": "2022-06-13T08:10:08.624492Z"
    },
    "papermill": {
     "duration": 0.06349,
     "end_time": "2022-06-20T10:30:20.365751",
     "exception": false,
     "start_time": "2022-06-20T10:30:20.302261",
     "status": "completed"
    },
    "tags": []
   },
   "outputs": [
    {
     "name": "stdout",
     "output_type": "stream",
     "text": [
      "[[[ 843.43366447]\n",
      "  [ 843.24219853]\n",
      "  [ 843.3842278 ]\n",
      "  ...\n",
      "  [ 848.3646991 ]\n",
      "  [ 849.2542797 ]\n",
      "  [ 848.02979254]]\n",
      "\n",
      " [[ 997.57716518]\n",
      "  [ 996.5617298 ]\n",
      "  [ 992.58734927]\n",
      "  ...\n",
      "  [ 992.00007444]\n",
      "  [ 992.81284499]\n",
      "  [ 994.04644401]]\n",
      "\n",
      " [[1006.30136421]\n",
      "  [1006.45254063]\n",
      "  [1006.60897163]\n",
      "  ...\n",
      "  [1044.19126377]\n",
      "  [1041.33774063]\n",
      "  [1038.56444843]]\n",
      "\n",
      " ...\n",
      "\n",
      " [[ 966.38346538]\n",
      "  [ 966.63188041]\n",
      "  [ 967.233652  ]\n",
      "  ...\n",
      "  [1217.66795625]\n",
      "  [1209.70755542]\n",
      "  [1201.97454127]]\n",
      "\n",
      " [[ 949.2547293 ]\n",
      "  [ 950.17663217]\n",
      "  [ 951.12302364]\n",
      "  ...\n",
      "  [ 981.61737939]\n",
      "  [ 981.53657879]\n",
      "  [ 981.44459003]]\n",
      "\n",
      " [[ 800.24672441]\n",
      "  [ 818.29926335]\n",
      "  [ 843.39757487]\n",
      "  ...\n",
      "  [ 805.05676997]\n",
      "  [ 804.55755483]\n",
      "  [ 805.07834096]]]\n"
     ]
    }
   ],
   "source": [
    "print(train_x)"
   ]
  },
  {
   "cell_type": "code",
   "execution_count": 19,
   "id": "98151b15",
   "metadata": {
    "execution": {
     "iopub.execute_input": "2022-06-20T10:30:20.483550Z",
     "iopub.status.busy": "2022-06-20T10:30:20.482970Z",
     "iopub.status.idle": "2022-06-20T10:30:23.201247Z",
     "shell.execute_reply": "2022-06-20T10:30:23.201655Z",
     "shell.execute_reply.started": "2022-06-13T08:10:08.634595Z"
    },
    "papermill": {
     "duration": 2.780351,
     "end_time": "2022-06-20T10:30:23.201811",
     "exception": false,
     "start_time": "2022-06-20T10:30:20.421460",
     "status": "completed"
    },
    "tags": []
   },
   "outputs": [
    {
     "name": "stderr",
     "output_type": "stream",
     "text": [
      "2022-06-20 10:30:20.566571: I tensorflow/stream_executor/cuda/cuda_gpu_executor.cc:937] successful NUMA node read from SysFS had negative value (-1), but there must be at least one NUMA node, so returning NUMA node zero\n",
      "2022-06-20 10:30:20.714726: I tensorflow/stream_executor/cuda/cuda_gpu_executor.cc:937] successful NUMA node read from SysFS had negative value (-1), but there must be at least one NUMA node, so returning NUMA node zero\n",
      "2022-06-20 10:30:20.715533: I tensorflow/stream_executor/cuda/cuda_gpu_executor.cc:937] successful NUMA node read from SysFS had negative value (-1), but there must be at least one NUMA node, so returning NUMA node zero\n",
      "2022-06-20 10:30:20.716846: I tensorflow/core/platform/cpu_feature_guard.cc:142] This TensorFlow binary is optimized with oneAPI Deep Neural Network Library (oneDNN) to use the following CPU instructions in performance-critical operations:  AVX2 AVX512F FMA\n",
      "To enable them in other operations, rebuild TensorFlow with the appropriate compiler flags.\n",
      "2022-06-20 10:30:20.717884: I tensorflow/stream_executor/cuda/cuda_gpu_executor.cc:937] successful NUMA node read from SysFS had negative value (-1), but there must be at least one NUMA node, so returning NUMA node zero\n",
      "2022-06-20 10:30:20.718670: I tensorflow/stream_executor/cuda/cuda_gpu_executor.cc:937] successful NUMA node read from SysFS had negative value (-1), but there must be at least one NUMA node, so returning NUMA node zero\n",
      "2022-06-20 10:30:20.719552: I tensorflow/stream_executor/cuda/cuda_gpu_executor.cc:937] successful NUMA node read from SysFS had negative value (-1), but there must be at least one NUMA node, so returning NUMA node zero\n",
      "2022-06-20 10:30:22.864452: I tensorflow/stream_executor/cuda/cuda_gpu_executor.cc:937] successful NUMA node read from SysFS had negative value (-1), but there must be at least one NUMA node, so returning NUMA node zero\n",
      "2022-06-20 10:30:22.865317: I tensorflow/stream_executor/cuda/cuda_gpu_executor.cc:937] successful NUMA node read from SysFS had negative value (-1), but there must be at least one NUMA node, so returning NUMA node zero\n",
      "2022-06-20 10:30:22.865976: I tensorflow/stream_executor/cuda/cuda_gpu_executor.cc:937] successful NUMA node read from SysFS had negative value (-1), but there must be at least one NUMA node, so returning NUMA node zero\n",
      "2022-06-20 10:30:22.866576: I tensorflow/core/common_runtime/gpu/gpu_device.cc:1510] Created device /job:localhost/replica:0/task:0/device:GPU:0 with 15403 MB memory:  -> device: 0, name: Tesla P100-PCIE-16GB, pci bus id: 0000:00:04.0, compute capability: 6.0\n"
     ]
    }
   ],
   "source": [
    "model1 = Sequential()\n",
    "model1.add(Bidirectional(LSTM(units=50, return_sequences=True, activation='tanh', input_shape=(360,1))))\n",
    "model1.add(Bidirectional(LSTM(units=10, return_sequences=True, activation='tanh')))\n",
    "model1.add(Flatten())\n",
    "model1.add(Dropout(0.5))\n",
    "model1.add(Dense(35))\n",
    "model1.add(Dense(5))\n",
    "model1.add(Softmax())"
   ]
  },
  {
   "cell_type": "code",
   "execution_count": 20,
   "id": "efb61484",
   "metadata": {
    "execution": {
     "iopub.execute_input": "2022-06-20T10:30:23.310194Z",
     "iopub.status.busy": "2022-06-20T10:30:23.309570Z",
     "iopub.status.idle": "2022-06-20T10:30:23.317928Z",
     "shell.execute_reply": "2022-06-20T10:30:23.317482Z",
     "shell.execute_reply.started": "2022-06-13T08:10:11.349522Z"
    },
    "papermill": {
     "duration": 0.067145,
     "end_time": "2022-06-20T10:30:23.318047",
     "exception": false,
     "start_time": "2022-06-20T10:30:23.250902",
     "status": "completed"
    },
    "tags": []
   },
   "outputs": [],
   "source": [
    "model1.compile(loss='categorical_crossentropy', optimizer=Adam(), metrics=['accuracy'])"
   ]
  },
  {
   "cell_type": "code",
   "execution_count": 21,
   "id": "c553dc97",
   "metadata": {
    "execution": {
     "iopub.execute_input": "2022-06-20T10:30:23.421864Z",
     "iopub.status.busy": "2022-06-20T10:30:23.421074Z",
     "iopub.status.idle": "2022-06-20T10:43:50.462432Z",
     "shell.execute_reply": "2022-06-20T10:43:50.461909Z",
     "shell.execute_reply.started": "2022-06-13T08:39:17.745136Z"
    },
    "papermill": {
     "duration": 807.094743,
     "end_time": "2022-06-20T10:43:50.462582",
     "exception": false,
     "start_time": "2022-06-20T10:30:23.367839",
     "status": "completed"
    },
    "tags": []
   },
   "outputs": [
    {
     "name": "stderr",
     "output_type": "stream",
     "text": [
      "2022-06-20 10:30:23.548414: I tensorflow/compiler/mlir/mlir_graph_optimization_pass.cc:185] None of the MLIR Optimization Passes are enabled (registered 2)\n"
     ]
    },
    {
     "name": "stdout",
     "output_type": "stream",
     "text": [
      "Epoch 1/60\n"
     ]
    },
    {
     "name": "stderr",
     "output_type": "stream",
     "text": [
      "2022-06-20 10:30:29.369863: I tensorflow/stream_executor/cuda/cuda_dnn.cc:369] Loaded cuDNN version 8005\n"
     ]
    },
    {
     "name": "stdout",
     "output_type": "stream",
     "text": [
      "157/157 [==============================] - 21s 89ms/step - loss: 1.7376 - accuracy: 0.1975 - val_loss: 1.6164 - val_accuracy: 0.1982\n",
      "Epoch 2/60\n",
      "157/157 [==============================] - 13s 80ms/step - loss: 1.6111 - accuracy: 0.2004 - val_loss: 1.6105 - val_accuracy: 0.1996\n",
      "Epoch 3/60\n",
      "157/157 [==============================] - 13s 80ms/step - loss: 1.6106 - accuracy: 0.1986 - val_loss: 1.6095 - val_accuracy: 0.1982\n",
      "Epoch 4/60\n",
      "157/157 [==============================] - 12s 79ms/step - loss: 1.6102 - accuracy: 0.1972 - val_loss: 1.6141 - val_accuracy: 0.1996\n",
      "Epoch 5/60\n",
      "157/157 [==============================] - 13s 80ms/step - loss: 1.6138 - accuracy: 0.2007 - val_loss: 1.6105 - val_accuracy: 0.2086\n",
      "Epoch 6/60\n",
      "157/157 [==============================] - 12s 78ms/step - loss: 1.6081 - accuracy: 0.2138 - val_loss: 1.6494 - val_accuracy: 0.1974\n",
      "Epoch 7/60\n",
      "157/157 [==============================] - 12s 79ms/step - loss: 1.5848 - accuracy: 0.2538 - val_loss: 1.5710 - val_accuracy: 0.1988\n",
      "Epoch 8/60\n",
      "157/157 [==============================] - 13s 80ms/step - loss: 1.5201 - accuracy: 0.3286 - val_loss: 1.5133 - val_accuracy: 0.2858\n",
      "Epoch 9/60\n",
      "157/157 [==============================] - 12s 79ms/step - loss: 1.2576 - accuracy: 0.5017 - val_loss: 0.8780 - val_accuracy: 0.7218\n",
      "Epoch 10/60\n",
      "157/157 [==============================] - 12s 79ms/step - loss: 0.8527 - accuracy: 0.7030 - val_loss: 0.7939 - val_accuracy: 0.7038\n",
      "Epoch 11/60\n",
      "157/157 [==============================] - 13s 81ms/step - loss: 0.7177 - accuracy: 0.7559 - val_loss: 0.7339 - val_accuracy: 0.7052\n",
      "Epoch 12/60\n",
      "157/157 [==============================] - 12s 78ms/step - loss: 0.6140 - accuracy: 0.7951 - val_loss: 0.6507 - val_accuracy: 0.7526\n",
      "Epoch 13/60\n",
      "157/157 [==============================] - 13s 80ms/step - loss: 0.5796 - accuracy: 0.8019 - val_loss: 0.8698 - val_accuracy: 0.7016\n",
      "Epoch 14/60\n",
      "157/157 [==============================] - 12s 79ms/step - loss: 0.5682 - accuracy: 0.8065 - val_loss: 0.4712 - val_accuracy: 0.8376\n",
      "Epoch 15/60\n",
      "157/157 [==============================] - 12s 79ms/step - loss: 0.5093 - accuracy: 0.8308 - val_loss: 0.4615 - val_accuracy: 0.8516\n",
      "Epoch 16/60\n",
      "157/157 [==============================] - 13s 81ms/step - loss: 0.4881 - accuracy: 0.8356 - val_loss: 0.4180 - val_accuracy: 0.8750\n",
      "Epoch 17/60\n",
      "157/157 [==============================] - 13s 80ms/step - loss: 0.4646 - accuracy: 0.8439 - val_loss: 0.4755 - val_accuracy: 0.8482\n",
      "Epoch 18/60\n",
      "157/157 [==============================] - 13s 81ms/step - loss: 0.4538 - accuracy: 0.8468 - val_loss: 0.3983 - val_accuracy: 0.8728\n",
      "Epoch 19/60\n",
      "157/157 [==============================] - 13s 80ms/step - loss: 0.4592 - accuracy: 0.8436 - val_loss: 0.3961 - val_accuracy: 0.8770\n",
      "Epoch 20/60\n",
      "157/157 [==============================] - 12s 79ms/step - loss: 0.4466 - accuracy: 0.8498 - val_loss: 0.3857 - val_accuracy: 0.8760\n",
      "Epoch 21/60\n",
      "157/157 [==============================] - 13s 81ms/step - loss: 0.4271 - accuracy: 0.8547 - val_loss: 0.3657 - val_accuracy: 0.8792\n",
      "Epoch 22/60\n",
      "157/157 [==============================] - 12s 78ms/step - loss: 0.4131 - accuracy: 0.8626 - val_loss: 0.3753 - val_accuracy: 0.8814\n",
      "Epoch 23/60\n",
      "157/157 [==============================] - 13s 81ms/step - loss: 0.4119 - accuracy: 0.8595 - val_loss: 0.3660 - val_accuracy: 0.8882\n",
      "Epoch 24/60\n",
      "157/157 [==============================] - 13s 81ms/step - loss: 0.3981 - accuracy: 0.8679 - val_loss: 0.3323 - val_accuracy: 0.8932\n",
      "Epoch 25/60\n",
      "157/157 [==============================] - 13s 81ms/step - loss: 0.3937 - accuracy: 0.8672 - val_loss: 0.4355 - val_accuracy: 0.8578\n",
      "Epoch 26/60\n",
      "157/157 [==============================] - 13s 81ms/step - loss: 0.4017 - accuracy: 0.8655 - val_loss: 0.3270 - val_accuracy: 0.8986\n",
      "Epoch 27/60\n",
      "157/157 [==============================] - 13s 81ms/step - loss: 0.3803 - accuracy: 0.8718 - val_loss: 0.4808 - val_accuracy: 0.8302\n",
      "Epoch 28/60\n",
      "157/157 [==============================] - 13s 81ms/step - loss: 0.3769 - accuracy: 0.8727 - val_loss: 0.3487 - val_accuracy: 0.8866\n",
      "Epoch 29/60\n",
      "157/157 [==============================] - 13s 81ms/step - loss: 0.3590 - accuracy: 0.8770 - val_loss: 0.3147 - val_accuracy: 0.9012\n",
      "Epoch 30/60\n",
      "157/157 [==============================] - 13s 80ms/step - loss: 0.3639 - accuracy: 0.8766 - val_loss: 0.3173 - val_accuracy: 0.9008\n",
      "Epoch 31/60\n",
      "157/157 [==============================] - 13s 81ms/step - loss: 0.3507 - accuracy: 0.8816 - val_loss: 0.3294 - val_accuracy: 0.8930\n",
      "Epoch 32/60\n",
      "157/157 [==============================] - 13s 81ms/step - loss: 0.3395 - accuracy: 0.8873 - val_loss: 0.3303 - val_accuracy: 0.8890\n",
      "Epoch 33/60\n",
      "157/157 [==============================] - 13s 82ms/step - loss: 0.3660 - accuracy: 0.8778 - val_loss: 0.4435 - val_accuracy: 0.8556\n",
      "Epoch 34/60\n",
      "157/157 [==============================] - 13s 81ms/step - loss: 0.3378 - accuracy: 0.8854 - val_loss: 0.2822 - val_accuracy: 0.9100\n",
      "Epoch 35/60\n",
      "157/157 [==============================] - 12s 79ms/step - loss: 0.3267 - accuracy: 0.8885 - val_loss: 0.2876 - val_accuracy: 0.9030\n",
      "Epoch 36/60\n",
      "157/157 [==============================] - 13s 82ms/step - loss: 0.3344 - accuracy: 0.8856 - val_loss: 0.4035 - val_accuracy: 0.8562\n",
      "Epoch 37/60\n",
      "157/157 [==============================] - 13s 82ms/step - loss: 0.3340 - accuracy: 0.8867 - val_loss: 0.2870 - val_accuracy: 0.9080\n",
      "Epoch 38/60\n",
      "157/157 [==============================] - 12s 79ms/step - loss: 0.3106 - accuracy: 0.8947 - val_loss: 0.2821 - val_accuracy: 0.9066\n",
      "Epoch 39/60\n",
      "157/157 [==============================] - 13s 82ms/step - loss: 0.3076 - accuracy: 0.8940 - val_loss: 0.2740 - val_accuracy: 0.9078\n",
      "Epoch 40/60\n",
      "157/157 [==============================] - 12s 78ms/step - loss: 0.3146 - accuracy: 0.8927 - val_loss: 0.3051 - val_accuracy: 0.9054\n",
      "Epoch 41/60\n",
      "157/157 [==============================] - 13s 81ms/step - loss: 0.2964 - accuracy: 0.8988 - val_loss: 0.2655 - val_accuracy: 0.9104\n",
      "Epoch 42/60\n",
      "157/157 [==============================] - 13s 82ms/step - loss: 0.2844 - accuracy: 0.9036 - val_loss: 0.2390 - val_accuracy: 0.9230\n",
      "Epoch 43/60\n",
      "157/157 [==============================] - 12s 77ms/step - loss: 0.2902 - accuracy: 0.9011 - val_loss: 0.2618 - val_accuracy: 0.9170\n",
      "Epoch 44/60\n",
      "157/157 [==============================] - 13s 82ms/step - loss: 0.2908 - accuracy: 0.8992 - val_loss: 0.2518 - val_accuracy: 0.9164\n",
      "Epoch 45/60\n",
      "157/157 [==============================] - 13s 80ms/step - loss: 0.2771 - accuracy: 0.9051 - val_loss: 0.2474 - val_accuracy: 0.9178\n",
      "Epoch 46/60\n",
      "157/157 [==============================] - 12s 79ms/step - loss: 0.2941 - accuracy: 0.9011 - val_loss: 0.2490 - val_accuracy: 0.9228\n",
      "Epoch 47/60\n",
      "157/157 [==============================] - 13s 81ms/step - loss: 0.2837 - accuracy: 0.9039 - val_loss: 0.2518 - val_accuracy: 0.9188\n",
      "Epoch 48/60\n",
      "157/157 [==============================] - 12s 78ms/step - loss: 0.3003 - accuracy: 0.8979 - val_loss: 0.2762 - val_accuracy: 0.9098\n",
      "Epoch 49/60\n",
      "157/157 [==============================] - 13s 81ms/step - loss: 0.2764 - accuracy: 0.9056 - val_loss: 0.3818 - val_accuracy: 0.8644\n",
      "Epoch 50/60\n",
      "157/157 [==============================] - 13s 82ms/step - loss: 0.2859 - accuracy: 0.9013 - val_loss: 0.2626 - val_accuracy: 0.9156\n",
      "Epoch 51/60\n",
      "157/157 [==============================] - 12s 78ms/step - loss: 0.2799 - accuracy: 0.9050 - val_loss: 0.2366 - val_accuracy: 0.9238\n",
      "Epoch 52/60\n",
      "157/157 [==============================] - 13s 82ms/step - loss: 0.2645 - accuracy: 0.9111 - val_loss: 0.2376 - val_accuracy: 0.9206\n",
      "Epoch 53/60\n",
      "157/157 [==============================] - 13s 81ms/step - loss: 0.2573 - accuracy: 0.9114 - val_loss: 0.2445 - val_accuracy: 0.9202\n",
      "Epoch 54/60\n",
      "157/157 [==============================] - 12s 77ms/step - loss: 0.4163 - accuracy: 0.8673 - val_loss: 0.2527 - val_accuracy: 0.9184\n",
      "Epoch 55/60\n",
      "157/157 [==============================] - 13s 82ms/step - loss: 0.2739 - accuracy: 0.9066 - val_loss: 0.2361 - val_accuracy: 0.9206\n",
      "Epoch 56/60\n",
      "157/157 [==============================] - 12s 78ms/step - loss: 0.2510 - accuracy: 0.9131 - val_loss: 0.2434 - val_accuracy: 0.9188\n",
      "Epoch 57/60\n",
      "157/157 [==============================] - 13s 80ms/step - loss: 0.2406 - accuracy: 0.9178 - val_loss: 0.2213 - val_accuracy: 0.9276\n",
      "Epoch 58/60\n",
      "157/157 [==============================] - 13s 81ms/step - loss: 0.2402 - accuracy: 0.9182 - val_loss: 0.2195 - val_accuracy: 0.9256\n",
      "Epoch 59/60\n",
      "157/157 [==============================] - 12s 75ms/step - loss: 0.2487 - accuracy: 0.9146 - val_loss: 0.2219 - val_accuracy: 0.9276\n",
      "Epoch 60/60\n",
      "157/157 [==============================] - 13s 82ms/step - loss: 0.2604 - accuracy: 0.9126 - val_loss: 0.2638 - val_accuracy: 0.9156\n"
     ]
    }
   ],
   "source": [
    "history  = model1.fit(train_x, train_y, batch_size=128, epochs=60, verbose=1, validation_data=(test_x, test_y))"
   ]
  },
  {
   "cell_type": "code",
   "execution_count": 22,
   "id": "ecfe2866",
   "metadata": {
    "execution": {
     "iopub.execute_input": "2022-06-20T10:43:55.748319Z",
     "iopub.status.busy": "2022-06-20T10:43:55.747134Z",
     "iopub.status.idle": "2022-06-20T10:44:00.149255Z",
     "shell.execute_reply": "2022-06-20T10:44:00.148786Z",
     "shell.execute_reply.started": "2022-06-13T09:02:46.018656Z"
    },
    "papermill": {
     "duration": 6.953012,
     "end_time": "2022-06-20T10:44:00.149380",
     "exception": false,
     "start_time": "2022-06-20T10:43:53.196368",
     "status": "completed"
    },
    "tags": []
   },
   "outputs": [
    {
     "name": "stdout",
     "output_type": "stream",
     "text": [
      "157/157 [==============================] - 4s 28ms/step - loss: 0.2638 - accuracy: 0.9156\n",
      "0.9156000018119812\n"
     ]
    }
   ],
   "source": [
    "score1 = model1.evaluate(test_x, test_y)\n",
    "print(score1[1])"
   ]
  },
  {
   "cell_type": "code",
   "execution_count": 23,
   "id": "64355553",
   "metadata": {
    "execution": {
     "iopub.execute_input": "2022-06-20T10:44:05.514514Z",
     "iopub.status.busy": "2022-06-20T10:44:05.513655Z",
     "iopub.status.idle": "2022-06-20T10:44:05.515542Z",
     "shell.execute_reply": "2022-06-20T10:44:05.515938Z",
     "shell.execute_reply.started": "2022-06-13T09:03:17.415759Z"
    },
    "papermill": {
     "duration": 2.832643,
     "end_time": "2022-06-20T10:44:05.516105",
     "exception": false,
     "start_time": "2022-06-20T10:44:02.683462",
     "status": "completed"
    },
    "tags": []
   },
   "outputs": [],
   "source": [
    "def speci(kcm):\n",
    "    total=sum(sum(kcm))\n",
    "    sensitivity1 = kcm[0,0]/(kcm[0,0]+kcm[0,1]+kcm[0,2]+kcm[0,3]+kcm[0,4])\n",
    "    print('Sensitivity of  Non-ecotic beats (normal beat) ', sensitivity1 )\n",
    "    specificity1 = (kcm[1,1]+kcm[2,2]+kcm[3,3]+kcm[4,4])/(total-(kcm[0,0]+kcm[0,1]+kcm[0,2]+kcm[0,3]+kcm[0,4]))\n",
    "    print('Specificity of  Non-ecotic beats (normal beat) ', specificity1)\n",
    "    sensitivity1 = kcm[1,1]/(kcm[1,0]+kcm[1,1]+kcm[1,2]+kcm[1,3]+kcm[1,4])\n",
    "    print('Sensitivity of  Supraventricular ectopic beats ', sensitivity1 )\n",
    "    specificity1 = (kcm[0,0]+kcm[2,2]+kcm[3,3]+kcm[4,4])/(total-(kcm[1,0]+kcm[1,1]+kcm[1,2]+kcm[1,3]+kcm[1,4]))\n",
    "    print('Specificity of  Supraventricular ectopic beats ', specificity1)\n",
    "    sensitivity1 = kcm[2,2]/(kcm[2,0]+kcm[2,1]+kcm[2,2]+kcm[2,3]+kcm[2,4])\n",
    "    print('Sensitivity of  Ventricular ectopic beats  ', sensitivity1 )\n",
    "    specificity1 = (kcm[1,1]+kcm[0,0]+kcm[3,3]+kcm[4,4])/(total-(kcm[2,0]+kcm[2,1]+kcm[2,2]+kcm[2,3]+kcm[2,4]))\n",
    "    print('Specificity of  Ventricular ectopic beats ', specificity1)\n",
    "    sensitivity1 = kcm[3,3]/(kcm[3,0]+kcm[3,1]+kcm[3,2]+kcm[3,3]+kcm[3,4])\n",
    "    print('Sensitivity of  Fusion Beats ', sensitivity1 )\n",
    "    specificity1 = (kcm[1,1]+kcm[2,2]+kcm[0,0]+kcm[4,4])/(total-(kcm[3,0]+kcm[3,1]+kcm[3,2]+kcm[3,3]+kcm[3,4]))\n",
    "    print('Specificity of  Fusion Beats ', specificity1)\n",
    "    sensitivity1 = kcm[4,4]/(kcm[4,0]+kcm[4,1]+kcm[4,2]+kcm[4,3]+kcm[4,4])\n",
    "    print('Sensitivity of  Unknown Beats ', sensitivity1 )\n",
    "    specificity1 = (kcm[1,1]+kcm[2,2]+kcm[3,3]+kcm[0,0])/(total-(kcm[4,0]+kcm[4,1]+kcm[4,2]+kcm[4,3]+kcm[4,4]))\n",
    "    print('Specificity of  Unknown Beats ', specificity1)\n",
    "    "
   ]
  },
  {
   "cell_type": "code",
   "execution_count": null,
   "id": "09f1103a",
   "metadata": {
    "papermill": {
     "duration": 2.568902,
     "end_time": "2022-06-20T10:44:10.638517",
     "exception": false,
     "start_time": "2022-06-20T10:44:08.069615",
     "status": "completed"
    },
    "tags": []
   },
   "outputs": [],
   "source": []
  },
  {
   "cell_type": "code",
   "execution_count": 24,
   "id": "005232ce",
   "metadata": {
    "execution": {
     "iopub.execute_input": "2022-06-20T10:44:15.911468Z",
     "iopub.status.busy": "2022-06-20T10:44:15.910557Z",
     "iopub.status.idle": "2022-06-20T10:44:22.017629Z",
     "shell.execute_reply": "2022-06-20T10:44:22.017159Z",
     "shell.execute_reply.started": "2022-06-13T09:03:49.337046Z"
    },
    "papermill": {
     "duration": 8.88014,
     "end_time": "2022-06-20T10:44:22.017748",
     "exception": false,
     "start_time": "2022-06-20T10:44:13.137608",
     "status": "completed"
    },
    "tags": []
   },
   "outputs": [
    {
     "name": "stdout",
     "output_type": "stream",
     "text": [
      "[[897  28  18  67  33]\n",
      " [104 862   7   4  21]\n",
      " [ 13  17 916  36   6]\n",
      " [ 20   6  30 917   7]\n",
      " [  2   0   3   0 986]]\n",
      "              precision    recall  f1-score   support\n",
      "\n",
      "           0       0.87      0.86      0.86      1043\n",
      "           1       0.94      0.86      0.90       998\n",
      "           2       0.94      0.93      0.93       988\n",
      "           3       0.90      0.94      0.92       980\n",
      "           4       0.94      0.99      0.96       991\n",
      "\n",
      "    accuracy                           0.92      5000\n",
      "   macro avg       0.92      0.92      0.92      5000\n",
      "weighted avg       0.92      0.92      0.92      5000\n",
      "\n",
      "Sensitivity of  Non-ecotic beats (normal beat)  0.8600191754554171\n",
      "Specificity of  Non-ecotic beats (normal beat)  0.9302501895375285\n",
      "Sensitivity of  Supraventricular ectopic beats  0.8637274549098196\n",
      "Specificity of  Supraventricular ectopic beats  0.928535732133933\n",
      "Sensitivity of  Ventricular ectopic beats   0.9271255060728745\n",
      "Specificity of  Ventricular ectopic beats  0.9127617148554337\n",
      "Sensitivity of  Fusion Beats  0.9357142857142857\n",
      "Specificity of  Fusion Beats  0.9106965174129353\n",
      "Sensitivity of  Unknown Beats  0.9949545913218971\n",
      "Specificity of  Unknown Beats  0.8959840359191819\n"
     ]
    }
   ],
   "source": [
    "from sklearn.metrics import confusion_matrix, classification_report\n",
    "Y_pred = model1.predict(test_x)\n",
    "Y_pred_classes = np.argmax(Y_pred,axis = 1) \n",
    "Y_true = np.argmax(test_y,axis = 1) \n",
    "confusion_mtx = confusion_matrix(Y_true, Y_pred_classes) \n",
    "print(confusion_mtx)\n",
    "print(classification_report(Y_true, Y_pred_classes))\n",
    "speci(confusion_mtx)"
   ]
  },
  {
   "cell_type": "code",
   "execution_count": 25,
   "id": "daf1ecf6",
   "metadata": {
    "execution": {
     "iopub.execute_input": "2022-06-20T10:44:27.370383Z",
     "iopub.status.busy": "2022-06-20T10:44:27.369688Z",
     "iopub.status.idle": "2022-06-20T10:44:27.614791Z",
     "shell.execute_reply": "2022-06-20T10:44:27.615363Z",
     "shell.execute_reply.started": "2022-06-13T09:04:00.626569Z"
    },
    "papermill": {
     "duration": 3.024907,
     "end_time": "2022-06-20T10:44:27.615531",
     "exception": false,
     "start_time": "2022-06-20T10:44:24.590624",
     "status": "completed"
    },
    "tags": []
   },
   "outputs": [
    {
     "data": {
      "image/png": "[encoded data removed]",
      "text/plain": [
       "<Figure size 432x432 with 1 Axes>"
      ]
     },
     "metadata": {
      "needs_background": "light"
     },
     "output_type": "display_data"
    }
   ],
   "source": [
    "from mlxtend.plotting import plot_confusion_matrix\n",
    "fig, ax = plot_confusion_matrix(conf_mat=confusion_mtx, figsize=(6, 6), cmap=plt.cm.Blues)\n",
    "plt.xlabel('Predictions', fontsize=18)\n",
    "plt.ylabel('Actuals', fontsize=18)\n",
    "plt.title('Confusion Matrix', fontsize=18)\n",
    "plt.show()"
   ]
  },
  {
   "cell_type": "code",
   "execution_count": 26,
   "id": "5de6d588",
   "metadata": {
    "execution": {
     "iopub.execute_input": "2022-06-20T10:44:32.701982Z",
     "iopub.status.busy": "2022-06-20T10:44:32.701171Z",
     "iopub.status.idle": "2022-06-20T10:44:59.553785Z",
     "shell.execute_reply": "2022-06-20T10:44:59.554240Z",
     "shell.execute_reply.started": "2022-06-13T09:04:17.012213Z"
    },
    "papermill": {
     "duration": 29.364097,
     "end_time": "2022-06-20T10:44:59.554407",
     "exception": false,
     "start_time": "2022-06-20T10:44:30.190310",
     "status": "completed"
    },
    "tags": []
   },
   "outputs": [
    {
     "name": "stdout",
     "output_type": "stream",
     "text": [
      "(20000, 7200)\n",
      "(5000, 7200)\n"
     ]
    }
   ],
   "source": [
    "model_feat = Model(inputs=model1.input,outputs=model1.get_layer('flatten').output)\n",
    "feat_train = model_feat.predict(train_x)\n",
    "print(feat_train.shape)\n",
    "feat_test = model_feat.predict(test_x)\n",
    "print(feat_test.shape)"
   ]
  },
  {
   "cell_type": "code",
   "execution_count": 27,
   "id": "889628a5",
   "metadata": {
    "execution": {
     "iopub.execute_input": "2022-06-20T10:45:04.664091Z",
     "iopub.status.busy": "2022-06-20T10:45:04.663446Z",
     "iopub.status.idle": "2022-06-20T10:45:15.892999Z",
     "shell.execute_reply": "2022-06-20T10:45:15.894172Z",
     "shell.execute_reply.started": "2022-06-13T09:04:44.555366Z"
    },
    "papermill": {
     "duration": 13.806457,
     "end_time": "2022-06-20T10:45:15.894449",
     "exception": false,
     "start_time": "2022-06-20T10:45:02.087992",
     "status": "completed"
    },
    "tags": []
   },
   "outputs": [
    {
     "name": "stdout",
     "output_type": "stream",
     "text": [
      "Time: 11.203355312347412s\n"
     ]
    }
   ],
   "source": [
    "from sklearn.preprocessing import StandardScaler\n",
    "from sklearn.decomposition import PCA\n",
    "import time\n",
    "start0 = time.time()\n",
    "sc = StandardScaler()\n",
    "X_train = sc.fit_transform(feat_train)\n",
    "X_test = sc.transform(feat_test)\n",
    "pca = PCA(n_components = 150)\n",
    "pca_X_train = pca.fit_transform(X_train)\n",
    "pca_X_test = pca.transform(X_test)\n",
    "stop0 = time.time()\n",
    "print(f\"Time: {stop0 - start0}s\")"
   ]
  },
  {
   "cell_type": "code",
   "execution_count": 28,
   "id": "1b156897",
   "metadata": {
    "execution": {
     "iopub.execute_input": "2022-06-20T10:45:21.463506Z",
     "iopub.status.busy": "2022-06-20T10:45:21.462658Z",
     "iopub.status.idle": "2022-06-20T10:45:21.466467Z",
     "shell.execute_reply": "2022-06-20T10:45:21.464201Z",
     "shell.execute_reply.started": "2022-06-13T09:04:56.192615Z"
    },
    "papermill": {
     "duration": 2.996781,
     "end_time": "2022-06-20T10:45:21.466633",
     "exception": false,
     "start_time": "2022-06-20T10:45:18.469852",
     "status": "completed"
    },
    "tags": []
   },
   "outputs": [
    {
     "name": "stdout",
     "output_type": "stream",
     "text": [
      "(20000, 150)\n",
      "(5000, 150)\n"
     ]
    }
   ],
   "source": [
    "print(pca_X_train.shape)\n",
    "print(pca_X_test.shape)"
   ]
  },
  {
   "cell_type": "code",
   "execution_count": 29,
   "id": "2e8c6733",
   "metadata": {
    "execution": {
     "iopub.execute_input": "2022-06-20T10:45:26.896783Z",
     "iopub.status.busy": "2022-06-20T10:45:26.895925Z",
     "iopub.status.idle": "2022-06-20T10:45:26.898447Z",
     "shell.execute_reply": "2022-06-20T10:45:26.897979Z",
     "shell.execute_reply.started": "2022-06-13T09:04:56.202346Z"
    },
    "papermill": {
     "duration": 2.569791,
     "end_time": "2022-06-20T10:45:26.898560",
     "exception": false,
     "start_time": "2022-06-20T10:45:24.328769",
     "status": "completed"
    },
    "tags": []
   },
   "outputs": [],
   "source": [
    "import time"
   ]
  },
  {
   "cell_type": "code",
   "execution_count": 30,
   "id": "e551b523",
   "metadata": {
    "execution": {
     "iopub.execute_input": "2022-06-20T10:45:32.185220Z",
     "iopub.status.busy": "2022-06-20T10:45:32.184126Z",
     "iopub.status.idle": "2022-06-20T10:45:50.318376Z",
     "shell.execute_reply": "2022-06-20T10:45:50.318918Z",
     "shell.execute_reply.started": "2022-06-13T09:04:56.210073Z"
    },
    "papermill": {
     "duration": 20.898229,
     "end_time": "2022-06-20T10:45:50.319129",
     "exception": false,
     "start_time": "2022-06-20T10:45:29.420900",
     "status": "completed"
    },
    "tags": []
   },
   "outputs": [
    {
     "name": "stdout",
     "output_type": "stream",
     "text": [
      "Training time: 18.13124942779541s\n"
     ]
    }
   ],
   "source": [
    "from sklearn.svm import SVC\n",
    "svm = SVC(kernel='rbf')\n",
    "t0=time.time()\n",
    "svm.fit(pca_X_train,np.argmax(train_y,axis=1))\n",
    "t1=time.time()\n",
    "print(f\"Training time: {t1-t0}s\")"
   ]
  },
  {
   "cell_type": "code",
   "execution_count": 31,
   "id": "dda3153d",
   "metadata": {
    "execution": {
     "iopub.execute_input": "2022-06-20T10:45:56.492866Z",
     "iopub.status.busy": "2022-06-20T10:45:56.491765Z",
     "iopub.status.idle": "2022-06-20T10:46:02.129179Z",
     "shell.execute_reply": "2022-06-20T10:46:02.129770Z",
     "shell.execute_reply.started": "2022-06-13T09:05:12.417136Z"
    },
    "papermill": {
     "duration": 9.235049,
     "end_time": "2022-06-20T10:46:02.129971",
     "exception": false,
     "start_time": "2022-06-20T10:45:52.894922",
     "status": "completed"
    },
    "tags": []
   },
   "outputs": [
    {
     "name": "stdout",
     "output_type": "stream",
     "text": [
      "[0 0 2 ... 3 3 1]\n",
      "Testing time: 11.810647010803223s\n"
     ]
    }
   ],
   "source": [
    "t2=time.time()\n",
    "Pred_labels = svm.predict(pca_X_test)\n",
    "t3=time.time()\n",
    "print(Pred_labels )\n",
    "print(f\"Testing time: {t3-t1}s\")"
   ]
  },
  {
   "cell_type": "code",
   "execution_count": 32,
   "id": "bbafa96a",
   "metadata": {
    "execution": {
     "iopub.execute_input": "2022-06-20T10:46:07.439788Z",
     "iopub.status.busy": "2022-06-20T10:46:07.439223Z",
     "iopub.status.idle": "2022-06-20T10:46:07.443725Z",
     "shell.execute_reply": "2022-06-20T10:46:07.444388Z",
     "shell.execute_reply.started": "2022-06-13T09:05:17.288648Z"
    },
    "papermill": {
     "duration": 2.507453,
     "end_time": "2022-06-20T10:46:07.444583",
     "exception": false,
     "start_time": "2022-06-20T10:46:04.937130",
     "status": "completed"
    },
    "tags": []
   },
   "outputs": [
    {
     "name": "stdout",
     "output_type": "stream",
     "text": [
      "Accuracy: 0.9564\n"
     ]
    }
   ],
   "source": [
    "from sklearn import metrics\n",
    "accuracy = metrics.accuracy_score(target_test ,Pred_labels)\n",
    "print(\"Accuracy:\",accuracy)"
   ]
  },
  {
   "cell_type": "code",
   "execution_count": 33,
   "id": "208a27bb",
   "metadata": {
    "execution": {
     "iopub.execute_input": "2022-06-20T10:46:12.554439Z",
     "iopub.status.busy": "2022-06-20T10:46:12.553622Z",
     "iopub.status.idle": "2022-06-20T10:46:12.579726Z",
     "shell.execute_reply": "2022-06-20T10:46:12.578934Z",
     "shell.execute_reply.started": "2022-06-13T09:05:17.298116Z"
    },
    "papermill": {
     "duration": 2.581846,
     "end_time": "2022-06-20T10:46:12.579854",
     "exception": false,
     "start_time": "2022-06-20T10:46:09.998008",
     "status": "completed"
    },
    "tags": []
   },
   "outputs": [
    {
     "name": "stdout",
     "output_type": "stream",
     "text": [
      "[[986  18  13  21   5]\n",
      " [ 82 905   6   1   4]\n",
      " [  7   6 965   9   1]\n",
      " [ 29   0   9 937   5]\n",
      " [  2   0   0   0 989]]\n",
      "              precision    recall  f1-score   support\n",
      "\n",
      "         0.0       0.89      0.95      0.92      1043\n",
      "         1.0       0.97      0.91      0.94       998\n",
      "         2.0       0.97      0.98      0.97       988\n",
      "         3.0       0.97      0.96      0.96       980\n",
      "         4.0       0.99      1.00      0.99       991\n",
      "\n",
      "    accuracy                           0.96      5000\n",
      "   macro avg       0.96      0.96      0.96      5000\n",
      "weighted avg       0.96      0.96      0.96      5000\n",
      "\n",
      "Sensitivity of  Non-ecotic beats (normal beat)  0.9453499520613614\n",
      "Specificity of  Non-ecotic beats (normal beat)  0.9593126105635582\n",
      "Sensitivity of  Supraventricular ectopic beats  0.906813627254509\n",
      "Specificity of  Supraventricular ectopic beats  0.9687656171914043\n",
      "Sensitivity of  Ventricular ectopic beats   0.9767206477732794\n",
      "Specificity of  Ventricular ectopic beats  0.9513958125623131\n",
      "Sensitivity of  Fusion Beats  0.9561224489795919\n",
      "Specificity of  Fusion Beats  0.9564676616915423\n",
      "Sensitivity of  Unknown Beats  0.9979818365287588\n",
      "Specificity of  Unknown Beats  0.946121227238713\n"
     ]
    }
   ],
   "source": [
    "cm = confusion_matrix(target_test, Pred_labels) \n",
    "print(cm)\n",
    "print(classification_report(target_test, Pred_labels))\n",
    "speci(cm)"
   ]
  },
  {
   "cell_type": "code",
   "execution_count": 34,
   "id": "aa528b9c",
   "metadata": {
    "execution": {
     "iopub.execute_input": "2022-06-20T10:46:18.006784Z",
     "iopub.status.busy": "2022-06-20T10:46:18.005350Z",
     "iopub.status.idle": "2022-06-20T10:46:18.119494Z",
     "shell.execute_reply": "2022-06-20T10:46:18.119858Z",
     "shell.execute_reply.started": "2022-06-13T09:08:31.554798Z"
    },
    "papermill": {
     "duration": 3.014162,
     "end_time": "2022-06-20T10:46:18.120004",
     "exception": false,
     "start_time": "2022-06-20T10:46:15.105842",
     "status": "completed"
    },
    "tags": []
   },
   "outputs": [
    {
     "data": {
      "image/png": "[encoded data removed]",
      "text/plain": [
       "<Figure size 432x432 with 1 Axes>"
      ]
     },
     "metadata": {
      "needs_background": "light"
     },
     "output_type": "display_data"
    }
   ],
   "source": [
    "from mlxtend.plotting import plot_confusion_matrix\n",
    "fig, ax = plot_confusion_matrix(conf_mat=cm, figsize=(6, 6), cmap=plt.cm.Blues)\n",
    "plt.xlabel('Predictions', fontsize=18)\n",
    "plt.ylabel('Actuals', fontsize=18)\n",
    "plt.title('Confusion Matrix', fontsize=18)\n",
    "plt.show()"
   ]
  },
  {
   "cell_type": "code",
   "execution_count": null,
   "id": "1b0a5071",
   "metadata": {
    "papermill": {
     "duration": 2.57091,
     "end_time": "2022-06-20T10:46:23.231687",
     "exception": false,
     "start_time": "2022-06-20T10:46:20.660777",
     "status": "completed"
    },
    "tags": []
   },
   "outputs": [],
   "source": []
  },
  {
   "cell_type": "code",
   "execution_count": 35,
   "id": "4cee5d1d",
   "metadata": {
    "execution": {
     "iopub.execute_input": "2022-06-20T10:46:29.126899Z",
     "iopub.status.busy": "2022-06-20T10:46:29.126142Z",
     "iopub.status.idle": "2022-06-20T10:46:30.263706Z",
     "shell.execute_reply": "2022-06-20T10:46:30.264143Z",
     "shell.execute_reply.started": "2022-06-13T09:10:12.958153Z"
    },
    "papermill": {
     "duration": 4.231992,
     "end_time": "2022-06-20T10:46:30.264306",
     "exception": false,
     "start_time": "2022-06-20T10:46:26.032314",
     "status": "completed"
    },
    "tags": []
   },
   "outputs": [
    {
     "name": "stdout",
     "output_type": "stream",
     "text": [
      "Training time: 1.1047019958496094s\n"
     ]
    }
   ],
   "source": [
    "from sklearn import metrics\n",
    "from sklearn.neighbors import KNeighborsClassifier\n",
    "knn = KNeighborsClassifier(n_neighbors=5)\n",
    "t4=time.time()\n",
    "knn.fit(pca_X_train,np.argmax(train_y,axis=1))\n",
    "t5=time.time()\n",
    "print(f\"Training time: {t5-t4}s\")"
   ]
  },
  {
   "cell_type": "code",
   "execution_count": 36,
   "id": "141019d8",
   "metadata": {
    "execution": {
     "iopub.execute_input": "2022-06-20T10:46:35.330769Z",
     "iopub.status.busy": "2022-06-20T10:46:35.329823Z",
     "iopub.status.idle": "2022-06-20T10:46:42.969063Z",
     "shell.execute_reply": "2022-06-20T10:46:42.968460Z",
     "shell.execute_reply.started": "2022-06-13T09:10:14.13358Z"
    },
    "papermill": {
     "duration": 10.15119,
     "end_time": "2022-06-20T10:46:42.969238",
     "exception": false,
     "start_time": "2022-06-20T10:46:32.818048",
     "status": "completed"
    },
    "tags": []
   },
   "outputs": [
    {
     "name": "stdout",
     "output_type": "stream",
     "text": [
      "[0 0 4 ... 3 3 1]\n",
      "Testing time: 7.635823488235474s\n"
     ]
    }
   ],
   "source": [
    "t6=time.time()\n",
    "knn_labels = knn.predict(pca_X_test)\n",
    "t7=time.time()\n",
    "print(knn_labels )\n",
    "print(f\"Testing time: {t7-t6}s\")"
   ]
  },
  {
   "cell_type": "code",
   "execution_count": 37,
   "id": "340fa689",
   "metadata": {
    "execution": {
     "iopub.execute_input": "2022-06-20T10:46:48.059046Z",
     "iopub.status.busy": "2022-06-20T10:46:48.058173Z",
     "iopub.status.idle": "2022-06-20T10:46:48.085172Z",
     "shell.execute_reply": "2022-06-20T10:46:48.085802Z",
     "shell.execute_reply.started": "2022-06-13T09:10:25.011241Z"
    },
    "papermill": {
     "duration": 2.59217,
     "end_time": "2022-06-20T10:46:48.085967",
     "exception": false,
     "start_time": "2022-06-20T10:46:45.493797",
     "status": "completed"
    },
    "tags": []
   },
   "outputs": [
    {
     "name": "stdout",
     "output_type": "stream",
     "text": [
      "Accuracy: 0.9668\n",
      "[[972  26   7  22  16]\n",
      " [ 23 970   4   1   0]\n",
      " [ 17  11 937  20   3]\n",
      " [  7   5   3 965   0]\n",
      " [  1   0   0   0 990]]\n",
      "              precision    recall  f1-score   support\n",
      "\n",
      "         0.0       0.95      0.93      0.94      1043\n",
      "         1.0       0.96      0.97      0.97       998\n",
      "         2.0       0.99      0.95      0.97       988\n",
      "         3.0       0.96      0.98      0.97       980\n",
      "         4.0       0.98      1.00      0.99       991\n",
      "\n",
      "    accuracy                           0.97      5000\n",
      "   macro avg       0.97      0.97      0.97      5000\n",
      "weighted avg       0.97      0.97      0.97      5000\n",
      "\n",
      "Sensitivity of  Non-ecotic beats (normal beat)  0.9319271332694151\n",
      "Specificity of  Non-ecotic beats (normal beat)  0.9759919130654536\n",
      "Sensitivity of  Supraventricular ectopic beats  0.9719438877755511\n",
      "Specificity of  Supraventricular ectopic beats  0.9655172413793104\n",
      "Sensitivity of  Ventricular ectopic beats   0.9483805668016194\n",
      "Specificity of  Ventricular ectopic beats  0.9713359920239282\n",
      "Sensitivity of  Fusion Beats  0.9846938775510204\n",
      "Specificity of  Fusion Beats  0.9624378109452736\n",
      "Sensitivity of  Unknown Beats  0.9989909182643795\n",
      "Specificity of  Unknown Beats  0.9588426041406835\n"
     ]
    }
   ],
   "source": [
    "from sklearn import metrics\n",
    "accuracy = metrics.accuracy_score(target_test ,knn_labels)\n",
    "print(\"Accuracy:\",accuracy)\n",
    "cm = confusion_matrix(target_test, knn_labels) \n",
    "print(cm)\n",
    "print(classification_report(target_test, knn_labels))\n",
    "speci(cm)"
   ]
  },
  {
   "cell_type": "code",
   "execution_count": 38,
   "id": "be8b91ec",
   "metadata": {
    "execution": {
     "iopub.execute_input": "2022-06-20T10:46:53.392188Z",
     "iopub.status.busy": "2022-06-20T10:46:53.391264Z",
     "iopub.status.idle": "2022-06-20T10:46:53.534149Z",
     "shell.execute_reply": "2022-06-20T10:46:53.534649Z",
     "shell.execute_reply.started": "2022-06-13T09:10:25.044949Z"
    },
    "papermill": {
     "duration": 2.66942,
     "end_time": "2022-06-20T10:46:53.534802",
     "exception": false,
     "start_time": "2022-06-20T10:46:50.865382",
     "status": "completed"
    },
    "tags": []
   },
   "outputs": [
    {
     "data": {
      "image/png": "[encoded data removed]",
      "text/plain": [
       "<Figure size 432x432 with 1 Axes>"
      ]
     },
     "metadata": {
      "needs_background": "light"
     },
     "output_type": "display_data"
    }
   ],
   "source": [
    "from mlxtend.plotting import plot_confusion_matrix\n",
    "fig, ax = plot_confusion_matrix(conf_mat=cm, figsize=(6, 6), cmap=plt.cm.Blues)\n",
    "plt.xlabel('Predictions', fontsize=18)\n",
    "plt.ylabel('Actuals', fontsize=18)\n",
    "plt.title('Confusion Matrix', fontsize=18)\n",
    "plt.show()"
   ]
  },
  {
   "cell_type": "code",
   "execution_count": 39,
   "id": "140d0f03",
   "metadata": {
    "execution": {
     "iopub.execute_input": "2022-06-20T10:46:58.883782Z",
     "iopub.status.busy": "2022-06-20T10:46:58.883074Z",
     "iopub.status.idle": "2022-06-20T10:47:23.943737Z",
     "shell.execute_reply": "2022-06-20T10:47:23.944166Z",
     "shell.execute_reply.started": "2022-06-13T09:10:25.202793Z"
    },
    "papermill": {
     "duration": 27.803478,
     "end_time": "2022-06-20T10:47:23.944312",
     "exception": false,
     "start_time": "2022-06-20T10:46:56.140834",
     "status": "completed"
    },
    "tags": []
   },
   "outputs": [
    {
     "name": "stdout",
     "output_type": "stream",
     "text": [
      "Training time: 25.057815313339233s\n"
     ]
    }
   ],
   "source": [
    "from sklearn.svm import SVC\n",
    "svclassifier = SVC(kernel='sigmoid')\n",
    "t8=time.time()\n",
    "svclassifier.fit(pca_X_train,np.argmax(train_y,axis=1))\n",
    "t9=time.time()\n",
    "print(f\"Training time: {t9-t8}s\")"
   ]
  },
  {
   "cell_type": "code",
   "execution_count": 40,
   "id": "f212547b",
   "metadata": {
    "execution": {
     "iopub.execute_input": "2022-06-20T10:47:29.048617Z",
     "iopub.status.busy": "2022-06-20T10:47:29.047771Z",
     "iopub.status.idle": "2022-06-20T10:47:36.745236Z",
     "shell.execute_reply": "2022-06-20T10:47:36.745807Z",
     "shell.execute_reply.started": "2022-06-13T09:10:44.962117Z"
    },
    "papermill": {
     "duration": 10.244174,
     "end_time": "2022-06-20T10:47:36.746001",
     "exception": false,
     "start_time": "2022-06-20T10:47:26.501827",
     "status": "completed"
    },
    "tags": []
   },
   "outputs": [
    {
     "name": "stdout",
     "output_type": "stream",
     "text": [
      "[0 0 2 ... 3 3 1]\n",
      "Testing time: 7.694692850112915s\n"
     ]
    }
   ],
   "source": [
    "t10=time.time()\n",
    "svm_labels = svclassifier.predict(pca_X_test)\n",
    "t11=time.time()\n",
    "print(svm_labels )\n",
    "print(f\"Testing time: {t11-t10}s\")"
   ]
  },
  {
   "cell_type": "code",
   "execution_count": 41,
   "id": "84cf3368",
   "metadata": {
    "execution": {
     "iopub.execute_input": "2022-06-20T10:47:41.925956Z",
     "iopub.status.busy": "2022-06-20T10:47:41.925114Z",
     "iopub.status.idle": "2022-06-20T10:47:41.953185Z",
     "shell.execute_reply": "2022-06-20T10:47:41.953718Z",
     "shell.execute_reply.started": "2022-06-13T09:10:51.236211Z"
    },
    "papermill": {
     "duration": 2.62638,
     "end_time": "2022-06-20T10:47:41.953902",
     "exception": false,
     "start_time": "2022-06-20T10:47:39.327522",
     "status": "completed"
    },
    "tags": []
   },
   "outputs": [
    {
     "name": "stdout",
     "output_type": "stream",
     "text": [
      "Accuracy: 0.7712\n",
      "[[715 119 133  61  15]\n",
      " [134 784  58  10  12]\n",
      " [141  61 675 106   5]\n",
      " [ 98  21 118 736   7]\n",
      " [ 14   2  29   0 946]]\n",
      "              precision    recall  f1-score   support\n",
      "\n",
      "         0.0       0.65      0.69      0.67      1043\n",
      "         1.0       0.79      0.79      0.79       998\n",
      "         2.0       0.67      0.68      0.67       988\n",
      "         3.0       0.81      0.75      0.78       980\n",
      "         4.0       0.96      0.95      0.96       991\n",
      "\n",
      "    accuracy                           0.77      5000\n",
      "   macro avg       0.78      0.77      0.77      5000\n",
      "weighted avg       0.77      0.77      0.77      5000\n",
      "\n",
      "Sensitivity of  Non-ecotic beats (normal beat)  0.6855225311601151\n",
      "Specificity of  Non-ecotic beats (normal beat)  0.7937831690674754\n",
      "Sensitivity of  Supraventricular ectopic beats  0.7855711422845691\n",
      "Specificity of  Supraventricular ectopic beats  0.767616191904048\n",
      "Sensitivity of  Ventricular ectopic beats   0.6831983805668016\n",
      "Specificity of  Ventricular ectopic beats  0.7928713858424726\n",
      "Sensitivity of  Fusion Beats  0.7510204081632653\n",
      "Specificity of  Fusion Beats  0.7761194029850746\n",
      "Sensitivity of  Unknown Beats  0.9545913218970736\n",
      "Specificity of  Unknown Beats  0.7258667997006735\n"
     ]
    }
   ],
   "source": [
    "from sklearn import metrics\n",
    "accuracy = metrics.accuracy_score(target_test ,svm_labels)\n",
    "print(\"Accuracy:\",accuracy)\n",
    "cm = confusion_matrix(target_test, svm_labels) \n",
    "print(cm)\n",
    "print(classification_report(target_test, svm_labels))\n",
    "speci(cm)"
   ]
  },
  {
   "cell_type": "code",
   "execution_count": 42,
   "id": "74602bf2",
   "metadata": {
    "execution": {
     "iopub.execute_input": "2022-06-20T10:47:47.351274Z",
     "iopub.status.busy": "2022-06-20T10:47:47.350448Z",
     "iopub.status.idle": "2022-06-20T10:47:47.496310Z",
     "shell.execute_reply": "2022-06-20T10:47:47.495784Z",
     "shell.execute_reply.started": "2022-06-13T09:10:51.282102Z"
    },
    "papermill": {
     "duration": 2.739858,
     "end_time": "2022-06-20T10:47:47.496440",
     "exception": false,
     "start_time": "2022-06-20T10:47:44.756582",
     "status": "completed"
    },
    "tags": []
   },
   "outputs": [
    {
     "data": {
      "image/png": "[encoded data removed]",
      "text/plain": [
       "<Figure size 432x432 with 1 Axes>"
      ]
     },
     "metadata": {
      "needs_background": "light"
     },
     "output_type": "display_data"
    }
   ],
   "source": [
    "from mlxtend.plotting import plot_confusion_matrix\n",
    "fig, ax = plot_confusion_matrix(conf_mat=cm, figsize=(6, 6), cmap=plt.cm.Blues)\n",
    "plt.xlabel('Predictions', fontsize=18)\n",
    "plt.ylabel('Actuals', fontsize=18)\n",
    "plt.title('Confusion Matrix', fontsize=18)\n",
    "plt.show()"
   ]
  },
  {
   "cell_type": "code",
   "execution_count": 43,
   "id": "d093a525",
   "metadata": {
    "execution": {
     "iopub.execute_input": "2022-06-20T10:47:52.565682Z",
     "iopub.status.busy": "2022-06-20T10:47:52.564598Z",
     "iopub.status.idle": "2022-06-20T10:49:07.311978Z",
     "shell.execute_reply": "2022-06-20T10:49:07.312852Z",
     "shell.execute_reply.started": "2022-06-13T09:10:51.561744Z"
    },
    "papermill": {
     "duration": 77.274356,
     "end_time": "2022-06-20T10:49:07.313069",
     "exception": false,
     "start_time": "2022-06-20T10:47:50.038713",
     "status": "completed"
    },
    "tags": []
   },
   "outputs": [
    {
     "name": "stdout",
     "output_type": "stream",
     "text": [
      "Training time: 71.61512684822083s\n"
     ]
    }
   ],
   "source": [
    "from sklearn.svm import SVC\n",
    "svclassifier = SVC(kernel='poly', degree=8)\n",
    "t12=time.time()\n",
    "svclassifier.fit(pca_X_train,np.argmax(train_y,axis=1))\n",
    "t13=time.time()\n",
    "print(f\"Training time: {t13-t12}s\")"
   ]
  },
  {
   "cell_type": "code",
   "execution_count": 44,
   "id": "9f0d0430",
   "metadata": {
    "execution": {
     "iopub.execute_input": "2022-06-20T10:49:12.592465Z",
     "iopub.status.busy": "2022-06-20T10:49:12.591393Z",
     "iopub.status.idle": "2022-06-20T10:49:24.895520Z",
     "shell.execute_reply": "2022-06-20T10:49:24.896164Z",
     "shell.execute_reply.started": "2022-06-13T09:12:08.252966Z"
    },
    "papermill": {
     "duration": 15.061011,
     "end_time": "2022-06-20T10:49:24.896355",
     "exception": false,
     "start_time": "2022-06-20T10:49:09.835344",
     "status": "completed"
    },
    "tags": []
   },
   "outputs": [
    {
     "name": "stdout",
     "output_type": "stream",
     "text": [
      "[4 4 4 ... 4 3 4]\n",
      "Testing time: 12.301457405090332s\n"
     ]
    }
   ],
   "source": [
    "t14=time.time()\n",
    "svm_labels = svclassifier.predict(pca_X_test)\n",
    "t15=time.time()\n",
    "print(svm_labels )\n",
    "print(f\"Testing time: {t15-t14}s\")"
   ]
  },
  {
   "cell_type": "code",
   "execution_count": 45,
   "id": "7869b485",
   "metadata": {
    "execution": {
     "iopub.execute_input": "2022-06-20T10:49:29.988680Z",
     "iopub.status.busy": "2022-06-20T10:49:29.988109Z",
     "iopub.status.idle": "2022-06-20T10:49:30.014866Z",
     "shell.execute_reply": "2022-06-20T10:49:30.015398Z",
     "shell.execute_reply.started": "2022-06-13T09:12:21.201789Z"
    },
    "papermill": {
     "duration": 2.557631,
     "end_time": "2022-06-20T10:49:30.015558",
     "exception": false,
     "start_time": "2022-06-20T10:49:27.457927",
     "status": "completed"
    },
    "tags": []
   },
   "outputs": [
    {
     "name": "stdout",
     "output_type": "stream",
     "text": [
      "Accuracy: 0.618\n",
      "[[292   8   1   4 738]\n",
      " [  2 277   0   0 719]\n",
      " [  0   3 765   5 215]\n",
      " [  3   1   0 765 211]\n",
      " [  0   0   0   0 991]]\n",
      "              precision    recall  f1-score   support\n",
      "\n",
      "         0.0       0.98      0.28      0.44      1043\n",
      "         1.0       0.96      0.28      0.43       998\n",
      "         2.0       1.00      0.77      0.87       988\n",
      "         3.0       0.99      0.78      0.87       980\n",
      "         4.0       0.34      1.00      0.51       991\n",
      "\n",
      "    accuracy                           0.62      5000\n",
      "   macro avg       0.85      0.62      0.62      5000\n",
      "weighted avg       0.86      0.62      0.62      5000\n",
      "\n",
      "Sensitivity of  Non-ecotic beats (normal beat)  0.2799616490891659\n",
      "Specificity of  Non-ecotic beats (normal beat)  0.7071013393985343\n",
      "Sensitivity of  Supraventricular ectopic beats  0.2775551102204409\n",
      "Specificity of  Supraventricular ectopic beats  0.7028985507246377\n",
      "Sensitivity of  Ventricular ectopic beats   0.7742914979757085\n",
      "Specificity of  Ventricular ectopic beats  0.5795114656031904\n",
      "Sensitivity of  Fusion Beats  0.7806122448979592\n",
      "Specificity of  Fusion Beats  0.5783582089552238\n",
      "Sensitivity of  Unknown Beats  1.0\n",
      "Specificity of  Unknown Beats  0.5235719630830631\n"
     ]
    }
   ],
   "source": [
    "from sklearn import metrics\n",
    "accuracy = metrics.accuracy_score(target_test ,svm_labels)\n",
    "print(\"Accuracy:\",accuracy)\n",
    "cm = confusion_matrix(target_test, svm_labels) \n",
    "print(cm)\n",
    "print(classification_report(target_test, svm_labels))\n",
    "speci(cm)"
   ]
  },
  {
   "cell_type": "code",
   "execution_count": 46,
   "id": "d7aeaeb0",
   "metadata": {
    "execution": {
     "iopub.execute_input": "2022-06-20T10:49:35.325756Z",
     "iopub.status.busy": "2022-06-20T10:49:35.317990Z",
     "iopub.status.idle": "2022-06-20T10:49:35.460618Z",
     "shell.execute_reply": "2022-06-20T10:49:35.461197Z",
     "shell.execute_reply.started": "2022-06-13T09:12:21.235875Z"
    },
    "papermill": {
     "duration": 2.946961,
     "end_time": "2022-06-20T10:49:35.461348",
     "exception": false,
     "start_time": "2022-06-20T10:49:32.514387",
     "status": "completed"
    },
    "tags": []
   },
   "outputs": [
    {
     "data": {
      "image/png": "[encoded data removed]",
      "text/plain": [
       "<Figure size 432x432 with 1 Axes>"
      ]
     },
     "metadata": {
      "needs_background": "light"
     },
     "output_type": "display_data"
    }
   ],
   "source": [
    "from mlxtend.plotting import plot_confusion_matrix\n",
    "fig, ax = plot_confusion_matrix(conf_mat=cm, figsize=(6, 6), cmap=plt.cm.Blues)\n",
    "plt.xlabel('Predictions', fontsize=18)\n",
    "plt.ylabel('Actuals', fontsize=18)\n",
    "plt.title('Confusion Matrix', fontsize=18)\n",
    "plt.show()"
   ]
  },
  {
   "cell_type": "code",
   "execution_count": 47,
   "id": "a566dda2",
   "metadata": {
    "execution": {
     "iopub.execute_input": "2022-06-20T10:49:41.065942Z",
     "iopub.status.busy": "2022-06-20T10:49:41.065338Z",
     "iopub.status.idle": "2022-06-20T10:49:41.093036Z",
     "shell.execute_reply": "2022-06-20T10:49:41.093515Z",
     "shell.execute_reply.started": "2022-06-13T09:12:21.405134Z"
    },
    "papermill": {
     "duration": 3.116643,
     "end_time": "2022-06-20T10:49:41.093670",
     "exception": false,
     "start_time": "2022-06-20T10:49:37.977027",
     "status": "completed"
    },
    "tags": []
   },
   "outputs": [
    {
     "name": "stdout",
     "output_type": "stream",
     "text": [
      "Training time: 0.021541357040405273s\n"
     ]
    }
   ],
   "source": [
    "from sklearn.naive_bayes import GaussianNB\n",
    "gnb = GaussianNB()\n",
    "t16=time.time()\n",
    "gnb.fit(pca_X_train,np.argmax(train_y,axis=1))\n",
    "t17=time.time()\n",
    "print(f\"Training time: {t17-t16}s\")"
   ]
  },
  {
   "cell_type": "code",
   "execution_count": 48,
   "id": "a9a375f8",
   "metadata": {
    "execution": {
     "iopub.execute_input": "2022-06-20T10:49:46.424208Z",
     "iopub.status.busy": "2022-06-20T10:49:46.423165Z",
     "iopub.status.idle": "2022-06-20T10:49:46.442253Z",
     "shell.execute_reply": "2022-06-20T10:49:46.442772Z",
     "shell.execute_reply.started": "2022-06-13T09:12:21.438866Z"
    },
    "papermill": {
     "duration": 2.792627,
     "end_time": "2022-06-20T10:49:46.443037",
     "exception": false,
     "start_time": "2022-06-20T10:49:43.650410",
     "status": "completed"
    },
    "tags": []
   },
   "outputs": [
    {
     "name": "stdout",
     "output_type": "stream",
     "text": [
      "[4 0 4 ... 4 3 0]\n",
      "Testing time: 0.015908002853393555s\n"
     ]
    }
   ],
   "source": [
    "t18=time.time()\n",
    "gnb_labels = gnb.predict(pca_X_test)\n",
    "t19=time.time()\n",
    "print(gnb_labels )\n",
    "print(f\"Testing time: {t19-t18}s\")"
   ]
  },
  {
   "cell_type": "code",
   "execution_count": 49,
   "id": "3681a5a0",
   "metadata": {
    "execution": {
     "iopub.execute_input": "2022-06-20T10:49:51.538231Z",
     "iopub.status.busy": "2022-06-20T10:49:51.537387Z",
     "iopub.status.idle": "2022-06-20T10:49:51.563715Z",
     "shell.execute_reply": "2022-06-20T10:49:51.563236Z",
     "shell.execute_reply.started": "2022-06-13T09:12:21.463024Z"
    },
    "papermill": {
     "duration": 2.548368,
     "end_time": "2022-06-20T10:49:51.563860",
     "exception": false,
     "start_time": "2022-06-20T10:49:49.015492",
     "status": "completed"
    },
    "tags": []
   },
   "outputs": [
    {
     "name": "stdout",
     "output_type": "stream",
     "text": [
      "Accuracy: 0.5836\n",
      "[[650  22  97  26 248]\n",
      " [532  86 214   5 161]\n",
      " [ 87  49 590 238  24]\n",
      " [ 91   0 110 723  56]\n",
      " [  0  26  72  24 869]]\n",
      "              precision    recall  f1-score   support\n",
      "\n",
      "         0.0       0.48      0.62      0.54      1043\n",
      "         1.0       0.47      0.09      0.15       998\n",
      "         2.0       0.54      0.60      0.57       988\n",
      "         3.0       0.71      0.74      0.72       980\n",
      "         4.0       0.64      0.88      0.74       991\n",
      "\n",
      "    accuracy                           0.58      5000\n",
      "   macro avg       0.57      0.58      0.54      5000\n",
      "weighted avg       0.57      0.58      0.54      5000\n",
      "\n",
      "Sensitivity of  Non-ecotic beats (normal beat)  0.62320230105465\n",
      "Specificity of  Non-ecotic beats (normal beat)  0.5731614859742229\n",
      "Sensitivity of  Supraventricular ectopic beats  0.08617234468937876\n",
      "Specificity of  Supraventricular ectopic beats  0.7076461769115442\n",
      "Sensitivity of  Ventricular ectopic beats   0.597165991902834\n",
      "Specificity of  Ventricular ectopic beats  0.580259222333001\n",
      "Sensitivity of  Fusion Beats  0.7377551020408163\n",
      "Specificity of  Fusion Beats  0.5460199004975125\n",
      "Sensitivity of  Unknown Beats  0.8768920282542886\n",
      "Specificity of  Unknown Beats  0.5111000249438763\n"
     ]
    }
   ],
   "source": [
    "from sklearn import metrics\n",
    "accuracy = metrics.accuracy_score(target_test ,gnb_labels)\n",
    "print(\"Accuracy:\",accuracy)\n",
    "cm = confusion_matrix(target_test, gnb_labels) \n",
    "print(cm)\n",
    "print(classification_report(target_test, gnb_labels))\n",
    "speci(cm)"
   ]
  },
  {
   "cell_type": "code",
   "execution_count": 50,
   "id": "4e33e590",
   "metadata": {
    "execution": {
     "iopub.execute_input": "2022-06-20T10:49:56.948997Z",
     "iopub.status.busy": "2022-06-20T10:49:56.947920Z",
     "iopub.status.idle": "2022-06-20T10:49:57.106643Z",
     "shell.execute_reply": "2022-06-20T10:49:57.107069Z",
     "shell.execute_reply.started": "2022-06-13T09:12:21.495278Z"
    },
    "papermill": {
     "duration": 3.014117,
     "end_time": "2022-06-20T10:49:57.107231",
     "exception": false,
     "start_time": "2022-06-20T10:49:54.093114",
     "status": "completed"
    },
    "tags": []
   },
   "outputs": [
    {
     "data": {
      "image/png": "[encoded data removed]",
      "text/plain": [
       "<Figure size 432x432 with 1 Axes>"
      ]
     },
     "metadata": {
      "needs_background": "light"
     },
     "output_type": "display_data"
    }
   ],
   "source": [
    "from mlxtend.plotting import plot_confusion_matrix\n",
    "fig, ax = plot_confusion_matrix(conf_mat=cm, figsize=(6, 6), cmap=plt.cm.Blues)\n",
    "plt.xlabel('Predictions', fontsize=18)\n",
    "plt.ylabel('Actuals', fontsize=18)\n",
    "plt.title('Confusion Matrix', fontsize=18)\n",
    "plt.show()"
   ]
  },
  {
   "cell_type": "code",
   "execution_count": 51,
   "id": "edf8cee3",
   "metadata": {
    "execution": {
     "iopub.execute_input": "2022-06-20T10:50:02.208499Z",
     "iopub.status.busy": "2022-06-20T10:50:02.207726Z",
     "iopub.status.idle": "2022-06-20T10:50:06.696342Z",
     "shell.execute_reply": "2022-06-20T10:50:06.697356Z",
     "shell.execute_reply.started": "2022-06-13T09:12:21.6525Z"
    },
    "papermill": {
     "duration": 7.0567,
     "end_time": "2022-06-20T10:50:06.697560",
     "exception": false,
     "start_time": "2022-06-20T10:49:59.640860",
     "status": "completed"
    },
    "tags": []
   },
   "outputs": [
    {
     "name": "stdout",
     "output_type": "stream",
     "text": [
      "Training time: 4.460506439208984s\n"
     ]
    }
   ],
   "source": [
    "from sklearn.tree import DecisionTreeClassifier\n",
    "dt = DecisionTreeClassifier()\n",
    "t20=time.time()\n",
    "dt.fit(pca_X_train,np.argmax(train_y,axis=1))\n",
    "t21=time.time()\n",
    "print(f\"Training time: {t21-t20}s\")"
   ]
  },
  {
   "cell_type": "code",
   "execution_count": 52,
   "id": "3c3f1888",
   "metadata": {
    "execution": {
     "iopub.execute_input": "2022-06-20T10:50:12.430760Z",
     "iopub.status.busy": "2022-06-20T10:50:12.429840Z",
     "iopub.status.idle": "2022-06-20T10:50:12.435827Z",
     "shell.execute_reply": "2022-06-20T10:50:12.435247Z",
     "shell.execute_reply.started": "2022-06-13T09:12:26.288314Z"
    },
    "papermill": {
     "duration": 3.139103,
     "end_time": "2022-06-20T10:50:12.435987",
     "exception": false,
     "start_time": "2022-06-20T10:50:09.296884",
     "status": "completed"
    },
    "tags": []
   },
   "outputs": [
    {
     "name": "stdout",
     "output_type": "stream",
     "text": [
      "[0 0 2 ... 3 3 1]\n",
      "Testing time: 0.0022029876708984375s\n"
     ]
    }
   ],
   "source": [
    "t22=time.time()\n",
    "dt_labels = dt.predict(pca_X_test)\n",
    "t23=time.time()\n",
    "print(dt_labels )\n",
    "print(f\"Testing time: {t23-t22}s\")"
   ]
  },
  {
   "cell_type": "code",
   "execution_count": 53,
   "id": "be534411",
   "metadata": {
    "execution": {
     "iopub.execute_input": "2022-06-20T10:50:17.799989Z",
     "iopub.status.busy": "2022-06-20T10:50:17.798812Z",
     "iopub.status.idle": "2022-06-20T10:50:17.854351Z",
     "shell.execute_reply": "2022-06-20T10:50:17.854976Z",
     "shell.execute_reply.started": "2022-06-13T09:12:26.298534Z"
    },
    "papermill": {
     "duration": 2.898123,
     "end_time": "2022-06-20T10:50:17.855230",
     "exception": false,
     "start_time": "2022-06-20T10:50:14.957107",
     "status": "completed"
    },
    "tags": []
   },
   "outputs": [
    {
     "name": "stdout",
     "output_type": "stream",
     "text": [
      "Accuracy: 0.9544\n",
      "[[912  57  31  24  19]\n",
      " [ 22 966   5   2   3]\n",
      " [ 28  13 930  13   4]\n",
      " [  0   0   6 974   0]\n",
      " [  0   0   0   1 990]]\n",
      "              precision    recall  f1-score   support\n",
      "\n",
      "         0.0       0.95      0.87      0.91      1043\n",
      "         1.0       0.93      0.97      0.95       998\n",
      "         2.0       0.96      0.94      0.95       988\n",
      "         3.0       0.96      0.99      0.98       980\n",
      "         4.0       0.97      1.00      0.99       991\n",
      "\n",
      "    accuracy                           0.95      5000\n",
      "   macro avg       0.95      0.96      0.95      5000\n",
      "weighted avg       0.95      0.95      0.95      5000\n",
      "\n",
      "Sensitivity of  Non-ecotic beats (normal beat)  0.8744007670182167\n",
      "Specificity of  Non-ecotic beats (normal beat)  0.9754864796563053\n",
      "Sensitivity of  Supraventricular ectopic beats  0.9679358717434869\n",
      "Specificity of  Supraventricular ectopic beats  0.9510244877561219\n",
      "Sensitivity of  Ventricular ectopic beats   0.9412955465587044\n",
      "Specificity of  Ventricular ectopic beats  0.9576271186440678\n",
      "Sensitivity of  Fusion Beats  0.9938775510204082\n",
      "Specificity of  Fusion Beats  0.9447761194029851\n",
      "Sensitivity of  Unknown Beats  0.9989909182643795\n",
      "Specificity of  Unknown Beats  0.9433774008480917\n"
     ]
    }
   ],
   "source": [
    "from sklearn import metrics\n",
    "accuracy = metrics.accuracy_score(target_test ,dt_labels)\n",
    "print(\"Accuracy:\",accuracy)\n",
    "cm = confusion_matrix(target_test, dt_labels) \n",
    "print(cm)\n",
    "print(classification_report(target_test, dt_labels))\n",
    "speci(cm)"
   ]
  },
  {
   "cell_type": "code",
   "execution_count": 54,
   "id": "28429372",
   "metadata": {
    "execution": {
     "iopub.execute_input": "2022-06-20T10:50:23.185904Z",
     "iopub.status.busy": "2022-06-20T10:50:23.185078Z",
     "iopub.status.idle": "2022-06-20T10:50:23.329535Z",
     "shell.execute_reply": "2022-06-20T10:50:23.329912Z",
     "shell.execute_reply.started": "2022-06-13T09:12:26.330944Z"
    },
    "papermill": {
     "duration": 2.753461,
     "end_time": "2022-06-20T10:50:23.330077",
     "exception": false,
     "start_time": "2022-06-20T10:50:20.576616",
     "status": "completed"
    },
    "tags": []
   },
   "outputs": [
    {
     "data": {
      "image/png": "[encoded data removed]",
      "text/plain": [
       "<Figure size 432x432 with 1 Axes>"
      ]
     },
     "metadata": {
      "needs_background": "light"
     },
     "output_type": "display_data"
    }
   ],
   "source": [
    "from mlxtend.plotting import plot_confusion_matrix\n",
    "fig, ax = plot_confusion_matrix(conf_mat=cm, figsize=(6, 6), cmap=plt.cm.Blues)\n",
    "plt.xlabel('Predictions', fontsize=18)\n",
    "plt.ylabel('Actuals', fontsize=18)\n",
    "plt.title('Confusion Matrix', fontsize=18)\n",
    "plt.show()"
   ]
  },
  {
   "cell_type": "code",
   "execution_count": 55,
   "id": "61f46de1",
   "metadata": {
    "execution": {
     "iopub.execute_input": "2022-06-20T10:50:28.643331Z",
     "iopub.status.busy": "2022-06-20T10:50:28.642014Z",
     "iopub.status.idle": "2022-06-20T10:50:47.520716Z",
     "shell.execute_reply": "2022-06-20T10:50:47.521154Z",
     "shell.execute_reply.started": "2022-06-13T09:12:26.489217Z"
    },
    "papermill": {
     "duration": 21.628696,
     "end_time": "2022-06-20T10:50:47.521318",
     "exception": false,
     "start_time": "2022-06-20T10:50:25.892622",
     "status": "completed"
    },
    "tags": []
   },
   "outputs": [
    {
     "name": "stdout",
     "output_type": "stream",
     "text": [
      "Training time: 18.850601196289062s\n"
     ]
    }
   ],
   "source": [
    "from sklearn.ensemble import RandomForestClassifier\n",
    "rfc= RandomForestClassifier()\n",
    "t24=time.time()\n",
    "rfc.fit(pca_X_train,np.argmax(train_y,axis=1))\n",
    "t25=time.time()\n",
    "print(f\"Training time: {t25-t24}s\")"
   ]
  },
  {
   "cell_type": "code",
   "execution_count": 56,
   "id": "9df7ee6a",
   "metadata": {
    "execution": {
     "iopub.execute_input": "2022-06-20T10:50:52.861236Z",
     "iopub.status.busy": "2022-06-20T10:50:52.860120Z",
     "iopub.status.idle": "2022-06-20T10:50:52.952045Z",
     "shell.execute_reply": "2022-06-20T10:50:52.952476Z",
     "shell.execute_reply.started": "2022-06-13T09:12:46.407708Z"
    },
    "papermill": {
     "duration": 2.88055,
     "end_time": "2022-06-20T10:50:52.952635",
     "exception": false,
     "start_time": "2022-06-20T10:50:50.072085",
     "status": "completed"
    },
    "tags": []
   },
   "outputs": [
    {
     "name": "stdout",
     "output_type": "stream",
     "text": [
      "[0 0 2 ... 3 3 1]\n",
      "Testing time: 0.08942484855651855s\n"
     ]
    }
   ],
   "source": [
    "t26=time.time()\n",
    "rfc_labels = rfc.predict(pca_X_test)\n",
    "t27=time.time()\n",
    "print(rfc_labels )\n",
    "print(f\"Testing time: {t27-t26}s\")"
   ]
  },
  {
   "cell_type": "code",
   "execution_count": 57,
   "id": "b0da49eb",
   "metadata": {
    "execution": {
     "iopub.execute_input": "2022-06-20T10:50:58.074864Z",
     "iopub.status.busy": "2022-06-20T10:50:58.073938Z",
     "iopub.status.idle": "2022-06-20T10:50:58.103902Z",
     "shell.execute_reply": "2022-06-20T10:50:58.102891Z",
     "shell.execute_reply.started": "2022-06-13T09:12:46.507813Z"
    },
    "papermill": {
     "duration": 2.568985,
     "end_time": "2022-06-20T10:50:58.104083",
     "exception": false,
     "start_time": "2022-06-20T10:50:55.535098",
     "status": "completed"
    },
    "tags": []
   },
   "outputs": [
    {
     "name": "stdout",
     "output_type": "stream",
     "text": [
      "Accuracy: 0.9832\n",
      "[[995  16  18  11   3]\n",
      " [ 16 979   3   0   0]\n",
      " [  9   2 974   2   1]\n",
      " [  0   0   3 977   0]\n",
      " [  0   0   0   0 991]]\n",
      "              precision    recall  f1-score   support\n",
      "\n",
      "         0.0       0.98      0.95      0.96      1043\n",
      "         1.0       0.98      0.98      0.98       998\n",
      "         2.0       0.98      0.99      0.98       988\n",
      "         3.0       0.99      1.00      0.99       980\n",
      "         4.0       1.00      1.00      1.00       991\n",
      "\n",
      "    accuracy                           0.98      5000\n",
      "   macro avg       0.98      0.98      0.98      5000\n",
      "weighted avg       0.98      0.98      0.98      5000\n",
      "\n",
      "Sensitivity of  Non-ecotic beats (normal beat)  0.9539789069990412\n",
      "Specificity of  Non-ecotic beats (normal beat)  0.9909021986353298\n",
      "Sensitivity of  Supraventricular ectopic beats  0.9809619238476954\n",
      "Specificity of  Supraventricular ectopic beats  0.9837581209395302\n",
      "Sensitivity of  Ventricular ectopic beats   0.9858299595141701\n",
      "Specificity of  Ventricular ectopic beats  0.9825523429710867\n",
      "Sensitivity of  Fusion Beats  0.996938775510204\n",
      "Specificity of  Fusion Beats  0.9798507462686568\n",
      "Sensitivity of  Unknown Beats  1.0\n",
      "Specificity of  Unknown Beats  0.9790471439261661\n"
     ]
    }
   ],
   "source": [
    "from sklearn import metrics\n",
    "accuracy = metrics.accuracy_score(target_test ,rfc_labels)\n",
    "print(\"Accuracy:\",accuracy)\n",
    "cm = confusion_matrix(target_test, rfc_labels) \n",
    "print(cm)\n",
    "print(classification_report(target_test, rfc_labels))\n",
    "speci(cm)"
   ]
  },
  {
   "cell_type": "code",
   "execution_count": 58,
   "id": "3a66bcf3",
   "metadata": {
    "execution": {
     "iopub.execute_input": "2022-06-20T10:51:03.507214Z",
     "iopub.status.busy": "2022-06-20T10:51:03.506067Z",
     "iopub.status.idle": "2022-06-20T10:51:03.623629Z",
     "shell.execute_reply": "2022-06-20T10:51:03.624120Z",
     "shell.execute_reply.started": "2022-06-13T09:12:46.539562Z"
    },
    "papermill": {
     "duration": 2.925605,
     "end_time": "2022-06-20T10:51:03.624324",
     "exception": false,
     "start_time": "2022-06-20T10:51:00.698719",
     "status": "completed"
    },
    "tags": []
   },
   "outputs": [
    {
     "data": {
      "image/png": "[encoded data removed]",
      "text/plain": [
       "<Figure size 432x432 with 1 Axes>"
      ]
     },
     "metadata": {
      "needs_background": "light"
     },
     "output_type": "display_data"
    }
   ],
   "source": [
    "from mlxtend.plotting import plot_confusion_matrix\n",
    "fig, ax = plot_confusion_matrix(conf_mat=cm, figsize=(6, 6), cmap=plt.cm.Blues)\n",
    "plt.xlabel('Predictions', fontsize=18)\n",
    "plt.ylabel('Actuals', fontsize=18)\n",
    "plt.title('Confusion Matrix', fontsize=18)\n",
    "plt.show()"
   ]
  },
  {
   "cell_type": "code",
   "execution_count": 59,
   "id": "c10c9dde",
   "metadata": {
    "execution": {
     "iopub.execute_input": "2022-06-20T10:51:08.731903Z",
     "iopub.status.busy": "2022-06-20T10:51:08.730999Z",
     "iopub.status.idle": "2022-06-20T10:51:08.732896Z",
     "shell.execute_reply": "2022-06-20T10:51:08.733383Z",
     "shell.execute_reply.started": "2022-06-13T09:12:46.702854Z"
    },
    "papermill": {
     "duration": 2.592775,
     "end_time": "2022-06-20T10:51:08.733549",
     "exception": false,
     "start_time": "2022-06-20T10:51:06.140774",
     "status": "completed"
    },
    "tags": []
   },
   "outputs": [],
   "source": [
    "target= X_train_df[X_train_df.shape[1]-1]\n",
    "feature = X_train_df.iloc[:,:X_train_df.shape[1]-1].values\n",
    "feature = feature.reshape(len(feature), feature.shape[1],1)"
   ]
  },
  {
   "cell_type": "code",
   "execution_count": 60,
   "id": "6630d140",
   "metadata": {
    "execution": {
     "iopub.execute_input": "2022-06-20T10:51:14.253719Z",
     "iopub.status.busy": "2022-06-20T10:51:14.252614Z",
     "iopub.status.idle": "2022-06-20T10:55:23.948046Z",
     "shell.execute_reply": "2022-06-20T10:55:23.948882Z",
     "shell.execute_reply.started": "2022-06-13T09:12:46.711125Z"
    },
    "papermill": {
     "duration": 252.672268,
     "end_time": "2022-06-20T10:55:23.949133",
     "exception": false,
     "start_time": "2022-06-20T10:51:11.276865",
     "status": "completed"
    },
    "tags": []
   },
   "outputs": [
    {
     "name": "stdout",
     "output_type": "stream",
     "text": [
      "(25000, 150)\n",
      "[0.9836 0.9836 0.9812 0.9812 0.982  0.9816 0.9872 0.9836 0.9864 0.9804]\n"
     ]
    }
   ],
   "source": [
    "feat = model_feat.predict(feature)\n",
    "X_train = sc.fit_transform(feat)\n",
    "pca = PCA(n_components = 150)\n",
    "pca_train = pca.fit_transform(X_train)\n",
    "print(pca_train.shape)\n",
    "from sklearn.model_selection import cross_val_score\n",
    "score = cross_val_score(rfc, pca_train, target, scoring='accuracy', cv=10)\n",
    "print(score)"
   ]
  },
  {
   "cell_type": "code",
   "execution_count": 61,
   "id": "ba9de191",
   "metadata": {
    "execution": {
     "iopub.execute_input": "2022-06-20T10:55:29.327230Z",
     "iopub.status.busy": "2022-06-20T10:55:29.326519Z",
     "iopub.status.idle": "2022-06-20T10:55:29.329850Z",
     "shell.execute_reply": "2022-06-20T10:55:29.330350Z",
     "shell.execute_reply.started": "2022-06-13T09:16:58.693716Z"
    },
    "papermill": {
     "duration": 2.607362,
     "end_time": "2022-06-20T10:55:29.330516",
     "exception": false,
     "start_time": "2022-06-20T10:55:26.723154",
     "status": "completed"
    },
    "tags": []
   },
   "outputs": [
    {
     "name": "stdout",
     "output_type": "stream",
     "text": [
      "Avg : 0.98308\n"
     ]
    }
   ],
   "source": [
    "print(\"Avg :\",np.average(score))"
   ]
  }
 ],
 "metadata": {
  "kernelspec": {
   "display_name": "Python 3",
   "language": "python",
   "name": "python3"
  },
  "language_info": {
   "codemirror_mode": {
    "name": "ipython",
    "version": 3
   },
   "file_extension": ".py",
   "mimetype": "text/x-python",
   "name": "python",
   "nbconvert_exporter": "python",
   "pygments_lexer": "ipython3",
   "version": "3.7.12"
  },
  "papermill": {
   "default_parameters": {},
   "duration": 1614.606079,
   "end_time": "2022-06-20T10:55:35.313987",
   "environment_variables": {},
   "exception": null,
   "input_path": "__notebook__.ipynb",
   "output_path": "__notebook__.ipynb",
   "parameters": {},
   "start_time": "2022-06-20T10:28:40.707908",
   "version": "2.3.3"
  }
 },
 "nbformat": 4,
 "nbformat_minor": 5
}
